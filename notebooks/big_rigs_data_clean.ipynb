{
 "cells": [
  {
   "cell_type": "code",
   "execution_count": 6,
   "id": "a81fc6a9-c2a4-462f-b5d9-cd11068f5abe",
   "metadata": {},
   "outputs": [],
   "source": [
    "import pandas as pd\n",
    "import matplotlib.pyplot as plt\n",
    "from datetime import timedelta\n",
    "import numpy as np"
   ]
  },
  {
   "cell_type": "code",
   "execution_count": 2,
   "id": "50baa17a-a9ef-4cca-8541-0a054053fb26",
   "metadata": {},
   "outputs": [
    {
     "name": "stderr",
     "output_type": "stream",
     "text": [
      "C:\\Users\\cavin\\AppData\\Local\\Programs\\Python\\Python310\\lib\\site-packages\\openpyxl\\worksheet\\_reader.py:329: UserWarning: Data Validation extension is not supported and will be removed\n",
      "  warn(msg)\n"
     ]
    }
   ],
   "source": [
    "faults = pd.read_csv(\"../data/J1939Faults.csv\", low_memory = False)\n",
    "diagnostics = pd.read_csv(\"../data/VehicleDiagnosticOnboardData.csv\")\n",
    "sfc = pd.read_excel(\"../data/Service Fault Codes_1_0_0_167.xlsx\")"
   ]
  },
  {
   "cell_type": "code",
   "execution_count": 3,
   "id": "b27972fa-2c40-4b74-82fe-74275e3485cb",
   "metadata": {},
   "outputs": [],
   "source": [
    "pd.set_option('display.max_columns', None)"
   ]
  },
  {
   "cell_type": "code",
   "execution_count": 4,
   "id": "e7ff2b2e-5614-477f-8249-5da1ba641db6",
   "metadata": {},
   "outputs": [],
   "source": [
    "faults_prepped = faults.dropna(axis=1, how='all').dropna(axis=0, how='all')"
   ]
  },
  {
   "cell_type": "code",
   "execution_count": 7,
   "id": "e63f7cff-b039-4eed-8dac-28e9cd4457dc",
   "metadata": {},
   "outputs": [],
   "source": [
    "exclude_coords = [\n",
    "    (36.0666667, -86.4347222),\n",
    "    (35.5883333, -86.4438888),\n",
    "    (36.1950, -83.174722)\n",
    "]\n",
    "def haversine(lat1, lon1, lat2, lon2):\n",
    "    R = 3958.7  # Radius of Earth in km - roughly 3958.7 miles\n",
    "    lat1, lon1, lat2, lon2 = map(np.radians, [lat1, lon1, lat2, lon2])\n",
    "    dlat = lat2 - lat1\n",
    "    dlon = lon2 - lon1\n",
    "    a = np.sin(dlat / 2)**2 + np.cos(lat1) * np.cos(lat2) * np.sin(dlon / 2)**2 # this is the haversine formula that's accounting for the curvature of the earth. think calculus & a polar coordinate system.\n",
    "    c = 2 * np.arctan2(np.sqrt(a), np.sqrt(1 - a)) # we're calculating the central angle between the two points\n",
    "    return R * c # calculates the arc length (distance) we're multiplying the radius of earth and the central angle\n",
    "threshold = 0.5  # Distance in km - this is roughly about 3.1 miles\n",
    "distances = np.array([\n",
    "    haversine(faults_prepped['Latitude'], faults_prepped['Longitude'], lat, lon)\n",
    "    for lat, lon in exclude_coords\n",
    "]) # I'm calculating the difference between the excluded coordinates and geo coordinate in my dataframe. the array is contains the distances as scalar quantities (floats).\n",
    "# which rows are outside all vicinities\n",
    "outside_vicinity = (distances > threshold).all(axis=0) # boolean array true if its outside vicinity\n",
    "faults_prepped = faults_prepped[outside_vicinity]"
   ]
  },
  {
   "cell_type": "code",
   "execution_count": 8,
   "id": "a078bc2c-012c-4f4a-afe4-57fd69413c94",
   "metadata": {},
   "outputs": [],
   "source": [
    "diagnostics_pivot = diagnostics.pivot(index=['FaultId'], columns='Name', values='Value')"
   ]
  },
  {
   "cell_type": "code",
   "execution_count": 9,
   "id": "ee5f2ae2-be3f-40e5-84e0-656394062ff6",
   "metadata": {},
   "outputs": [],
   "source": [
    "data = diagnostics_pivot.merge(faults_prepped, left_on = 'FaultId', right_on = 'RecordID', how = 'inner')"
   ]
  },
  {
   "cell_type": "code",
   "execution_count": 10,
   "id": "4bdafbee-7ee8-4e1d-b95d-812fd91b9127",
   "metadata": {},
   "outputs": [],
   "source": [
    "columns_to_change = ['AcceleratorPedal', \n",
    "                     'BarometricPressure',\n",
    "                     'CruiseControlSetSpeed',\n",
    "                     'DistanceLtd',\n",
    "                     'EngineCoolantTemperature',\n",
    "                     'EngineLoad',\n",
    "                     'EngineOilPressure',\n",
    "                     'EngineOilTemperature',\n",
    "                     'EngineRpm',\n",
    "                     'EngineTimeLtd',\n",
    "                     'FuelLevel',\n",
    "                     'FuelLtd',\n",
    "                     'FuelRate',\n",
    "                     'FuelTemperature',\n",
    "                     'IntakeManifoldTemperature',\n",
    "                     'Speed',\n",
    "                     'SwitchedBatteryVoltage',\n",
    "                     'TurboBoostPressure',\n",
    "                    ]"
   ]
  },
  {
   "cell_type": "code",
   "execution_count": 11,
   "id": "0fa914bc-b4f5-40f2-8c41-8cdfb3f83027",
   "metadata": {},
   "outputs": [],
   "source": [
    "for column in columns_to_change:\n",
    "    data[column] = data[column].str.replace(',', '.').astype(np.float64)"
   ]
  },
  {
   "cell_type": "code",
   "execution_count": 12,
   "id": "6474d979-638a-489d-b570-d614211a90a8",
   "metadata": {},
   "outputs": [],
   "source": [
    "data['LocationTimeStamp'] = pd.to_datetime(data['LocationTimeStamp'])\n",
    "data['EventTimeStamp'] = pd.to_datetime(data['EventTimeStamp'])"
   ]
  },
  {
   "cell_type": "code",
   "execution_count": 13,
   "id": "6e7343c8-4c1e-494d-b533-e36937bdfc65",
   "metadata": {},
   "outputs": [],
   "source": [
    "data = data.drop(['ecuModel','ecuMake', 'MCTNumber', 'ServiceDistance'], axis=1)"
   ]
  },
  {
   "cell_type": "code",
   "execution_count": 22,
   "id": "7a191f53-5b9c-428a-a9dd-9fc29ba611b3",
   "metadata": {},
   "outputs": [],
   "source": [
    "data['time_derate'] = data.loc[data['spn'] == 5246]['EventTimeStamp']\n",
    "data = data.sort_values('EventTimeStamp')\n",
    "\n",
    "data['time_derate'] = data.groupby('EquipmentID')['time_derate'].bfill()\n",
    "data['time_until_derate'] = data['time_derate'] - data['EventTimeStamp']\n",
    "\n",
    "data['target'] = (data['time_until_derate'] > '2 hour') & (data['time_until_derate'] < '24 hour')"
   ]
  },
  {
   "cell_type": "code",
   "execution_count": 23,
   "id": "aabaae89-dc8c-444f-b410-a4a670c7d9b0",
   "metadata": {},
   "outputs": [],
   "source": [
    "data.to_csv('../data/data_clean.csv')"
   ]
  }
 ],
 "metadata": {
  "kernelspec": {
   "display_name": "Python 3 (ipykernel)",
   "language": "python",
   "name": "python3"
  },
  "language_info": {
   "codemirror_mode": {
    "name": "ipython",
    "version": 3
   },
   "file_extension": ".py",
   "mimetype": "text/x-python",
   "name": "python",
   "nbconvert_exporter": "python",
   "pygments_lexer": "ipython3",
   "version": "3.10.0"
  }
 },
 "nbformat": 4,
 "nbformat_minor": 5
}
