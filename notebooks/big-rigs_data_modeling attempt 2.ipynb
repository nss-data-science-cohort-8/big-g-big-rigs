{
 "cells": [
  {
   "cell_type": "markdown",
   "id": "40529150-cd0f-4230-98f9-9e091d484e79",
   "metadata": {},
   "source": [
    "## Modeling ##"
   ]
  },
  {
   "cell_type": "code",
   "execution_count": 1,
   "id": "5c124217-9d3e-4972-9943-38e258e1e439",
   "metadata": {},
   "outputs": [],
   "source": [
    "\n",
    "from sklearn.ensemble import GradientBoostingClassifier\n",
    "import seaborn as sns\n",
    "import shap\n",
    "import pickle\n",
    "from imblearn.over_sampling import SMOTE\n",
    "from sklearn.decomposition import PCA\n",
    "from sklearn.svm import SVC\n",
    "import pandas as pd\n",
    "import numpy as np\n",
    "import datetime as dt\n",
    "import matplotlib.pyplot as plt\n",
    "import scipy.stats as stats\n",
    "from sklearn.preprocessing import StandardScaler, OneHotEncoder, LabelEncoder\n",
    "from sklearn.pipeline import Pipeline, make_pipeline\n",
    "from sklearn.impute import KNNImputer\n",
    "from sklearn.compose import ColumnTransformer\n",
    "from sklearn.ensemble import RandomForestClassifier\n",
    "from sklearn.model_selection import train_test_split\n",
    "from sklearn.metrics import (\n",
    "    classification_report, \n",
    "    confusion_matrix,\n",
    "    r2_score,\n",
    "    mean_squared_error, \n",
    "    root_mean_squared_error,\n",
    "    mean_absolute_error, \n",
    "    mean_absolute_percentage_error\n",
    ")\n",
    "from sklearn.inspection import PartialDependenceDisplay, permutation_importance, partial_dependence\n",
    "from sklearn.neighbors import KNeighborsClassifier, NearestNeighbors\n",
    "from scipy.spatial import KDTree\n",
    "\n",
    "#from xgboost import XGBClassifier\n",
    "\n",
    "from faiss_imputer import FaissImputer\n",
    "\n",
    "from sklearn.impute import SimpleImputer\n",
    "\n",
    "from sklearn.neural_network import MLPClassifier"
   ]
  },
  {
   "cell_type": "markdown",
   "id": "8a32a870-37e7-4bb2-8522-7990fcf615e5",
   "metadata": {},
   "source": [
    "This notebook is dedicated to the feature selection and statistical modeling of our trucking data."
   ]
  },
  {
   "cell_type": "code",
   "execution_count": 4,
   "id": "55f0dd30-4d54-4dfa-b6e9-d3ba19fd3145",
   "metadata": {},
   "outputs": [
    {
     "data": {
      "text/plain": [
       "Index(['Unnamed: 0', 'RecordID', 'ESS_Id', 'EventTimeStamp',\n",
       "       'eventDescription', 'ecuModel', 'ecuMake', 'ecuSource', 'spn', 'fmi',\n",
       "       'active', 'activeTransitionCount', 'EquipmentID', 'Latitude',\n",
       "       'Longitude', 'LocationTimeStamp', 'FaultId', 'AcceleratorPedal',\n",
       "       'BarometricPressure', 'CruiseControlActive', 'CruiseControlSetSpeed',\n",
       "       'DistanceLtd', 'EngineCoolantTemperature', 'EngineLoad',\n",
       "       'EngineOilPressure', 'EngineOilTemperature', 'EngineRpm',\n",
       "       'EngineTimeLtd', 'FuelLevel', 'FuelLtd', 'FuelRate', 'FuelTemperature',\n",
       "       'IgnStatus', 'IntakeManifoldTemperature', 'LampStatus', 'ParkingBrake',\n",
       "       'Speed', 'SwitchedBatteryVoltage', 'Throttle', 'TurboBoostPressure',\n",
       "       'next_derate_timestamp', 'time_until_detate', 'target'],\n",
       "      dtype='object')"
      ]
     },
     "execution_count": 4,
     "metadata": {},
     "output_type": "execute_result"
    }
   ],
   "source": [
    "df = pd.read_csv('../data/data_clean_bb.csv', low_memory=False,)\n",
    "df\n",
    "df.columns"
   ]
  },
  {
   "cell_type": "code",
   "execution_count": 6,
   "id": "5c635d92-2ad0-4ef6-a55e-9bdaac77f6bb",
   "metadata": {},
   "outputs": [],
   "source": [
    "df['Throttle'] = df['Throttle'].str.replace(',', '.').astype(np.float64)"
   ]
  },
  {
   "cell_type": "code",
   "execution_count": 8,
   "id": "b39b2302-1b8f-4e36-b30d-991eb27e62a1",
   "metadata": {},
   "outputs": [],
   "source": [
    "df['spn'] = df['spn'].astype(object)\n",
    "df['fmi'] = df['fmi'].astype(object)\n",
    "df = df.drop('Unnamed: 0', axis=1)"
   ]
  },
  {
   "cell_type": "code",
   "execution_count": 10,
   "id": "045f111e-b27d-4ee9-a86f-9bdcd95b133b",
   "metadata": {},
   "outputs": [
    {
     "name": "stdout",
     "output_type": "stream",
     "text": [
      "<class 'pandas.core.frame.DataFrame'>\n",
      "RangeIndex: 1057049 entries, 0 to 1057048\n",
      "Data columns (total 42 columns):\n",
      " #   Column                     Non-Null Count    Dtype  \n",
      "---  ------                     --------------    -----  \n",
      " 0   RecordID                   1057049 non-null  int64  \n",
      " 1   ESS_Id                     1057049 non-null  int64  \n",
      " 2   EventTimeStamp             1057049 non-null  object \n",
      " 3   eventDescription           1006152 non-null  object \n",
      " 4   ecuModel                   1001026 non-null  object \n",
      " 5   ecuMake                    1001026 non-null  object \n",
      " 6   ecuSource                  1057049 non-null  int64  \n",
      " 7   spn                        1057049 non-null  object \n",
      " 8   fmi                        1057049 non-null  object \n",
      " 9   active                     1057049 non-null  bool   \n",
      " 10  activeTransitionCount      1057049 non-null  int64  \n",
      " 11  EquipmentID                1057049 non-null  object \n",
      " 12  Latitude                   1057049 non-null  float64\n",
      " 13  Longitude                  1057049 non-null  float64\n",
      " 14  LocationTimeStamp          1057049 non-null  object \n",
      " 15  FaultId                    1057049 non-null  int64  \n",
      " 16  AcceleratorPedal           480660 non-null   float64\n",
      " 17  BarometricPressure         530902 non-null   float64\n",
      " 18  CruiseControlActive        520765 non-null   object \n",
      " 19  CruiseControlSetSpeed      521823 non-null   float64\n",
      " 20  DistanceLtd                530760 non-null   float64\n",
      " 21  EngineCoolantTemperature   530890 non-null   float64\n",
      " 22  EngineLoad                 530421 non-null   float64\n",
      " 23  EngineOilPressure          531008 non-null   float64\n",
      " 24  EngineOilTemperature       529370 non-null   float64\n",
      " 25  EngineRpm                  531324 non-null   float64\n",
      " 26  EngineTimeLtd              527047 non-null   float64\n",
      " 27  FuelLevel                  455471 non-null   float64\n",
      " 28  FuelLtd                    530354 non-null   float64\n",
      " 29  FuelRate                   530151 non-null   float64\n",
      " 30  FuelTemperature            271089 non-null   float64\n",
      " 31  IgnStatus                  548601 non-null   object \n",
      " 32  IntakeManifoldTemperature  530995 non-null   float64\n",
      " 33  LampStatus                 1057049 non-null  int64  \n",
      " 34  ParkingBrake               353977 non-null   object \n",
      " 35  Speed                      529278 non-null   float64\n",
      " 36  SwitchedBatteryVoltage     106228 non-null   float64\n",
      " 37  Throttle                   375438 non-null   float64\n",
      " 38  TurboBoostPressure         528806 non-null   float64\n",
      " 39  next_derate_timestamp      224882 non-null   object \n",
      " 40  time_until_detate          224882 non-null   object \n",
      " 41  target                     1057049 non-null  bool   \n",
      "dtypes: bool(2), float64(21), int64(6), object(13)\n",
      "memory usage: 324.6+ MB\n"
     ]
    }
   ],
   "source": [
    "df.info()"
   ]
  },
  {
   "cell_type": "code",
   "execution_count": 12,
   "id": "7356f048-9fdc-42d5-aaa9-4d81706ea5d4",
   "metadata": {},
   "outputs": [],
   "source": [
    "test_date = '2019-01-01'\n",
    "df_test = df.sort_values('EventTimeStamp').loc[df['EventTimeStamp'] > test_date]\n",
    "df_train = df.sort_values('EventTimeStamp').loc[df['EventTimeStamp'] < test_date]\n"
   ]
  },
  {
   "cell_type": "code",
   "execution_count": 14,
   "id": "19860347-12f5-4369-882b-76f8bcc5935b",
   "metadata": {},
   "outputs": [
    {
     "name": "stdout",
     "output_type": "stream",
     "text": [
      "(111491, 42)\n",
      "(945558, 42)\n"
     ]
    }
   ],
   "source": [
    "print(df_test.shape)\n",
    "print(df_train.shape)"
   ]
  },
  {
   "cell_type": "markdown",
   "id": "0c3514de-2831-4ca7-ae0d-6971d37e59a1",
   "metadata": {},
   "source": [
    "Scaling and encoding features for modeling"
   ]
  },
  {
   "cell_type": "code",
   "execution_count": 17,
   "id": "10d15d1d-9522-45f3-838f-f88330441358",
   "metadata": {},
   "outputs": [],
   "source": [
    "X_train = df_train.drop(columns = [\n",
    "            'target',\n",
    "            'LocationTimeStamp',\n",
    "            'EventTimeStamp',\n",
    "            'eventDescription',\n",
    "            'Longitude',\n",
    "            'Latitude',\n",
    "            'ESS_Id',\n",
    "            'RecordID',\n",
    "            'ecuModel',\n",
    "            'ecuMake',\n",
    "            'SwitchedBatteryVoltage',\n",
    "            'EquipmentID',\n",
    "            'LampStatus',\n",
    "            'CruiseControlSetSpeed',\n",
    "            'EngineLoad',\n",
    "            'TurboBoostPressure',\n",
    "            'DistanceLtd',\n",
    "            'FaultId', \n",
    "            'next_derate_timestamp', \n",
    "            'time_until_detate'\n",
    "            ], axis=1)\n",
    "\n",
    "y_train = df_train['target']\n",
    "\n",
    "X_test = df_test.drop(columns = [\n",
    "            'target',\n",
    "            'LocationTimeStamp',\n",
    "            'EventTimeStamp',\n",
    "            'eventDescription',\n",
    "            'Longitude',\n",
    "            'Latitude',\n",
    "            'ESS_Id',\n",
    "            'RecordID',\n",
    "            'ecuModel',\n",
    "            'ecuMake',\n",
    "            'SwitchedBatteryVoltage',\n",
    "            'EquipmentID',\n",
    "            'LampStatus',\n",
    "            'CruiseControlSetSpeed',\n",
    "            'EngineLoad',\n",
    "            'TurboBoostPressure',\n",
    "            'DistanceLtd',\n",
    "            'FaultId', \n",
    "            'next_derate_timestamp', \n",
    "            'time_until_detate'\n",
    "            ], axis=1)\n",
    "\n",
    "y_test = df_test['target']"
   ]
  },
  {
   "cell_type": "code",
   "execution_count": 19,
   "id": "9d74d41e-84d7-4347-806b-8db7148d05d4",
   "metadata": {},
   "outputs": [],
   "source": [
    "ohe_features = ['spn',\n",
    "                'fmi',\n",
    "                'ecuSource'\n",
    "                ]\n",
    "bool_features = ['CruiseControlActive',\n",
    "                 'IgnStatus',\n",
    "                 'ParkingBrake',\n",
    "                 'active'\n",
    "                ]\n",
    "scale_features = ['AcceleratorPedal',\n",
    "                  'BarometricPressure',\n",
    "                  'EngineCoolantTemperature',\n",
    "                  'EngineOilPressure',\n",
    "                  'EngineOilTemperature',\n",
    "                  'EngineRpm',\n",
    "                  'FuelLevel',\n",
    "                  'FuelLtd',\n",
    "                  'FuelTemperature',\n",
    "                  'IntakeManifoldTemperature',\n",
    "                  'Speed',\n",
    "                  'FuelRate',\n",
    "                  'EngineTimeLtd',\n",
    "                  'Throttle',\n",
    "                  'activeTransitionCount'\n",
    "                 ]\n"
   ]
  },
  {
   "cell_type": "code",
   "execution_count": 21,
   "id": "88ad68c7-68e8-417a-8c5f-250c2357bed9",
   "metadata": {},
   "outputs": [
    {
     "data": {
      "text/plain": [
       "Index([], dtype='object')"
      ]
     },
     "execution_count": 21,
     "metadata": {},
     "output_type": "execute_result"
    }
   ],
   "source": [
    "everything = list(set(ohe_features + bool_features + scale_features))\n",
    "the_rest = X_train.columns.difference(everything)\n",
    "the_rest"
   ]
  },
  {
   "cell_type": "code",
   "execution_count": null,
   "id": "d2e4e733-d205-48f2-9f01-ae01f9ab5353",
   "metadata": {},
   "outputs": [],
   "source": [
    "%%time\n",
    "\n",
    "\n",
    "\n",
    "numerical_pipeline = Pipeline([\n",
    "    ('scaler', StandardScaler()),\n",
    "    #('faiss', FaissImputer(n_neighbors=3, strategy='mean')),\n",
    "    ('simple_imputer', SimpleImputer(strategy='mean'))\n",
    "])\n",
    "categorical_pipeline = Pipeline([\n",
    "    ('ohe', OneHotEncoder(handle_unknown='ignore', sparse_output=False, categories='auto')), \n",
    "    ('simple_imputer', SimpleImputer(strategy = 'most_frequent'))\n",
    "])\n",
    "\n",
    "bool_pipeline = Pipeline([\n",
    "    ('simple_imputer', SimpleImputer(strategy = 'most_frequent'))])\n",
    "\n",
    "preprocessor = ColumnTransformer(\n",
    "    transformers=[\n",
    "        ('num', numerical_pipeline, scale_features),\n",
    "        ('cat', categorical_pipeline, ohe_features),\n",
    "        ('bool', bool_pipeline, bool_features)\n",
    "    ],\n",
    "    remainder='drop'\n",
    ")\n",
    "\n",
    "pipe = Pipeline(steps=[('transformer', preprocessor)])\n",
    "\n",
    "pipe.fit(X_train)\n",
    "\n",
    "X_train_transformed = pipe.transform(X_train)\n",
    "X_test_transformed = pipe.transform(X_test)"
   ]
  },
  {
   "cell_type": "code",
   "execution_count": null,
   "id": "4931cdb5-fa56-4252-b91e-354238918181",
   "metadata": {},
   "outputs": [],
   "source": [
    "smote = SMOTE()\n",
    "X_trained_balanced, y_trained_balanced = smote.fit_resample(X_train_transformed, y_train)"
   ]
  },
  {
   "cell_type": "code",
   "execution_count": null,
   "id": "5860eb73-9ee3-4ba8-9a12-ba0d570ff860",
   "metadata": {},
   "outputs": [],
   "source": [
    "#filename = 'pipe_transformed.pkl'\n",
    "\n",
    "#pickle_list = [pipe, X_train_transformed, X_test_transformed]\n",
    "\n",
    "#with open(filename, 'wb') as file:\n",
    "    #pickle.dump(pickle_list, file)"
   ]
  },
  {
   "cell_type": "code",
   "execution_count": null,
   "id": "0f839380-69c6-48ae-ba20-26aeeac1191b",
   "metadata": {},
   "outputs": [],
   "source": [
    "#with open(filename, 'rb') as file:\n",
    "    #pipe, X_train_transformed, X_test_transformed = pickle.load(file)"
   ]
  },
  {
   "cell_type": "code",
   "execution_count": null,
   "id": "c712efd3-b5e4-448b-99f5-10745f9cb8b1",
   "metadata": {},
   "outputs": [],
   "source": [
    "X_trained_balanced"
   ]
  },
  {
   "cell_type": "code",
   "execution_count": null,
   "id": "22a5fdce-37bd-4236-9004-7eb6d4a7c1f2",
   "metadata": {},
   "outputs": [],
   "source": [
    "%%time\n",
    "\n",
    "feature_names = X_trained_balanced.columns.tolist()\n",
    "forest = RandomForestClassifier(random_state=42)\n",
    "forest.fit(X_train_transformed, y_train)"
   ]
  },
  {
   "cell_type": "code",
   "execution_count": null,
   "id": "69b50f23-efd9-4608-94e5-c9e1755b724f",
   "metadata": {},
   "outputs": [],
   "source": [
    "importances = forest.feature_importances_\n",
    "std = np.std([tree.feature_importances_ for tree in forest.estimators_], axis=0)\n",
    "forest_importances = pd.Series(importances, index=feature_names)\n",
    "\n",
    "fig, ax = plt.subplots()\n",
    "forest_importances.plot.bar(yerr=std, ax=ax)\n",
    "ax.set_title(\"Feature importances using MDI\")\n",
    "ax.set_ylabel(\"Mean decrease in impurity\")\n",
    "fig.tight_layout()"
   ]
  },
  {
   "cell_type": "code",
   "execution_count": null,
   "id": "adaee6d4-8872-4834-96df-4876f2547063",
   "metadata": {},
   "outputs": [],
   "source": [
    "feature_names"
   ]
  },
  {
   "cell_type": "markdown",
   "id": "13a88a9f-cc93-4370-bdc6-b5f45fcc29dc",
   "metadata": {},
   "source": [
    "%%time\n",
    "\n",
    "gbc = GradientBoostingClassifier(n_estimators=100, learning_rate=0.1, max_depth=4)\n",
    "\n",
    "gbc.fit(X_trained_balanced, y_trained_balanced)\n",
    "\n",
    "y_pred = gbc.predict(X_test_transformed)"
   ]
  },
  {
   "cell_type": "code",
   "execution_count": null,
   "id": "f766a2d7-7c65-4c10-88e8-92229fb4fd39",
   "metadata": {},
   "outputs": [],
   "source": [
    "gbc.feature_importances_\n"
   ]
  },
  {
   "cell_type": "code",
   "execution_count": null,
   "id": "9f3eb556-317a-4faa-b54e-64496362721c",
   "metadata": {},
   "outputs": [],
   "source": [
    "from sklearn.inspection import PartialDependenceDisplay"
   ]
  },
  {
   "cell_type": "code",
   "execution_count": null,
   "id": "04a0d8cb-70ae-4538-821a-e834728a1d16",
   "metadata": {},
   "outputs": [],
   "source": [
    "variable_names = X_trained_balanced.columns.tolist()\n",
    "pd.DataFrame({\n",
    "    'variable': variable_names,\n",
    "    'gbc_coeff': gbc.coef_\n",
    "})"
   ]
  },
  {
   "cell_type": "code",
   "execution_count": null,
   "id": "0929418f-65ff-4694-bd8f-64d0841a5c1b",
   "metadata": {},
   "outputs": [],
   "source": [
    "pd.DataFrame({\n",
    "    'variable': variable_names,\n",
    "    'importance': permutation_importance(gbc, X_test_transformed, y_test, random_state = 321)['importances_mean']\n",
    "}).sort_values('importance', ascending = False)"
   ]
  },
  {
   "cell_type": "code",
   "execution_count": null,
   "id": "e829db5e-bcb8-4d00-a4d4-5752fcd53902",
   "metadata": {},
   "outputs": [],
   "source": [
    "features = X_test_transformed.columns.tolist()\n",
    "\n",
    "pdp = partial_dependence(gbc, X_test_transformed, features = features)\n",
    "\n",
    "for i in features:\n",
    "    plt.plot(pdp['grid_values'][0], pdp['average'][i])\n",
    "plt.legend();"
   ]
  },
  {
   "cell_type": "code",
   "execution_count": null,
   "id": "0335e5ab-552b-42db-8a57-c5eea0ee8acb",
   "metadata": {},
   "outputs": [],
   "source": [
    "explainer = shap.TreeExplainer(gbc)\n",
    "explanation = explainer(X_test)\n"
   ]
  },
  {
   "cell_type": "code",
   "execution_count": null,
   "id": "81faa97a-5f1f-4dba-b236-ee1d73ca35e5",
   "metadata": {},
   "outputs": [],
   "source": [
    "shap.plots.beeswarm(explanation)"
   ]
  },
  {
   "cell_type": "code",
   "execution_count": null,
   "id": "35c6f85a-56ed-41b9-b058-49d0c0973289",
   "metadata": {},
   "outputs": [],
   "source": [
    "shap.plots.bar(explanation)"
   ]
  },
  {
   "cell_type": "code",
   "execution_count": null,
   "id": "d679734b-2048-41ff-bab1-b4ef3c70e1df",
   "metadata": {},
   "outputs": [],
   "source": [
    "pd.DataFrame(X_test).info()"
   ]
  },
  {
   "cell_type": "code",
   "execution_count": null,
   "id": "a8596ca8-4078-4ea1-81b3-3263d50fb29c",
   "metadata": {},
   "outputs": [],
   "source": [
    "confusion_matrix(y_test, y_pred)"
   ]
  },
  {
   "cell_type": "code",
   "execution_count": null,
   "id": "e796a9b4-e35f-4c35-b609-cf7ead439a78",
   "metadata": {},
   "outputs": [],
   "source": [
    "print(classification_report(y_test, y_pred, zero_division = 0))"
   ]
  },
  {
   "cell_type": "code",
   "execution_count": null,
   "id": "40dd2ecf-0c18-4562-a228-7bd04093f337",
   "metadata": {},
   "outputs": [],
   "source": [
    "from sklearn.linear_model import RidgeClassifier\n",
    "RC = RidgeClassifier(alpha=1.0)\n",
    "RC.fit(X_train_transformed, y_train)\n",
    "RC_y_pred = RC.predict(X_test_transformed)\n",
    "#print(f'Accuracy: {accuracy_score(y_test, RC_y_pred)}')\n",
    "#print(f'MCC: {matthews_corrcoef(y_test, RC_y_pred)}')\n",
    "print(confusion_matrix(y_test, RC_y_pred))\n",
    "print(classification_report(y_test, RC_y_pred))"
   ]
  },
  {
   "cell_type": "code",
   "execution_count": null,
   "id": "5225b8ad-5777-4f40-8851-cd90cb623286",
   "metadata": {},
   "outputs": [],
   "source": [
    "from sklearn.linear_model import LogisticRegression\n",
    "LG = LogisticRegression(penalty='l1', solver='liblinear')\n",
    "LG.fit(X_train_transformed, y_train)\n",
    "LG_y_pred = LG.predict(X_test_transformed)\n",
    "#print(f'Accuracy: {accuracy_score(y_test, RC_y_pred)}')\n",
    "#print(f'MCC: {matthews_corrcoef(y_test, RC_y_pred)}')\n",
    "print(confusion_matrix(y_test, RC_y_pred))\n",
    "print(classification_report(y_test, RC_y_pred))"
   ]
  },
  {
   "cell_type": "code",
   "execution_count": null,
   "id": "d5662e29-269b-4b0d-96de-afd53ab8fce1",
   "metadata": {},
   "outputs": [],
   "source": [
    "%%time\n",
    "\n",
    "mlp = MLPClassifier(\n",
    "            hidden_layer_sizes = (17, 15, 13, 11),\n",
    "            activation = 'relu',\n",
    "            solver = 'adam',            \n",
    "            max_iter = 100000, \n",
    "            alpha = 0.5,\n",
    "            learning_rate = 'adaptive'\n",
    "        ).fit(X_train_transformed, y_train)\n",
    "\n",
    "y_pred_mlp = mlp.predict(X_test_transformed)"
   ]
  },
  {
   "cell_type": "code",
   "execution_count": null,
   "id": "0ad33268-e4b4-4750-9094-896690f7640b",
   "metadata": {},
   "outputs": [],
   "source": [
    "confusion_matrix(y_test, y_pred_mlp)"
   ]
  },
  {
   "cell_type": "code",
   "execution_count": null,
   "id": "871a5a24-ca23-410f-830d-dafa5e893945",
   "metadata": {},
   "outputs": [],
   "source": [
    "print(classification_report(y_test, y_pred_mlp, zero_division = 0))"
   ]
  },
  {
   "cell_type": "code",
   "execution_count": null,
   "id": "85aac496-39fa-46cc-81c6-1cc00879bf4c",
   "metadata": {},
   "outputs": [],
   "source": [
    "corr_matrix = X_train[scale_features].corr().melt(ignore_index=False)"
   ]
  },
  {
   "cell_type": "code",
   "execution_count": null,
   "id": "b2e32e5f-9e0e-4985-a02a-c452b7ea3643",
   "metadata": {},
   "outputs": [],
   "source": [
    "corr_matrix[corr_matrix['value'] != 1].sort_values(by = 'value', ascending=False).head(12)"
   ]
  },
  {
   "cell_type": "code",
   "execution_count": null,
   "id": "37b28c6a-2144-45c0-b020-c67d240ba4a5",
   "metadata": {},
   "outputs": [],
   "source": [
    "sns.heatmap(corr_matrix, annot=True, cmap='YlGnBu', fmt=\".2f\")\n",
    "plt.title('Correlation Matrix')\n",
    "plt.show()"
   ]
  },
  {
   "cell_type": "code",
   "execution_count": null,
   "id": "840d88fc-3a25-42d5-8a33-37dbcabf2354",
   "metadata": {},
   "outputs": [],
   "source": []
  }
 ],
 "metadata": {
  "kernelspec": {
   "display_name": "Python 3 (ipykernel)",
   "language": "python",
   "name": "python3"
  },
  "language_info": {
   "codemirror_mode": {
    "name": "ipython",
    "version": 3
   },
   "file_extension": ".py",
   "mimetype": "text/x-python",
   "name": "python",
   "nbconvert_exporter": "python",
   "pygments_lexer": "ipython3",
   "version": "3.12.3"
  }
 },
 "nbformat": 4,
 "nbformat_minor": 5
}
