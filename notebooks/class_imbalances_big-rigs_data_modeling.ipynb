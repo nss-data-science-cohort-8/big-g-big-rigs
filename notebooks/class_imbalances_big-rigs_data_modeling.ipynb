{
 "cells": [
  {
   "cell_type": "markdown",
   "id": "40529150-cd0f-4230-98f9-9e091d484e79",
   "metadata": {},
   "source": [
    "## Modeling ##"
   ]
  },
  {
   "cell_type": "code",
   "execution_count": 2,
   "id": "41e169eb-1174-4605-9c63-58f513092361",
   "metadata": {},
   "outputs": [],
   "source": [
    "# pip install faiss_imputer\n",
    "# pip install imbalanced-learn"
   ]
  },
  {
   "cell_type": "code",
   "execution_count": 3,
   "id": "5c124217-9d3e-4972-9943-38e258e1e439",
   "metadata": {},
   "outputs": [],
   "source": [
    "import pandas as pd\n",
    "import numpy as np\n",
    "import datetime as dt\n",
    "import matplotlib.pyplot as plt\n",
    "import scipy.stats as stats\n",
    "from sklearn.preprocessing import StandardScaler, OneHotEncoder, LabelEncoder\n",
    "from sklearn.pipeline import Pipeline, make_pipeline\n",
    "from sklearn.impute import KNNImputer\n",
    "from sklearn.compose import ColumnTransformer\n",
    "from sklearn.ensemble import RandomForestClassifier\n",
    "from sklearn.model_selection import train_test_split\n",
    "from sklearn.metrics import (\n",
    "    classification_report, \n",
    "    confusion_matrix,\n",
    "    r2_score,\n",
    "    mean_squared_error, \n",
    "    root_mean_squared_error,\n",
    "    mean_absolute_error, \n",
    "    mean_absolute_percentage_error\n",
    ")\n",
    "from sklearn.inspection import PartialDependenceDisplay\n",
    "from sklearn.neighbors import KNeighborsClassifier, NearestNeighbors\n",
    "from scipy.spatial import KDTree\n",
    "from faiss_imputer import FaissImputer\n",
    "\n",
    "from tqdm.notebook import tqdm, trange\n",
    "from ipywidgets import interactive\n",
    "from lightgbm import LGBMClassifier\n",
    "from xgboost import XGBClassifier\n",
    "from sklearn.impute import SimpleImputer\n",
    "from sklearn.metrics import (\n",
    "    classification_report, accuracy_score, confusion_matrix, \n",
    "    f1_score, fbeta_score, \n",
    "    matthews_corrcoef, brier_score_loss\n",
    ")\n",
    "from sklearn.decomposition import PCA\n",
    "import pickle\n",
    "from xgboost import XGBClassifier"
   ]
  },
  {
   "cell_type": "markdown",
   "id": "8a32a870-37e7-4bb2-8522-7990fcf615e5",
   "metadata": {},
   "source": [
    "This notebook is dedicated to the feature selection and statistical modeling of our trucking data."
   ]
  },
  {
   "cell_type": "code",
   "execution_count": 182,
   "id": "b9b04487-f418-4f63-bbcf-0489bade8312",
   "metadata": {},
   "outputs": [],
   "source": [
    "from sklearn.tree import DecisionTreeClassifier\n",
    "from sklearn.linear_model import LogisticRegression\n",
    "from sklearn.neighbors import KNeighborsClassifier\n",
    "from imblearn.over_sampling import SMOTE\n",
    "from imblearn.over_sampling import RandomOverSampler"
   ]
  },
  {
   "cell_type": "code",
   "execution_count": 6,
   "id": "55f0dd30-4d54-4dfa-b6e9-d3ba19fd3145",
   "metadata": {},
   "outputs": [],
   "source": [
    "df = pd.read_csv('../data/data_clean.csv', low_memory=False)"
   ]
  },
  {
   "cell_type": "code",
   "execution_count": 7,
   "id": "aa7675e1-ebc5-4fa7-89e8-ba2524845a94",
   "metadata": {},
   "outputs": [],
   "source": [
    "#df_sample = df.sample(frac=0.3, random_state=42)"
   ]
  },
  {
   "cell_type": "code",
   "execution_count": 8,
   "id": "35e8d4c4-1d91-472e-ab5f-7eda723fa0c8",
   "metadata": {},
   "outputs": [
    {
     "name": "stdout",
     "output_type": "stream",
     "text": [
      "<class 'pandas.core.frame.DataFrame'>\n",
      "RangeIndex: 1057049 entries, 0 to 1057048\n",
      "Data columns (total 47 columns):\n",
      " #   Column                     Non-Null Count    Dtype  \n",
      "---  ------                     --------------    -----  \n",
      " 0   Unnamed: 0                 1057049 non-null  int64  \n",
      " 1   RecordID                   1057049 non-null  int64  \n",
      " 2   ESS_Id                     1057049 non-null  int64  \n",
      " 3   EventTimeStamp             1057049 non-null  object \n",
      " 4   eventDescription           1006152 non-null  object \n",
      " 5   ecuSoftwareVersion         792713 non-null   object \n",
      " 6   ecuSerialNumber            751116 non-null   object \n",
      " 7   ecuModel                   1001026 non-null  object \n",
      " 8   ecuMake                    1001026 non-null  object \n",
      " 9   ecuSource                  1057049 non-null  int64  \n",
      " 10  spn                        1057049 non-null  int64  \n",
      " 11  fmi                        1057049 non-null  int64  \n",
      " 12  active                     1057049 non-null  bool   \n",
      " 13  activeTransitionCount      1057049 non-null  int64  \n",
      " 14  EquipmentID                1057049 non-null  object \n",
      " 15  MCTNumber                  1057049 non-null  int64  \n",
      " 16  Latitude                   1057049 non-null  float64\n",
      " 17  Longitude                  1057049 non-null  float64\n",
      " 18  LocationTimeStamp          1057049 non-null  object \n",
      " 19  FaultId                    1057049 non-null  int64  \n",
      " 20  AcceleratorPedal           480660 non-null   float64\n",
      " 21  BarometricPressure         530902 non-null   float64\n",
      " 22  CruiseControlActive        1057049 non-null  bool   \n",
      " 23  CruiseControlSetSpeed      521823 non-null   float64\n",
      " 24  DistanceLtd                530760 non-null   float64\n",
      " 25  EngineCoolantTemperature   530890 non-null   float64\n",
      " 26  EngineLoad                 530421 non-null   float64\n",
      " 27  EngineOilPressure          531008 non-null   float64\n",
      " 28  EngineOilTemperature       529370 non-null   float64\n",
      " 29  EngineRpm                  531324 non-null   float64\n",
      " 30  EngineTimeLtd              527047 non-null   float64\n",
      " 31  FuelLevel                  455471 non-null   float64\n",
      " 32  FuelLtd                    530354 non-null   float64\n",
      " 33  FuelRate                   530151 non-null   float64\n",
      " 34  FuelTemperature            271089 non-null   float64\n",
      " 35  IgnStatus                  1057049 non-null  bool   \n",
      " 36  IntakeManifoldTemperature  530995 non-null   float64\n",
      " 37  LampStatus                 1057049 non-null  int64  \n",
      " 38  ParkingBrake               1057049 non-null  bool   \n",
      " 39  ServiceDistance            198 non-null      float64\n",
      " 40  Speed                      529278 non-null   float64\n",
      " 41  SwitchedBatteryVoltage     106228 non-null   float64\n",
      " 42  Throttle                   375438 non-null   float64\n",
      " 43  TurboBoostPressure         528806 non-null   float64\n",
      " 44  next_derate_timestamp      249051 non-null   object \n",
      " 45  time_until_derate          249051 non-null   object \n",
      " 46  target                     1057049 non-null  bool   \n",
      "dtypes: bool(5), float64(22), int64(10), object(10)\n",
      "memory usage: 343.8+ MB\n"
     ]
    }
   ],
   "source": [
    "df.info()"
   ]
  },
  {
   "cell_type": "code",
   "execution_count": 9,
   "id": "9017d57a-9699-46cd-bb4f-2ac820673555",
   "metadata": {},
   "outputs": [],
   "source": [
    "df = df.drop('Unnamed: 0', axis=1)"
   ]
  },
  {
   "cell_type": "code",
   "execution_count": 10,
   "id": "8f4e3713-9b81-4c29-bc1b-23771be3185b",
   "metadata": {},
   "outputs": [],
   "source": [
    "object_columns_to_change_to_category = [        \n",
    "    'eventDescription',  \n",
    "    'ecuSoftwareVersion',          \n",
    "    'ecuSerialNumber',         \n",
    "    'ecuModel',           \n",
    "    'ecuMake',                  \n",
    "    'EquipmentID',                                 \n",
    "    'LampStatus',              \n",
    "    'ServiceDistance',\n",
    "    'next_derate_timestamp',\n",
    "    'time_until_derate'] "
   ]
  },
  {
   "cell_type": "code",
   "execution_count": 11,
   "id": "d050a19b-06ad-4167-a721-3cbb74f68c97",
   "metadata": {},
   "outputs": [],
   "source": [
    "for column in object_columns_to_change_to_category:\n",
    "    df[column] = df[column].astype('category')"
   ]
  },
  {
   "cell_type": "code",
   "execution_count": 12,
   "id": "b5e576a1-e425-418b-9113-d817a9dcf370",
   "metadata": {},
   "outputs": [],
   "source": [
    "df['EventTimeStamp'] = pd.to_datetime(df['EventTimeStamp'])\n",
    "df['LocationTimeStamp'] = pd.to_datetime(df['LocationTimeStamp'])"
   ]
  },
  {
   "cell_type": "code",
   "execution_count": 13,
   "id": "df975710-4af8-4305-9f2f-bbde4a37225d",
   "metadata": {},
   "outputs": [],
   "source": [
    "int_columns_to_categorical = ['RecordID',\n",
    "'ESS_Id',                    \n",
    "'ecuSource',                    \n",
    "'spn',                       \n",
    "'fmi',  \n",
    "'active',       \n",
    "'MCTNumber',                  \n",
    "'FaultId']"
   ]
  },
  {
   "cell_type": "code",
   "execution_count": 14,
   "id": "a4a436a0-add9-4120-a4e0-8f831ad466e9",
   "metadata": {},
   "outputs": [],
   "source": [
    "for column in int_columns_to_categorical:\n",
    "    df[column] = df[column].astype('category')"
   ]
  },
  {
   "cell_type": "code",
   "execution_count": 15,
   "id": "f6376a1f-bbbb-41d0-b88d-f92c320ce5f3",
   "metadata": {},
   "outputs": [],
   "source": [
    "float64_cols = df.select_dtypes(include=['float64']).columns\n",
    "df[float64_cols] = df[float64_cols].astype('float32')"
   ]
  },
  {
   "cell_type": "code",
   "execution_count": 16,
   "id": "c29a9a86-917b-4d6a-aef5-492142b23590",
   "metadata": {},
   "outputs": [
    {
     "name": "stdout",
     "output_type": "stream",
     "text": [
      "<class 'pandas.core.frame.DataFrame'>\n",
      "RangeIndex: 1057049 entries, 0 to 1057048\n",
      "Data columns (total 46 columns):\n",
      " #   Column                     Non-Null Count    Dtype         \n",
      "---  ------                     --------------    -----         \n",
      " 0   RecordID                   1057049 non-null  category      \n",
      " 1   ESS_Id                     1057049 non-null  category      \n",
      " 2   EventTimeStamp             1057049 non-null  datetime64[ns]\n",
      " 3   eventDescription           1006152 non-null  category      \n",
      " 4   ecuSoftwareVersion         792713 non-null   category      \n",
      " 5   ecuSerialNumber            751116 non-null   category      \n",
      " 6   ecuModel                   1001026 non-null  category      \n",
      " 7   ecuMake                    1001026 non-null  category      \n",
      " 8   ecuSource                  1057049 non-null  category      \n",
      " 9   spn                        1057049 non-null  category      \n",
      " 10  fmi                        1057049 non-null  category      \n",
      " 11  active                     1057049 non-null  category      \n",
      " 12  activeTransitionCount      1057049 non-null  int64         \n",
      " 13  EquipmentID                1057049 non-null  category      \n",
      " 14  MCTNumber                  1057049 non-null  category      \n",
      " 15  Latitude                   1057049 non-null  float32       \n",
      " 16  Longitude                  1057049 non-null  float32       \n",
      " 17  LocationTimeStamp          1057049 non-null  datetime64[ns]\n",
      " 18  FaultId                    1057049 non-null  category      \n",
      " 19  AcceleratorPedal           480660 non-null   float32       \n",
      " 20  BarometricPressure         530902 non-null   float32       \n",
      " 21  CruiseControlActive        1057049 non-null  bool          \n",
      " 22  CruiseControlSetSpeed      521823 non-null   float32       \n",
      " 23  DistanceLtd                530760 non-null   float32       \n",
      " 24  EngineCoolantTemperature   530890 non-null   float32       \n",
      " 25  EngineLoad                 530421 non-null   float32       \n",
      " 26  EngineOilPressure          531008 non-null   float32       \n",
      " 27  EngineOilTemperature       529370 non-null   float32       \n",
      " 28  EngineRpm                  531324 non-null   float32       \n",
      " 29  EngineTimeLtd              527047 non-null   float32       \n",
      " 30  FuelLevel                  455471 non-null   float32       \n",
      " 31  FuelLtd                    530354 non-null   float32       \n",
      " 32  FuelRate                   530151 non-null   float32       \n",
      " 33  FuelTemperature            271089 non-null   float32       \n",
      " 34  IgnStatus                  1057049 non-null  bool          \n",
      " 35  IntakeManifoldTemperature  530995 non-null   float32       \n",
      " 36  LampStatus                 1057049 non-null  category      \n",
      " 37  ParkingBrake               1057049 non-null  bool          \n",
      " 38  ServiceDistance            198 non-null      category      \n",
      " 39  Speed                      529278 non-null   float32       \n",
      " 40  SwitchedBatteryVoltage     106228 non-null   float32       \n",
      " 41  Throttle                   375438 non-null   float32       \n",
      " 42  TurboBoostPressure         528806 non-null   float32       \n",
      " 43  next_derate_timestamp      249051 non-null   category      \n",
      " 44  time_until_derate          249051 non-null   category      \n",
      " 45  target                     1057049 non-null  bool          \n",
      "dtypes: bool(4), category(18), datetime64[ns](2), float32(21), int64(1)\n",
      "memory usage: 282.2 MB\n"
     ]
    }
   ],
   "source": [
    "df.info()"
   ]
  },
  {
   "cell_type": "markdown",
   "id": "0c3514de-2831-4ca7-ae0d-6971d37e59a1",
   "metadata": {},
   "source": [
    "Scaling and encoding features for modeling"
   ]
  },
  {
   "cell_type": "code",
   "execution_count": 18,
   "id": "b372d14a-5434-40cb-aea1-f795c6091399",
   "metadata": {},
   "outputs": [],
   "source": [
    "test_date = '2019-01-01'\n",
    "df_test = df.sort_values('EventTimeStamp').loc[df['EventTimeStamp'] > test_date]\n",
    "df_train = df.sort_values('EventTimeStamp').loc[df['EventTimeStamp'] < test_date]"
   ]
  },
  {
   "cell_type": "code",
   "execution_count": 85,
   "id": "10d15d1d-9522-45f3-838f-f88330441358",
   "metadata": {},
   "outputs": [],
   "source": [
    "X_train = df_train.drop(['target',\n",
    "            'LocationTimeStamp',\n",
    "            'EventTimeStamp',\n",
    "            'eventDescription',\n",
    "            'ESS_Id',\n",
    "            'ecuModel',\n",
    "            'ecuMake',\n",
    "            'ecuSource',\n",
    "            'ecuSoftwareVersion',\n",
    "            'ecuSerialNumber',\n",
    "            'MCTNumber',\n",
    "            'ServiceDistance',\n",
    "            'Latitude',\n",
    "            'Longitude',\n",
    "            'RecordID',\n",
    "            'next_derate_timestamp',\n",
    "            'time_until_derate',\n",
    "            'FaultId',\n",
    "            'EngineLoad',\n",
    "            'TurboBoostPressure',\n",
    "            'CruiseControlSetSpeed',\n",
    "            'DistanceLtd'], axis=1)\n",
    "\n",
    "y_train = df_train['target'].values\n",
    "\n",
    "X_test = df_test.drop(['target',\n",
    "            'LocationTimeStamp',\n",
    "            'EventTimeStamp',\n",
    "            'eventDescription',\n",
    "            'ESS_Id',\n",
    "            'ecuModel',\n",
    "            'ecuMake',\n",
    "            'ecuSource',\n",
    "            'ecuSoftwareVersion',\n",
    "            'ecuSerialNumber',\n",
    "            'MCTNumber',\n",
    "            'ServiceDistance',\n",
    "            'Latitude',\n",
    "            'Longitude',\n",
    "            'RecordID',\n",
    "            'next_derate_timestamp',\n",
    "            'time_until_derate',\n",
    "            'FaultId',\n",
    "            'EngineLoad',\n",
    "            'TurboBoostPressure',\n",
    "            'CruiseControlSetSpeed',\n",
    "            'DistanceLtd'], axis=1)\n",
    "\n",
    "\n",
    "y_test = df_test['target'].values\n",
    "\n",
    "X_val = df_test.drop(['target',\n",
    "            'LocationTimeStamp',\n",
    "            'EventTimeStamp',\n",
    "            'eventDescription',\n",
    "            'ESS_Id',\n",
    "            'ecuModel',\n",
    "            'ecuMake',\n",
    "            'ecuSource',\n",
    "            'ecuSoftwareVersion',\n",
    "            'ecuSerialNumber',\n",
    "            'MCTNumber',\n",
    "            'ServiceDistance',\n",
    "            'Latitude',\n",
    "            'Longitude',\n",
    "            'RecordID',\n",
    "            'next_derate_timestamp',\n",
    "            'time_until_derate',\n",
    "            'FaultId'], axis=1)\n",
    "\n",
    "y_val = df_test['target'].values"
   ]
  },
  {
   "cell_type": "code",
   "execution_count": 20,
   "id": "93892085-7c5b-43ae-ada2-e1d45f73d100",
   "metadata": {},
   "outputs": [],
   "source": [
    "# X_train = X_train.reset_index(drop=True)\n",
    "# X_test = X_test.reset_index(drop=True)"
   ]
  },
  {
   "cell_type": "code",
   "execution_count": 21,
   "id": "c8b7366a-4635-4ab4-accd-7515ba04e7e7",
   "metadata": {},
   "outputs": [],
   "source": [
    "# print(X_train.shape, X_test.shape)"
   ]
  },
  {
   "cell_type": "code",
   "execution_count": 22,
   "id": "8e0e617b-d1ef-4a2a-b95d-8725a90ef88a",
   "metadata": {},
   "outputs": [],
   "source": [
    "categorical_features = ['spn', 'fmi', 'EquipmentID', 'LampStatus'] \n",
    "bool_features = ['CruiseControlActive', 'ParkingBrake', 'IgnStatus', 'active']\n",
    "numeric_features = [x for x in X_train.columns if x not in categorical_features + bool_features] \n",
    "#pca = PCA(n_components=1, svd_solver=\"arpack\")\n",
    "\n",
    "numeric_pipe = Pipeline(\n",
    "    steps=[\n",
    "        ('scale', StandardScaler()),\n",
    "        ('numeric_impute', SimpleImputer(strategy='most_frequent'))\n",
    "    ]\n",
    ")\n",
    "\n",
    "categorical_pipe = Pipeline(\n",
    "    steps=[\n",
    "        ('onehot', OneHotEncoder(handle_unknown='ignore', sparse_output=True)),\n",
    "        ('categorical_impute', SimpleImputer(strategy='most_frequent')),\n",
    "    ]\n",
    ")\n",
    "\n",
    "bool_pipe = Pipeline(\n",
    "    steps=[\n",
    "        ('bool_impute', SimpleImputer(strategy='most_frequent'))\n",
    "    ]\n",
    ")\n",
    "\n",
    "ct = ColumnTransformer(\n",
    "    transformers=[\n",
    "        ('numeric', numeric_pipe, numeric_features),\n",
    "        ('categorical', categorical_pipe, categorical_features),\n",
    "        ('bool', bool_pipe, bool_features)\n",
    "    ]\n",
    ")\n",
    "\n",
    "pipe = Pipeline(\n",
    "    steps=[\n",
    "        ('transformer', ct),\n",
    "        #('pca', pca)\n",
    "    ]\n",
    ")\n",
    "\n",
    "pipe.fit(X_train, y_train)\n",
    "X_train_transformed = pipe.transform(X_train)\n",
    "X_test_transformed = pipe.transform(X_test)\n"
   ]
  },
  {
   "cell_type": "code",
   "execution_count": 202,
   "id": "62ec99a1-f295-4eef-a1a0-f040271ba539",
   "metadata": {},
   "outputs": [],
   "source": [
    "smote = SMOTE()\n",
    "X_trained_smoted, y_trained_smoted = smote.fit_resample(X_train_transformed, y_train)"
   ]
  },
  {
   "cell_type": "code",
   "execution_count": null,
   "id": "298fbe7d-5b30-49be-b34e-a4269140b484",
   "metadata": {},
   "outputs": [],
   "source": [
    "# oversampler = RandomOverSampler(random_state = 321)\n",
    "# X_resampled, y_resampled = oversampler.fit_resample(X_train_transformed, y_train)"
   ]
  },
  {
   "cell_type": "code",
   "execution_count": 24,
   "id": "05178e48-0fbd-4a7b-a8c0-2efbe0cba101",
   "metadata": {},
   "outputs": [],
   "source": [
    "# print(X_train.shape, X_trained_balanced.shape, X_train_transformed.shape)"
   ]
  },
  {
   "cell_type": "code",
   "execution_count": 25,
   "id": "2c99ff62-8858-42e0-b966-0239b8df0ea6",
   "metadata": {},
   "outputs": [],
   "source": [
    "# filename = 'pipe_transformed.pkl'\n",
    "\n",
    "# pickle_list = [pipe, x_train_transformed, x_test_transformed]\n",
    "\n",
    "# with open(filename, 'wb') as file:\n",
    "#     pickle.dump(pickle_list, file)"
   ]
  },
  {
   "cell_type": "code",
   "execution_count": 26,
   "id": "852d6383-1ac5-4ff6-8e86-8ac0ff662c90",
   "metadata": {},
   "outputs": [],
   "source": [
    "# with open(filename, 'rb') as file:\n",
    "#     pipe, X_train_transformed, X_test_transformed = pickle.load(file)"
   ]
  },
  {
   "cell_type": "code",
   "execution_count": 155,
   "id": "6f9a421b-3c97-4c0b-a88c-52a028520a44",
   "metadata": {},
   "outputs": [
    {
     "data": {
      "text/html": [
       "<div>\n",
       "<style scoped>\n",
       "    .dataframe tbody tr th:only-of-type {\n",
       "        vertical-align: middle;\n",
       "    }\n",
       "\n",
       "    .dataframe tbody tr th {\n",
       "        vertical-align: top;\n",
       "    }\n",
       "\n",
       "    .dataframe thead th {\n",
       "        text-align: right;\n",
       "    }\n",
       "</style>\n",
       "<table border=\"1\" class=\"dataframe\">\n",
       "  <thead>\n",
       "    <tr style=\"text-align: right;\">\n",
       "      <th></th>\n",
       "      <th>threshold</th>\n",
       "      <th>fbeta</th>\n",
       "    </tr>\n",
       "  </thead>\n",
       "  <tbody>\n",
       "    <tr>\n",
       "      <th>2</th>\n",
       "      <td>0.12</td>\n",
       "      <td>0.066858</td>\n",
       "    </tr>\n",
       "    <tr>\n",
       "      <th>3</th>\n",
       "      <td>0.13</td>\n",
       "      <td>0.065856</td>\n",
       "    </tr>\n",
       "    <tr>\n",
       "      <th>1</th>\n",
       "      <td>0.11</td>\n",
       "      <td>0.064488</td>\n",
       "    </tr>\n",
       "    <tr>\n",
       "      <th>6</th>\n",
       "      <td>0.16</td>\n",
       "      <td>0.061958</td>\n",
       "    </tr>\n",
       "    <tr>\n",
       "      <th>4</th>\n",
       "      <td>0.14</td>\n",
       "      <td>0.061179</td>\n",
       "    </tr>\n",
       "  </tbody>\n",
       "</table>\n",
       "</div>"
      ],
      "text/plain": [
       "   threshold     fbeta\n",
       "2       0.12  0.066858\n",
       "3       0.13  0.065856\n",
       "1       0.11  0.064488\n",
       "6       0.16  0.061958\n",
       "4       0.14  0.061179"
      ]
     },
     "execution_count": 155,
     "metadata": {},
     "output_type": "execute_result"
    }
   ],
   "source": [
    "# beta = 0.5\n",
    "\n",
    "# thresholds = pd.DataFrame({'threshold': candidate_thresholds})\n",
    "# thresholds['fbeta'] = thresholds['threshold'].apply(lambda x: fbeta_score(y_val, y_val_pred_proba > x, beta = beta))\n",
    "# thresholds.sort_values('fbeta', ascending = False).head()"
   ]
  },
  {
   "cell_type": "code",
   "execution_count": 188,
   "id": "b7e56270-22e2-45aa-9a30-8855c4a79ead",
   "metadata": {},
   "outputs": [
    {
     "name": "stdout",
     "output_type": "stream",
     "text": [
      "[LightGBM] [Info] Number of positive: 2207, number of negative: 943351\n",
      "[LightGBM] [Info] Auto-choosing row-wise multi-threading, the overhead of testing was 0.050387 seconds.\n",
      "You can set `force_row_wise=true` to remove the overhead.\n",
      "And if memory is not enough, you can set `force_col_wise=true`.\n",
      "[LightGBM] [Info] Total Bins 4866\n",
      "[LightGBM] [Info] Number of data points in the train set: 945558, number of used features: 1149\n",
      "[LightGBM] [Info] [binary:BoostFromScore]: pavg=0.002334 -> initscore=-6.057804\n",
      "[LightGBM] [Info] Start training from score -6.057804\n",
      "Accuracy: 0.9955332717439076\n",
      "MCC: 0.006033579835433306\n",
      "[[110991    189]\n",
      " [   309      2]]\n",
      "              precision    recall  f1-score   support\n",
      "\n",
      "       False       1.00      1.00      1.00    111180\n",
      "        True       0.01      0.01      0.01       311\n",
      "\n",
      "    accuracy                           1.00    111491\n",
      "   macro avg       0.50      0.50      0.50    111491\n",
      "weighted avg       0.99      1.00      1.00    111491\n",
      "\n"
     ]
    }
   ],
   "source": [
    "# LGBMClassiferModel = LGBMClassifier()\n",
    "# LGBMClassiferModel = LGBMClassiferModel.fit(X_train_transformed, y_train)\n",
    "# LGBMClassifer_y_pred = LGBMClassiferModel.predict(X_test_transformed)\n",
    "# print(f'Accuracy: {accuracy_score(y_test, LGBMClassifer_y_pred)}')\n",
    "# print(f'MCC: {matthews_corrcoef(y_test, LGBMClassifer_y_pred)}')\n",
    "# print(confusion_matrix(y_test, LGBMClassifer_y_pred))\n",
    "# print(classification_report(y_test, LGBMClassifer_y_pred, zero_division=1))"
   ]
  },
  {
   "cell_type": "code",
   "execution_count": 190,
   "id": "c242d854-5f97-4a8d-afbb-4e3a1c0c5050",
   "metadata": {},
   "outputs": [
    {
     "name": "stdout",
     "output_type": "stream",
     "text": [
      "[LightGBM] [Info] Number of positive: 943351, number of negative: 943351\n",
      "[LightGBM] [Info] Auto-choosing row-wise multi-threading, the overhead of testing was 0.040389 seconds.\n",
      "You can set `force_row_wise=true` to remove the overhead.\n",
      "And if memory is not enough, you can set `force_col_wise=true`.\n",
      "[LightGBM] [Info] Total Bins 4888\n",
      "[LightGBM] [Info] Number of data points in the train set: 1886702, number of used features: 1161\n",
      "[LightGBM] [Info] [binary:BoostFromScore]: pavg=0.500000 -> initscore=0.000000\n",
      "Accuracy: 0.9333130028432788\n",
      "MCC: 0.14498179838652228\n",
      "[[103820   7360]\n",
      " [    75    236]]\n",
      "              precision    recall  f1-score   support\n",
      "\n",
      "       False       1.00      0.93      0.97    111180\n",
      "        True       0.03      0.76      0.06       311\n",
      "\n",
      "    accuracy                           0.93    111491\n",
      "   macro avg       0.52      0.85      0.51    111491\n",
      "weighted avg       1.00      0.93      0.96    111491\n",
      "\n"
     ]
    }
   ],
   "source": [
    "# LGBMClassiferModel = LGBMClassifier()\n",
    "# LGBMClassiferModel = LGBMClassiferModel.fit(X_resampled, y_resampled)\n",
    "# LGBMClassifer_y_pred = LGBMClassiferModel.predict(X_test_transformed)\n",
    "# print(f'Accuracy: {accuracy_score(y_test, LGBMClassifer_y_pred)}')\n",
    "# print(f'MCC: {matthews_corrcoef(y_test, LGBMClassifer_y_pred)}')\n",
    "# print(confusion_matrix(y_test, LGBMClassifer_y_pred))\n",
    "# print(classification_report(y_test, LGBMClassifer_y_pred, zero_division=1))"
   ]
  },
  {
   "cell_type": "code",
   "execution_count": 204,
   "id": "188d2b5f-3c5e-4b3f-a9bc-6ef25cb8f2ac",
   "metadata": {},
   "outputs": [
    {
     "name": "stdout",
     "output_type": "stream",
     "text": [
      "[LightGBM] [Info] Number of positive: 943351, number of negative: 943351\n",
      "[LightGBM] [Info] Auto-choosing row-wise multi-threading, the overhead of testing was 7.420423 seconds.\n",
      "You can set `force_row_wise=true` to remove the overhead.\n",
      "And if memory is not enough, you can set `force_col_wise=true`.\n",
      "[LightGBM] [Info] Total Bins 56989\n",
      "[LightGBM] [Info] Number of data points in the train set: 1886702, number of used features: 1161\n",
      "[LightGBM] [Info] [binary:BoostFromScore]: pavg=0.500000 -> initscore=0.000000\n",
      "Accuracy: 0.969683651595196\n",
      "MCC: 0.1864146783532086\n",
      "[[107911   3269]\n",
      " [   111    200]]\n",
      "              precision    recall  f1-score   support\n",
      "\n",
      "       False       1.00      0.97      0.98    111180\n",
      "        True       0.06      0.64      0.11       311\n",
      "\n",
      "    accuracy                           0.97    111491\n",
      "   macro avg       0.53      0.81      0.55    111491\n",
      "weighted avg       1.00      0.97      0.98    111491\n",
      "\n"
     ]
    }
   ],
   "source": [
    "LGBMClassiferModel = LGBMClassifier()\n",
    "LGBMClassiferModel = LGBMClassiferModel.fit(X_trained_smoted, y_trained_smoted)\n",
    "LGBMClassifer_y_pred = LGBMClassiferModel.predict(X_test_transformed)\n",
    "print(f'Accuracy: {accuracy_score(y_test, LGBMClassifer_y_pred)}')\n",
    "print(f'MCC: {matthews_corrcoef(y_test, LGBMClassifer_y_pred)}')\n",
    "print(confusion_matrix(y_test, LGBMClassifer_y_pred))\n",
    "print(classification_report(y_test, LGBMClassifer_y_pred, zero_division=1))"
   ]
  },
  {
   "cell_type": "code",
   "execution_count": 161,
   "id": "e75b907a-ef3d-406e-bb7f-7c9382535674",
   "metadata": {},
   "outputs": [
    {
     "name": "stdout",
     "output_type": "stream",
     "text": [
      "[LightGBM] [Info] Number of positive: 2207, number of negative: 943351\n",
      "[LightGBM] [Info] Auto-choosing row-wise multi-threading, the overhead of testing was 0.039475 seconds.\n",
      "You can set `force_row_wise=true` to remove the overhead.\n",
      "And if memory is not enough, you can set `force_col_wise=true`.\n",
      "[LightGBM] [Info] Total Bins 4866\n",
      "[LightGBM] [Info] Number of data points in the train set: 945558, number of used features: 1149\n",
      "[LightGBM] [Info] [binary:BoostFromScore]: pavg=0.500000 -> initscore=0.000000\n",
      "[LightGBM] [Info] Start training from score 0.000000\n",
      "Accuracy: 0.9359230789929232\n",
      "MCC: 0.1614511006645619\n",
      "[[104091   7089]\n",
      " [    55    256]]\n",
      "              precision    recall  f1-score   support\n",
      "\n",
      "       False       1.00      0.94      0.97    111180\n",
      "        True       0.03      0.82      0.07       311\n",
      "\n",
      "    accuracy                           0.94    111491\n",
      "   macro avg       0.52      0.88      0.52    111491\n",
      "weighted avg       1.00      0.94      0.96    111491\n",
      "\n"
     ]
    }
   ],
   "source": [
    "# LGBMClassiferModel = LGBMClassifier(class_weight='balanced')\n",
    "# LGBMClassiferModel = LGBMClassiferModel.fit(X_train_transformed, y_train)\n",
    "# LGBMClassifer_y_pred = LGBMClassiferModel.predict(X_test_transformed)\n",
    "# print(f'Accuracy: {accuracy_score(y_test, LGBMClassifer_y_pred)}')\n",
    "# print(f'MCC: {matthews_corrcoef(y_test, LGBMClassifer_y_pred)}')\n",
    "# print(confusion_matrix(y_test, LGBMClassifer_y_pred))\n",
    "# print(classification_report(y_test, LGBMClassifer_y_pred, zero_division=1))"
   ]
  },
  {
   "cell_type": "code",
   "execution_count": 105,
   "id": "4b95ce36-e278-4901-a8ba-8b60e52574d2",
   "metadata": {},
   "outputs": [
    {
     "data": {
      "text/html": [
       "<div>\n",
       "<style scoped>\n",
       "    .dataframe tbody tr th:only-of-type {\n",
       "        vertical-align: middle;\n",
       "    }\n",
       "\n",
       "    .dataframe tbody tr th {\n",
       "        vertical-align: top;\n",
       "    }\n",
       "\n",
       "    .dataframe thead th {\n",
       "        text-align: right;\n",
       "    }\n",
       "</style>\n",
       "<table border=\"1\" class=\"dataframe\">\n",
       "  <thead>\n",
       "    <tr style=\"text-align: right;\">\n",
       "      <th></th>\n",
       "      <th>threshold</th>\n",
       "      <th>f1</th>\n",
       "    </tr>\n",
       "  </thead>\n",
       "  <tbody>\n",
       "    <tr>\n",
       "      <th>3</th>\n",
       "      <td>0.13</td>\n",
       "      <td>0.019971</td>\n",
       "    </tr>\n",
       "    <tr>\n",
       "      <th>2</th>\n",
       "      <td>0.12</td>\n",
       "      <td>0.019663</td>\n",
       "    </tr>\n",
       "    <tr>\n",
       "      <th>1</th>\n",
       "      <td>0.11</td>\n",
       "      <td>0.019444</td>\n",
       "    </tr>\n",
       "    <tr>\n",
       "      <th>0</th>\n",
       "      <td>0.10</td>\n",
       "      <td>0.019100</td>\n",
       "    </tr>\n",
       "    <tr>\n",
       "      <th>8</th>\n",
       "      <td>0.18</td>\n",
       "      <td>0.012121</td>\n",
       "    </tr>\n",
       "  </tbody>\n",
       "</table>\n",
       "</div>"
      ],
      "text/plain": [
       "   threshold        f1\n",
       "3       0.13  0.019971\n",
       "2       0.12  0.019663\n",
       "1       0.11  0.019444\n",
       "0       0.10  0.019100\n",
       "8       0.18  0.012121"
      ]
     },
     "execution_count": 105,
     "metadata": {},
     "output_type": "execute_result"
    }
   ],
   "source": [
    "# y_val_pred_proba = LGBMClassiferModel.predict_proba(X_test_transformed)[:, 1]\n",
    "# candidate_thresholds = np.arange(start = 0.1, stop = 0.925, step = 0.01)\n",
    "# thresholds = pd.DataFrame({'threshold': candidate_thresholds})\n",
    "# thresholds['f1'] = thresholds['threshold'].apply(lambda x: f1_score(y_test, y_val_pred_proba > x))\n",
    "# thresholds.sort_values('f1', ascending = False).head()"
   ]
  },
  {
   "cell_type": "code",
   "execution_count": 109,
   "id": "bcd3f9a3-1cfe-407d-a0d8-e6f58f76befa",
   "metadata": {},
   "outputs": [
    {
     "name": "stdout",
     "output_type": "stream",
     "text": [
      "Accuracy: 0.9955332717439076\n",
      "MCC: 0.006033579835433306\n",
      "[[110991    189]\n",
      " [   309      2]]\n",
      "              precision    recall  f1-score   support\n",
      "\n",
      "       False       1.00      1.00      1.00    111180\n",
      "        True       0.01      0.01      0.01       311\n",
      "\n",
      "    accuracy                           1.00    111491\n",
      "   macro avg       0.50      0.50      0.50    111491\n",
      "weighted avg       0.99      1.00      1.00    111491\n",
      "\n"
     ]
    }
   ],
   "source": [
    "# threshold = 0.13\n",
    "# y_pred_proba = LGBMClassiferModel.predict_proba(X_test_transformed)[:,1]\n",
    "\n",
    "# y_pred = y_pred_proba > threshold\n",
    "# print(f'Accuracy: {accuracy_score(y_test, LGBMClassifer_y_pred)}')\n",
    "# print(f'MCC: {matthews_corrcoef(y_test, LGBMClassifer_y_pred)}')\n",
    "# print(confusion_matrix(y_test, LGBMClassifer_y_pred))\n",
    "# print(classification_report(y_test, LGBMClassifer_y_pred))"
   ]
  },
  {
   "cell_type": "code",
   "execution_count": 141,
   "id": "d5d20124-84d8-4cb8-8619-01774ebf26f7",
   "metadata": {},
   "outputs": [
    {
     "name": "stdout",
     "output_type": "stream",
     "text": [
      "Accuracy: 0.9955332717439076\n",
      "MCC: 0.006033579835433306\n",
      "[[110991    189]\n",
      " [   309      2]]\n",
      "              precision    recall  f1-score   support\n",
      "\n",
      "       False       1.00      1.00      1.00    111180\n",
      "        True       0.01      0.01      0.01       311\n",
      "\n",
      "    accuracy                           1.00    111491\n",
      "   macro avg       0.50      0.50      0.50    111491\n",
      "weighted avg       0.99      1.00      1.00    111491\n",
      "\n"
     ]
    }
   ],
   "source": [
    "# threshold = 0.11\n",
    "# y_pred_proba = LGBMClassiferModel.predict_proba(X_test_transformed)[:,1]\n",
    "\n",
    "# y_pred = y_pred_proba > threshold\n",
    "# print(f'Accuracy: {accuracy_score(y_test, LGBMClassifer_y_pred)}')\n",
    "# print(f'MCC: {matthews_corrcoef(y_test, LGBMClassifer_y_pred)}')\n",
    "# print(confusion_matrix(y_test, LGBMClassifer_y_pred))\n",
    "# print(classification_report(y_test, LGBMClassifer_y_pred))"
   ]
  },
  {
   "cell_type": "code",
   "execution_count": 163,
   "id": "0bfe8912-955a-49de-8138-d6ec1fd860bd",
   "metadata": {},
   "outputs": [
    {
     "name": "stdout",
     "output_type": "stream",
     "text": [
      "Accuracy: 0.9967531011471777\n",
      "MCC: 0.03512475401526756\n",
      "[[111124     56]\n",
      " [   306      5]]\n",
      "              precision    recall  f1-score   support\n",
      "\n",
      "       False       1.00      1.00      1.00    111180\n",
      "        True       0.08      0.02      0.03       311\n",
      "\n",
      "    accuracy                           1.00    111491\n",
      "   macro avg       0.54      0.51      0.51    111491\n",
      "weighted avg       0.99      1.00      1.00    111491\n",
      "\n"
     ]
    }
   ],
   "source": [
    "XGBClassiferModel = XGBClassifier()\n",
    "XGBClassiferModel.fit(X_train_transformed, y_train)\n",
    "XGBClassifer_y_pred = XGBClassiferModel.predict(X_test_transformed)\n",
    "print(f'Accuracy: {accuracy_score(y_test, XGBClassifer_y_pred)}')\n",
    "print(f'MCC: {matthews_corrcoef(y_test, XGBClassifer_y_pred)}')\n",
    "print(confusion_matrix(y_test, XGBClassifer_y_pred))\n",
    "print(classification_report(y_test, XGBClassifer_y_pred, zero_division=0))"
   ]
  },
  {
   "cell_type": "code",
   "execution_count": 192,
   "id": "79699805-db31-4e96-b840-d6cb2ef580ad",
   "metadata": {},
   "outputs": [
    {
     "name": "stdout",
     "output_type": "stream",
     "text": [
      "Accuracy: 0.9451704621897732\n",
      "MCC: 0.1662054196994539\n",
      "[[105135   6045]\n",
      " [    68    243]]\n",
      "              precision    recall  f1-score   support\n",
      "\n",
      "       False       1.00      0.95      0.97    111180\n",
      "        True       0.04      0.78      0.07       311\n",
      "\n",
      "    accuracy                           0.95    111491\n",
      "   macro avg       0.52      0.86      0.52    111491\n",
      "weighted avg       1.00      0.95      0.97    111491\n",
      "\n"
     ]
    }
   ],
   "source": [
    "XGBClassiferModel = XGBClassifier()\n",
    "XGBClassiferModel.fit(X_resampled, y_resampled)\n",
    "XGBClassifer_y_pred = XGBClassiferModel.predict(X_test_transformed)\n",
    "print(f'Accuracy: {accuracy_score(y_test, XGBClassifer_y_pred)}')\n",
    "print(f'MCC: {matthews_corrcoef(y_test, XGBClassifer_y_pred)}')\n",
    "print(confusion_matrix(y_test, XGBClassifer_y_pred))\n",
    "print(classification_report(y_test, XGBClassifer_y_pred, zero_division=0))"
   ]
  },
  {
   "cell_type": "code",
   "execution_count": 206,
   "id": "888dd4bc-3a50-4f00-9447-3ec89d69f9db",
   "metadata": {},
   "outputs": [
    {
     "name": "stdout",
     "output_type": "stream",
     "text": [
      "Accuracy: 0.9760249706254317\n",
      "MCC: 0.20124094477470156\n",
      "[[108627   2553]\n",
      " [   120    191]]\n",
      "              precision    recall  f1-score   support\n",
      "\n",
      "       False       1.00      0.98      0.99    111180\n",
      "        True       0.07      0.61      0.13       311\n",
      "\n",
      "    accuracy                           0.98    111491\n",
      "   macro avg       0.53      0.80      0.56    111491\n",
      "weighted avg       1.00      0.98      0.99    111491\n",
      "\n"
     ]
    }
   ],
   "source": [
    "XGBClassiferModel = XGBClassifier()\n",
    "XGBClassiferModel.fit(X_trained_smoted, y_trained_smoted)\n",
    "XGBClassifer_y_pred = XGBClassiferModel.predict(X_test_transformed)\n",
    "print(f'Accuracy: {accuracy_score(y_test, XGBClassifer_y_pred)}')\n",
    "print(f'MCC: {matthews_corrcoef(y_test, XGBClassifer_y_pred)}')\n",
    "print(confusion_matrix(y_test, XGBClassifer_y_pred))\n",
    "print(classification_report(y_test, XGBClassifer_y_pred, zero_division=0))"
   ]
  },
  {
   "cell_type": "code",
   "execution_count": 174,
   "id": "9c8d564a-6e36-446d-ba6e-775e67fde7cd",
   "metadata": {},
   "outputs": [
    {
     "name": "stdout",
     "output_type": "stream",
     "text": [
      "Accuracy: 0.9464979235992143\n",
      "MCC: 0.16193793933851372\n",
      "[[105292   5888]\n",
      " [    77    234]]\n",
      "              precision    recall  f1-score   support\n",
      "\n",
      "       False       1.00      0.95      0.97    111180\n",
      "        True       0.04      0.75      0.07       311\n",
      "\n",
      "    accuracy                           0.95    111491\n",
      "   macro avg       0.52      0.85      0.52    111491\n",
      "weighted avg       1.00      0.95      0.97    111491\n",
      "\n"
     ]
    }
   ],
   "source": [
    "# XGBClassiferModel = XGBClassifier(scale_pos_weight=427)\n",
    "# XGBClassiferModel.fit(X_train_transformed, y_train)\n",
    "# XGBClassifer_y_pred = XGBClassiferModel.predict(X_test_transformed)\n",
    "# print(f'Accuracy: {accuracy_score(y_test, XGBClassifer_y_pred)}')\n",
    "# print(f'MCC: {matthews_corrcoef(y_test, XGBClassifer_y_pred)}')\n",
    "# print(confusion_matrix(y_test, XGBClassifer_y_pred))\n",
    "# print(classification_report(y_test, XGBClassifer_y_pred, zero_division=0))"
   ]
  },
  {
   "cell_type": "code",
   "execution_count": 111,
   "id": "45b6a32e-c158-4a30-ad44-864f9eea4ed2",
   "metadata": {},
   "outputs": [
    {
     "data": {
      "text/html": [
       "<div>\n",
       "<style scoped>\n",
       "    .dataframe tbody tr th:only-of-type {\n",
       "        vertical-align: middle;\n",
       "    }\n",
       "\n",
       "    .dataframe tbody tr th {\n",
       "        vertical-align: top;\n",
       "    }\n",
       "\n",
       "    .dataframe thead th {\n",
       "        text-align: right;\n",
       "    }\n",
       "</style>\n",
       "<table border=\"1\" class=\"dataframe\">\n",
       "  <thead>\n",
       "    <tr style=\"text-align: right;\">\n",
       "      <th></th>\n",
       "      <th>threshold</th>\n",
       "      <th>f1</th>\n",
       "    </tr>\n",
       "  </thead>\n",
       "  <tbody>\n",
       "    <tr>\n",
       "      <th>0</th>\n",
       "      <td>0.10</td>\n",
       "      <td>0.087719</td>\n",
       "    </tr>\n",
       "    <tr>\n",
       "      <th>2</th>\n",
       "      <td>0.12</td>\n",
       "      <td>0.084416</td>\n",
       "    </tr>\n",
       "    <tr>\n",
       "      <th>3</th>\n",
       "      <td>0.13</td>\n",
       "      <td>0.083612</td>\n",
       "    </tr>\n",
       "    <tr>\n",
       "      <th>1</th>\n",
       "      <td>0.11</td>\n",
       "      <td>0.081633</td>\n",
       "    </tr>\n",
       "    <tr>\n",
       "      <th>4</th>\n",
       "      <td>0.14</td>\n",
       "      <td>0.080000</td>\n",
       "    </tr>\n",
       "  </tbody>\n",
       "</table>\n",
       "</div>"
      ],
      "text/plain": [
       "   threshold        f1\n",
       "0       0.10  0.087719\n",
       "2       0.12  0.084416\n",
       "3       0.13  0.083612\n",
       "1       0.11  0.081633\n",
       "4       0.14  0.080000"
      ]
     },
     "execution_count": 111,
     "metadata": {},
     "output_type": "execute_result"
    }
   ],
   "source": [
    "# y_val_pred_proba = XGBClassiferModel.predict_proba(X_test_transformed)[:, 1]\n",
    "# candidate_thresholds = np.arange(start = 0.1, stop = 0.925, step = 0.01)\n",
    "# thresholds = pd.DataFrame({'threshold': candidate_thresholds})\n",
    "# thresholds['f1'] = thresholds['threshold'].apply(lambda x: f1_score(y_test, y_val_pred_proba > x))\n",
    "# thresholds.sort_values('f1', ascending = False).head()"
   ]
  },
  {
   "cell_type": "code",
   "execution_count": 147,
   "id": "373e9e4b-928a-4ac1-9078-dc5fbac3631a",
   "metadata": {},
   "outputs": [
    {
     "name": "stdout",
     "output_type": "stream",
     "text": [
      "Accuracy: 0.9967531011471777\n",
      "MCC: 0.03512475401526756\n",
      "[[111124     56]\n",
      " [   306      5]]\n",
      "              precision    recall  f1-score   support\n",
      "\n",
      "       False       1.00      1.00      1.00    111180\n",
      "        True       0.08      0.02      0.03       311\n",
      "\n",
      "    accuracy                           1.00    111491\n",
      "   macro avg       0.54      0.51      0.51    111491\n",
      "weighted avg       0.99      1.00      1.00    111491\n",
      "\n"
     ]
    }
   ],
   "source": [
    "# threshold = 0.12\n",
    "# y_pred_proba = XGBClassiferModel.predict_proba(X_test_transformed)[:,1]\n",
    "\n",
    "# y_pred = y_pred_proba > threshold\n",
    "# print(f'Accuracy: {accuracy_score(y_test, XGBClassifer_y_pred)}')\n",
    "# print(f'MCC: {matthews_corrcoef(y_test, XGBClassifer_y_pred)}')\n",
    "# print(confusion_matrix(y_test, XGBClassifer_y_pred))\n",
    "# print(classification_report(y_test, XGBClassifer_y_pred))"
   ]
  },
  {
   "cell_type": "code",
   "execution_count": 30,
   "id": "00d40947-e34e-48a0-9d3d-fcd8c536471a",
   "metadata": {},
   "outputs": [],
   "source": [
    "# RandomForestClassifierModel = RandomForestClassifier()\n",
    "# RandomForestClassifierModel.fit(X_trained_balanced, y_trained_balanced)\n",
    "# RandomForestClassifier_y_pred = RandomForestClassifierModel.predict(X_test_transformed)\n",
    "# print(f'Accuracy: {accuracy_score(y_test, RandomForestClassifier_y_pred)}')\n",
    "# print(f'MCC: {matthews_corrcoef(y_test, RandomForestClassifier_y_pred)}')\n",
    "# print(confusion_matrix(y_test, RandomForestClassifier_y_pred))\n",
    "# print(classification_report(y_test, RandomForestClassifier_y_pred, zero_division=0))"
   ]
  },
  {
   "cell_type": "code",
   "execution_count": 212,
   "id": "feb23b14-ae1a-48d6-9857-6c38bb63a6dd",
   "metadata": {},
   "outputs": [
    {
     "name": "stdout",
     "output_type": "stream",
     "text": [
      "Accuracy: 0.9824918603295333\n",
      "MCC: 0.0645763737941879\n",
      "[[109487   1693]\n",
      " [   259     52]]\n",
      "              precision    recall  f1-score   support\n",
      "\n",
      "       False       1.00      0.98      0.99    111180\n",
      "        True       0.03      0.17      0.05       311\n",
      "\n",
      "    accuracy                           0.98    111491\n",
      "   macro avg       0.51      0.58      0.52    111491\n",
      "weighted avg       0.99      0.98      0.99    111491\n",
      "\n"
     ]
    }
   ],
   "source": [
    "DecisionTreeClassifierModel = DecisionTreeClassifier()\n",
    "DecisionTreeClassifierModel.fit(X_resampled, y_resampled)\n",
    "DecisionTreeClassifierModel_y_pred = DecisionTreeClassifierModel.predict(X_test_transformed)\n",
    "print(f'Accuracy: {accuracy_score(y_test, DecisionTreeClassifierModel_y_pred)}')\n",
    "print(f'MCC: {matthews_corrcoef(y_test, DecisionTreeClassifierModel_y_pred)}')\n",
    "print(confusion_matrix(y_test, DecisionTreeClassifierModel_y_pred))\n",
    "print(classification_report(y_test, DecisionTreeClassifierModel_y_pred, zero_division=0))"
   ]
  },
  {
   "cell_type": "code",
   "execution_count": 213,
   "id": "43f97d42-5453-41dd-94b7-244371f8c6a5",
   "metadata": {},
   "outputs": [
    {
     "name": "stdout",
     "output_type": "stream",
     "text": [
      "Accuracy: 0.9822317496479537\n",
      "MCC: 0.10914885593187094\n",
      "[[109423   1757]\n",
      " [   224     87]]\n",
      "              precision    recall  f1-score   support\n",
      "\n",
      "       False       1.00      0.98      0.99    111180\n",
      "        True       0.05      0.28      0.08       311\n",
      "\n",
      "    accuracy                           0.98    111491\n",
      "   macro avg       0.52      0.63      0.54    111491\n",
      "weighted avg       1.00      0.98      0.99    111491\n",
      "\n"
     ]
    }
   ],
   "source": [
    "DecisionTreeClassifierModel = DecisionTreeClassifier()\n",
    "DecisionTreeClassifierModel.fit(X_trained_smoted, y_trained_smoted)\n",
    "DecisionTreeClassifierModel_y_pred = DecisionTreeClassifierModel.predict(X_test_transformed)\n",
    "print(f'Accuracy: {accuracy_score(y_test, DecisionTreeClassifierModel_y_pred)}')\n",
    "print(f'MCC: {matthews_corrcoef(y_test, DecisionTreeClassifierModel_y_pred)}')\n",
    "print(confusion_matrix(y_test, DecisionTreeClassifierModel_y_pred))\n",
    "print(classification_report(y_test, DecisionTreeClassifierModel_y_pred, zero_division=0))"
   ]
  },
  {
   "cell_type": "code",
   "execution_count": 121,
   "id": "a1697e8f-dd51-4767-8ab1-9a43c3ebd85a",
   "metadata": {},
   "outputs": [
    {
     "data": {
      "text/html": [
       "<div>\n",
       "<style scoped>\n",
       "    .dataframe tbody tr th:only-of-type {\n",
       "        vertical-align: middle;\n",
       "    }\n",
       "\n",
       "    .dataframe tbody tr th {\n",
       "        vertical-align: top;\n",
       "    }\n",
       "\n",
       "    .dataframe thead th {\n",
       "        text-align: right;\n",
       "    }\n",
       "</style>\n",
       "<table border=\"1\" class=\"dataframe\">\n",
       "  <thead>\n",
       "    <tr style=\"text-align: right;\">\n",
       "      <th></th>\n",
       "      <th>threshold</th>\n",
       "      <th>f1</th>\n",
       "    </tr>\n",
       "  </thead>\n",
       "  <tbody>\n",
       "    <tr>\n",
       "      <th>41</th>\n",
       "      <td>0.51</td>\n",
       "      <td>0.030043</td>\n",
       "    </tr>\n",
       "    <tr>\n",
       "      <th>62</th>\n",
       "      <td>0.72</td>\n",
       "      <td>0.030043</td>\n",
       "    </tr>\n",
       "    <tr>\n",
       "      <th>60</th>\n",
       "      <td>0.70</td>\n",
       "      <td>0.030043</td>\n",
       "    </tr>\n",
       "    <tr>\n",
       "      <th>59</th>\n",
       "      <td>0.69</td>\n",
       "      <td>0.030043</td>\n",
       "    </tr>\n",
       "    <tr>\n",
       "      <th>58</th>\n",
       "      <td>0.68</td>\n",
       "      <td>0.030043</td>\n",
       "    </tr>\n",
       "  </tbody>\n",
       "</table>\n",
       "</div>"
      ],
      "text/plain": [
       "    threshold        f1\n",
       "41       0.51  0.030043\n",
       "62       0.72  0.030043\n",
       "60       0.70  0.030043\n",
       "59       0.69  0.030043\n",
       "58       0.68  0.030043"
      ]
     },
     "execution_count": 121,
     "metadata": {},
     "output_type": "execute_result"
    }
   ],
   "source": [
    "# y_val_pred_proba = DecisionTreeClassifierModel.predict_proba(X_test_transformed)[:, 1]\n",
    "# candidate_thresholds = np.arange(start = 0.1, stop = 0.925, step = 0.01)\n",
    "# thresholds = pd.DataFrame({'threshold': candidate_thresholds})\n",
    "# thresholds['f1'] = thresholds['threshold'].apply(lambda x: f1_score(y_test, y_val_pred_proba > x))\n",
    "# thresholds.sort_values('f1', ascending = False).head()"
   ]
  },
  {
   "cell_type": "code",
   "execution_count": 149,
   "id": "b9792235-4379-49a1-865b-a67252c7764b",
   "metadata": {},
   "outputs": [
    {
     "name": "stdout",
     "output_type": "stream",
     "text": [
      "Accuracy: 0.995945861100896\n",
      "MCC: 0.029975850832518688\n",
      "[[111032    148]\n",
      " [   304      7]]\n",
      "              precision    recall  f1-score   support\n",
      "\n",
      "       False       1.00      1.00      1.00    111180\n",
      "        True       0.05      0.02      0.03       311\n",
      "\n",
      "    accuracy                           1.00    111491\n",
      "   macro avg       0.52      0.51      0.51    111491\n",
      "weighted avg       0.99      1.00      1.00    111491\n",
      "\n"
     ]
    }
   ],
   "source": [
    "# threshold = 0.12\n",
    "# y_pred_proba = DecisionTreeClassifierModel.predict_proba(X_test_transformed)[:,1]\n",
    "\n",
    "# y_pred = y_pred_proba > threshold\n",
    "# print(f'Accuracy: {accuracy_score(y_test, DecisionTreeClassifierModel_y_pred)}')\n",
    "# print(f'MCC: {matthews_corrcoef(y_test, DecisionTreeClassifierModel_y_pred)}')\n",
    "# print(confusion_matrix(y_test, DecisionTreeClassifierModel_y_pred))\n",
    "# print(classification_report(y_test, DecisionTreeClassifierModel_y_pred))"
   ]
  },
  {
   "cell_type": "code",
   "execution_count": 32,
   "id": "26a2fe58-8c01-4e2c-b5ca-f9eed5ce0258",
   "metadata": {},
   "outputs": [
    {
     "name": "stdout",
     "output_type": "stream",
     "text": [
      "Accuracy: 0.9972015678395566\n",
      "MCC: -0.00015839771122191769\n",
      "[[111179      1]\n",
      " [   311      0]]\n",
      "              precision    recall  f1-score   support\n",
      "\n",
      "       False       1.00      1.00      1.00    111180\n",
      "        True       0.00      0.00      0.00       311\n",
      "\n",
      "    accuracy                           1.00    111491\n",
      "   macro avg       0.50      0.50      0.50    111491\n",
      "weighted avg       0.99      1.00      1.00    111491\n",
      "\n"
     ]
    }
   ],
   "source": [
    "LogisticRegressionModel = LogisticRegression(max_iter=100)\n",
    "LogisticRegressionModel.fit(X_train_transformed, y_train)\n",
    "LogisticRegressionModel_y_pred = LogisticRegressionModel.predict(X_test_transformed)\n",
    "print(f'Accuracy: {accuracy_score(y_test, LogisticRegressionModel_y_pred)}')\n",
    "print(f'MCC: {matthews_corrcoef(y_test, LogisticRegressionModel_y_pred)}')\n",
    "print(confusion_matrix(y_test, LogisticRegressionModel_y_pred))\n",
    "print(classification_report(y_test, LogisticRegressionModel_y_pred, zero_division=0))"
   ]
  },
  {
   "cell_type": "code",
   "execution_count": 194,
   "id": "8374abca-4a46-4a4f-93e2-c61251dc9c28",
   "metadata": {},
   "outputs": [
    {
     "name": "stderr",
     "output_type": "stream",
     "text": [
      "C:\\Users\\billy\\anaconda3\\Lib\\site-packages\\sklearn\\linear_model\\_logistic.py:469: ConvergenceWarning: lbfgs failed to converge (status=1):\n",
      "STOP: TOTAL NO. of ITERATIONS REACHED LIMIT.\n",
      "\n",
      "Increase the number of iterations (max_iter) or scale the data as shown in:\n",
      "    https://scikit-learn.org/stable/modules/preprocessing.html\n",
      "Please also refer to the documentation for alternative solver options:\n",
      "    https://scikit-learn.org/stable/modules/linear_model.html#logistic-regression\n",
      "  n_iter_i = _check_optimize_result(\n"
     ]
    },
    {
     "name": "stdout",
     "output_type": "stream",
     "text": [
      "Accuracy: 0.9674502874671498\n",
      "MCC: 0.19654345354763378\n",
      "[[107643   3537]\n",
      " [    92    219]]\n",
      "              precision    recall  f1-score   support\n",
      "\n",
      "       False       1.00      0.97      0.98    111180\n",
      "        True       0.06      0.70      0.11       311\n",
      "\n",
      "    accuracy                           0.97    111491\n",
      "   macro avg       0.53      0.84      0.55    111491\n",
      "weighted avg       1.00      0.97      0.98    111491\n",
      "\n"
     ]
    }
   ],
   "source": [
    "LogisticRegressionModel = LogisticRegression(max_iter=100)\n",
    "LogisticRegressionModel.fit(X_resampled, y_resampled)\n",
    "LogisticRegressionModel_y_pred = LogisticRegressionModel.predict(X_test_transformed)\n",
    "print(f'Accuracy: {accuracy_score(y_test, LogisticRegressionModel_y_pred)}')\n",
    "print(f'MCC: {matthews_corrcoef(y_test, LogisticRegressionModel_y_pred)}')\n",
    "print(confusion_matrix(y_test, LogisticRegressionModel_y_pred))\n",
    "print(classification_report(y_test, LogisticRegressionModel_y_pred, zero_division=0))"
   ]
  },
  {
   "cell_type": "code",
   "execution_count": 208,
   "id": "9483c306-bee5-4275-a4fd-c4a4a571b15c",
   "metadata": {},
   "outputs": [
    {
     "name": "stderr",
     "output_type": "stream",
     "text": [
      "C:\\Users\\billy\\anaconda3\\Lib\\site-packages\\sklearn\\linear_model\\_logistic.py:469: ConvergenceWarning: lbfgs failed to converge (status=1):\n",
      "STOP: TOTAL NO. of ITERATIONS REACHED LIMIT.\n",
      "\n",
      "Increase the number of iterations (max_iter) or scale the data as shown in:\n",
      "    https://scikit-learn.org/stable/modules/preprocessing.html\n",
      "Please also refer to the documentation for alternative solver options:\n",
      "    https://scikit-learn.org/stable/modules/linear_model.html#logistic-regression\n",
      "  n_iter_i = _check_optimize_result(\n"
     ]
    },
    {
     "name": "stdout",
     "output_type": "stream",
     "text": [
      "Accuracy: 0.9730650904557319\n",
      "MCC: 0.21168729076715714\n",
      "[[108274   2906]\n",
      " [    97    214]]\n",
      "              precision    recall  f1-score   support\n",
      "\n",
      "       False       1.00      0.97      0.99    111180\n",
      "        True       0.07      0.69      0.12       311\n",
      "\n",
      "    accuracy                           0.97    111491\n",
      "   macro avg       0.53      0.83      0.56    111491\n",
      "weighted avg       1.00      0.97      0.98    111491\n",
      "\n"
     ]
    }
   ],
   "source": [
    "LogisticRegressionModel = LogisticRegression(max_iter=100)\n",
    "LogisticRegressionModel.fit(X_trained_smoted, y_trained_smoted)\n",
    "LogisticRegressionModel_y_pred = LogisticRegressionModel.predict(X_test_transformed)\n",
    "print(f'Accuracy: {accuracy_score(y_test, LogisticRegressionModel_y_pred)}')\n",
    "print(f'MCC: {matthews_corrcoef(y_test, LogisticRegressionModel_y_pred)}')\n",
    "print(confusion_matrix(y_test, LogisticRegressionModel_y_pred))\n",
    "print(classification_report(y_test, LogisticRegressionModel_y_pred, zero_division=0))"
   ]
  },
  {
   "cell_type": "code",
   "execution_count": 176,
   "id": "8bf0a6e6-6eb2-40dc-96ce-a2a8c2c94644",
   "metadata": {},
   "outputs": [
    {
     "name": "stderr",
     "output_type": "stream",
     "text": [
      "C:\\Users\\billy\\anaconda3\\Lib\\site-packages\\sklearn\\linear_model\\_logistic.py:469: ConvergenceWarning: lbfgs failed to converge (status=1):\n",
      "STOP: TOTAL NO. of ITERATIONS REACHED LIMIT.\n",
      "\n",
      "Increase the number of iterations (max_iter) or scale the data as shown in:\n",
      "    https://scikit-learn.org/stable/modules/preprocessing.html\n",
      "Please also refer to the documentation for alternative solver options:\n",
      "    https://scikit-learn.org/stable/modules/linear_model.html#logistic-regression\n",
      "  n_iter_i = _check_optimize_result(\n"
     ]
    },
    {
     "name": "stdout",
     "output_type": "stream",
     "text": [
      "Accuracy: 0.9666968634239536\n",
      "MCC: 0.1933604049613864\n",
      "[[107560   3620]\n",
      " [    93    218]]\n",
      "              precision    recall  f1-score   support\n",
      "\n",
      "       False       1.00      0.97      0.98    111180\n",
      "        True       0.06      0.70      0.11       311\n",
      "\n",
      "    accuracy                           0.97    111491\n",
      "   macro avg       0.53      0.83      0.54    111491\n",
      "weighted avg       1.00      0.97      0.98    111491\n",
      "\n"
     ]
    }
   ],
   "source": [
    "# LogisticRegressionModel = LogisticRegression(max_iter=100, class_weight='balanced')\n",
    "# LogisticRegressionModel.fit(X_train_transformed, y_train)\n",
    "# LogisticRegressionModel_y_pred = LogisticRegressionModel.predict(X_test_transformed)\n",
    "# print(f'Accuracy: {accuracy_score(y_test, LogisticRegressionModel_y_pred)}')\n",
    "# print(f'MCC: {matthews_corrcoef(y_test, LogisticRegressionModel_y_pred)}')\n",
    "# print(confusion_matrix(y_test, LogisticRegressionModel_y_pred))\n",
    "# print(classification_report(y_test, LogisticRegressionModel_y_pred, zero_division=0))"
   ]
  },
  {
   "cell_type": "code",
   "execution_count": 125,
   "id": "292c2631-68c4-4542-95aa-c63113a326db",
   "metadata": {},
   "outputs": [
    {
     "data": {
      "text/html": [
       "<div>\n",
       "<style scoped>\n",
       "    .dataframe tbody tr th:only-of-type {\n",
       "        vertical-align: middle;\n",
       "    }\n",
       "\n",
       "    .dataframe tbody tr th {\n",
       "        vertical-align: top;\n",
       "    }\n",
       "\n",
       "    .dataframe thead th {\n",
       "        text-align: right;\n",
       "    }\n",
       "</style>\n",
       "<table border=\"1\" class=\"dataframe\">\n",
       "  <thead>\n",
       "    <tr style=\"text-align: right;\">\n",
       "      <th></th>\n",
       "      <th>threshold</th>\n",
       "      <th>f1</th>\n",
       "    </tr>\n",
       "  </thead>\n",
       "  <tbody>\n",
       "    <tr>\n",
       "      <th>1</th>\n",
       "      <td>0.11</td>\n",
       "      <td>0.057252</td>\n",
       "    </tr>\n",
       "    <tr>\n",
       "      <th>2</th>\n",
       "      <td>0.12</td>\n",
       "      <td>0.056566</td>\n",
       "    </tr>\n",
       "    <tr>\n",
       "      <th>3</th>\n",
       "      <td>0.13</td>\n",
       "      <td>0.054167</td>\n",
       "    </tr>\n",
       "    <tr>\n",
       "      <th>0</th>\n",
       "      <td>0.10</td>\n",
       "      <td>0.053476</td>\n",
       "    </tr>\n",
       "    <tr>\n",
       "      <th>4</th>\n",
       "      <td>0.14</td>\n",
       "      <td>0.048035</td>\n",
       "    </tr>\n",
       "  </tbody>\n",
       "</table>\n",
       "</div>"
      ],
      "text/plain": [
       "   threshold        f1\n",
       "1       0.11  0.057252\n",
       "2       0.12  0.056566\n",
       "3       0.13  0.054167\n",
       "0       0.10  0.053476\n",
       "4       0.14  0.048035"
      ]
     },
     "execution_count": 125,
     "metadata": {},
     "output_type": "execute_result"
    }
   ],
   "source": [
    "# y_val_pred_proba = LogisticRegressionModel.predict_proba(X_test_transformed)[:, 1]\n",
    "# candidate_thresholds = np.arange(start = 0.1, stop = 0.925, step = 0.01)\n",
    "# thresholds = pd.DataFrame({'threshold': candidate_thresholds})\n",
    "# thresholds['f1'] = thresholds['threshold'].apply(lambda x: f1_score(y_test, y_val_pred_proba > x))\n",
    "# thresholds.sort_values('f1', ascending = False).head()"
   ]
  },
  {
   "cell_type": "code",
   "execution_count": 151,
   "id": "bd88ffa3-35ae-46c4-aeb2-2224cb28b084",
   "metadata": {},
   "outputs": [
    {
     "name": "stdout",
     "output_type": "stream",
     "text": [
      "Accuracy: 0.9972015678395566\n",
      "MCC: -0.00015839771122191769\n",
      "[[111179      1]\n",
      " [   311      0]]\n",
      "              precision    recall  f1-score   support\n",
      "\n",
      "       False       1.00      1.00      1.00    111180\n",
      "        True       0.00      0.00      0.00       311\n",
      "\n",
      "    accuracy                           1.00    111491\n",
      "   macro avg       0.50      0.50      0.50    111491\n",
      "weighted avg       0.99      1.00      1.00    111491\n",
      "\n"
     ]
    }
   ],
   "source": [
    "# threshold = 0.12\n",
    "# y_pred_proba = DecisionTreeClassifierModel.predict_proba(X_test_transformed)[:,1]\n",
    "\n",
    "# y_pred = y_pred_proba > threshold\n",
    "# print(f'Accuracy: {accuracy_score(y_test, LogisticRegressionModel_y_pred)}')\n",
    "# print(f'MCC: {matthews_corrcoef(y_test, LogisticRegressionModel_y_pred)}')\n",
    "# print(confusion_matrix(y_test, LogisticRegressionModel_y_pred))\n",
    "# print(classification_report(y_test, LogisticRegressionModel_y_pred))"
   ]
  },
  {
   "cell_type": "code",
   "execution_count": 33,
   "id": "434bf78b-ef6a-45b1-ac6c-02f4e3689350",
   "metadata": {},
   "outputs": [
    {
     "name": "stdout",
     "output_type": "stream",
     "text": [
      "Accuracy: 0.9972015678395566\n",
      "MCC: -0.00015839771122191769\n",
      "[[111179      1]\n",
      " [   311      0]]\n",
      "              precision    recall  f1-score   support\n",
      "\n",
      "       False       1.00      1.00      1.00    111180\n",
      "        True       0.00      0.00      0.00       311\n",
      "\n",
      "    accuracy                           1.00    111491\n",
      "   macro avg       0.50      0.50      0.50    111491\n",
      "weighted avg       0.99      1.00      1.00    111491\n",
      "\n"
     ]
    }
   ],
   "source": [
    "KNeighborsClassifierModel = KNeighborsClassifier()\n",
    "KNeighborsClassifierModel.fit(X_train_transformed, y_train)\n",
    "KNeighborsClassifierModel_y_pred = LogisticRegressionModel.predict(X_test_transformed)\n",
    "print(f'Accuracy: {accuracy_score(y_test, KNeighborsClassifierModel_y_pred)}')\n",
    "print(f'MCC: {matthews_corrcoef(y_test, KNeighborsClassifierModel_y_pred)}')\n",
    "print(confusion_matrix(y_test, KNeighborsClassifierModel_y_pred))\n",
    "print(classification_report(y_test, KNeighborsClassifierModel_y_pred, zero_division=0))"
   ]
  },
  {
   "cell_type": "code",
   "execution_count": 196,
   "id": "280b8789-84f7-4870-8d4c-1c1c0cd5364b",
   "metadata": {},
   "outputs": [
    {
     "name": "stdout",
     "output_type": "stream",
     "text": [
      "Accuracy: 0.9674502874671498\n",
      "MCC: 0.19654345354763378\n",
      "[[107643   3537]\n",
      " [    92    219]]\n",
      "              precision    recall  f1-score   support\n",
      "\n",
      "       False       1.00      0.97      0.98    111180\n",
      "        True       0.06      0.70      0.11       311\n",
      "\n",
      "    accuracy                           0.97    111491\n",
      "   macro avg       0.53      0.84      0.55    111491\n",
      "weighted avg       1.00      0.97      0.98    111491\n",
      "\n"
     ]
    }
   ],
   "source": [
    "KNeighborsClassifierModel = KNeighborsClassifier()\n",
    "KNeighborsClassifierModel.fit(X_resampled, y_resampled)\n",
    "KNeighborsClassifierModel_y_pred = LogisticRegressionModel.predict(X_test_transformed)\n",
    "print(f'Accuracy: {accuracy_score(y_test, KNeighborsClassifierModel_y_pred)}')\n",
    "print(f'MCC: {matthews_corrcoef(y_test, KNeighborsClassifierModel_y_pred)}')\n",
    "print(confusion_matrix(y_test, KNeighborsClassifierModel_y_pred))\n",
    "print(classification_report(y_test, KNeighborsClassifierModel_y_pred, zero_division=0))"
   ]
  },
  {
   "cell_type": "code",
   "execution_count": 209,
   "id": "a5b7b3a2-5cef-4376-9311-acaa6070dfdc",
   "metadata": {},
   "outputs": [
    {
     "name": "stdout",
     "output_type": "stream",
     "text": [
      "Accuracy: 0.9730650904557319\n",
      "MCC: 0.21168729076715714\n",
      "[[108274   2906]\n",
      " [    97    214]]\n",
      "              precision    recall  f1-score   support\n",
      "\n",
      "       False       1.00      0.97      0.99    111180\n",
      "        True       0.07      0.69      0.12       311\n",
      "\n",
      "    accuracy                           0.97    111491\n",
      "   macro avg       0.53      0.83      0.56    111491\n",
      "weighted avg       1.00      0.97      0.98    111491\n",
      "\n"
     ]
    }
   ],
   "source": [
    "KNeighborsClassifierModel = KNeighborsClassifier()\n",
    "KNeighborsClassifierModel.fit(X_trained_smoted, y_trained_smoted)\n",
    "KNeighborsClassifierModel_y_pred = LogisticRegressionModel.predict(X_test_transformed)\n",
    "print(f'Accuracy: {accuracy_score(y_test, KNeighborsClassifierModel_y_pred)}')\n",
    "print(f'MCC: {matthews_corrcoef(y_test, KNeighborsClassifierModel_y_pred)}')\n",
    "print(confusion_matrix(y_test, KNeighborsClassifierModel_y_pred))\n",
    "print(classification_report(y_test, KNeighborsClassifierModel_y_pred, zero_division=0))"
   ]
  },
  {
   "cell_type": "code",
   "execution_count": null,
   "id": "12a8b164-8a6b-48ba-9776-ddf54e5baa08",
   "metadata": {},
   "outputs": [],
   "source": [
    "# KNeighborsClassifierModel = KNeighborsClassifier()\n",
    "# KNeighborsClassifierModel.fit(X_train_transformed, y_train)\n",
    "# KNeighborsClassifierModel_y_pred = LogisticRegressionModel.predict(X_test_transformed)\n",
    "# print(f'Accuracy: {accuracy_score(y_test, KNeighborsClassifierModel_y_pred)}')\n",
    "# print(f'MCC: {matthews_corrcoef(y_test, KNeighborsClassifierModel_y_pred)}')\n",
    "# print(confusion_matrix(y_test, KNeighborsClassifierModel_y_pred))\n",
    "# print(classification_report(y_test, KNeighborsClassifierModel_y_pred, zero_division=0))"
   ]
  },
  {
   "cell_type": "code",
   "execution_count": null,
   "id": "cfeb8da6-9c9f-4f03-877d-74b136371348",
   "metadata": {},
   "outputs": [],
   "source": [
    "# y_val_pred_proba = KNeighborsClassifierModel.predict_proba(X_test_transformed)[:, 1]\n",
    "# candidate_thresholds = np.arange(start = 0.1, stop = 0.925, step = 0.01)\n",
    "# thresholds = pd.DataFrame({'threshold': candidate_thresholds})\n",
    "# thresholds['f1'] = thresholds['threshold'].apply(lambda x: f1_score(y_test, y_val_pred_proba > x))\n",
    "# thresholds.sort_values('f1', ascending = False).head()"
   ]
  },
  {
   "cell_type": "code",
   "execution_count": null,
   "id": "eeb36fb8-bbfd-4ef9-af24-c32811e0db6a",
   "metadata": {},
   "outputs": [],
   "source": [
    "# threshold = 0.12\n",
    "# y_pred_proba = KNeighborsClassifierModel.predict_proba(X_test_transformed)[:,1]\n",
    "\n",
    "# y_pred = y_pred_proba > threshold\n",
    "# print(f'Accuracy: {accuracy_score(y_test, KNeighborsClassifierModel_y_pred)}')\n",
    "# print(f'MCC: {matthews_corrcoef(y_test, KNeighborsClassifierModel_y_pred)}')\n",
    "# print(confusion_matrix(y_test, KNeighborsClassifierModel_y_pred))\n",
    "# print(classification_report(y_test, KNeighborsClassifierModel_y_pred))"
   ]
  },
  {
   "cell_type": "code",
   "execution_count": 36,
   "id": "fb0b52db-3586-4613-9403-745e269ce6bf",
   "metadata": {},
   "outputs": [],
   "source": [
    "# - there rae 1763 positive samples and 738,171 negative samples. This suggests dataset is highly imbalanced, which may require adjustments like class weighting or resampling.\n",
    "# - LightGBM uses histogram-based learning instead of splitting values directly. This means the dataset has 6531 unique bin partitions, which can improve training efficiency.\n",
    "# - there are 739,934 rows being used for training. the model is leveraging 1270 features in total.\n",
    "# - Since it's a binary classification task, LightGBM calculates an initial score (-6.037159). This score is derived from the prior probability (pavg=0.002383), meaning only 0.238% of samples are positive. The low prior probability affects LightGBM's initial weight adjustments to balance the learning process.\n",
    "\n",
    "# Next steps:\n",
    "# Given the severe class imbalance, I might: ✔ Use scale_pos_weight in LightGBM to balance classes ✔ Apply oversampling techniques (SMOTE, ADASYN) if necessary ✔ Tune the learning rate for better convergence"
   ]
  }
 ],
 "metadata": {
  "kernelspec": {
   "display_name": "Python 3 (ipykernel)",
   "language": "python",
   "name": "python3"
  },
  "language_info": {
   "codemirror_mode": {
    "name": "ipython",
    "version": 3
   },
   "file_extension": ".py",
   "mimetype": "text/x-python",
   "name": "python",
   "nbconvert_exporter": "python",
   "pygments_lexer": "ipython3",
   "version": "3.12.4"
  }
 },
 "nbformat": 4,
 "nbformat_minor": 5
}
