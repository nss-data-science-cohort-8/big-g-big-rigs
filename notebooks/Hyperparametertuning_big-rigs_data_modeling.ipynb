{
 "cells": [
  {
   "cell_type": "code",
   "execution_count": 1,
   "id": "aff193b5-ab08-4c8d-9da3-e134d08fb0ab",
   "metadata": {},
   "outputs": [
    {
     "name": "stdout",
     "output_type": "stream",
     "text": [
      "Requirement already satisfied: scikit-optimize in c:\\users\\billy\\anaconda3\\lib\\site-packages (0.10.2)\n",
      "Requirement already satisfied: joblib>=0.11 in c:\\users\\billy\\anaconda3\\lib\\site-packages (from scikit-optimize) (1.4.2)\n",
      "Requirement already satisfied: pyaml>=16.9 in c:\\users\\billy\\anaconda3\\lib\\site-packages (from scikit-optimize) (25.1.0)\n",
      "Requirement already satisfied: numpy>=1.20.3 in c:\\users\\billy\\anaconda3\\lib\\site-packages (from scikit-optimize) (1.26.4)\n",
      "Requirement already satisfied: scipy>=1.1.0 in c:\\users\\billy\\anaconda3\\lib\\site-packages (from scikit-optimize) (1.13.1)\n",
      "Requirement already satisfied: scikit-learn>=1.0.0 in c:\\users\\billy\\anaconda3\\lib\\site-packages (from scikit-optimize) (1.4.2)\n",
      "Requirement already satisfied: packaging>=21.3 in c:\\users\\billy\\anaconda3\\lib\\site-packages (from scikit-optimize) (23.2)\n",
      "Requirement already satisfied: PyYAML in c:\\users\\billy\\anaconda3\\lib\\site-packages (from pyaml>=16.9->scikit-optimize) (6.0.1)\n",
      "Requirement already satisfied: threadpoolctl>=2.0.0 in c:\\users\\billy\\anaconda3\\lib\\site-packages (from scikit-learn>=1.0.0->scikit-optimize) (2.2.0)\n",
      "Note: you may need to restart the kernel to use updated packages.\n"
     ]
    }
   ],
   "source": [
    "pip install scikit-optimize"
   ]
  },
  {
   "cell_type": "code",
   "execution_count": 2,
   "id": "383a6615-050f-44e0-b1b6-c992bc495be5",
   "metadata": {},
   "outputs": [],
   "source": [
    "import pandas as pd\n",
    "import numpy as np\n",
    "import datetime as dt\n",
    "import matplotlib.pyplot as plt\n",
    "import scipy.stats as stats\n",
    "from sklearn.preprocessing import StandardScaler, OneHotEncoder, LabelEncoder\n",
    "from sklearn.pipeline import Pipeline, make_pipeline\n",
    "from sklearn.impute import KNNImputer\n",
    "from sklearn.compose import ColumnTransformer\n",
    "from sklearn.ensemble import RandomForestClassifier\n",
    "from sklearn.model_selection import train_test_split\n",
    "from sklearn.metrics import (\n",
    "    classification_report, \n",
    "    confusion_matrix,\n",
    "    r2_score,\n",
    "    mean_squared_error, \n",
    "    root_mean_squared_error,\n",
    "    mean_absolute_error, \n",
    "    mean_absolute_percentage_error\n",
    ")\n",
    "from sklearn.inspection import PartialDependenceDisplay\n",
    "from sklearn.neighbors import KNeighborsClassifier, NearestNeighbors\n",
    "from scipy.spatial import KDTree\n",
    "from faiss_imputer import FaissImputer\n",
    "\n",
    "from tqdm.notebook import tqdm, trange\n",
    "from ipywidgets import interactive\n",
    "from lightgbm import LGBMClassifier\n",
    "from xgboost import XGBClassifier\n",
    "from sklearn.impute import SimpleImputer\n",
    "from sklearn.metrics import (\n",
    "    classification_report, accuracy_score, confusion_matrix, \n",
    "    f1_score, fbeta_score, \n",
    "    matthews_corrcoef, brier_score_loss\n",
    ")\n",
    "from sklearn.decomposition import PCA\n",
    "import pickle\n",
    "from xgboost import XGBClassifier\n",
    "from sklearn.tree import DecisionTreeClassifier\n",
    "from sklearn.linear_model import LogisticRegression\n",
    "from sklearn.neighbors import KNeighborsClassifier\n",
    "from imblearn.over_sampling import SMOTE\n",
    "from imblearn.over_sampling import RandomOverSampler"
   ]
  },
  {
   "cell_type": "code",
   "execution_count": 3,
   "id": "dfaf6ab9-db15-48a5-a4ff-fbc2e23d6aa4",
   "metadata": {},
   "outputs": [],
   "source": [
    "from sklearn.model_selection import GridSearchCV\n",
    "from skopt import BayesSearchCV\n",
    "from skopt.space import Real, Integer"
   ]
  },
  {
   "cell_type": "code",
   "execution_count": 4,
   "id": "7db195ba-219b-49ae-989e-8aa9ecac5a8b",
   "metadata": {},
   "outputs": [],
   "source": [
    "df = pd.read_csv('../data/data_clean.csv', low_memory=False)"
   ]
  },
  {
   "cell_type": "code",
   "execution_count": 5,
   "id": "ffbd5354-2ac6-42e2-89c9-c8f0a74a0bb5",
   "metadata": {},
   "outputs": [],
   "source": [
    "df = df.drop('Unnamed: 0', axis=1)"
   ]
  },
  {
   "cell_type": "code",
   "execution_count": 6,
   "id": "ca12f08b-8523-4de1-97a2-c6b6db6c6f7f",
   "metadata": {},
   "outputs": [],
   "source": [
    "object_columns_to_change_to_category = [        \n",
    "    'eventDescription',  \n",
    "    'ecuSoftwareVersion',          \n",
    "    'ecuSerialNumber',         \n",
    "    'ecuModel',           \n",
    "    'ecuMake',                  \n",
    "    'EquipmentID',                                 \n",
    "    'LampStatus',              \n",
    "    'ServiceDistance',\n",
    "    'next_derate_timestamp',\n",
    "    'time_until_derate'] "
   ]
  },
  {
   "cell_type": "code",
   "execution_count": 7,
   "id": "06c78ee0-0f26-4794-9983-10dfee0e85f0",
   "metadata": {},
   "outputs": [],
   "source": [
    "for column in object_columns_to_change_to_category:\n",
    "    df[column] = df[column].astype('category')"
   ]
  },
  {
   "cell_type": "code",
   "execution_count": 8,
   "id": "cf2d8f3c-71bd-478a-8deb-ade31960a47e",
   "metadata": {},
   "outputs": [],
   "source": [
    "df['EventTimeStamp'] = pd.to_datetime(df['EventTimeStamp'])\n",
    "df['LocationTimeStamp'] = pd.to_datetime(df['LocationTimeStamp'])"
   ]
  },
  {
   "cell_type": "code",
   "execution_count": 9,
   "id": "0795ebd0-ae36-4f00-9ce2-1df6c239e871",
   "metadata": {},
   "outputs": [],
   "source": [
    "int_columns_to_categorical = ['RecordID',\n",
    "'ESS_Id',                    \n",
    "'ecuSource',                    \n",
    "'spn',                       \n",
    "'fmi',  \n",
    "'active',       \n",
    "'MCTNumber',                  \n",
    "'FaultId']"
   ]
  },
  {
   "cell_type": "code",
   "execution_count": 10,
   "id": "5556779f-b27f-431b-9258-5fe20fac2ca8",
   "metadata": {},
   "outputs": [],
   "source": [
    "for column in int_columns_to_categorical:\n",
    "    df[column] = df[column].astype('category')"
   ]
  },
  {
   "cell_type": "code",
   "execution_count": 11,
   "id": "00e30916-2634-4479-83cd-60627e74afae",
   "metadata": {},
   "outputs": [],
   "source": [
    "float64_cols = df.select_dtypes(include=['float64']).columns\n",
    "df[float64_cols] = df[float64_cols].astype('float32')"
   ]
  },
  {
   "cell_type": "code",
   "execution_count": 12,
   "id": "43aa384b-955b-4a34-9b76-3688185167e8",
   "metadata": {},
   "outputs": [],
   "source": [
    "test_date = '2019-01-01'\n",
    "df_test = df.sort_values('EventTimeStamp').loc[df['EventTimeStamp'] > test_date]\n",
    "df_train = df.sort_values('EventTimeStamp').loc[df['EventTimeStamp'] < test_date]"
   ]
  },
  {
   "cell_type": "code",
   "execution_count": 13,
   "id": "796e4187-a001-4cdc-9581-5b0f1aa93ad5",
   "metadata": {},
   "outputs": [],
   "source": [
    "X_train = df_train.drop(['target',\n",
    "            'LocationTimeStamp',\n",
    "            'EventTimeStamp',\n",
    "            'eventDescription',\n",
    "            'ESS_Id',\n",
    "            'ecuModel',\n",
    "            'ecuMake',\n",
    "            'ecuSource',\n",
    "            'ecuSoftwareVersion',\n",
    "            'ecuSerialNumber',\n",
    "            'MCTNumber',\n",
    "            'ServiceDistance',\n",
    "            'Latitude',\n",
    "            'Longitude',\n",
    "            'RecordID',\n",
    "            'next_derate_timestamp',\n",
    "            'time_until_derate',\n",
    "            'FaultId',\n",
    "            'EngineLoad',\n",
    "            'TurboBoostPressure',\n",
    "            'CruiseControlSetSpeed',\n",
    "            'DistanceLtd'], axis=1)\n",
    "\n",
    "y_train = df_train['target'].values\n",
    "\n",
    "X_test = df_test.drop(['target',\n",
    "            'LocationTimeStamp',\n",
    "            'EventTimeStamp',\n",
    "            'eventDescription',\n",
    "            'ESS_Id',\n",
    "            'ecuModel',\n",
    "            'ecuMake',\n",
    "            'ecuSource',\n",
    "            'ecuSoftwareVersion',\n",
    "            'ecuSerialNumber',\n",
    "            'MCTNumber',\n",
    "            'ServiceDistance',\n",
    "            'Latitude',\n",
    "            'Longitude',\n",
    "            'RecordID',\n",
    "            'next_derate_timestamp',\n",
    "            'time_until_derate',\n",
    "            'FaultId',\n",
    "            'EngineLoad',\n",
    "            'TurboBoostPressure',\n",
    "            'CruiseControlSetSpeed',\n",
    "            'DistanceLtd'], axis=1)\n",
    "\n",
    "\n",
    "y_test = df_test['target'].values\n",
    "\n",
    "X_val = df_test.drop(['target',\n",
    "            'LocationTimeStamp',\n",
    "            'EventTimeStamp',\n",
    "            'eventDescription',\n",
    "            'ESS_Id',\n",
    "            'ecuModel',\n",
    "            'ecuMake',\n",
    "            'ecuSource',\n",
    "            'ecuSoftwareVersion',\n",
    "            'ecuSerialNumber',\n",
    "            'MCTNumber',\n",
    "            'ServiceDistance',\n",
    "            'Latitude',\n",
    "            'Longitude',\n",
    "            'RecordID',\n",
    "            'next_derate_timestamp',\n",
    "            'time_until_derate',\n",
    "            'FaultId'], axis=1)\n",
    "\n",
    "y_val = df_test['target'].values"
   ]
  },
  {
   "cell_type": "code",
   "execution_count": 14,
   "id": "3c82865f-b9f9-434c-b284-7e6feab634fe",
   "metadata": {},
   "outputs": [],
   "source": [
    "categorical_features = ['spn', 'fmi', 'EquipmentID', 'LampStatus'] \n",
    "bool_features = ['CruiseControlActive', 'ParkingBrake', 'IgnStatus', 'active']\n",
    "numeric_features = [x for x in X_train.columns if x not in categorical_features + bool_features] \n",
    "#pca = PCA(n_components=1, svd_solver=\"arpack\")\n",
    "\n",
    "numeric_pipe = Pipeline(\n",
    "    steps=[\n",
    "        ('scale', StandardScaler()),\n",
    "        ('numeric_impute', SimpleImputer(strategy='most_frequent'))\n",
    "    ]\n",
    ")\n",
    "\n",
    "categorical_pipe = Pipeline(\n",
    "    steps=[\n",
    "        ('onehot', OneHotEncoder(handle_unknown='ignore', sparse_output=True)),\n",
    "        ('categorical_impute', SimpleImputer(strategy='most_frequent')),\n",
    "    ]\n",
    ")\n",
    "\n",
    "bool_pipe = Pipeline(\n",
    "    steps=[\n",
    "        ('bool_impute', SimpleImputer(strategy='most_frequent'))\n",
    "    ]\n",
    ")\n",
    "\n",
    "ct = ColumnTransformer(\n",
    "    transformers=[\n",
    "        ('numeric', numeric_pipe, numeric_features),\n",
    "        ('categorical', categorical_pipe, categorical_features),\n",
    "        ('bool', bool_pipe, bool_features)\n",
    "    ]\n",
    ")\n",
    "\n",
    "pipe = Pipeline(\n",
    "    steps=[\n",
    "        ('transformer', ct),\n",
    "        #('pca', pca)\n",
    "    ]\n",
    ")\n",
    "\n",
    "pipe.fit(X_train, y_train)\n",
    "X_train_transformed = pipe.transform(X_train)\n",
    "X_test_transformed = pipe.transform(X_test)"
   ]
  },
  {
   "cell_type": "code",
   "execution_count": 15,
   "id": "331f3b17-c8dc-4aa2-a19d-8d55d9591f21",
   "metadata": {},
   "outputs": [],
   "source": [
    "smote = SMOTE()\n",
    "X_trained_smoted, y_trained_smoted = smote.fit_resample(X_train_transformed, y_train)"
   ]
  },
  {
   "cell_type": "code",
   "execution_count": 39,
   "id": "13479e95-4f90-48cf-a1e0-740290b7e572",
   "metadata": {},
   "outputs": [
    {
     "name": "stdout",
     "output_type": "stream",
     "text": [
      "Accuracy: 0.9734956184804154\n",
      "MCC: 0.18025051451264293\n",
      "[[108356   2824]\n",
      " [   131    180]]\n",
      "              precision    recall  f1-score   support\n",
      "\n",
      "       False       1.00      0.97      0.99    111180\n",
      "        True       0.06      0.58      0.11       311\n",
      "\n",
      "    accuracy                           0.97    111491\n",
      "   macro avg       0.53      0.78      0.55    111491\n",
      "weighted avg       1.00      0.97      0.98    111491\n",
      "\n"
     ]
    }
   ],
   "source": [
    "XGBClassiferModel = XGBClassifier()\n",
    "XGBClassiferModel.fit(X_trained_smoted, y_trained_smoted)\n",
    "XGBClassifer_y_pred = XGBClassiferModel.predict(X_test_transformed)\n",
    "print(f'Accuracy: {accuracy_score(y_test, XGBClassifer_y_pred)}')\n",
    "print(f'MCC: {matthews_corrcoef(y_test, XGBClassifer_y_pred)}')\n",
    "print(confusion_matrix(y_test, XGBClassifer_y_pred))\n",
    "print(classification_report(y_test, XGBClassifer_y_pred, zero_division=0))"
   ]
  },
  {
   "cell_type": "code",
   "execution_count": null,
   "id": "d5d5bfda-2c53-4000-a7fb-1aa268555a91",
   "metadata": {},
   "outputs": [],
   "source": [
    "Best parameters: OrderedDict({})"
   ]
  },
  {
   "cell_type": "code",
   "execution_count": null,
   "id": "6c7afb1b-b21e-4545-9de9-453257deaec0",
   "metadata": {},
   "outputs": [],
   "source": []
  },
  {
   "cell_type": "code",
   "execution_count": 61,
   "id": "07135b69-1f3f-4f8e-8dfd-48169e64595d",
   "metadata": {},
   "outputs": [
    {
     "name": "stdout",
     "output_type": "stream",
     "text": [
      "Accuracy: 0.9815590496093856\n",
      "MCC: 0.18052704083569918\n",
      "[[109287   1893]\n",
      " [   163    148]]\n",
      "              precision    recall  f1-score   support\n",
      "\n",
      "       False       1.00      0.98      0.99    111180\n",
      "        True       0.07      0.48      0.13       311\n",
      "\n",
      "    accuracy                           0.98    111491\n",
      "   macro avg       0.54      0.73      0.56    111491\n",
      "weighted avg       1.00      0.98      0.99    111491\n",
      "\n"
     ]
    }
   ],
   "source": [
    "XGBClassiferModel = XGBClassifier(learning_rate=0.1, max_depth=6, n_estimators=500)\n",
    "XGBClassiferModel.fit(X_trained_smoted, y_trained_smoted)\n",
    "XGBClassifer_y_pred = XGBClassiferModel.predict(X_test_transformed)\n",
    "print(f'Accuracy: {accuracy_score(y_test, XGBClassifer_y_pred)}')\n",
    "print(f'MCC: {matthews_corrcoef(y_test, XGBClassifer_y_pred)}')\n",
    "print(confusion_matrix(y_test, XGBClassifer_y_pred))\n",
    "print(classification_report(y_test, XGBClassifer_y_pred, zero_division=0))"
   ]
  },
  {
   "cell_type": "code",
   "execution_count": 63,
   "id": "b9655081-6434-4b49-807e-9889b9733b5d",
   "metadata": {},
   "outputs": [
    {
     "name": "stdout",
     "output_type": "stream",
     "text": [
      "Accuracy: 0.9894520633952516\n",
      "MCC: 0.11251819846189282\n",
      "[[110250    930]\n",
      " [   246     65]]\n",
      "              precision    recall  f1-score   support\n",
      "\n",
      "       False       1.00      0.99      0.99    111180\n",
      "        True       0.07      0.21      0.10       311\n",
      "\n",
      "    accuracy                           0.99    111491\n",
      "   macro avg       0.53      0.60      0.55    111491\n",
      "weighted avg       1.00      0.99      0.99    111491\n",
      "\n"
     ]
    }
   ],
   "source": [
    "XGBClassiferModel = XGBClassifier(objective=\"binary:logistic\",\n",
    "    colsample_bytree = 0.9179993452534458,\n",
    "    gamma = 3.55507468819673,\n",
    "    max_depth = 17,\n",
    "    min_child_weight = 9,\n",
    "    reg_alpha = 62,\n",
    "    n_estimators = 100,\n",
    "    reg_lambda = 0.5990326545008506,\n",
    "    scale_pos_weight = 2)\n",
    "XGBClassiferModel.fit(X_trained_smoted, y_trained_smoted)\n",
    "XGBClassifer_y_pred = XGBClassiferModel.predict(X_test_transformed)\n",
    "print(f'Accuracy: {accuracy_score(y_test, XGBClassifer_y_pred)}')\n",
    "print(f'MCC: {matthews_corrcoef(y_test, XGBClassifer_y_pred)}')\n",
    "print(confusion_matrix(y_test, XGBClassifer_y_pred))\n",
    "print(classification_report(y_test, XGBClassifer_y_pred, zero_division=0))"
   ]
  },
  {
   "cell_type": "code",
   "execution_count": 55,
   "id": "a5401527-9d86-4413-9b16-6b515ad5a08e",
   "metadata": {},
   "outputs": [
    {
     "name": "stdout",
     "output_type": "stream",
     "text": [
      "Accuracy: 0.9852095684853486\n",
      "MCC: 0.16110174782584727\n",
      "[[109726   1454]\n",
      " [   195    116]]\n",
      "              precision    recall  f1-score   support\n",
      "\n",
      "       False       1.00      0.99      0.99    111180\n",
      "        True       0.07      0.37      0.12       311\n",
      "\n",
      "    accuracy                           0.99    111491\n",
      "   macro avg       0.54      0.68      0.56    111491\n",
      "weighted avg       1.00      0.99      0.99    111491\n",
      "\n"
     ]
    }
   ],
   "source": [
    "# XGBClassiferModel = XGBClassifier(alpha=0.5, colsample_bytree=1.0, \n",
    "#                                   learning_rate=0.3, max_depth=9, min_child_weight=1, \n",
    "#                                   n_estimators=100, subsample=0.6)\n",
    "# XGBClassiferModel.fit(X_trained_smoted, y_trained_smoted)\n",
    "# XGBClassifer_y_pred = XGBClassiferModel.predict(X_test_transformed)\n",
    "# print(f'Accuracy: {accuracy_score(y_test, XGBClassifer_y_pred)}')\n",
    "# print(f'MCC: {matthews_corrcoef(y_test, XGBClassifer_y_pred)}')\n",
    "# print(confusion_matrix(y_test, XGBClassifer_y_pred))\n",
    "# print(classification_report(y_test, XGBClassifer_y_pred, zero_division=0))"
   ]
  },
  {
   "cell_type": "code",
   "execution_count": 41,
   "id": "5c588dda-af6b-4b08-b52a-f11582739a2d",
   "metadata": {},
   "outputs": [],
   "source": [
    "# param_grid = param_ranges = {\n",
    "#     \"max_depth\": [3, 6, 9],  # Controls tree complexity\n",
    "#     \"learning_rate\": [0.01, 0.1, 0.3],  # Step size for weight updates\n",
    "#     \"subsample\": [0.6, 0.8, 1.0],  # Fraction of samples used per boosting iteration\n",
    "#     \"colsample_bytree\": [0.6, 0.8, 1.0],  # Fraction of features used per tree\n",
    "#     \"min_child_weight\": [1, 3, 5],  # Minimum sum of instance weight in child node\n",
    "#     \"lambda\": [0.1, 1, 10],  # L2 regularization\n",
    "#     \"alpha\": [0, 0.5, 1],  # L1 regularization\n",
    "#     \"n_estimators\": [100, 500, 1000]  # Number of boosting rounds\n",
    "# }\n",
    "# # grid_search = GridSearchCV(\n",
    "# #     estimator = XGBClassiferModel,\n",
    "# #     param_grid = param_grid,\n",
    "# #     scoring = 'roc_auc',\n",
    "# #     cv=3,\n",
    "# #     verbose=1,\n",
    "# #     n_jobs=-1\n",
    "# # )\n",
    "\n",
    "# # grid_search.fit(X_train_transformed, y_train)\n",
    "# # print(\"Best Parameters:\", grid_search.best_params_)"
   ]
  },
  {
   "cell_type": "code",
   "execution_count": 43,
   "id": "d9d00134-6863-4683-8cae-42b78d8870b6",
   "metadata": {},
   "outputs": [
    {
     "name": "stdout",
     "output_type": "stream",
     "text": [
      "Fitting 3 folds for each of 1 candidates, totalling 3 fits\n",
      "Fitting 3 folds for each of 1 candidates, totalling 3 fits\n",
      "Fitting 3 folds for each of 1 candidates, totalling 3 fits\n",
      "Fitting 3 folds for each of 1 candidates, totalling 3 fits\n",
      "Fitting 3 folds for each of 1 candidates, totalling 3 fits\n",
      "Fitting 3 folds for each of 1 candidates, totalling 3 fits\n",
      "Fitting 3 folds for each of 1 candidates, totalling 3 fits\n",
      "Fitting 3 folds for each of 1 candidates, totalling 3 fits\n",
      "Fitting 3 folds for each of 1 candidates, totalling 3 fits\n",
      "Fitting 3 folds for each of 1 candidates, totalling 3 fits\n",
      "Fitting 3 folds for each of 1 candidates, totalling 3 fits\n",
      "Fitting 3 folds for each of 1 candidates, totalling 3 fits\n",
      "Fitting 3 folds for each of 1 candidates, totalling 3 fits\n",
      "Fitting 3 folds for each of 1 candidates, totalling 3 fits\n",
      "Fitting 3 folds for each of 1 candidates, totalling 3 fits\n",
      "Fitting 3 folds for each of 1 candidates, totalling 3 fits\n",
      "Fitting 3 folds for each of 1 candidates, totalling 3 fits\n",
      "Fitting 3 folds for each of 1 candidates, totalling 3 fits\n",
      "Fitting 3 folds for each of 1 candidates, totalling 3 fits\n",
      "Fitting 3 folds for each of 1 candidates, totalling 3 fits\n",
      "Fitting 3 folds for each of 1 candidates, totalling 3 fits\n",
      "Fitting 3 folds for each of 1 candidates, totalling 3 fits\n",
      "Fitting 3 folds for each of 1 candidates, totalling 3 fits\n",
      "Fitting 3 folds for each of 1 candidates, totalling 3 fits\n",
      "Fitting 3 folds for each of 1 candidates, totalling 3 fits\n",
      "Best parameters: OrderedDict({'alpha': 0.5, 'colsample_bytree': 1.0, 'lambda': 0.1, 'learning_rate': 0.3, 'max_depth': 9, 'min_child_weight': 1, 'n_estimators': 100, 'subsample': 0.6})\n",
      "Best score: 0.033520584228321514\n"
     ]
    }
   ],
   "source": [
    "# bayes_search = BayesSearchCV(estimator=XGBClassiferModel, search_spaces=param_grid, n_iter=25, cv=3, n_jobs=-1, verbose=2, scoring=\"f1\")\n",
    "# bayes_search.fit(X_train_transformed, y_train)\n",
    "# # Print best parameters\n",
    "# print(f\"Best parameters: {bayes_search.best_params_}\")\n",
    "# print(f\"Best score: {bayes_search.best_score_}\")"
   ]
  },
  {
   "cell_type": "code",
   "execution_count": null,
   "id": "88dcd567-c2f8-4a78-9f96-09f12620ca6d",
   "metadata": {},
   "outputs": [],
   "source": []
  }
 ],
 "metadata": {
  "kernelspec": {
   "display_name": "Python 3 (ipykernel)",
   "language": "python",
   "name": "python3"
  },
  "language_info": {
   "codemirror_mode": {
    "name": "ipython",
    "version": 3
   },
   "file_extension": ".py",
   "mimetype": "text/x-python",
   "name": "python",
   "nbconvert_exporter": "python",
   "pygments_lexer": "ipython3",
   "version": "3.12.4"
  }
 },
 "nbformat": 4,
 "nbformat_minor": 5
}
