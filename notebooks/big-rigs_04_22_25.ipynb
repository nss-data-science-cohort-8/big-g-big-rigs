{
 "cells": [
  {
   "cell_type": "code",
   "execution_count": 1,
   "id": "7b914bf9-7737-4c84-b970-459948959788",
   "metadata": {},
   "outputs": [],
   "source": [
    "import pandas as pd"
   ]
  },
  {
   "cell_type": "code",
   "execution_count": 11,
   "id": "e726eac4-df27-4d0c-9e4a-d2014d6d3545",
   "metadata": {},
   "outputs": [
    {
     "name": "stderr",
     "output_type": "stream",
     "text": [
      "C:\\ProgramData\\anaconda3\\Lib\\site-packages\\openpyxl\\worksheet\\_read_only.py:81: UserWarning: Data Validation extension is not supported and will be removed\n",
      "  for idx, row in parser.parse():\n"
     ]
    }
   ],
   "source": [
    "faults = pd.read_csv(\"../data/J1939Faults.csv\", low_memory = False)\n",
    "diagnostics = pd.read_csv(\"../data/VehicleDiagnosticOnboardData.csv\")\n",
    "sfc = pd.read_excel(\"../data/Service Fault Codes_1_0_0_167.xlsx\")"
   ]
  },
  {
   "cell_type": "code",
   "execution_count": 13,
   "id": "e367ff3f-262b-403c-a698-17c2151c2372",
   "metadata": {},
   "outputs": [
    {
     "name": "stdout",
     "output_type": "stream",
     "text": [
      "<class 'pandas.core.frame.DataFrame'>\n",
      "RangeIndex: 1187335 entries, 0 to 1187334\n",
      "Data columns (total 20 columns):\n",
      " #   Column                 Non-Null Count    Dtype  \n",
      "---  ------                 --------------    -----  \n",
      " 0   RecordID               1187335 non-null  int64  \n",
      " 1   ESS_Id                 1187335 non-null  int64  \n",
      " 2   EventTimeStamp         1187335 non-null  object \n",
      " 3   eventDescription       1126490 non-null  object \n",
      " 4   actionDescription      0 non-null        float64\n",
      " 5   ecuSoftwareVersion     891285 non-null   object \n",
      " 6   ecuSerialNumber        844318 non-null   object \n",
      " 7   ecuModel               1122577 non-null  object \n",
      " 8   ecuMake                1122577 non-null  object \n",
      " 9   ecuSource              1187335 non-null  int64  \n",
      " 10  spn                    1187335 non-null  int64  \n",
      " 11  fmi                    1187335 non-null  int64  \n",
      " 12  active                 1187335 non-null  bool   \n",
      " 13  activeTransitionCount  1187335 non-null  int64  \n",
      " 14  faultValue             0 non-null        float64\n",
      " 15  EquipmentID            1187335 non-null  object \n",
      " 16  MCTNumber              1187335 non-null  int64  \n",
      " 17  Latitude               1187335 non-null  float64\n",
      " 18  Longitude              1187335 non-null  float64\n",
      " 19  LocationTimeStamp      1187335 non-null  object \n",
      "dtypes: bool(1), float64(4), int64(7), object(8)\n",
      "memory usage: 173.2+ MB\n"
     ]
    }
   ],
   "source": [
    "faults.info()"
   ]
  },
  {
   "cell_type": "code",
   "execution_count": 25,
   "id": "52dfe45d-b984-474e-b626-ed5e1fd97883",
   "metadata": {},
   "outputs": [
    {
     "data": {
      "text/html": [
       "<div>\n",
       "<style scoped>\n",
       "    .dataframe tbody tr th:only-of-type {\n",
       "        vertical-align: middle;\n",
       "    }\n",
       "\n",
       "    .dataframe tbody tr th {\n",
       "        vertical-align: top;\n",
       "    }\n",
       "\n",
       "    .dataframe thead th {\n",
       "        text-align: right;\n",
       "    }\n",
       "</style>\n",
       "<table border=\"1\" class=\"dataframe\">\n",
       "  <thead>\n",
       "    <tr style=\"text-align: right;\">\n",
       "      <th></th>\n",
       "      <th>RecordID</th>\n",
       "      <th>ESS_Id</th>\n",
       "      <th>EventTimeStamp</th>\n",
       "      <th>eventDescription</th>\n",
       "      <th>actionDescription</th>\n",
       "      <th>ecuSoftwareVersion</th>\n",
       "      <th>ecuSerialNumber</th>\n",
       "      <th>ecuModel</th>\n",
       "      <th>ecuMake</th>\n",
       "      <th>ecuSource</th>\n",
       "      <th>spn</th>\n",
       "      <th>fmi</th>\n",
       "      <th>active</th>\n",
       "      <th>activeTransitionCount</th>\n",
       "      <th>faultValue</th>\n",
       "      <th>EquipmentID</th>\n",
       "      <th>MCTNumber</th>\n",
       "      <th>Latitude</th>\n",
       "      <th>Longitude</th>\n",
       "      <th>LocationTimeStamp</th>\n",
       "    </tr>\n",
       "  </thead>\n",
       "  <tbody>\n",
       "  </tbody>\n",
       "</table>\n",
       "</div>"
      ],
      "text/plain": [
       "Empty DataFrame\n",
       "Columns: [RecordID, ESS_Id, EventTimeStamp, eventDescription, actionDescription, ecuSoftwareVersion, ecuSerialNumber, ecuModel, ecuMake, ecuSource, spn, fmi, active, activeTransitionCount, faultValue, EquipmentID, MCTNumber, Latitude, Longitude, LocationTimeStamp]\n",
       "Index: []"
      ]
     },
     "execution_count": 25,
     "metadata": {},
     "output_type": "execute_result"
    }
   ],
   "source": [
    "faults[faults['faultValue'].isna() == False]"
   ]
  }
 ],
 "metadata": {
  "kernelspec": {
   "display_name": "Python 3 (ipykernel)",
   "language": "python",
   "name": "python3"
  },
  "language_info": {
   "codemirror_mode": {
    "name": "ipython",
    "version": 3
   },
   "file_extension": ".py",
   "mimetype": "text/x-python",
   "name": "python",
   "nbconvert_exporter": "python",
   "pygments_lexer": "ipython3",
   "version": "3.12.4"
  }
 },
 "nbformat": 4,
 "nbformat_minor": 5
}
