{
 "cells": [
  {
   "cell_type": "markdown",
   "id": "40529150-cd0f-4230-98f9-9e091d484e79",
   "metadata": {},
   "source": [
    "## Modeling ##"
   ]
  },
  {
   "cell_type": "code",
   "execution_count": 1,
   "id": "5c124217-9d3e-4972-9943-38e258e1e439",
   "metadata": {},
   "outputs": [],
   "source": [
    "\n",
    "from sklearn.ensemble import GradientBoostingClassifier\n",
    "import seaborn as sns\n",
    "import shap\n",
    "import pickle\n",
    "from imblearn.over_sampling import SMOTE\n",
    "from sklearn.decomposition import PCA\n",
    "from sklearn.svm import SVC\n",
    "import pandas as pd\n",
    "import numpy as np\n",
    "import datetime as dt\n",
    "import matplotlib.pyplot as plt\n",
    "import scipy.stats as stats\n",
    "from sklearn.preprocessing import StandardScaler, OneHotEncoder, LabelEncoder\n",
    "from sklearn.pipeline import Pipeline, make_pipeline\n",
    "from sklearn.impute import KNNImputer\n",
    "from sklearn.compose import ColumnTransformer\n",
    "from sklearn.ensemble import RandomForestClassifier\n",
    "from sklearn.model_selection import train_test_split\n",
    "from sklearn.metrics import (\n",
    "    classification_report, \n",
    "    confusion_matrix,\n",
    "    r2_score,\n",
    "    mean_squared_error, \n",
    "    root_mean_squared_error,\n",
    "    mean_absolute_error, \n",
    "    mean_absolute_percentage_error\n",
    ")\n",
    "from sklearn.inspection import PartialDependenceDisplay, permutation_importance, partial_dependence\n",
    "from sklearn.neighbors import KNeighborsClassifier, NearestNeighbors\n",
    "from scipy.spatial import KDTree\n",
    "\n",
    "#from xgboost import XGBClassifier\n",
    "\n",
    "from faiss_imputer import FaissImputer\n",
    "\n",
    "from sklearn.impute import SimpleImputer\n",
    "\n",
    "from sklearn.neural_network import MLPClassifier"
   ]
  },
  {
   "cell_type": "markdown",
   "id": "8a32a870-37e7-4bb2-8522-7990fcf615e5",
   "metadata": {},
   "source": [
    "This notebook is dedicated to the feature selection and statistical modeling of our trucking data."
   ]
  },
  {
   "cell_type": "code",
   "execution_count": 4,
   "id": "55f0dd30-4d54-4dfa-b6e9-d3ba19fd3145",
   "metadata": {},
   "outputs": [
    {
     "data": {
      "text/plain": [
       "Index(['Unnamed: 0', 'RecordID', 'ESS_Id', 'EventTimeStamp',\n",
       "       'eventDescription', 'ecuModel', 'ecuMake', 'ecuSource', 'spn', 'fmi',\n",
       "       'active', 'activeTransitionCount', 'EquipmentID', 'Latitude',\n",
       "       'Longitude', 'LocationTimeStamp', 'FaultId', 'AcceleratorPedal',\n",
       "       'BarometricPressure', 'CruiseControlActive', 'CruiseControlSetSpeed',\n",
       "       'DistanceLtd', 'EngineCoolantTemperature', 'EngineLoad',\n",
       "       'EngineOilPressure', 'EngineOilTemperature', 'EngineRpm',\n",
       "       'EngineTimeLtd', 'FuelLevel', 'FuelLtd', 'FuelRate', 'FuelTemperature',\n",
       "       'IgnStatus', 'IntakeManifoldTemperature', 'LampStatus', 'ParkingBrake',\n",
       "       'Speed', 'SwitchedBatteryVoltage', 'Throttle', 'TurboBoostPressure',\n",
       "       'next_derate_timestamp', 'time_until_detate', 'target'],\n",
       "      dtype='object')"
      ]
     },
     "execution_count": 4,
     "metadata": {},
     "output_type": "execute_result"
    }
   ],
   "source": [
    "df = pd.read_csv('../data/data_clean_bb.csv', low_memory=False,)\n",
    "df\n",
    "df.columns"
   ]
  },
  {
   "cell_type": "code",
   "execution_count": 6,
   "id": "5c635d92-2ad0-4ef6-a55e-9bdaac77f6bb",
   "metadata": {},
   "outputs": [],
   "source": [
    "df['Throttle'] = df['Throttle'].str.replace(',', '.').astype(np.float64)"
   ]
  },
  {
   "cell_type": "code",
   "execution_count": 8,
   "id": "b39b2302-1b8f-4e36-b30d-991eb27e62a1",
   "metadata": {},
   "outputs": [],
   "source": [
    "df['spn'] = df['spn'].astype(object)\n",
    "df['fmi'] = df['fmi'].astype(object)\n",
    "df = df.drop('Unnamed: 0', axis=1)"
   ]
  },
  {
   "cell_type": "code",
   "execution_count": 10,
   "id": "045f111e-b27d-4ee9-a86f-9bdcd95b133b",
   "metadata": {},
   "outputs": [
    {
     "name": "stdout",
     "output_type": "stream",
     "text": [
      "<class 'pandas.core.frame.DataFrame'>\n",
      "RangeIndex: 1057049 entries, 0 to 1057048\n",
      "Data columns (total 42 columns):\n",
      " #   Column                     Non-Null Count    Dtype  \n",
      "---  ------                     --------------    -----  \n",
      " 0   RecordID                   1057049 non-null  int64  \n",
      " 1   ESS_Id                     1057049 non-null  int64  \n",
      " 2   EventTimeStamp             1057049 non-null  object \n",
      " 3   eventDescription           1006152 non-null  object \n",
      " 4   ecuModel                   1001026 non-null  object \n",
      " 5   ecuMake                    1001026 non-null  object \n",
      " 6   ecuSource                  1057049 non-null  int64  \n",
      " 7   spn                        1057049 non-null  object \n",
      " 8   fmi                        1057049 non-null  object \n",
      " 9   active                     1057049 non-null  bool   \n",
      " 10  activeTransitionCount      1057049 non-null  int64  \n",
      " 11  EquipmentID                1057049 non-null  object \n",
      " 12  Latitude                   1057049 non-null  float64\n",
      " 13  Longitude                  1057049 non-null  float64\n",
      " 14  LocationTimeStamp          1057049 non-null  object \n",
      " 15  FaultId                    1057049 non-null  int64  \n",
      " 16  AcceleratorPedal           480660 non-null   float64\n",
      " 17  BarometricPressure         530902 non-null   float64\n",
      " 18  CruiseControlActive        520765 non-null   object \n",
      " 19  CruiseControlSetSpeed      521823 non-null   float64\n",
      " 20  DistanceLtd                530760 non-null   float64\n",
      " 21  EngineCoolantTemperature   530890 non-null   float64\n",
      " 22  EngineLoad                 530421 non-null   float64\n",
      " 23  EngineOilPressure          531008 non-null   float64\n",
      " 24  EngineOilTemperature       529370 non-null   float64\n",
      " 25  EngineRpm                  531324 non-null   float64\n",
      " 26  EngineTimeLtd              527047 non-null   float64\n",
      " 27  FuelLevel                  455471 non-null   float64\n",
      " 28  FuelLtd                    530354 non-null   float64\n",
      " 29  FuelRate                   530151 non-null   float64\n",
      " 30  FuelTemperature            271089 non-null   float64\n",
      " 31  IgnStatus                  548601 non-null   object \n",
      " 32  IntakeManifoldTemperature  530995 non-null   float64\n",
      " 33  LampStatus                 1057049 non-null  int64  \n",
      " 34  ParkingBrake               353977 non-null   object \n",
      " 35  Speed                      529278 non-null   float64\n",
      " 36  SwitchedBatteryVoltage     106228 non-null   float64\n",
      " 37  Throttle                   375438 non-null   float64\n",
      " 38  TurboBoostPressure         528806 non-null   float64\n",
      " 39  next_derate_timestamp      224882 non-null   object \n",
      " 40  time_until_detate          224882 non-null   object \n",
      " 41  target                     1057049 non-null  bool   \n",
      "dtypes: bool(2), float64(21), int64(6), object(13)\n",
      "memory usage: 324.6+ MB\n"
     ]
    }
   ],
   "source": [
    "df.info()"
   ]
  },
  {
   "cell_type": "code",
   "execution_count": 12,
   "id": "6bd6ae1c-b1ce-4135-95b3-b1ca6096a2ab",
   "metadata": {},
   "outputs": [],
   "source": [
    "df = df.sample(n=100000)"
   ]
  },
  {
   "cell_type": "code",
   "execution_count": 14,
   "id": "e2fd2993-0e06-4cde-896f-455549cc72e9",
   "metadata": {},
   "outputs": [
    {
     "data": {
      "text/html": [
       "<div>\n",
       "<style scoped>\n",
       "    .dataframe tbody tr th:only-of-type {\n",
       "        vertical-align: middle;\n",
       "    }\n",
       "\n",
       "    .dataframe tbody tr th {\n",
       "        vertical-align: top;\n",
       "    }\n",
       "\n",
       "    .dataframe thead th {\n",
       "        text-align: right;\n",
       "    }\n",
       "</style>\n",
       "<table border=\"1\" class=\"dataframe\">\n",
       "  <thead>\n",
       "    <tr style=\"text-align: right;\">\n",
       "      <th></th>\n",
       "      <th>Column_Name</th>\n",
       "      <th>NAN_percentage</th>\n",
       "    </tr>\n",
       "  </thead>\n",
       "  <tbody>\n",
       "    <tr>\n",
       "      <th>RecordID</th>\n",
       "      <td>RecordID</td>\n",
       "      <td>0.00000</td>\n",
       "    </tr>\n",
       "    <tr>\n",
       "      <th>ESS_Id</th>\n",
       "      <td>ESS_Id</td>\n",
       "      <td>0.00000</td>\n",
       "    </tr>\n",
       "    <tr>\n",
       "      <th>EventTimeStamp</th>\n",
       "      <td>EventTimeStamp</td>\n",
       "      <td>0.00000</td>\n",
       "    </tr>\n",
       "    <tr>\n",
       "      <th>eventDescription</th>\n",
       "      <td>eventDescription</td>\n",
       "      <td>0.04789</td>\n",
       "    </tr>\n",
       "    <tr>\n",
       "      <th>ecuModel</th>\n",
       "      <td>ecuModel</td>\n",
       "      <td>0.05337</td>\n",
       "    </tr>\n",
       "    <tr>\n",
       "      <th>ecuMake</th>\n",
       "      <td>ecuMake</td>\n",
       "      <td>0.05337</td>\n",
       "    </tr>\n",
       "    <tr>\n",
       "      <th>ecuSource</th>\n",
       "      <td>ecuSource</td>\n",
       "      <td>0.00000</td>\n",
       "    </tr>\n",
       "    <tr>\n",
       "      <th>spn</th>\n",
       "      <td>spn</td>\n",
       "      <td>0.00000</td>\n",
       "    </tr>\n",
       "    <tr>\n",
       "      <th>fmi</th>\n",
       "      <td>fmi</td>\n",
       "      <td>0.00000</td>\n",
       "    </tr>\n",
       "    <tr>\n",
       "      <th>active</th>\n",
       "      <td>active</td>\n",
       "      <td>0.00000</td>\n",
       "    </tr>\n",
       "    <tr>\n",
       "      <th>activeTransitionCount</th>\n",
       "      <td>activeTransitionCount</td>\n",
       "      <td>0.00000</td>\n",
       "    </tr>\n",
       "    <tr>\n",
       "      <th>EquipmentID</th>\n",
       "      <td>EquipmentID</td>\n",
       "      <td>0.00000</td>\n",
       "    </tr>\n",
       "    <tr>\n",
       "      <th>Latitude</th>\n",
       "      <td>Latitude</td>\n",
       "      <td>0.00000</td>\n",
       "    </tr>\n",
       "    <tr>\n",
       "      <th>Longitude</th>\n",
       "      <td>Longitude</td>\n",
       "      <td>0.00000</td>\n",
       "    </tr>\n",
       "    <tr>\n",
       "      <th>LocationTimeStamp</th>\n",
       "      <td>LocationTimeStamp</td>\n",
       "      <td>0.00000</td>\n",
       "    </tr>\n",
       "    <tr>\n",
       "      <th>FaultId</th>\n",
       "      <td>FaultId</td>\n",
       "      <td>0.00000</td>\n",
       "    </tr>\n",
       "    <tr>\n",
       "      <th>AcceleratorPedal</th>\n",
       "      <td>AcceleratorPedal</td>\n",
       "      <td>0.54762</td>\n",
       "    </tr>\n",
       "    <tr>\n",
       "      <th>BarometricPressure</th>\n",
       "      <td>BarometricPressure</td>\n",
       "      <td>0.49999</td>\n",
       "    </tr>\n",
       "    <tr>\n",
       "      <th>CruiseControlActive</th>\n",
       "      <td>CruiseControlActive</td>\n",
       "      <td>0.50923</td>\n",
       "    </tr>\n",
       "    <tr>\n",
       "      <th>CruiseControlSetSpeed</th>\n",
       "      <td>CruiseControlSetSpeed</td>\n",
       "      <td>0.50821</td>\n",
       "    </tr>\n",
       "    <tr>\n",
       "      <th>DistanceLtd</th>\n",
       "      <td>DistanceLtd</td>\n",
       "      <td>0.50017</td>\n",
       "    </tr>\n",
       "    <tr>\n",
       "      <th>EngineCoolantTemperature</th>\n",
       "      <td>EngineCoolantTemperature</td>\n",
       "      <td>0.49998</td>\n",
       "    </tr>\n",
       "    <tr>\n",
       "      <th>EngineLoad</th>\n",
       "      <td>EngineLoad</td>\n",
       "      <td>0.50051</td>\n",
       "    </tr>\n",
       "    <tr>\n",
       "      <th>EngineOilPressure</th>\n",
       "      <td>EngineOilPressure</td>\n",
       "      <td>0.49989</td>\n",
       "    </tr>\n",
       "    <tr>\n",
       "      <th>EngineOilTemperature</th>\n",
       "      <td>EngineOilTemperature</td>\n",
       "      <td>0.50166</td>\n",
       "    </tr>\n",
       "    <tr>\n",
       "      <th>EngineRpm</th>\n",
       "      <td>EngineRpm</td>\n",
       "      <td>0.49959</td>\n",
       "    </tr>\n",
       "    <tr>\n",
       "      <th>EngineTimeLtd</th>\n",
       "      <td>EngineTimeLtd</td>\n",
       "      <td>0.50344</td>\n",
       "    </tr>\n",
       "    <tr>\n",
       "      <th>FuelLevel</th>\n",
       "      <td>FuelLevel</td>\n",
       "      <td>0.57226</td>\n",
       "    </tr>\n",
       "    <tr>\n",
       "      <th>FuelLtd</th>\n",
       "      <td>FuelLtd</td>\n",
       "      <td>0.50061</td>\n",
       "    </tr>\n",
       "    <tr>\n",
       "      <th>FuelRate</th>\n",
       "      <td>FuelRate</td>\n",
       "      <td>0.50073</td>\n",
       "    </tr>\n",
       "    <tr>\n",
       "      <th>FuelTemperature</th>\n",
       "      <td>FuelTemperature</td>\n",
       "      <td>0.74552</td>\n",
       "    </tr>\n",
       "    <tr>\n",
       "      <th>IgnStatus</th>\n",
       "      <td>IgnStatus</td>\n",
       "      <td>0.48312</td>\n",
       "    </tr>\n",
       "    <tr>\n",
       "      <th>IntakeManifoldTemperature</th>\n",
       "      <td>IntakeManifoldTemperature</td>\n",
       "      <td>0.49982</td>\n",
       "    </tr>\n",
       "    <tr>\n",
       "      <th>LampStatus</th>\n",
       "      <td>LampStatus</td>\n",
       "      <td>0.00000</td>\n",
       "    </tr>\n",
       "    <tr>\n",
       "      <th>ParkingBrake</th>\n",
       "      <td>ParkingBrake</td>\n",
       "      <td>0.66662</td>\n",
       "    </tr>\n",
       "    <tr>\n",
       "      <th>Speed</th>\n",
       "      <td>Speed</td>\n",
       "      <td>0.50155</td>\n",
       "    </tr>\n",
       "    <tr>\n",
       "      <th>SwitchedBatteryVoltage</th>\n",
       "      <td>SwitchedBatteryVoltage</td>\n",
       "      <td>0.89755</td>\n",
       "    </tr>\n",
       "    <tr>\n",
       "      <th>Throttle</th>\n",
       "      <td>Throttle</td>\n",
       "      <td>0.64683</td>\n",
       "    </tr>\n",
       "    <tr>\n",
       "      <th>TurboBoostPressure</th>\n",
       "      <td>TurboBoostPressure</td>\n",
       "      <td>0.50209</td>\n",
       "    </tr>\n",
       "    <tr>\n",
       "      <th>next_derate_timestamp</th>\n",
       "      <td>next_derate_timestamp</td>\n",
       "      <td>0.78765</td>\n",
       "    </tr>\n",
       "    <tr>\n",
       "      <th>time_until_detate</th>\n",
       "      <td>time_until_detate</td>\n",
       "      <td>0.78765</td>\n",
       "    </tr>\n",
       "    <tr>\n",
       "      <th>target</th>\n",
       "      <td>target</td>\n",
       "      <td>0.00000</td>\n",
       "    </tr>\n",
       "  </tbody>\n",
       "</table>\n",
       "</div>"
      ],
      "text/plain": [
       "                                         Column_Name  NAN_percentage\n",
       "RecordID                                    RecordID         0.00000\n",
       "ESS_Id                                        ESS_Id         0.00000\n",
       "EventTimeStamp                        EventTimeStamp         0.00000\n",
       "eventDescription                    eventDescription         0.04789\n",
       "ecuModel                                    ecuModel         0.05337\n",
       "ecuMake                                      ecuMake         0.05337\n",
       "ecuSource                                  ecuSource         0.00000\n",
       "spn                                              spn         0.00000\n",
       "fmi                                              fmi         0.00000\n",
       "active                                        active         0.00000\n",
       "activeTransitionCount          activeTransitionCount         0.00000\n",
       "EquipmentID                              EquipmentID         0.00000\n",
       "Latitude                                    Latitude         0.00000\n",
       "Longitude                                  Longitude         0.00000\n",
       "LocationTimeStamp                  LocationTimeStamp         0.00000\n",
       "FaultId                                      FaultId         0.00000\n",
       "AcceleratorPedal                    AcceleratorPedal         0.54762\n",
       "BarometricPressure                BarometricPressure         0.49999\n",
       "CruiseControlActive              CruiseControlActive         0.50923\n",
       "CruiseControlSetSpeed          CruiseControlSetSpeed         0.50821\n",
       "DistanceLtd                              DistanceLtd         0.50017\n",
       "EngineCoolantTemperature    EngineCoolantTemperature         0.49998\n",
       "EngineLoad                                EngineLoad         0.50051\n",
       "EngineOilPressure                  EngineOilPressure         0.49989\n",
       "EngineOilTemperature            EngineOilTemperature         0.50166\n",
       "EngineRpm                                  EngineRpm         0.49959\n",
       "EngineTimeLtd                          EngineTimeLtd         0.50344\n",
       "FuelLevel                                  FuelLevel         0.57226\n",
       "FuelLtd                                      FuelLtd         0.50061\n",
       "FuelRate                                    FuelRate         0.50073\n",
       "FuelTemperature                      FuelTemperature         0.74552\n",
       "IgnStatus                                  IgnStatus         0.48312\n",
       "IntakeManifoldTemperature  IntakeManifoldTemperature         0.49982\n",
       "LampStatus                                LampStatus         0.00000\n",
       "ParkingBrake                            ParkingBrake         0.66662\n",
       "Speed                                          Speed         0.50155\n",
       "SwitchedBatteryVoltage        SwitchedBatteryVoltage         0.89755\n",
       "Throttle                                    Throttle         0.64683\n",
       "TurboBoostPressure                TurboBoostPressure         0.50209\n",
       "next_derate_timestamp          next_derate_timestamp         0.78765\n",
       "time_until_detate                  time_until_detate         0.78765\n",
       "target                                        target         0.00000"
      ]
     },
     "execution_count": 14,
     "metadata": {},
     "output_type": "execute_result"
    }
   ],
   "source": [
    "column_name = df.columns\n",
    "NAN_percentage = df.apply(lambda col: col.isna().sum()/col.shape[0], axis=0)\n",
    "pd.DataFrame({'Column_Name': column_name, 'NAN_percentage': NAN_percentage})"
   ]
  },
  {
   "cell_type": "code",
   "execution_count": 16,
   "id": "7356f048-9fdc-42d5-aaa9-4d81706ea5d4",
   "metadata": {},
   "outputs": [],
   "source": [
    "test_date = '2019-01-01'\n",
    "df_test = df.sort_values('EventTimeStamp').loc[df['EventTimeStamp'] > test_date]\n",
    "df_train = df.sort_values('EventTimeStamp').loc[df['EventTimeStamp'] < test_date]\n"
   ]
  },
  {
   "cell_type": "code",
   "execution_count": 18,
   "id": "19860347-12f5-4369-882b-76f8bcc5935b",
   "metadata": {},
   "outputs": [
    {
     "name": "stdout",
     "output_type": "stream",
     "text": [
      "(10493, 42)\n",
      "(89507, 42)\n"
     ]
    }
   ],
   "source": [
    "print(df_test.shape)\n",
    "print(df_train.shape)"
   ]
  },
  {
   "cell_type": "markdown",
   "id": "0c3514de-2831-4ca7-ae0d-6971d37e59a1",
   "metadata": {},
   "source": [
    "Scaling and encoding features for modeling"
   ]
  },
  {
   "cell_type": "code",
   "execution_count": 21,
   "id": "10d15d1d-9522-45f3-838f-f88330441358",
   "metadata": {},
   "outputs": [],
   "source": [
    "X_train = df_train.drop(columns = [\n",
    "            'FuelTemperature',\n",
    "            'ParkingBrake',\n",
    "            'target',\n",
    "            'LocationTimeStamp',\n",
    "            'EventTimeStamp',\n",
    "            'eventDescription',\n",
    "            'Longitude',\n",
    "            'Latitude',\n",
    "            'ESS_Id',\n",
    "            'RecordID',\n",
    "            'ecuModel',\n",
    "            'ecuMake',\n",
    "            'SwitchedBatteryVoltage',\n",
    "            'EquipmentID',\n",
    "            'LampStatus',\n",
    "            'CruiseControlSetSpeed',\n",
    "            'EngineLoad',\n",
    "            'TurboBoostPressure',\n",
    "            'DistanceLtd',\n",
    "            'FaultId', \n",
    "            'next_derate_timestamp', \n",
    "            'time_until_detate'\n",
    "            ], axis=1)\n",
    "\n",
    "y_train = df_train['target']\n",
    "\n",
    "X_test = df_test.drop(columns = [\n",
    "            'FuelTemperature',\n",
    "            'ParkingBrake',\n",
    "            'target',\n",
    "            'LocationTimeStamp',\n",
    "            'EventTimeStamp',\n",
    "            'eventDescription',\n",
    "            'Longitude',\n",
    "            'Latitude',\n",
    "            'ESS_Id',\n",
    "            'RecordID',\n",
    "            'ecuModel',\n",
    "            'ecuMake',\n",
    "            'SwitchedBatteryVoltage',\n",
    "            'EquipmentID',\n",
    "            'LampStatus',\n",
    "            'CruiseControlSetSpeed',\n",
    "            'EngineLoad',\n",
    "            'TurboBoostPressure',\n",
    "            'DistanceLtd',\n",
    "            'FaultId', \n",
    "            'next_derate_timestamp', \n",
    "            'time_until_detate'\n",
    "            ], axis=1)\n",
    "\n",
    "y_test = df_test['target']"
   ]
  },
  {
   "cell_type": "code",
   "execution_count": 23,
   "id": "9d74d41e-84d7-4347-806b-8db7148d05d4",
   "metadata": {},
   "outputs": [],
   "source": [
    "ohe_features = ['spn',\n",
    "                'fmi',\n",
    "                'ecuSource'\n",
    "                ]\n",
    "bool_features = ['CruiseControlActive',\n",
    "                 'IgnStatus',\n",
    "                 'active'\n",
    "                ]\n",
    "scale_features = ['AcceleratorPedal',\n",
    "                  'BarometricPressure',\n",
    "                  'EngineCoolantTemperature',\n",
    "                  'EngineOilPressure',\n",
    "                  'EngineOilTemperature',\n",
    "                  'EngineRpm',\n",
    "                  'FuelLevel',\n",
    "                  'FuelLtd',\n",
    "                  'IntakeManifoldTemperature',\n",
    "                  'Speed',\n",
    "                  'FuelRate',\n",
    "                  'EngineTimeLtd',\n",
    "                  'Throttle',\n",
    "                  'activeTransitionCount'\n",
    "                 ]\n"
   ]
  },
  {
   "cell_type": "code",
   "execution_count": 25,
   "id": "88ad68c7-68e8-417a-8c5f-250c2357bed9",
   "metadata": {},
   "outputs": [
    {
     "data": {
      "text/plain": [
       "Index([], dtype='object')"
      ]
     },
     "execution_count": 25,
     "metadata": {},
     "output_type": "execute_result"
    }
   ],
   "source": [
    "everything = list(set(ohe_features + bool_features + scale_features))\n",
    "the_rest = X_train.columns.difference(everything)\n",
    "the_rest"
   ]
  },
  {
   "cell_type": "code",
   "execution_count": 27,
   "id": "d2e4e733-d205-48f2-9f01-ae01f9ab5353",
   "metadata": {},
   "outputs": [
    {
     "name": "stdout",
     "output_type": "stream",
     "text": [
      "CPU times: total: 3.14 s\n",
      "Wall time: 3.22 s\n"
     ]
    }
   ],
   "source": [
    "%%time\n",
    "\n",
    "from sklearn.linear_model import LogisticRegression\n",
    "\n",
    "numerical_pipeline = Pipeline([\n",
    "    ('scaler', StandardScaler()),\n",
    "    #('faiss', FaissImputer(n_neighbors=3, strategy='mean')),\n",
    "    ('simple_imputer', SimpleImputer(strategy='mean'))\n",
    "])\n",
    "categorical_pipeline = Pipeline([\n",
    "    ('ohe', OneHotEncoder(handle_unknown='ignore', sparse_output=False, categories='auto')), \n",
    "    ('simple_imputer', SimpleImputer(strategy = 'most_frequent'))\n",
    "])\n",
    "\n",
    "bool_pipeline = Pipeline([\n",
    "    ('simple_imputer', SimpleImputer(strategy = 'most_frequent'))])\n",
    "\n",
    "preprocessor = ColumnTransformer(\n",
    "    transformers=[\n",
    "        ('num', numerical_pipeline, scale_features),\n",
    "        ('cat', categorical_pipeline, ohe_features),\n",
    "        ('bool', bool_pipeline, bool_features)\n",
    "    ],\n",
    "    remainder='drop'\n",
    ")\n",
    "\n",
    "pipe = Pipeline(steps=[('transformer', preprocessor)])\n",
    "\n",
    "pipe.fit(X_train)\n",
    "\n",
    "X_train_transformed = pipe.transform(X_train)\n",
    "\n",
    "X_test_transformed = pipe.transform(X_test)"
   ]
  },
  {
   "cell_type": "code",
   "execution_count": 31,
   "id": "81472643-495e-45c2-a38d-b2daf5dcd3b5",
   "metadata": {},
   "outputs": [
    {
     "name": "stdout",
     "output_type": "stream",
     "text": [
      "[[10466     0]\n",
      " [   27     0]]\n",
      "              precision    recall  f1-score   support\n",
      "\n",
      "       False       1.00      1.00      1.00     10466\n",
      "        True       0.00      0.00      0.00        27\n",
      "\n",
      "    accuracy                           1.00     10493\n",
      "   macro avg       0.50      0.50      0.50     10493\n",
      "weighted avg       0.99      1.00      1.00     10493\n",
      "\n"
     ]
    },
    {
     "name": "stderr",
     "output_type": "stream",
     "text": [
      "C:\\Users\\solid\\anaconda3\\Lib\\site-packages\\sklearn\\metrics\\_classification.py:1509: UndefinedMetricWarning: Precision is ill-defined and being set to 0.0 in labels with no predicted samples. Use `zero_division` parameter to control this behavior.\n",
      "  _warn_prf(average, modifier, f\"{metric.capitalize()} is\", len(result))\n",
      "C:\\Users\\solid\\anaconda3\\Lib\\site-packages\\sklearn\\metrics\\_classification.py:1509: UndefinedMetricWarning: Precision is ill-defined and being set to 0.0 in labels with no predicted samples. Use `zero_division` parameter to control this behavior.\n",
      "  _warn_prf(average, modifier, f\"{metric.capitalize()} is\", len(result))\n",
      "C:\\Users\\solid\\anaconda3\\Lib\\site-packages\\sklearn\\metrics\\_classification.py:1509: UndefinedMetricWarning: Precision is ill-defined and being set to 0.0 in labels with no predicted samples. Use `zero_division` parameter to control this behavior.\n",
      "  _warn_prf(average, modifier, f\"{metric.capitalize()} is\", len(result))\n"
     ]
    }
   ],
   "source": [
    "from sklearn.linear_model import LogisticRegression\n",
    "logreg = LogisticRegression()\n",
    "logreg.fit(X_train_transformed, y_train)\n",
    "y_pred = logreg.predict(X_test_transformed)\n",
    "#print(f'Accuracy: {accuracy_score(y_test, RC_y_pred)}')\n",
    "#print(f'MCC: {matthews_corrcoef(y_test, RC_y_pred)}')\n",
    "print(confusion_matrix(y_test, y_pred))\n",
    "print(classification_report(y_test, y_pred))"
   ]
  },
  {
   "cell_type": "markdown",
   "id": "13a88a9f-cc93-4370-bdc6-b5f45fcc29dc",
   "metadata": {},
   "source": [
    "%%time\n",
    "\n",
    "gbc = GradientBoostingClassifier(n_estimators=100, learning_rate=0.1, max_depth=4)\n",
    "\n",
    "gbc.fit(X_trained_balanced, y_trained_balanced)\n",
    "\n",
    "y_pred = gbc.predict(X_test_transformed)"
   ]
  },
  {
   "cell_type": "code",
   "execution_count": 34,
   "id": "9f3eb556-317a-4faa-b54e-64496362721c",
   "metadata": {},
   "outputs": [],
   "source": [
    "from sklearn.inspection import PartialDependenceDisplay"
   ]
  },
  {
   "cell_type": "code",
   "execution_count": 54,
   "id": "04a0d8cb-70ae-4538-821a-e834728a1d16",
   "metadata": {},
   "outputs": [
    {
     "data": {
      "text/html": [
       "<div>\n",
       "<style scoped>\n",
       "    .dataframe tbody tr th:only-of-type {\n",
       "        vertical-align: middle;\n",
       "    }\n",
       "\n",
       "    .dataframe tbody tr th {\n",
       "        vertical-align: top;\n",
       "    }\n",
       "\n",
       "    .dataframe thead th {\n",
       "        text-align: right;\n",
       "    }\n",
       "</style>\n",
       "<table border=\"1\" class=\"dataframe\">\n",
       "  <thead>\n",
       "    <tr style=\"text-align: right;\">\n",
       "      <th></th>\n",
       "      <th>variable</th>\n",
       "      <th>_coeff</th>\n",
       "    </tr>\n",
       "  </thead>\n",
       "  <tbody>\n",
       "    <tr>\n",
       "      <th>0</th>\n",
       "      <td>num__AcceleratorPedal</td>\n",
       "      <td>-0.107856</td>\n",
       "    </tr>\n",
       "    <tr>\n",
       "      <th>1</th>\n",
       "      <td>num__BarometricPressure</td>\n",
       "      <td>0.833199</td>\n",
       "    </tr>\n",
       "    <tr>\n",
       "      <th>2</th>\n",
       "      <td>num__EngineCoolantTemperature</td>\n",
       "      <td>-0.171116</td>\n",
       "    </tr>\n",
       "    <tr>\n",
       "      <th>3</th>\n",
       "      <td>num__EngineOilPressure</td>\n",
       "      <td>-0.163004</td>\n",
       "    </tr>\n",
       "    <tr>\n",
       "      <th>4</th>\n",
       "      <td>num__EngineOilTemperature</td>\n",
       "      <td>0.020227</td>\n",
       "    </tr>\n",
       "    <tr>\n",
       "      <th>...</th>\n",
       "      <td>...</td>\n",
       "      <td>...</td>\n",
       "    </tr>\n",
       "    <tr>\n",
       "      <th>345</th>\n",
       "      <td>cat__ecuSource_49</td>\n",
       "      <td>-1.562207</td>\n",
       "    </tr>\n",
       "    <tr>\n",
       "      <th>346</th>\n",
       "      <td>cat__ecuSource_61</td>\n",
       "      <td>-0.155911</td>\n",
       "    </tr>\n",
       "    <tr>\n",
       "      <th>347</th>\n",
       "      <td>bool__CruiseControlActive</td>\n",
       "      <td>-0.076651</td>\n",
       "    </tr>\n",
       "    <tr>\n",
       "      <th>348</th>\n",
       "      <td>bool__IgnStatus</td>\n",
       "      <td>-0.964118</td>\n",
       "    </tr>\n",
       "    <tr>\n",
       "      <th>349</th>\n",
       "      <td>bool__active</td>\n",
       "      <td>0.182155</td>\n",
       "    </tr>\n",
       "  </tbody>\n",
       "</table>\n",
       "<p>350 rows × 2 columns</p>\n",
       "</div>"
      ],
      "text/plain": [
       "                          variable    _coeff\n",
       "0            num__AcceleratorPedal -0.107856\n",
       "1          num__BarometricPressure  0.833199\n",
       "2    num__EngineCoolantTemperature -0.171116\n",
       "3           num__EngineOilPressure -0.163004\n",
       "4        num__EngineOilTemperature  0.020227\n",
       "..                             ...       ...\n",
       "345              cat__ecuSource_49 -1.562207\n",
       "346              cat__ecuSource_61 -0.155911\n",
       "347      bool__CruiseControlActive -0.076651\n",
       "348                bool__IgnStatus -0.964118\n",
       "349                   bool__active  0.182155\n",
       "\n",
       "[350 rows x 2 columns]"
      ]
     },
     "execution_count": 54,
     "metadata": {},
     "output_type": "execute_result"
    }
   ],
   "source": [
    "variable_names = pipe.named_steps['transformer'].get_feature_names_out()\n",
    "pd.DataFrame({\n",
    "    'variable': variable_names,\n",
    "    '_coeff': logreg.coef_.ravel()\n",
    "})"
   ]
  },
  {
   "cell_type": "code",
   "execution_count": null,
   "id": "0929418f-65ff-4694-bd8f-64d0841a5c1b",
   "metadata": {},
   "outputs": [],
   "source": [
    "pd.DataFrame({\n",
    "    'variable': variable_names,\n",
    "    'importance': permutation_importance(LG, X_test_transformed, y_test, random_state = 42)['importances_mean']\n",
    "}).sort_values('importance', ascending = False)"
   ]
  },
  {
   "cell_type": "code",
   "execution_count": 42,
   "id": "337af133-7a85-46a5-bb3d-0977eb90a2ea",
   "metadata": {},
   "outputs": [
    {
     "data": {
      "text/plain": [
       "array([[-1.07855502e-01,  8.33198820e-01, -1.71116491e-01,\n",
       "        -1.63003611e-01,  2.02268659e-02,  4.30283259e-02,\n",
       "         4.17721500e-02,  5.79871852e-01, -1.26644916e-02,\n",
       "         1.04410431e-01, -4.42277711e-02, -3.76665191e-01,\n",
       "        -5.97141065e-01, -7.92730118e-01, -6.48534016e-02,\n",
       "        -6.23808099e-03, -1.12413654e-01, -3.17678992e-01,\n",
       "        -6.56840465e-03,  1.51127876e-01,  3.49879352e-01,\n",
       "        -2.28451919e-01, -2.67076200e-01, -3.89200168e-01,\n",
       "        -1.09128397e-03,  1.73092941e-01, -5.44370750e-02,\n",
       "         7.87917662e-01, -1.64933201e+00, -1.15911811e-01,\n",
       "        -2.57262177e-01, -4.84143360e-01, -1.88174839e-01,\n",
       "        -9.41755327e-02, -3.71599022e-03, -5.81090822e-03,\n",
       "        -1.09867952e-01, -1.24035264e+00, -2.10261199e-02,\n",
       "        -6.37632081e-04, -4.85493324e-03, -4.07888145e-01,\n",
       "         3.78599679e-01, -7.25274940e-03,  2.32407181e-01,\n",
       "        -3.59674982e-01,  3.54452837e-01, -8.53128178e-02,\n",
       "        -2.80762611e-03, -1.71962061e-02, -1.04610604e-02,\n",
       "        -1.52215406e-02,  7.10123889e-01, -5.90482658e-03,\n",
       "        -1.09128397e-03, -9.56415989e-03, -6.98158515e-02,\n",
       "        -9.71048940e-02, -7.37152683e-02, -1.45000919e-02,\n",
       "        -7.55329848e-03, -3.31951979e-01, -4.71480081e-01,\n",
       "        -1.22834968e-03,  3.50472183e-01, -9.48307165e-04,\n",
       "        -5.51423800e-02, -8.76732079e-03, -4.57751398e-01,\n",
       "        -5.75989911e-03, -1.22191485e+00, -3.43910644e-02,\n",
       "         3.40990454e-01, -9.63534785e-02, -5.83678871e-03,\n",
       "        -2.01791939e-02, -2.36219785e-01, -1.44823479e-02,\n",
       "        -4.04985565e-01, -5.22571892e-01, -3.23449207e-02,\n",
       "        -3.38915138e-03, -5.29114057e-01, -8.14699517e-01,\n",
       "        -9.50788644e-02, -1.06635353e-01, -3.20692628e-02,\n",
       "        -6.97290891e-02, -3.75625575e-02, -1.29302355e-01,\n",
       "        -2.87209994e-01, -6.27722148e-02, -5.72916123e-02,\n",
       "        -4.65755444e-03, -2.12839329e-02, -6.15077927e-03,\n",
       "        -6.49426280e-02,  5.98408040e-01,  4.64565534e-01,\n",
       "        -1.94714171e-02, -3.35954279e-01, -1.32601355e-01,\n",
       "        -3.92010178e-02, -8.26520849e-03, -2.80987164e-03,\n",
       "         2.33027878e-01, -2.64190789e-02, -1.01381839e-03,\n",
       "        -2.64925800e-02, -1.58572289e-01, -3.97075909e-01,\n",
       "        -1.40949135e-02, -3.01047142e-02, -5.85320433e-01,\n",
       "        -1.94556276e-02,  1.21151127e+00, -2.40787264e-02,\n",
       "        -5.08183479e-02, -6.39920167e-02, -2.16631038e-01,\n",
       "        -2.12877917e-03, -1.43045914e+00, -5.04995814e-02,\n",
       "        -1.22440293e-02, -7.05585068e-03, -1.66915898e-02,\n",
       "        -1.06913674e-02, -8.67850267e-04, -8.05941791e-03,\n",
       "        -2.02708298e-02, -6.95044973e-02, -1.55314145e-02,\n",
       "        -8.87216616e-02, -4.67038276e-02, -2.13648028e-01,\n",
       "        -2.31933635e-01,  1.68482865e+00, -5.26775689e-03,\n",
       "        -1.39361388e-02, -1.81053145e-02, -8.41955054e-02,\n",
       "        -1.00368904e-01, -1.40865135e-02, -3.88980803e-01,\n",
       "        -7.58730100e-02,  1.11051065e-02, -2.64915882e-02,\n",
       "        -1.35119155e-02, -2.69237171e-02, -7.41060996e-03,\n",
       "        -7.41060996e-03, -2.12428663e-02, -1.43103680e-01,\n",
       "        -2.56910553e-02, -9.57271501e-02, -2.66038708e-02,\n",
       "        -9.68991926e-02, -2.04081746e-03,  6.05242357e-01,\n",
       "        -1.06298431e-01, -2.74680920e-03, -6.61763376e-02,\n",
       "        -2.50265539e-02, -1.87861308e-01,  2.59315682e-01,\n",
       "        -2.09612923e-01, -7.88683967e-02, -1.39078786e-02,\n",
       "        -5.01752788e-03, -1.04318849e-02, -7.50490469e-03,\n",
       "        -7.63170337e-02, -7.11101991e-03, -7.22593431e-02,\n",
       "        -2.07928436e-01, -2.32851258e-03, -1.94778231e-01,\n",
       "        -1.58049098e-03,  1.37375794e+00, -1.94165703e-01,\n",
       "        -1.07647083e-01, -5.49897900e-02,  9.61820531e-01,\n",
       "        -8.81700995e-02,  3.72572621e-01, -8.61928972e-03,\n",
       "        -7.47911064e-03, -6.76484223e-02,  2.75245838e-01,\n",
       "        -5.54248097e-02, -8.75876886e-02, -3.43244548e-03,\n",
       "        -5.22748140e-01, -3.73310432e-04, -8.82203254e-02,\n",
       "         1.25176167e-01,  2.25282021e+00, -2.26229723e-01,\n",
       "         1.50960258e+00, -6.74028215e-01, -2.42063671e-02,\n",
       "        -4.38536265e-02, -1.38353519e-01, -4.18508440e-02,\n",
       "        -1.05468733e-02, -9.48769268e-03, -2.60137848e-03,\n",
       "        -1.79669973e-02, -4.08504207e-01, -4.03175701e-02,\n",
       "         6.65475064e-02, -3.87933941e-02, -3.05049975e-03,\n",
       "        -7.60173153e-04, -8.98684103e-02, -9.48193417e-02,\n",
       "         9.77442493e-01, -1.24278617e-01,  1.53387686e+00,\n",
       "        -1.50947019e-01, -7.74397069e-02, -5.68155020e-03,\n",
       "         1.06643215e+00, -1.22185520e-01,  8.07843616e-01,\n",
       "        -1.70805360e-01,  6.07334168e-01,  3.67537416e-01,\n",
       "        -1.54101609e-02, -6.68573166e-02, -1.33754386e-01,\n",
       "        -3.62388065e-01, -5.16706711e-02,  5.79394543e-01,\n",
       "        -8.97216100e-03, -1.83212992e-02, -1.50132271e-01,\n",
       "        -8.66261449e-04, -4.53951184e-03,  1.75279085e-01,\n",
       "        -1.86746988e-02, -3.77539477e-02, -1.25741162e-02,\n",
       "        -1.75448151e-02, -6.10996370e-03, -4.87513446e-02,\n",
       "        -1.50192205e-02, -2.33705228e-02, -2.95094503e-02,\n",
       "         3.74192047e-01, -2.14576671e-02, -2.86524926e-02,\n",
       "        -3.83277191e-02, -7.00963605e-03, -7.85261554e-04,\n",
       "        -1.83997270e-01, -4.68135517e-02, -1.92329466e-01,\n",
       "        -1.83277235e-03,  1.40877192e+00, -2.59601542e-01,\n",
       "        -3.55001419e-01, -7.76128199e-03, -3.41578050e-02,\n",
       "        -1.36963023e-01, -3.77903637e-02, -2.07870804e-02,\n",
       "        -1.65961560e-03, -3.19126099e-03, -5.24287401e-02,\n",
       "        -2.07506128e-03, -1.84899998e-03, -5.90042281e-03,\n",
       "        -8.52455199e-03, -3.16369240e-01, -4.72468445e-03,\n",
       "        -2.13534539e-02,  1.41731855e-01, -5.11794024e-01,\n",
       "        -5.60899327e-03, -3.12912601e-02, -2.92644181e-02,\n",
       "        -1.13839085e-03,  6.87053176e-01, -4.57666627e-03,\n",
       "        -6.36080998e-03, -4.08644567e-02, -7.81380046e-03,\n",
       "        -1.64807624e-02, -1.29115559e-03, -2.46301209e-02,\n",
       "        -2.44284912e-03, -6.80958888e-03, -1.67595958e-02,\n",
       "        -1.17046132e-03, -3.21012109e-03, -1.35622944e-03,\n",
       "         3.06770589e-01, -2.66382866e-01, -1.57346895e-03,\n",
       "        -1.03889228e-02, -2.89089305e-02, -5.21221820e-04,\n",
       "        -3.34472014e-03, -7.84066195e-03, -5.93956248e-02,\n",
       "        -4.63629897e-02, -2.59804144e-03, -4.41041315e-03,\n",
       "        -2.03527418e-03, -2.92669839e-02, -3.67923397e-01,\n",
       "        -1.45453562e-03, -1.41026190e-02, -5.51260793e-03,\n",
       "        -9.45192242e-02, -9.02032210e-01, -3.73150523e-02,\n",
       "        -3.70470375e-01,  3.19299045e-01, -9.18824777e-02,\n",
       "         1.34753613e+00, -1.14790173e-01, -9.81859604e-01,\n",
       "        -7.62376781e-02,  9.65117280e-01, -8.06990451e-01,\n",
       "         7.20262705e-01, -4.66979172e-01, -3.83365137e-01,\n",
       "         9.84474918e-01, -1.54251617e+00, -9.79376953e-01,\n",
       "        -8.54182591e-01,  3.24225177e-01, -1.59776340e-01,\n",
       "        -1.20223592e+00, -1.33444940e-02, -1.09226888e-03,\n",
       "        -4.41540717e-02, -3.34472014e-03,  1.06369930e+00,\n",
       "        -4.77144637e-01, -5.88303498e-01, -5.23764828e-01,\n",
       "        -1.56220721e+00, -1.55911124e-01, -7.66509460e-02,\n",
       "        -9.64118095e-01,  1.82155294e-01]])"
      ]
     },
     "execution_count": 42,
     "metadata": {},
     "output_type": "execute_result"
    }
   ],
   "source": [
    "logreg.coef_"
   ]
  },
  {
   "cell_type": "code",
   "execution_count": 66,
   "id": "e829db5e-bcb8-4d00-a4d4-5752fcd53902",
   "metadata": {},
   "outputs": [
    {
     "name": "stdout",
     "output_type": "stream",
     "text": [
      "Plotting PDP for feature: cat__spn_3362\n"
     ]
    },
    {
     "name": "stderr",
     "output_type": "stream",
     "text": [
      "C:\\Users\\solid\\anaconda3\\Lib\\site-packages\\sklearn\\base.py:486: UserWarning: X has feature names, but LogisticRegression was fitted without feature names\n",
      "  warnings.warn(\n",
      "C:\\Users\\solid\\anaconda3\\Lib\\site-packages\\sklearn\\base.py:486: UserWarning: X has feature names, but LogisticRegression was fitted without feature names\n",
      "  warnings.warn(\n"
     ]
    },
    {
     "data": {
      "image/png": "[encoded data removed]",
      "text/plain": [
       "<Figure size 640x480 with 2 Axes>"
      ]
     },
     "metadata": {},
     "output_type": "display_data"
    },
    {
     "name": "stdout",
     "output_type": "stream",
     "text": [
      "Plotting PDP for feature: cat__spn_1068\n"
     ]
    },
    {
     "name": "stderr",
     "output_type": "stream",
     "text": [
      "C:\\Users\\solid\\anaconda3\\Lib\\site-packages\\sklearn\\base.py:486: UserWarning: X has feature names, but LogisticRegression was fitted without feature names\n",
      "  warnings.warn(\n",
      "C:\\Users\\solid\\anaconda3\\Lib\\site-packages\\sklearn\\base.py:486: UserWarning: X has feature names, but LogisticRegression was fitted without feature names\n",
      "  warnings.warn(\n"
     ]
    },
    {
     "data": {
      "image/png": "[encoded data removed]",
      "text/plain": [
       "<Figure size 640x480 with 2 Axes>"
      ]
     },
     "metadata": {},
     "output_type": "display_data"
    },
    {
     "name": "stdout",
     "output_type": "stream",
     "text": [
      "Plotting PDP for feature: cat__spn_97\n"
     ]
    },
    {
     "name": "stderr",
     "output_type": "stream",
     "text": [
      "C:\\Users\\solid\\anaconda3\\Lib\\site-packages\\sklearn\\base.py:486: UserWarning: X has feature names, but LogisticRegression was fitted without feature names\n",
      "  warnings.warn(\n",
      "C:\\Users\\solid\\anaconda3\\Lib\\site-packages\\sklearn\\base.py:486: UserWarning: X has feature names, but LogisticRegression was fitted without feature names\n",
      "  warnings.warn(\n"
     ]
    },
    {
     "data": {
      "image/png": "[encoded data removed]",
      "text/plain": [
       "<Figure size 640x480 with 2 Axes>"
      ]
     },
     "metadata": {},
     "output_type": "display_data"
    }
   ],
   "source": [
    "X_train_transformed = pd.DataFrame(\n",
    "    X_train_transformed,\n",
    "    columns=pipe.named_steps['transformer'].get_feature_names_out()\n",
    ")\n",
    "\n",
    "importance = np.abs(logreg.coef_[0])\n",
    "\n",
    "top_indices = np.argsort(importance)[-3:][::-1]\n",
    "\n",
    "top_features = variable_names[top_indices]\n",
    "\n",
    "for feature in top_features:\n",
    "    print(f\"Plotting PDP for feature: {feature}\")\n",
    "    PartialDependenceDisplay.from_estimator(logreg, X_train_transformed, [feature])\n",
    "    plt.show()"
   ]
  },
  {
   "cell_type": "code",
   "execution_count": null,
   "id": "0335e5ab-552b-42db-8a57-c5eea0ee8acb",
   "metadata": {},
   "outputs": [],
   "source": [
    "explainer = shap.TreeExplainer(gbc)\n",
    "explanation = explainer(X_test)\n"
   ]
  },
  {
   "cell_type": "code",
   "execution_count": null,
   "id": "81faa97a-5f1f-4dba-b236-ee1d73ca35e5",
   "metadata": {},
   "outputs": [],
   "source": [
    "shap.plots.beeswarm(explanation)"
   ]
  },
  {
   "cell_type": "code",
   "execution_count": null,
   "id": "35c6f85a-56ed-41b9-b058-49d0c0973289",
   "metadata": {},
   "outputs": [],
   "source": [
    "shap.plots.bar(explanation)"
   ]
  },
  {
   "cell_type": "code",
   "execution_count": null,
   "id": "d679734b-2048-41ff-bab1-b4ef3c70e1df",
   "metadata": {},
   "outputs": [],
   "source": [
    "pd.DataFrame(X_test).info()"
   ]
  },
  {
   "cell_type": "code",
   "execution_count": null,
   "id": "a8596ca8-4078-4ea1-81b3-3263d50fb29c",
   "metadata": {},
   "outputs": [],
   "source": [
    "confusion_matrix(y_test, y_pred)"
   ]
  },
  {
   "cell_type": "code",
   "execution_count": null,
   "id": "e796a9b4-e35f-4c35-b609-cf7ead439a78",
   "metadata": {},
   "outputs": [],
   "source": [
    "print(classification_report(y_test, y_pred, zero_division = 0))"
   ]
  },
  {
   "cell_type": "code",
   "execution_count": null,
   "id": "40dd2ecf-0c18-4562-a228-7bd04093f337",
   "metadata": {},
   "outputs": [],
   "source": [
    "from sklearn.linear_model import RidgeClassifier\n",
    "RC = RidgeClassifier(alpha=1.0)\n",
    "RC.fit(X_train_transformed, y_train)\n",
    "RC_y_pred = RC.predict(X_test_transformed)\n",
    "#print(f'Accuracy: {accuracy_score(y_test, RC_y_pred)}')\n",
    "#print(f'MCC: {matthews_corrcoef(y_test, RC_y_pred)}')\n",
    "print(confusion_matrix(y_test, RC_y_pred))\n",
    "print(classification_report(y_test, RC_y_pred))"
   ]
  },
  {
   "cell_type": "code",
   "execution_count": null,
   "id": "5225b8ad-5777-4f40-8851-cd90cb623286",
   "metadata": {},
   "outputs": [],
   "source": [
    "from sklearn.linear_model import LogisticRegression\n",
    "LG = LogisticRegression(penalty='l1', solver='liblinear')\n",
    "LG.fit(X_train_transformed, y_train)\n",
    "LG_y_pred = LG.predict(X_test_transformed)\n",
    "#print(f'Accuracy: {accuracy_score(y_test, RC_y_pred)}')\n",
    "#print(f'MCC: {matthews_corrcoef(y_test, RC_y_pred)}')\n",
    "print(confusion_matrix(y_test, RC_y_pred))\n",
    "print(classification_report(y_test, RC_y_pred))"
   ]
  },
  {
   "cell_type": "code",
   "execution_count": null,
   "id": "d5662e29-269b-4b0d-96de-afd53ab8fce1",
   "metadata": {},
   "outputs": [],
   "source": [
    "%%time\n",
    "\n",
    "mlp = MLPClassifier(\n",
    "            hidden_layer_sizes = (17, 15, 13, 11),\n",
    "            activation = 'relu',\n",
    "            solver = 'adam',            \n",
    "            max_iter = 100000, \n",
    "            alpha = 0.5,\n",
    "            learning_rate = 'adaptive'\n",
    "        ).fit(X_train_transformed, y_train)\n",
    "\n",
    "y_pred_mlp = mlp.predict(X_test_transformed)"
   ]
  },
  {
   "cell_type": "code",
   "execution_count": null,
   "id": "0ad33268-e4b4-4750-9094-896690f7640b",
   "metadata": {},
   "outputs": [],
   "source": [
    "confusion_matrix(y_test, y_pred_mlp)"
   ]
  },
  {
   "cell_type": "code",
   "execution_count": null,
   "id": "871a5a24-ca23-410f-830d-dafa5e893945",
   "metadata": {},
   "outputs": [],
   "source": [
    "print(classification_report(y_test, y_pred_mlp, zero_division = 0))"
   ]
  },
  {
   "cell_type": "code",
   "execution_count": null,
   "id": "85aac496-39fa-46cc-81c6-1cc00879bf4c",
   "metadata": {},
   "outputs": [],
   "source": [
    "corr_matrix = X_train[scale_features].corr().melt(ignore_index=False)"
   ]
  },
  {
   "cell_type": "code",
   "execution_count": null,
   "id": "b2e32e5f-9e0e-4985-a02a-c452b7ea3643",
   "metadata": {},
   "outputs": [],
   "source": [
    "corr_matrix[corr_matrix['value'] != 1].sort_values(by = 'value', ascending=False).head(12)"
   ]
  },
  {
   "cell_type": "code",
   "execution_count": null,
   "id": "37b28c6a-2144-45c0-b020-c67d240ba4a5",
   "metadata": {},
   "outputs": [],
   "source": [
    "sns.heatmap(corr_matrix, annot=True, cmap='YlGnBu', fmt=\".2f\")\n",
    "plt.title('Correlation Matrix')\n",
    "plt.show()"
   ]
  },
  {
   "cell_type": "code",
   "execution_count": null,
   "id": "840d88fc-3a25-42d5-8a33-37dbcabf2354",
   "metadata": {},
   "outputs": [],
   "source": []
  }
 ],
 "metadata": {
  "kernelspec": {
   "display_name": "Python 3 (ipykernel)",
   "language": "python",
   "name": "python3"
  },
  "language_info": {
   "codemirror_mode": {
    "name": "ipython",
    "version": 3
   },
   "file_extension": ".py",
   "mimetype": "text/x-python",
   "name": "python",
   "nbconvert_exporter": "python",
   "pygments_lexer": "ipython3",
   "version": "3.12.3"
  }
 },
 "nbformat": 4,
 "nbformat_minor": 5
}
