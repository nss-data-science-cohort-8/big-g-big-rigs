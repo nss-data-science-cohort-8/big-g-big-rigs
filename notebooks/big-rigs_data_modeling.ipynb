{
 "cells": [
  {
   "cell_type": "markdown",
   "id": "40529150-cd0f-4230-98f9-9e091d484e79",
   "metadata": {},
   "source": [
    "## Modeling ##"
   ]
  },
  {
   "cell_type": "code",
   "execution_count": 2,
   "id": "41e169eb-1174-4605-9c63-58f513092361",
   "metadata": {},
   "outputs": [],
   "source": [
    "# pip install faiss_imputer"
   ]
  },
  {
   "cell_type": "code",
   "execution_count": 42,
   "id": "5c124217-9d3e-4972-9943-38e258e1e439",
   "metadata": {},
   "outputs": [],
   "source": [
    "import pandas as pd\n",
    "import numpy as np\n",
    "import datetime as dt\n",
    "import matplotlib.pyplot as plt\n",
    "import scipy.stats as stats\n",
    "from sklearn.preprocessing import StandardScaler, OneHotEncoder, LabelEncoder\n",
    "from sklearn.pipeline import Pipeline, make_pipeline\n",
    "from sklearn.impute import KNNImputer\n",
    "from sklearn.compose import ColumnTransformer\n",
    "from sklearn.ensemble import RandomForestClassifier\n",
    "from sklearn.model_selection import train_test_split\n",
    "from sklearn.metrics import (\n",
    "    classification_report, \n",
    "    confusion_matrix,\n",
    "    r2_score,\n",
    "    mean_squared_error, \n",
    "    root_mean_squared_error,\n",
    "    mean_absolute_error, \n",
    "    mean_absolute_percentage_error\n",
    ")\n",
    "from sklearn.inspection import PartialDependenceDisplay\n",
    "from sklearn.neighbors import KNeighborsClassifier, NearestNeighbors\n",
    "from scipy.spatial import KDTree\n",
    "from faiss_imputer import FaissImputer\n",
    "\n",
    "from tqdm.notebook import tqdm, trange\n",
    "from ipywidgets import interactive\n",
    "from lightgbm import LGBMClassifier\n",
    "from xgboost import XGBClassifier\n",
    "from sklearn.impute import SimpleImputer\n",
    "from sklearn.metrics import (\n",
    "    classification_report, accuracy_score, confusion_matrix, \n",
    "    f1_score, fbeta_score, \n",
    "    matthews_corrcoef, brier_score_loss\n",
    ")"
   ]
  },
  {
   "cell_type": "markdown",
   "id": "8a32a870-37e7-4bb2-8522-7990fcf615e5",
   "metadata": {},
   "source": [
    "This notebook is dedicated to the feature selection and statistical modeling of our trucking data."
   ]
  },
  {
   "cell_type": "code",
   "execution_count": 5,
   "id": "55f0dd30-4d54-4dfa-b6e9-d3ba19fd3145",
   "metadata": {},
   "outputs": [],
   "source": [
    "df = pd.read_csv('../data/data_clean.csv', low_memory=False)"
   ]
  },
  {
   "cell_type": "code",
   "execution_count": 6,
   "id": "aa7675e1-ebc5-4fa7-89e8-ba2524845a94",
   "metadata": {},
   "outputs": [],
   "source": [
    "#df_sample = df.sample(frac=0.3, random_state=42)"
   ]
  },
  {
   "cell_type": "code",
   "execution_count": 7,
   "id": "35e8d4c4-1d91-472e-ab5f-7eda723fa0c8",
   "metadata": {},
   "outputs": [
    {
     "name": "stdout",
     "output_type": "stream",
     "text": [
      "<class 'pandas.core.frame.DataFrame'>\n",
      "RangeIndex: 1057049 entries, 0 to 1057048\n",
      "Data columns (total 47 columns):\n",
      " #   Column                     Non-Null Count    Dtype  \n",
      "---  ------                     --------------    -----  \n",
      " 0   Unnamed: 0                 1057049 non-null  int64  \n",
      " 1   RecordID                   1057049 non-null  int64  \n",
      " 2   ESS_Id                     1057049 non-null  int64  \n",
      " 3   EventTimeStamp             1057049 non-null  object \n",
      " 4   eventDescription           1006152 non-null  object \n",
      " 5   ecuSoftwareVersion         792713 non-null   object \n",
      " 6   ecuSerialNumber            751116 non-null   object \n",
      " 7   ecuModel                   1001026 non-null  object \n",
      " 8   ecuMake                    1001026 non-null  object \n",
      " 9   ecuSource                  1057049 non-null  int64  \n",
      " 10  spn                        1057049 non-null  int64  \n",
      " 11  fmi                        1057049 non-null  int64  \n",
      " 12  active                     1057049 non-null  bool   \n",
      " 13  activeTransitionCount      1057049 non-null  int64  \n",
      " 14  EquipmentID                1057049 non-null  object \n",
      " 15  MCTNumber                  1057049 non-null  int64  \n",
      " 16  Latitude                   1057049 non-null  float64\n",
      " 17  Longitude                  1057049 non-null  float64\n",
      " 18  LocationTimeStamp          1057049 non-null  object \n",
      " 19  FaultId                    1057049 non-null  int64  \n",
      " 20  AcceleratorPedal           480660 non-null   float64\n",
      " 21  BarometricPressure         530902 non-null   float64\n",
      " 22  CruiseControlActive        1057049 non-null  bool   \n",
      " 23  CruiseControlSetSpeed      521823 non-null   float64\n",
      " 24  DistanceLtd                530760 non-null   float64\n",
      " 25  EngineCoolantTemperature   530890 non-null   float64\n",
      " 26  EngineLoad                 530421 non-null   float64\n",
      " 27  EngineOilPressure          531008 non-null   float64\n",
      " 28  EngineOilTemperature       529370 non-null   float64\n",
      " 29  EngineRpm                  531324 non-null   float64\n",
      " 30  EngineTimeLtd              527047 non-null   float64\n",
      " 31  FuelLevel                  455471 non-null   float64\n",
      " 32  FuelLtd                    530354 non-null   float64\n",
      " 33  FuelRate                   530151 non-null   float64\n",
      " 34  FuelTemperature            271089 non-null   float64\n",
      " 35  IgnStatus                  1057049 non-null  bool   \n",
      " 36  IntakeManifoldTemperature  530995 non-null   float64\n",
      " 37  LampStatus                 1057049 non-null  int64  \n",
      " 38  ParkingBrake               1057049 non-null  bool   \n",
      " 39  ServiceDistance            198 non-null      float64\n",
      " 40  Speed                      529278 non-null   float64\n",
      " 41  SwitchedBatteryVoltage     106228 non-null   float64\n",
      " 42  Throttle                   375438 non-null   float64\n",
      " 43  TurboBoostPressure         528806 non-null   float64\n",
      " 44  next_derate_timestamp      249051 non-null   object \n",
      " 45  time_until_detate          249051 non-null   object \n",
      " 46  target                     1057049 non-null  bool   \n",
      "dtypes: bool(5), float64(22), int64(10), object(10)\n",
      "memory usage: 343.8+ MB\n"
     ]
    }
   ],
   "source": [
    "df.info()"
   ]
  },
  {
   "cell_type": "code",
   "execution_count": 8,
   "id": "9017d57a-9699-46cd-bb4f-2ac820673555",
   "metadata": {},
   "outputs": [],
   "source": [
    "df = df.drop('Unnamed: 0', axis=1)"
   ]
  },
  {
   "cell_type": "code",
   "execution_count": 9,
   "id": "8f4e3713-9b81-4c29-bc1b-23771be3185b",
   "metadata": {},
   "outputs": [],
   "source": [
    "object_columns_to_change_to_category = [        \n",
    "    'eventDescription',  \n",
    "    'ecuSoftwareVersion',          \n",
    "    'ecuSerialNumber',         \n",
    "    'ecuModel',           \n",
    "    'ecuMake',                  \n",
    "    'EquipmentID',                                 \n",
    "    'LampStatus',              \n",
    "    'ServiceDistance',\n",
    "    'next_derate_timestamp',\n",
    "    'time_until_detate'] "
   ]
  },
  {
   "cell_type": "code",
   "execution_count": 10,
   "id": "d050a19b-06ad-4167-a721-3cbb74f68c97",
   "metadata": {},
   "outputs": [],
   "source": [
    "for column in object_columns_to_change_to_category:\n",
    "    df[column] = df[column].astype('category')"
   ]
  },
  {
   "cell_type": "code",
   "execution_count": 11,
   "id": "b5e576a1-e425-418b-9113-d817a9dcf370",
   "metadata": {},
   "outputs": [],
   "source": [
    "df['EventTimeStamp'] = pd.to_datetime(df['EventTimeStamp'])\n",
    "df['LocationTimeStamp'] = pd.to_datetime(df['LocationTimeStamp'])"
   ]
  },
  {
   "cell_type": "code",
   "execution_count": 12,
   "id": "df975710-4af8-4305-9f2f-bbde4a37225d",
   "metadata": {},
   "outputs": [],
   "source": [
    "int_columns_to_categorical = ['RecordID',\n",
    "'ESS_Id',                    \n",
    "'ecuSource',                    \n",
    "'spn',                       \n",
    "'fmi',  \n",
    "'active',       \n",
    "'MCTNumber',                  \n",
    "'FaultId']"
   ]
  },
  {
   "cell_type": "code",
   "execution_count": 13,
   "id": "a4a436a0-add9-4120-a4e0-8f831ad466e9",
   "metadata": {},
   "outputs": [],
   "source": [
    "for column in int_columns_to_categorical:\n",
    "    df[column] = df[column].astype('category')"
   ]
  },
  {
   "cell_type": "code",
   "execution_count": 14,
   "id": "f6376a1f-bbbb-41d0-b88d-f92c320ce5f3",
   "metadata": {},
   "outputs": [],
   "source": [
    "float64_cols = df.select_dtypes(include=['float64']).columns\n",
    "df[float64_cols] = df[float64_cols].astype('float32')"
   ]
  },
  {
   "cell_type": "code",
   "execution_count": 15,
   "id": "c29a9a86-917b-4d6a-aef5-492142b23590",
   "metadata": {},
   "outputs": [
    {
     "name": "stdout",
     "output_type": "stream",
     "text": [
      "<class 'pandas.core.frame.DataFrame'>\n",
      "RangeIndex: 1057049 entries, 0 to 1057048\n",
      "Data columns (total 46 columns):\n",
      " #   Column                     Non-Null Count    Dtype         \n",
      "---  ------                     --------------    -----         \n",
      " 0   RecordID                   1057049 non-null  category      \n",
      " 1   ESS_Id                     1057049 non-null  category      \n",
      " 2   EventTimeStamp             1057049 non-null  datetime64[ns]\n",
      " 3   eventDescription           1006152 non-null  category      \n",
      " 4   ecuSoftwareVersion         792713 non-null   category      \n",
      " 5   ecuSerialNumber            751116 non-null   category      \n",
      " 6   ecuModel                   1001026 non-null  category      \n",
      " 7   ecuMake                    1001026 non-null  category      \n",
      " 8   ecuSource                  1057049 non-null  category      \n",
      " 9   spn                        1057049 non-null  category      \n",
      " 10  fmi                        1057049 non-null  category      \n",
      " 11  active                     1057049 non-null  category      \n",
      " 12  activeTransitionCount      1057049 non-null  int64         \n",
      " 13  EquipmentID                1057049 non-null  category      \n",
      " 14  MCTNumber                  1057049 non-null  category      \n",
      " 15  Latitude                   1057049 non-null  float32       \n",
      " 16  Longitude                  1057049 non-null  float32       \n",
      " 17  LocationTimeStamp          1057049 non-null  datetime64[ns]\n",
      " 18  FaultId                    1057049 non-null  category      \n",
      " 19  AcceleratorPedal           480660 non-null   float32       \n",
      " 20  BarometricPressure         530902 non-null   float32       \n",
      " 21  CruiseControlActive        1057049 non-null  bool          \n",
      " 22  CruiseControlSetSpeed      521823 non-null   float32       \n",
      " 23  DistanceLtd                530760 non-null   float32       \n",
      " 24  EngineCoolantTemperature   530890 non-null   float32       \n",
      " 25  EngineLoad                 530421 non-null   float32       \n",
      " 26  EngineOilPressure          531008 non-null   float32       \n",
      " 27  EngineOilTemperature       529370 non-null   float32       \n",
      " 28  EngineRpm                  531324 non-null   float32       \n",
      " 29  EngineTimeLtd              527047 non-null   float32       \n",
      " 30  FuelLevel                  455471 non-null   float32       \n",
      " 31  FuelLtd                    530354 non-null   float32       \n",
      " 32  FuelRate                   530151 non-null   float32       \n",
      " 33  FuelTemperature            271089 non-null   float32       \n",
      " 34  IgnStatus                  1057049 non-null  bool          \n",
      " 35  IntakeManifoldTemperature  530995 non-null   float32       \n",
      " 36  LampStatus                 1057049 non-null  category      \n",
      " 37  ParkingBrake               1057049 non-null  bool          \n",
      " 38  ServiceDistance            198 non-null      category      \n",
      " 39  Speed                      529278 non-null   float32       \n",
      " 40  SwitchedBatteryVoltage     106228 non-null   float32       \n",
      " 41  Throttle                   375438 non-null   float32       \n",
      " 42  TurboBoostPressure         528806 non-null   float32       \n",
      " 43  next_derate_timestamp      249051 non-null   category      \n",
      " 44  time_until_detate          249051 non-null   category      \n",
      " 45  target                     1057049 non-null  bool          \n",
      "dtypes: bool(4), category(18), datetime64[ns](2), float32(21), int64(1)\n",
      "memory usage: 282.2 MB\n"
     ]
    }
   ],
   "source": [
    "df.info()"
   ]
  },
  {
   "cell_type": "markdown",
   "id": "0c3514de-2831-4ca7-ae0d-6971d37e59a1",
   "metadata": {},
   "source": [
    "Scaling and encoding features for modeling"
   ]
  },
  {
   "cell_type": "code",
   "execution_count": 17,
   "id": "10d15d1d-9522-45f3-838f-f88330441358",
   "metadata": {},
   "outputs": [],
   "source": [
    "X = df.drop(['target',\n",
    "            'LocationTimeStamp',\n",
    "            'EventTimeStamp',\n",
    "            'eventDescription',\n",
    "            'ESS_Id',\n",
    "            'ecuModel',\n",
    "            'ecuMake',\n",
    "            'ecuSource',\n",
    "            'ecuSoftwareVersion',\n",
    "            'ecuSerialNumber',\n",
    "            'MCTNumber',\n",
    "            'ServiceDistance',\n",
    "            'Latitude',\n",
    "            'Longitude',\n",
    "            'RecordID',\n",
    "            'next_derate_timestamp',\n",
    "            'time_until_detate',\n",
    "            'FaultId'], axis=1)\n",
    "\n",
    "y = df['target'].values"
   ]
  },
  {
   "cell_type": "code",
   "execution_count": 18,
   "id": "6fb5c493-0ebd-453d-abf3-5bdf024d5ffb",
   "metadata": {},
   "outputs": [],
   "source": [
    "X_train, X_test, y_train, y_test = train_test_split(X, y, stratify = y, random_state = 321, train_size = 0.8)\n",
    "X_train, X_val, y_train, y_val = train_test_split(X_train, y_train, stratify = y_train, random_state = 321, train_size = 0.6/0.8)"
   ]
  },
  {
   "cell_type": "code",
   "execution_count": 19,
   "id": "8e0e617b-d1ef-4a2a-b95d-8725a90ef88a",
   "metadata": {},
   "outputs": [
    {
     "name": "stderr",
     "output_type": "stream",
     "text": [
      "C:\\Users\\billy\\anaconda3\\Lib\\site-packages\\faiss_imputer\\faiss_imputer.py:99: RuntimeWarning: Mean of empty slice\n",
      "  column_agg = np.nanmean(selected_values, axis=0)\n"
     ]
    },
    {
     "name": "stdout",
     "output_type": "stream",
     "text": [
      "[LightGBM] [Info] Number of positive: 1510, number of negative: 632719\n",
      "[LightGBM] [Info] Auto-choosing row-wise multi-threading, the overhead of testing was 0.009574 seconds.\n",
      "You can set `force_row_wise=true` to remove the overhead.\n",
      "And if memory is not enough, you can set `force_col_wise=true`.\n",
      "[LightGBM] [Info] Total Bins 6089\n",
      "[LightGBM] [Info] Number of data points in the train set: 634229, number of used features: 1229\n",
      "[LightGBM] [Info] [binary:BoostFromScore]: pavg=0.002381 -> initscore=-6.037917\n",
      "[LightGBM] [Info] Start training from score -6.037917\n"
     ]
    }
   ],
   "source": [
    "categorical_features = ['spn', 'fmi', 'EquipmentID', 'LampStatus'] \n",
    "bool_features = ['CruiseControlActive', 'ParkingBrake', 'IgnStatus', 'active']\n",
    "numeric_features = [x for x in X_train.columns if x not in categorical_features + bool_features] \n",
    "\n",
    "numeric_pipe = Pipeline(\n",
    "    steps=[\n",
    "        ('scale', StandardScaler()),\n",
    "        ('faiss_imputer', FaissImputer(n_neighbors=3, strategy = 'mean')),\n",
    "    ]\n",
    ")\n",
    "\n",
    "categorical_pipe = Pipeline(\n",
    "    steps=[\n",
    "        ('onehot', OneHotEncoder(handle_unknown='ignore', sparse_output=False)),\n",
    "        ('KNN_imputer', SimpleImputer(strategy='most_frequent')),\n",
    "    ]\n",
    ")\n",
    "\n",
    "bool_pipe = Pipeline(\n",
    "    steps=[\n",
    "        ('bool_impute', SimpleImputer(strategy='most_frequent'))\n",
    "    ]\n",
    ")\n",
    "\n",
    "ct = ColumnTransformer(\n",
    "    transformers=[\n",
    "        ('numeric', numeric_pipe, numeric_features),\n",
    "        ('categorical', categorical_pipe, categorical_features),\n",
    "        ('bool', bool_pipe, bool_features)\n",
    "    ]\n",
    ")\n",
    "\n",
    "pipe = Pipeline(\n",
    "    steps=[\n",
    "        ('transformer', ct),\n",
    "        ('lightgbm', LGBMClassifier(\n",
    "        ))\n",
    "    ]\n",
    ").fit(X_train, y_train)"
   ]
  },
  {
   "cell_type": "code",
   "execution_count": 20,
   "id": "fb0b52db-3586-4613-9403-745e269ce6bf",
   "metadata": {},
   "outputs": [],
   "source": [
    "# - there rae 1763 positive samples and 738,171 negative samples. This suggests dataset is highly imbalanced, which may require adjustments like class weighting or resampling.\n",
    "# - LightGBM uses histogram-based learning instead of splitting values directly. This means the dataset has 6531 unique bin partitions, which can improve training efficiency.\n",
    "# - there are 739,934 rows being used for training. the model is leveraging 1270 features in total.\n",
    "# - Since it's a binary classification task, LightGBM calculates an initial score (-6.037159). This score is derived from the prior probability (pavg=0.002383), meaning only 0.238% of samples are positive. The low prior probability affects LightGBM's initial weight adjustments to balance the learning process.\n",
    "\n",
    "# Next steps:\n",
    "# Given the severe class imbalance, I might: ✔ Use scale_pos_weight in LightGBM to balance classes ✔ Apply oversampling techniques (SMOTE, ADASYN) if necessary ✔ Tune the learning rate for better convergence"
   ]
  },
  {
   "cell_type": "code",
   "execution_count": 34,
   "id": "c79ffc03-5dfe-49ff-9c25-bae40629ee22",
   "metadata": {},
   "outputs": [
    {
     "name": "stderr",
     "output_type": "stream",
     "text": [
      "C:\\Users\\billy\\anaconda3\\Lib\\site-packages\\faiss_imputer\\faiss_imputer.py:99: RuntimeWarning: Mean of empty slice\n",
      "  column_agg = np.nanmean(selected_values, axis=0)\n"
     ]
    },
    {
     "name": "stdout",
     "output_type": "stream",
     "text": [
      "Accuracy: 0.9884206045125585\n",
      "MCC: 0.14917750358416457\n",
      "[[208798   2108]\n",
      " [   340    164]]\n",
      "              precision    recall  f1-score   support\n",
      "\n",
      "       False       1.00      0.99      0.99    210906\n",
      "        True       0.07      0.33      0.12       504\n",
      "\n",
      "    accuracy                           0.99    211410\n",
      "   macro avg       0.54      0.66      0.56    211410\n",
      "weighted avg       1.00      0.99      0.99    211410\n",
      "\n"
     ]
    }
   ],
   "source": [
    "y_pred = pipe.predict(X_test)\n",
    "print(f'Accuracy: {accuracy_score(y_test, y_pred)}')\n",
    "print(f'MCC: {matthews_corrcoef(y_test, y_pred)}')\n",
    "print(confusion_matrix(y_test, y_pred))\n",
    "print(classification_report(y_test, y_pred))"
   ]
  },
  {
   "cell_type": "code",
   "execution_count": null,
   "id": "e691131f-3e3f-4125-a70d-acd59fa8be1b",
   "metadata": {},
   "outputs": [],
   "source": [
    "#feature_importances = pd.Series(pipe.feature_importances_, index=X_train.columns)\n",
    "#feature_importances.sort_values(ascending=False)\n",
    "#print(feature_importances)"
   ]
  },
  {
   "cell_type": "code",
   "execution_count": 44,
   "id": "11cb3d04-d234-4eb6-bfe5-679c8b159913",
   "metadata": {},
   "outputs": [
    {
     "data": {
      "text/html": [
       "<div>\n",
       "<style scoped>\n",
       "    .dataframe tbody tr th:only-of-type {\n",
       "        vertical-align: middle;\n",
       "    }\n",
       "\n",
       "    .dataframe tbody tr th {\n",
       "        vertical-align: top;\n",
       "    }\n",
       "\n",
       "    .dataframe thead th {\n",
       "        text-align: right;\n",
       "    }\n",
       "</style>\n",
       "<table border=\"1\" class=\"dataframe\">\n",
       "  <thead>\n",
       "    <tr style=\"text-align: right;\">\n",
       "      <th></th>\n",
       "      <th>threshold</th>\n",
       "      <th>f1</th>\n",
       "    </tr>\n",
       "  </thead>\n",
       "  <tbody>\n",
       "    <tr>\n",
       "      <th>2</th>\n",
       "      <td>0.12</td>\n",
       "      <td>0.189059</td>\n",
       "    </tr>\n",
       "    <tr>\n",
       "      <th>0</th>\n",
       "      <td>0.10</td>\n",
       "      <td>0.187710</td>\n",
       "    </tr>\n",
       "    <tr>\n",
       "      <th>1</th>\n",
       "      <td>0.11</td>\n",
       "      <td>0.187661</td>\n",
       "    </tr>\n",
       "    <tr>\n",
       "      <th>3</th>\n",
       "      <td>0.13</td>\n",
       "      <td>0.186441</td>\n",
       "    </tr>\n",
       "    <tr>\n",
       "      <th>4</th>\n",
       "      <td>0.14</td>\n",
       "      <td>0.181818</td>\n",
       "    </tr>\n",
       "  </tbody>\n",
       "</table>\n",
       "</div>"
      ],
      "text/plain": [
       "   threshold        f1\n",
       "2       0.12  0.189059\n",
       "0       0.10  0.187710\n",
       "1       0.11  0.187661\n",
       "3       0.13  0.186441\n",
       "4       0.14  0.181818"
      ]
     },
     "execution_count": 44,
     "metadata": {},
     "output_type": "execute_result"
    }
   ],
   "source": [
    "y_val_pred_proba = pipe.predict_proba(X_val)[:,1]\n",
    "candidate_thresholds = np.arange(start = 0.1, stop = 0.925, step = 0.01)\n",
    "thresholds = pd.DataFrame({'threshold': candidate_thresholds})\n",
    "thresholds['f1'] = thresholds['threshold'].apply(lambda x: f1_score(y_val, y_val_pred_proba > x))\n",
    "thresholds.sort_values('f1', ascending = False).head()"
   ]
  },
  {
   "cell_type": "code",
   "execution_count": null,
   "id": "57ea0dea-2554-49ca-a393-08250fe7c37f",
   "metadata": {},
   "outputs": [],
   "source": [
    "# threshold = 0.31\n",
    "# y_pred_proba = lr.predict_proba(X_test)[:,1]\n",
    "\n",
    "# y_pred = y_pred_proba > threshold\n",
    "# print(f'Accuracy: {accuracy_score(y_test, y_pred)}')\n",
    "# print(f'MCC: {matthews_corrcoef(y_test, y_pred)}')\n",
    "# print(confusion_matrix(y_test, y_pred))\n",
    "# print(classification_report(y_test, y_pred))"
   ]
  },
  {
   "cell_type": "code",
   "execution_count": 48,
   "id": "490b15b9-76cd-4b04-8524-12191524149e",
   "metadata": {},
   "outputs": [
    {
     "name": "stderr",
     "output_type": "stream",
     "text": [
      "C:\\Users\\billy\\anaconda3\\Lib\\site-packages\\faiss_imputer\\faiss_imputer.py:99: RuntimeWarning: Mean of empty slice\n",
      "  column_agg = np.nanmean(selected_values, axis=0)\n"
     ]
    },
    {
     "name": "stdout",
     "output_type": "stream",
     "text": [
      "Accuracy: 0.9818646232439336\n",
      "MCC: 0.17652521389050582\n",
      "[[207324   3582]\n",
      " [   252    252]]\n",
      "              precision    recall  f1-score   support\n",
      "\n",
      "       False       1.00      0.98      0.99    210906\n",
      "        True       0.07      0.50      0.12       504\n",
      "\n",
      "    accuracy                           0.98    211410\n",
      "   macro avg       0.53      0.74      0.55    211410\n",
      "weighted avg       1.00      0.98      0.99    211410\n",
      "\n"
     ]
    }
   ],
   "source": [
    "threshold = 0.12\n",
    "y_pred_proba = pipe.predict_proba(X_test)[:,1]\n",
    "\n",
    "y_pred = y_pred_proba > threshold\n",
    "print(f'Accuracy: {accuracy_score(y_test, y_pred)}')\n",
    "print(f'MCC: {matthews_corrcoef(y_test, y_pred)}')\n",
    "print(confusion_matrix(y_test, y_pred))\n",
    "print(classification_report(y_test, y_pred))"
   ]
  },
  {
   "cell_type": "code",
   "execution_count": null,
   "id": "0a402fd5-3066-4ec7-a579-9c7dfb929f99",
   "metadata": {},
   "outputs": [],
   "source": []
  }
 ],
 "metadata": {
  "kernelspec": {
   "display_name": "Python 3 (ipykernel)",
   "language": "python",
   "name": "python3"
  },
  "language_info": {
   "codemirror_mode": {
    "name": "ipython",
    "version": 3
   },
   "file_extension": ".py",
   "mimetype": "text/x-python",
   "name": "python",
   "nbconvert_exporter": "python",
   "pygments_lexer": "ipython3",
   "version": "3.12.4"
  }
 },
 "nbformat": 4,
 "nbformat_minor": 5
}
