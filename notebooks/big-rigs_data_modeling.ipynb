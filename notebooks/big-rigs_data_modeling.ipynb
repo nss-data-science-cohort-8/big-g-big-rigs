{
 "cells": [
  {
   "cell_type": "markdown",
   "id": "40529150-cd0f-4230-98f9-9e091d484e79",
   "metadata": {},
   "source": [
    "## Modeling ##"
   ]
  },
  {
   "cell_type": "code",
   "execution_count": 1,
   "id": "5c124217-9d3e-4972-9943-38e258e1e439",
   "metadata": {},
   "outputs": [],
   "source": [
    "import pandas as pd\n",
    "import numpy as np\n",
    "import datetime as dt\n",
    "import matplotlib.pyplot as plt\n",
    "import scipy.stats as stats\n",
    "from sklearn.preprocessing import StandardScaler, OneHotEncoder, LabelEncoder\n",
    "from sklearn.pipeline import Pipeline, make_pipeline\n",
    "from sklearn.impute import KNNImputer\n",
    "from sklearn.compose import ColumnTransformer\n",
    "from sklearn.ensemble import RandomForestClassifier\n",
    "from sklearn.model_selection import train_test_split\n",
    "from sklearn.metrics import (\n",
    "    classification_report, \n",
    "    confusion_matrix,\n",
    "    r2_score,\n",
    "    mean_squared_error, \n",
    "    root_mean_squared_error,\n",
    "    mean_absolute_error, \n",
    "    mean_absolute_percentage_error\n",
    ")\n",
    "from sklearn.inspection import PartialDependenceDisplay\n",
    "from sklearn.neighbors import KNeighborsClassifier, NearestNeighbors\n",
    "from scipy.spatial import KDTree\n",
    "\n",
    "from faiss_imputer import FaissImputer\n",
    "\n",
    "from xgboost import XGBClassifier"
   ]
  },
  {
   "cell_type": "markdown",
   "id": "8a32a870-37e7-4bb2-8522-7990fcf615e5",
   "metadata": {},
   "source": [
    "This notebook is dedicated to the feature selection and statistical modeling of our trucking data."
   ]
  },
  {
   "cell_type": "code",
   "execution_count": 2,
   "id": "55f0dd30-4d54-4dfa-b6e9-d3ba19fd3145",
   "metadata": {},
   "outputs": [],
   "source": [
    "df = pd.read_csv('../data/data_clean.csv', low_memory=False)"
   ]
  },
  {
   "cell_type": "code",
   "execution_count": 3,
   "id": "b39b2302-1b8f-4e36-b30d-991eb27e62a1",
   "metadata": {},
   "outputs": [],
   "source": [
    "df['spn'] = df['spn'].astype(object)\n",
    "df = df.drop('Unnamed: 0', axis=1)"
   ]
  },
  {
   "cell_type": "code",
   "execution_count": 4,
   "id": "045f111e-b27d-4ee9-a86f-9bdcd95b133b",
   "metadata": {},
   "outputs": [
    {
     "name": "stdout",
     "output_type": "stream",
     "text": [
      "<class 'pandas.core.frame.DataFrame'>\n",
      "RangeIndex: 1057049 entries, 0 to 1057048\n",
      "Data columns (total 43 columns):\n",
      " #   Column                     Non-Null Count    Dtype  \n",
      "---  ------                     --------------    -----  \n",
      " 0   AcceleratorPedal           480660 non-null   float64\n",
      " 1   BarometricPressure         530902 non-null   float64\n",
      " 2   CruiseControlActive        520765 non-null   object \n",
      " 3   CruiseControlSetSpeed      521823 non-null   float64\n",
      " 4   DistanceLtd                530760 non-null   float64\n",
      " 5   EngineCoolantTemperature   530890 non-null   float64\n",
      " 6   EngineLoad                 530421 non-null   float64\n",
      " 7   EngineOilPressure          531008 non-null   float64\n",
      " 8   EngineOilTemperature       529370 non-null   float64\n",
      " 9   EngineRpm                  531324 non-null   float64\n",
      " 10  EngineTimeLtd              527047 non-null   float64\n",
      " 11  FuelLevel                  455471 non-null   float64\n",
      " 12  FuelLtd                    530354 non-null   float64\n",
      " 13  FuelRate                   530151 non-null   float64\n",
      " 14  FuelTemperature            271089 non-null   float64\n",
      " 15  IgnStatus                  548601 non-null   object \n",
      " 16  IntakeManifoldTemperature  530995 non-null   float64\n",
      " 17  LampStatus                 1057049 non-null  int64  \n",
      " 18  ParkingBrake               353977 non-null   object \n",
      " 19  Speed                      529278 non-null   float64\n",
      " 20  SwitchedBatteryVoltage     106228 non-null   float64\n",
      " 21  Throttle                   375438 non-null   object \n",
      " 22  TurboBoostPressure         528806 non-null   float64\n",
      " 23  RecordID                   1057049 non-null  int64  \n",
      " 24  ESS_Id                     1057049 non-null  int64  \n",
      " 25  EventTimeStamp             1057049 non-null  object \n",
      " 26  eventDescription           1006152 non-null  object \n",
      " 27  ecuSoftwareVersion         792713 non-null   object \n",
      " 28  ecuSerialNumber            751116 non-null   object \n",
      " 29  ecuSource                  1057049 non-null  int64  \n",
      " 30  spn                        1057049 non-null  object \n",
      " 31  fmi                        1057049 non-null  int64  \n",
      " 32  active                     1057049 non-null  bool   \n",
      " 33  activeTransitionCount      1057049 non-null  int64  \n",
      " 34  EquipmentID                1057049 non-null  object \n",
      " 35  Latitude                   1057049 non-null  float64\n",
      " 36  Longitude                  1057049 non-null  float64\n",
      " 37  LocationTimeStamp          1057049 non-null  object \n",
      " 38  target_time_min            936 non-null      object \n",
      " 39  target_time_max            936 non-null      object \n",
      " 40  time_derate                249051 non-null   object \n",
      " 41  time_until_derate          249051 non-null   object \n",
      " 42  target                     1057049 non-null  bool   \n",
      "dtypes: bool(2), float64(20), int64(6), object(15)\n",
      "memory usage: 332.7+ MB\n"
     ]
    }
   ],
   "source": [
    "df.info()"
   ]
  },
  {
   "cell_type": "markdown",
   "id": "0c3514de-2831-4ca7-ae0d-6971d37e59a1",
   "metadata": {},
   "source": [
    "Scaling and encoding features for modeling"
   ]
  },
  {
   "cell_type": "code",
   "execution_count": 5,
   "id": "10d15d1d-9522-45f3-838f-f88330441358",
   "metadata": {},
   "outputs": [],
   "source": [
    "X = df.drop(['target', \n",
    "            'target_time_max', \n",
    "            'target_time_min', \n",
    "            'LocationTimeStamp',\n",
    "            'EventTimeStamp',\n",
    "            'eventDescription'], axis=1)\n",
    "\n",
    "y = df['target']"
   ]
  },
  {
   "cell_type": "code",
   "execution_count": 6,
   "id": "6fb5c493-0ebd-453d-abf3-5bdf024d5ffb",
   "metadata": {},
   "outputs": [],
   "source": [
    "X_train, X_test, y_train, y_test = train_test_split(X, y, test_size=0.3, random_state=27, stratify=y)"
   ]
  },
  {
   "cell_type": "code",
   "execution_count": null,
   "id": "d2e4e733-d205-48f2-9f01-ae01f9ab5353",
   "metadata": {},
   "outputs": [
    {
     "name": "stderr",
     "output_type": "stream",
     "text": [
      "C:\\Users\\cavin\\AppData\\Local\\Programs\\Python\\Python310\\lib\\site-packages\\sklearn\\utils\\deprecation.py:151: FutureWarning: 'force_all_finite' was renamed to 'ensure_all_finite' in 1.6 and will be removed in 1.8.\n",
      "  warnings.warn(\n",
      "C:\\Users\\cavin\\AppData\\Local\\Programs\\Python\\Python310\\lib\\site-packages\\sklearn\\utils\\deprecation.py:151: FutureWarning: 'force_all_finite' was renamed to 'ensure_all_finite' in 1.6 and will be removed in 1.8.\n",
      "  warnings.warn(\n",
      "C:\\Users\\cavin\\AppData\\Local\\Programs\\Python\\Python310\\lib\\site-packages\\faiss_imputer\\faiss_imputer.py:99: RuntimeWarning: Mean of empty slice\n",
      "  column_agg = np.nanmean(selected_values, axis=0)\n"
     ]
    }
   ],
   "source": [
    "ohe_features = ['spn', \n",
    "                'EquipmentID']\n",
    "\n",
    "scale_features = X_train.select_dtypes(include=np.number).columns\n",
    "                \n",
    "numerical_pipeline = Pipeline([\n",
    "    ('scaler', StandardScaler()),\n",
    "    ('faiss_imputer', FaissImputer(n_neighbors=3, strategy = 'mean'))\n",
    "])\n",
    "categorical_pipeline = Pipeline([\n",
    "    ('ohe', OneHotEncoder(handle_unknown='ignore', sparse_output=False)),\n",
    "    ('faiss_imputer', FaissImputer(n_neighbors=3, strategy = 'median')) \n",
    "    \n",
    "])\n",
    "\n",
    "preprocessor = ColumnTransformer(\n",
    "    transformers=[\n",
    "        ('num', numerical_pipeline, scale_features),\n",
    "        ('cat', categorical_pipeline, ohe_features)\n",
    "    ],\n",
    "    remainder='passthrough'\n",
    ")\n",
    "\n",
    "X_train_encoded = preprocessor.fit_transform(X_train)\n",
    "X_test_encoded = preprocessor.transform(X_test)"
   ]
  },
  {
   "cell_type": "code",
   "execution_count": null,
   "id": "d8d008ca-411c-4622-8198-4e74595a1345",
   "metadata": {},
   "outputs": [],
   "source": [
    "model = XGBClassifier().fit(X_train_encoded, y_train)\n",
    "\n",
    "y_pred = model.predict(X_test_encoded)"
   ]
  },
  {
   "cell_type": "code",
   "execution_count": null,
   "id": "e796a9b4-e35f-4c35-b609-cf7ead439a78",
   "metadata": {},
   "outputs": [],
   "source": [
    "print(classification_report(y_test, y_pred, zero_division = 0))"
   ]
  },
  {
   "cell_type": "code",
   "execution_count": null,
   "id": "d5662e29-269b-4b0d-96de-afd53ab8fce1",
   "metadata": {},
   "outputs": [],
   "source": []
  }
 ],
 "metadata": {
  "kernelspec": {
   "display_name": "Python 3 (ipykernel)",
   "language": "python",
   "name": "python3"
  },
  "language_info": {
   "codemirror_mode": {
    "name": "ipython",
    "version": 3
   },
   "file_extension": ".py",
   "mimetype": "text/x-python",
   "name": "python",
   "nbconvert_exporter": "python",
   "pygments_lexer": "ipython3",
   "version": "3.10.0"
  }
 },
 "nbformat": 4,
 "nbformat_minor": 5
}
