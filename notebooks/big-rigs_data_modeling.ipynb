{
 "cells": [
  {
   "cell_type": "markdown",
   "id": "40529150-cd0f-4230-98f9-9e091d484e79",
   "metadata": {},
   "source": [
    "## Modeling ##"
   ]
  },
  {
   "cell_type": "code",
   "execution_count": 1,
   "id": "5c124217-9d3e-4972-9943-38e258e1e439",
   "metadata": {},
   "outputs": [],
   "source": [
    "import time\n",
    "import pickle\n",
    "import os\n",
    "import pandas as pd\n",
    "import numpy as np\n",
    "import datetime as dt\n",
    "import matplotlib.pyplot as plt\n",
    "import seaborn as sn\n",
    "from matplotlib.colors import Colormap\n",
    "import scipy.stats as stats\n",
    "from numpy import interp\n",
    "import scikitplot as skplt\n",
    "from sklearn.preprocessing import StandardScaler, OneHotEncoder, LabelEncoder\n",
    "from sklearn.pipeline import Pipeline, make_pipeline\n",
    "from sklearn.decomposition import PCA\n",
    "from sklearn.experimental import enable_iterative_imputer\n",
    "from sklearn.impute import KNNImputer, SimpleImputer, IterativeImputer\n",
    "from sklearn.compose import ColumnTransformer\n",
    "from sklearn.ensemble import RandomForestClassifier\n",
    "from sklearn.tree import DecisionTreeClassifier\n",
    "from sklearn.model_selection import (\n",
    "    train_test_split,\n",
    "    GridSearchCV,\n",
    "    RandomizedSearchCV, \n",
    "    cross_val_score, \n",
    "    cross_val_predict\n",
    ")\n",
    "from sklearn.metrics import (\n",
    "    classification_report, \n",
    "    confusion_matrix,\n",
    "    r2_score,\n",
    "    mean_squared_error, \n",
    "    root_mean_squared_error,\n",
    "    mean_absolute_error, \n",
    "    mean_absolute_percentage_error,\n",
    "    accuracy_score,\n",
    "    matthews_corrcoef,\n",
    "    brier_score_loss,\n",
    "    f1_score,\n",
    "    roc_curve, \n",
    "    roc_auc_score\n",
    ")\n",
    "from sklearn.feature_selection import SelectKBest, chi2\n",
    "from sklearn.inspection import PartialDependenceDisplay\n",
    "from sklearn.neighbors import KNeighborsClassifier, NearestNeighbors\n",
    "from sklearn.linear_model import LogisticRegression\n",
    "from sklearn.svm import SVC\n",
    "import xgboost as xgb\n",
    "from xgboost import XGBClassifier\n",
    "from xgboost import plot_importance\n",
    "from lightgbm import LGBMClassifier\n",
    "from sklearn.ensemble import HistGradientBoostingClassifier\n",
    "from imblearn.over_sampling import SMOTE\n",
    "\n",
    "from hyperopt import STATUS_OK, Trials, fmin, hp, tpe"
   ]
  },
  {
   "cell_type": "code",
   "execution_count": 2,
   "id": "42549602-124e-460f-840f-563c2e57cdd8",
   "metadata": {},
   "outputs": [
    {
     "name": "stdout",
     "output_type": "stream",
     "text": [
      "Current working directory is C:\\Users\\cavin\\Documents\\NSS_Projects\\Python\\big-g-big-rigs\n"
     ]
    }
   ],
   "source": [
    "os.chdir('..')\n",
    "print(f'Current working directory is {os.getcwd()}')"
   ]
  },
  {
   "cell_type": "markdown",
   "id": "8a32a870-37e7-4bb2-8522-7990fcf615e5",
   "metadata": {},
   "source": [
    "This notebook is dedicated to the feature selection and statistical modeling of our trucking data."
   ]
  },
  {
   "cell_type": "code",
   "execution_count": 3,
   "id": "49948ce0-cf27-4e2b-8272-c41a1b4680c8",
   "metadata": {},
   "outputs": [],
   "source": [
    "pd.set_option('display.max_columns', None)"
   ]
  },
  {
   "cell_type": "code",
   "execution_count": 4,
   "id": "55f0dd30-4d54-4dfa-b6e9-d3ba19fd3145",
   "metadata": {},
   "outputs": [],
   "source": [
    "df = pd.read_csv('data/data_clean_05_08.csv', low_memory=False)"
   ]
  },
  {
   "cell_type": "markdown",
   "id": "5e5a583b-f665-4dad-ba46-3f0616ecf0e1",
   "metadata": {},
   "source": [
    "Cleaning features and reassigning them to the proper dtypes"
   ]
  },
  {
   "cell_type": "code",
   "execution_count": 5,
   "id": "79c8529d-97e4-4cab-9fc3-5cf31cfd0d47",
   "metadata": {},
   "outputs": [],
   "source": [
    "columns_to_object = ['ecuSource',\n",
    "                     'spn',\n",
    "                     'fmi',\n",
    "                     'MCTNumber',\n",
    "                     'RecordID',\n",
    "                     'ESS_Id'\n",
    "                    ]\n",
    "\n",
    "for column in columns_to_object:\n",
    "    df[column] = df[column].astype(object)"
   ]
  },
  {
   "cell_type": "code",
   "execution_count": 6,
   "id": "b749c089-60bd-4808-9880-7fa4f87cd411",
   "metadata": {},
   "outputs": [],
   "source": [
    "columns_to_bool = ['CruiseControlActive',\n",
    "                   'IgnStatus',\n",
    "                   'ParkingBrake']\n",
    "\n",
    "for column in columns_to_bool:\n",
    "    df[column] = df[column].astype(bool)"
   ]
  },
  {
   "cell_type": "code",
   "execution_count": 7,
   "id": "4c9af9c1-8bec-411e-875e-5a5e2002062e",
   "metadata": {},
   "outputs": [],
   "source": [
    "int64_cols = df.select_dtypes(include='bool').columns\n",
    "df[int64_cols] = df[int64_cols].astype('int64')"
   ]
  },
  {
   "cell_type": "markdown",
   "id": "0dbffb1c-6c68-469f-9d86-fd73c99dfa93",
   "metadata": {},
   "source": [
    "Separating the test and training data."
   ]
  },
  {
   "cell_type": "code",
   "execution_count": 8,
   "id": "980ad7b1-f6b6-48e2-93a8-bb23f4d7f357",
   "metadata": {},
   "outputs": [],
   "source": [
    "test_date = '2019-01-01'\n",
    "\n",
    "df_test = df.sort_values('EventTimeStamp').loc[df['EventTimeStamp'] > test_date]"
   ]
  },
  {
   "cell_type": "code",
   "execution_count": 9,
   "id": "21273589-d7d9-44b5-a94f-5cbb97dc264c",
   "metadata": {},
   "outputs": [],
   "source": [
    "df_train = df.sort_values('EventTimeStamp').loc[df['EventTimeStamp'] < test_date]"
   ]
  },
  {
   "cell_type": "code",
   "execution_count": 10,
   "id": "88d4fcac-d01a-4fe9-bdf9-11eff1650777",
   "metadata": {},
   "outputs": [],
   "source": [
    "#df = df.sample(frac=0.50)"
   ]
  },
  {
   "cell_type": "markdown",
   "id": "0c3514de-2831-4ca7-ae0d-6971d37e59a1",
   "metadata": {},
   "source": [
    "Scaling and encoding features for modeling."
   ]
  },
  {
   "cell_type": "code",
   "execution_count": 11,
   "id": "10d15d1d-9522-45f3-838f-f88330441358",
   "metadata": {},
   "outputs": [],
   "source": [
    "X_train = df_train.drop(columns = [\n",
    "            'target',  \n",
    "            'LocationTimeStamp',\n",
    "            'EventTimeStamp',\n",
    "            'eventDescription',\n",
    "            'ecuSerialNumber',\n",
    "            'ecuSoftwareVersion',\n",
    "            'time_derate',\n",
    "            'time_until_derate',\n",
    "            'Longitude',\n",
    "            'Latitude',\n",
    "            'ESS_Id',\n",
    "            'RecordID',\n",
    "            'ecuModel',\n",
    "            'ServiceDistance',\n",
    "            'ecuMake',\n",
    "            'SwitchedBatteryVoltage',\n",
    "            'MCTNumber',\n",
    "            'EquipmentID',\n",
    "            'LampStatus',\n",
    "            'CruiseControlSetSpeed',\n",
    "            'EngineLoad',\n",
    "            'TurboBoostPressure',\n",
    "            'DistanceLtd'\n",
    "            ], axis=1)\n",
    "\n",
    "y_train = df_train['target']"
   ]
  },
  {
   "cell_type": "code",
   "execution_count": 12,
   "id": "a9c147e7-fce8-433c-ac87-cdf652d8016e",
   "metadata": {},
   "outputs": [],
   "source": [
    "X_test = df_test.drop(columns = [\n",
    "            'target',  \n",
    "            'LocationTimeStamp',\n",
    "            'EventTimeStamp',\n",
    "            'eventDescription',\n",
    "            'ecuSerialNumber',\n",
    "            'ecuSoftwareVersion',\n",
    "            'time_derate',\n",
    "            'time_until_derate',\n",
    "            'Longitude',\n",
    "            'Latitude',\n",
    "            'ESS_Id',\n",
    "            'RecordID',\n",
    "            'ecuModel',\n",
    "            'ServiceDistance',\n",
    "            'ecuMake',\n",
    "            'SwitchedBatteryVoltage',\n",
    "            'MCTNumber',\n",
    "            'EquipmentID',\n",
    "            'LampStatus',\n",
    "            'CruiseControlSetSpeed',\n",
    "            'EngineLoad',\n",
    "            'TurboBoostPressure',\n",
    "            'DistanceLtd'\n",
    "            ], axis=1)\n",
    "\n",
    "y_test = df_test['target']"
   ]
  },
  {
   "cell_type": "markdown",
   "id": "0c2d1538-cbd0-4787-86f1-d79e1e6c6e5f",
   "metadata": {},
   "source": [
    "X_train, X_test, y_train, y_test = train_test_split(X, y, test_size=0.3, random_state=27, stratify=y)\n",
    "\n",
    "X_train, X_val, y_train, y_val = train_test_split(X_train, y_train, stratify = y_train, random_state = 27, train_size = 0.6/0.8)"
   ]
  },
  {
   "cell_type": "markdown",
   "id": "6c1f5470-86b4-4f55-90ab-0489cca77655",
   "metadata": {},
   "source": [
    "Selection of features for each step of the pipeline. The last few lines are for checking to make sure each feature is accounted for."
   ]
  },
  {
   "cell_type": "code",
   "execution_count": 13,
   "id": "9d74d41e-84d7-4347-806b-8db7148d05d4",
   "metadata": {},
   "outputs": [],
   "source": [
    "ohe_features = ['spn',\n",
    "                'fmi',\n",
    "                'ecuSource'\n",
    "                ] \n",
    "\n",
    "bool_features = ['CruiseControlActive',\n",
    "                 'IgnStatus',\n",
    "                 'ParkingBrake',\n",
    "                 'active'\n",
    "                ]\n",
    "\n",
    "scale_features = [\n",
    "                  'AcceleratorPedal',\n",
    "                  'BarometricPressure',\n",
    "                  'EngineCoolantTemperature',\n",
    "                  'EngineOilPressure',\n",
    "                  'EngineOilTemperature',\n",
    "                  'EngineRpm',\n",
    "                  'FuelLevel',\n",
    "                  'activeTransitionCount',\n",
    "                  'FuelLtd',\n",
    "                  'FuelTemperature',\n",
    "                  'IntakeManifoldTemperature',\n",
    "                  'Speed',\n",
    "                  'FuelRate',\n",
    "                  'EngineTimeLtd',\n",
    "                  'Throttle'\n",
    "                 ]\n",
    "\n",
    "everything = list(set(ohe_features + bool_features + scale_features))\n",
    "the_rest = X_train.columns.difference(everything)\n",
    "pca = PCA(n_components = 5)"
   ]
  },
  {
   "cell_type": "code",
   "execution_count": 14,
   "id": "d2e4e733-d205-48f2-9f01-ae01f9ab5353",
   "metadata": {
    "scrolled": true
   },
   "outputs": [
    {
     "name": "stdout",
     "output_type": "stream",
     "text": [
      "CPU times: total: 10min 22s\n",
      "Wall time: 6min 4s\n"
     ]
    },
    {
     "data": {
      "text/html": [
       "<style>#sk-container-id-1 {\n",
       "  /* Definition of color scheme common for light and dark mode */\n",
       "  --sklearn-color-text: #000;\n",
       "  --sklearn-color-text-muted: #666;\n",
       "  --sklearn-color-line: gray;\n",
       "  /* Definition of color scheme for unfitted estimators */\n",
       "  --sklearn-color-unfitted-level-0: #fff5e6;\n",
       "  --sklearn-color-unfitted-level-1: #f6e4d2;\n",
       "  --sklearn-color-unfitted-level-2: #ffe0b3;\n",
       "  --sklearn-color-unfitted-level-3: chocolate;\n",
       "  /* Definition of color scheme for fitted estimators */\n",
       "  --sklearn-color-fitted-level-0: #f0f8ff;\n",
       "  --sklearn-color-fitted-level-1: #d4ebff;\n",
       "  --sklearn-color-fitted-level-2: #b3dbfd;\n",
       "  --sklearn-color-fitted-level-3: cornflowerblue;\n",
       "\n",
       "  /* Specific color for light theme */\n",
       "  --sklearn-color-text-on-default-background: var(--sg-text-color, var(--theme-code-foreground, var(--jp-content-font-color1, black)));\n",
       "  --sklearn-color-background: var(--sg-background-color, var(--theme-background, var(--jp-layout-color0, white)));\n",
       "  --sklearn-color-border-box: var(--sg-text-color, var(--theme-code-foreground, var(--jp-content-font-color1, black)));\n",
       "  --sklearn-color-icon: #696969;\n",
       "\n",
       "  @media (prefers-color-scheme: dark) {\n",
       "    /* Redefinition of color scheme for dark theme */\n",
       "    --sklearn-color-text-on-default-background: var(--sg-text-color, var(--theme-code-foreground, var(--jp-content-font-color1, white)));\n",
       "    --sklearn-color-background: var(--sg-background-color, var(--theme-background, var(--jp-layout-color0, #111)));\n",
       "    --sklearn-color-border-box: var(--sg-text-color, var(--theme-code-foreground, var(--jp-content-font-color1, white)));\n",
       "    --sklearn-color-icon: #878787;\n",
       "  }\n",
       "}\n",
       "\n",
       "#sk-container-id-1 {\n",
       "  color: var(--sklearn-color-text);\n",
       "}\n",
       "\n",
       "#sk-container-id-1 pre {\n",
       "  padding: 0;\n",
       "}\n",
       "\n",
       "#sk-container-id-1 input.sk-hidden--visually {\n",
       "  border: 0;\n",
       "  clip: rect(1px 1px 1px 1px);\n",
       "  clip: rect(1px, 1px, 1px, 1px);\n",
       "  height: 1px;\n",
       "  margin: -1px;\n",
       "  overflow: hidden;\n",
       "  padding: 0;\n",
       "  position: absolute;\n",
       "  width: 1px;\n",
       "}\n",
       "\n",
       "#sk-container-id-1 div.sk-dashed-wrapped {\n",
       "  border: 1px dashed var(--sklearn-color-line);\n",
       "  margin: 0 0.4em 0.5em 0.4em;\n",
       "  box-sizing: border-box;\n",
       "  padding-bottom: 0.4em;\n",
       "  background-color: var(--sklearn-color-background);\n",
       "}\n",
       "\n",
       "#sk-container-id-1 div.sk-container {\n",
       "  /* jupyter's `normalize.less` sets `[hidden] { display: none; }`\n",
       "     but bootstrap.min.css set `[hidden] { display: none !important; }`\n",
       "     so we also need the `!important` here to be able to override the\n",
       "     default hidden behavior on the sphinx rendered scikit-learn.org.\n",
       "     See: https://github.com/scikit-learn/scikit-learn/issues/21755 */\n",
       "  display: inline-block !important;\n",
       "  position: relative;\n",
       "}\n",
       "\n",
       "#sk-container-id-1 div.sk-text-repr-fallback {\n",
       "  display: none;\n",
       "}\n",
       "\n",
       "div.sk-parallel-item,\n",
       "div.sk-serial,\n",
       "div.sk-item {\n",
       "  /* draw centered vertical line to link estimators */\n",
       "  background-image: linear-gradient(var(--sklearn-color-text-on-default-background), var(--sklearn-color-text-on-default-background));\n",
       "  background-size: 2px 100%;\n",
       "  background-repeat: no-repeat;\n",
       "  background-position: center center;\n",
       "}\n",
       "\n",
       "/* Parallel-specific style estimator block */\n",
       "\n",
       "#sk-container-id-1 div.sk-parallel-item::after {\n",
       "  content: \"\";\n",
       "  width: 100%;\n",
       "  border-bottom: 2px solid var(--sklearn-color-text-on-default-background);\n",
       "  flex-grow: 1;\n",
       "}\n",
       "\n",
       "#sk-container-id-1 div.sk-parallel {\n",
       "  display: flex;\n",
       "  align-items: stretch;\n",
       "  justify-content: center;\n",
       "  background-color: var(--sklearn-color-background);\n",
       "  position: relative;\n",
       "}\n",
       "\n",
       "#sk-container-id-1 div.sk-parallel-item {\n",
       "  display: flex;\n",
       "  flex-direction: column;\n",
       "}\n",
       "\n",
       "#sk-container-id-1 div.sk-parallel-item:first-child::after {\n",
       "  align-self: flex-end;\n",
       "  width: 50%;\n",
       "}\n",
       "\n",
       "#sk-container-id-1 div.sk-parallel-item:last-child::after {\n",
       "  align-self: flex-start;\n",
       "  width: 50%;\n",
       "}\n",
       "\n",
       "#sk-container-id-1 div.sk-parallel-item:only-child::after {\n",
       "  width: 0;\n",
       "}\n",
       "\n",
       "/* Serial-specific style estimator block */\n",
       "\n",
       "#sk-container-id-1 div.sk-serial {\n",
       "  display: flex;\n",
       "  flex-direction: column;\n",
       "  align-items: center;\n",
       "  background-color: var(--sklearn-color-background);\n",
       "  padding-right: 1em;\n",
       "  padding-left: 1em;\n",
       "}\n",
       "\n",
       "\n",
       "/* Toggleable style: style used for estimator/Pipeline/ColumnTransformer box that is\n",
       "clickable and can be expanded/collapsed.\n",
       "- Pipeline and ColumnTransformer use this feature and define the default style\n",
       "- Estimators will overwrite some part of the style using the `sk-estimator` class\n",
       "*/\n",
       "\n",
       "/* Pipeline and ColumnTransformer style (default) */\n",
       "\n",
       "#sk-container-id-1 div.sk-toggleable {\n",
       "  /* Default theme specific background. It is overwritten whether we have a\n",
       "  specific estimator or a Pipeline/ColumnTransformer */\n",
       "  background-color: var(--sklearn-color-background);\n",
       "}\n",
       "\n",
       "/* Toggleable label */\n",
       "#sk-container-id-1 label.sk-toggleable__label {\n",
       "  cursor: pointer;\n",
       "  display: flex;\n",
       "  width: 100%;\n",
       "  margin-bottom: 0;\n",
       "  padding: 0.5em;\n",
       "  box-sizing: border-box;\n",
       "  text-align: center;\n",
       "  align-items: start;\n",
       "  justify-content: space-between;\n",
       "  gap: 0.5em;\n",
       "}\n",
       "\n",
       "#sk-container-id-1 label.sk-toggleable__label .caption {\n",
       "  font-size: 0.6rem;\n",
       "  font-weight: lighter;\n",
       "  color: var(--sklearn-color-text-muted);\n",
       "}\n",
       "\n",
       "#sk-container-id-1 label.sk-toggleable__label-arrow:before {\n",
       "  /* Arrow on the left of the label */\n",
       "  content: \"▸\";\n",
       "  float: left;\n",
       "  margin-right: 0.25em;\n",
       "  color: var(--sklearn-color-icon);\n",
       "}\n",
       "\n",
       "#sk-container-id-1 label.sk-toggleable__label-arrow:hover:before {\n",
       "  color: var(--sklearn-color-text);\n",
       "}\n",
       "\n",
       "/* Toggleable content - dropdown */\n",
       "\n",
       "#sk-container-id-1 div.sk-toggleable__content {\n",
       "  max-height: 0;\n",
       "  max-width: 0;\n",
       "  overflow: hidden;\n",
       "  text-align: left;\n",
       "  /* unfitted */\n",
       "  background-color: var(--sklearn-color-unfitted-level-0);\n",
       "}\n",
       "\n",
       "#sk-container-id-1 div.sk-toggleable__content.fitted {\n",
       "  /* fitted */\n",
       "  background-color: var(--sklearn-color-fitted-level-0);\n",
       "}\n",
       "\n",
       "#sk-container-id-1 div.sk-toggleable__content pre {\n",
       "  margin: 0.2em;\n",
       "  border-radius: 0.25em;\n",
       "  color: var(--sklearn-color-text);\n",
       "  /* unfitted */\n",
       "  background-color: var(--sklearn-color-unfitted-level-0);\n",
       "}\n",
       "\n",
       "#sk-container-id-1 div.sk-toggleable__content.fitted pre {\n",
       "  /* unfitted */\n",
       "  background-color: var(--sklearn-color-fitted-level-0);\n",
       "}\n",
       "\n",
       "#sk-container-id-1 input.sk-toggleable__control:checked~div.sk-toggleable__content {\n",
       "  /* Expand drop-down */\n",
       "  max-height: 200px;\n",
       "  max-width: 100%;\n",
       "  overflow: auto;\n",
       "}\n",
       "\n",
       "#sk-container-id-1 input.sk-toggleable__control:checked~label.sk-toggleable__label-arrow:before {\n",
       "  content: \"▾\";\n",
       "}\n",
       "\n",
       "/* Pipeline/ColumnTransformer-specific style */\n",
       "\n",
       "#sk-container-id-1 div.sk-label input.sk-toggleable__control:checked~label.sk-toggleable__label {\n",
       "  color: var(--sklearn-color-text);\n",
       "  background-color: var(--sklearn-color-unfitted-level-2);\n",
       "}\n",
       "\n",
       "#sk-container-id-1 div.sk-label.fitted input.sk-toggleable__control:checked~label.sk-toggleable__label {\n",
       "  background-color: var(--sklearn-color-fitted-level-2);\n",
       "}\n",
       "\n",
       "/* Estimator-specific style */\n",
       "\n",
       "/* Colorize estimator box */\n",
       "#sk-container-id-1 div.sk-estimator input.sk-toggleable__control:checked~label.sk-toggleable__label {\n",
       "  /* unfitted */\n",
       "  background-color: var(--sklearn-color-unfitted-level-2);\n",
       "}\n",
       "\n",
       "#sk-container-id-1 div.sk-estimator.fitted input.sk-toggleable__control:checked~label.sk-toggleable__label {\n",
       "  /* fitted */\n",
       "  background-color: var(--sklearn-color-fitted-level-2);\n",
       "}\n",
       "\n",
       "#sk-container-id-1 div.sk-label label.sk-toggleable__label,\n",
       "#sk-container-id-1 div.sk-label label {\n",
       "  /* The background is the default theme color */\n",
       "  color: var(--sklearn-color-text-on-default-background);\n",
       "}\n",
       "\n",
       "/* On hover, darken the color of the background */\n",
       "#sk-container-id-1 div.sk-label:hover label.sk-toggleable__label {\n",
       "  color: var(--sklearn-color-text);\n",
       "  background-color: var(--sklearn-color-unfitted-level-2);\n",
       "}\n",
       "\n",
       "/* Label box, darken color on hover, fitted */\n",
       "#sk-container-id-1 div.sk-label.fitted:hover label.sk-toggleable__label.fitted {\n",
       "  color: var(--sklearn-color-text);\n",
       "  background-color: var(--sklearn-color-fitted-level-2);\n",
       "}\n",
       "\n",
       "/* Estimator label */\n",
       "\n",
       "#sk-container-id-1 div.sk-label label {\n",
       "  font-family: monospace;\n",
       "  font-weight: bold;\n",
       "  display: inline-block;\n",
       "  line-height: 1.2em;\n",
       "}\n",
       "\n",
       "#sk-container-id-1 div.sk-label-container {\n",
       "  text-align: center;\n",
       "}\n",
       "\n",
       "/* Estimator-specific */\n",
       "#sk-container-id-1 div.sk-estimator {\n",
       "  font-family: monospace;\n",
       "  border: 1px dotted var(--sklearn-color-border-box);\n",
       "  border-radius: 0.25em;\n",
       "  box-sizing: border-box;\n",
       "  margin-bottom: 0.5em;\n",
       "  /* unfitted */\n",
       "  background-color: var(--sklearn-color-unfitted-level-0);\n",
       "}\n",
       "\n",
       "#sk-container-id-1 div.sk-estimator.fitted {\n",
       "  /* fitted */\n",
       "  background-color: var(--sklearn-color-fitted-level-0);\n",
       "}\n",
       "\n",
       "/* on hover */\n",
       "#sk-container-id-1 div.sk-estimator:hover {\n",
       "  /* unfitted */\n",
       "  background-color: var(--sklearn-color-unfitted-level-2);\n",
       "}\n",
       "\n",
       "#sk-container-id-1 div.sk-estimator.fitted:hover {\n",
       "  /* fitted */\n",
       "  background-color: var(--sklearn-color-fitted-level-2);\n",
       "}\n",
       "\n",
       "/* Specification for estimator info (e.g. \"i\" and \"?\") */\n",
       "\n",
       "/* Common style for \"i\" and \"?\" */\n",
       "\n",
       ".sk-estimator-doc-link,\n",
       "a:link.sk-estimator-doc-link,\n",
       "a:visited.sk-estimator-doc-link {\n",
       "  float: right;\n",
       "  font-size: smaller;\n",
       "  line-height: 1em;\n",
       "  font-family: monospace;\n",
       "  background-color: var(--sklearn-color-background);\n",
       "  border-radius: 1em;\n",
       "  height: 1em;\n",
       "  width: 1em;\n",
       "  text-decoration: none !important;\n",
       "  margin-left: 0.5em;\n",
       "  text-align: center;\n",
       "  /* unfitted */\n",
       "  border: var(--sklearn-color-unfitted-level-1) 1pt solid;\n",
       "  color: var(--sklearn-color-unfitted-level-1);\n",
       "}\n",
       "\n",
       ".sk-estimator-doc-link.fitted,\n",
       "a:link.sk-estimator-doc-link.fitted,\n",
       "a:visited.sk-estimator-doc-link.fitted {\n",
       "  /* fitted */\n",
       "  border: var(--sklearn-color-fitted-level-1) 1pt solid;\n",
       "  color: var(--sklearn-color-fitted-level-1);\n",
       "}\n",
       "\n",
       "/* On hover */\n",
       "div.sk-estimator:hover .sk-estimator-doc-link:hover,\n",
       ".sk-estimator-doc-link:hover,\n",
       "div.sk-label-container:hover .sk-estimator-doc-link:hover,\n",
       ".sk-estimator-doc-link:hover {\n",
       "  /* unfitted */\n",
       "  background-color: var(--sklearn-color-unfitted-level-3);\n",
       "  color: var(--sklearn-color-background);\n",
       "  text-decoration: none;\n",
       "}\n",
       "\n",
       "div.sk-estimator.fitted:hover .sk-estimator-doc-link.fitted:hover,\n",
       ".sk-estimator-doc-link.fitted:hover,\n",
       "div.sk-label-container:hover .sk-estimator-doc-link.fitted:hover,\n",
       ".sk-estimator-doc-link.fitted:hover {\n",
       "  /* fitted */\n",
       "  background-color: var(--sklearn-color-fitted-level-3);\n",
       "  color: var(--sklearn-color-background);\n",
       "  text-decoration: none;\n",
       "}\n",
       "\n",
       "/* Span, style for the box shown on hovering the info icon */\n",
       ".sk-estimator-doc-link span {\n",
       "  display: none;\n",
       "  z-index: 9999;\n",
       "  position: relative;\n",
       "  font-weight: normal;\n",
       "  right: .2ex;\n",
       "  padding: .5ex;\n",
       "  margin: .5ex;\n",
       "  width: min-content;\n",
       "  min-width: 20ex;\n",
       "  max-width: 50ex;\n",
       "  color: var(--sklearn-color-text);\n",
       "  box-shadow: 2pt 2pt 4pt #999;\n",
       "  /* unfitted */\n",
       "  background: var(--sklearn-color-unfitted-level-0);\n",
       "  border: .5pt solid var(--sklearn-color-unfitted-level-3);\n",
       "}\n",
       "\n",
       ".sk-estimator-doc-link.fitted span {\n",
       "  /* fitted */\n",
       "  background: var(--sklearn-color-fitted-level-0);\n",
       "  border: var(--sklearn-color-fitted-level-3);\n",
       "}\n",
       "\n",
       ".sk-estimator-doc-link:hover span {\n",
       "  display: block;\n",
       "}\n",
       "\n",
       "/* \"?\"-specific style due to the `<a>` HTML tag */\n",
       "\n",
       "#sk-container-id-1 a.estimator_doc_link {\n",
       "  float: right;\n",
       "  font-size: 1rem;\n",
       "  line-height: 1em;\n",
       "  font-family: monospace;\n",
       "  background-color: var(--sklearn-color-background);\n",
       "  border-radius: 1rem;\n",
       "  height: 1rem;\n",
       "  width: 1rem;\n",
       "  text-decoration: none;\n",
       "  /* unfitted */\n",
       "  color: var(--sklearn-color-unfitted-level-1);\n",
       "  border: var(--sklearn-color-unfitted-level-1) 1pt solid;\n",
       "}\n",
       "\n",
       "#sk-container-id-1 a.estimator_doc_link.fitted {\n",
       "  /* fitted */\n",
       "  border: var(--sklearn-color-fitted-level-1) 1pt solid;\n",
       "  color: var(--sklearn-color-fitted-level-1);\n",
       "}\n",
       "\n",
       "/* On hover */\n",
       "#sk-container-id-1 a.estimator_doc_link:hover {\n",
       "  /* unfitted */\n",
       "  background-color: var(--sklearn-color-unfitted-level-3);\n",
       "  color: var(--sklearn-color-background);\n",
       "  text-decoration: none;\n",
       "}\n",
       "\n",
       "#sk-container-id-1 a.estimator_doc_link.fitted:hover {\n",
       "  /* fitted */\n",
       "  background-color: var(--sklearn-color-fitted-level-3);\n",
       "}\n",
       "</style><div id=\"sk-container-id-1\" class=\"sk-top-container\"><div class=\"sk-text-repr-fallback\"><pre>Pipeline(steps=[(&#x27;transformer&#x27;,\n",
       "                 ColumnTransformer(transformers=[(&#x27;num&#x27;,\n",
       "                                                  Pipeline(steps=[(&#x27;scaler&#x27;,\n",
       "                                                                   StandardScaler()),\n",
       "                                                                  (&#x27;ii&#x27;,\n",
       "                                                                   IterativeImputer(max_iter=30,\n",
       "                                                                                    sample_posterior=True))]),\n",
       "                                                  [&#x27;AcceleratorPedal&#x27;,\n",
       "                                                   &#x27;BarometricPressure&#x27;,\n",
       "                                                   &#x27;EngineCoolantTemperature&#x27;,\n",
       "                                                   &#x27;EngineOilPressure&#x27;,\n",
       "                                                   &#x27;EngineOilTemperature&#x27;,\n",
       "                                                   &#x27;EngineRpm&#x27;, &#x27;FuelLevel&#x27;,\n",
       "                                                   &#x27;activeTransitionCount&#x27;,\n",
       "                                                   &#x27;FuelLtd&#x27;, &#x27;FuelT...\n",
       "                                                   &#x27;EngineTimeLtd&#x27;,\n",
       "                                                   &#x27;Throttle&#x27;]),\n",
       "                                                 (&#x27;cat&#x27;,\n",
       "                                                  Pipeline(steps=[(&#x27;ohe&#x27;,\n",
       "                                                                   OneHotEncoder(handle_unknown=&#x27;ignore&#x27;)),\n",
       "                                                                  (&#x27;si&#x27;,\n",
       "                                                                   SimpleImputer(strategy=&#x27;most_frequent&#x27;))]),\n",
       "                                                  [&#x27;spn&#x27;, &#x27;fmi&#x27;, &#x27;ecuSource&#x27;]),\n",
       "                                                 (&#x27;bool&#x27;,\n",
       "                                                  Pipeline(steps=[(&#x27;ii&#x27;,\n",
       "                                                                   IterativeImputer(initial_strategy=&#x27;most_frequent&#x27;,\n",
       "                                                                                    max_iter=30,\n",
       "                                                                                    sample_posterior=True))]),\n",
       "                                                  [&#x27;CruiseControlActive&#x27;,\n",
       "                                                   &#x27;IgnStatus&#x27;, &#x27;ParkingBrake&#x27;,\n",
       "                                                   &#x27;active&#x27;])]))])</pre><b>In a Jupyter environment, please rerun this cell to show the HTML representation or trust the notebook. <br />On GitHub, the HTML representation is unable to render, please try loading this page with nbviewer.org.</b></div><div class=\"sk-container\" hidden><div class=\"sk-item sk-dashed-wrapped\"><div class=\"sk-label-container\"><div class=\"sk-label fitted sk-toggleable\"><input class=\"sk-toggleable__control sk-hidden--visually\" id=\"sk-estimator-id-1\" type=\"checkbox\" ><label for=\"sk-estimator-id-1\" class=\"sk-toggleable__label fitted sk-toggleable__label-arrow\"><div><div>Pipeline</div></div><div><a class=\"sk-estimator-doc-link fitted\" rel=\"noreferrer\" target=\"_blank\" href=\"https://scikit-learn.org/1.6/modules/generated/sklearn.pipeline.Pipeline.html\">?<span>Documentation for Pipeline</span></a><span class=\"sk-estimator-doc-link fitted\">i<span>Fitted</span></span></div></label><div class=\"sk-toggleable__content fitted\"><pre>Pipeline(steps=[(&#x27;transformer&#x27;,\n",
       "                 ColumnTransformer(transformers=[(&#x27;num&#x27;,\n",
       "                                                  Pipeline(steps=[(&#x27;scaler&#x27;,\n",
       "                                                                   StandardScaler()),\n",
       "                                                                  (&#x27;ii&#x27;,\n",
       "                                                                   IterativeImputer(max_iter=30,\n",
       "                                                                                    sample_posterior=True))]),\n",
       "                                                  [&#x27;AcceleratorPedal&#x27;,\n",
       "                                                   &#x27;BarometricPressure&#x27;,\n",
       "                                                   &#x27;EngineCoolantTemperature&#x27;,\n",
       "                                                   &#x27;EngineOilPressure&#x27;,\n",
       "                                                   &#x27;EngineOilTemperature&#x27;,\n",
       "                                                   &#x27;EngineRpm&#x27;, &#x27;FuelLevel&#x27;,\n",
       "                                                   &#x27;activeTransitionCount&#x27;,\n",
       "                                                   &#x27;FuelLtd&#x27;, &#x27;FuelT...\n",
       "                                                   &#x27;EngineTimeLtd&#x27;,\n",
       "                                                   &#x27;Throttle&#x27;]),\n",
       "                                                 (&#x27;cat&#x27;,\n",
       "                                                  Pipeline(steps=[(&#x27;ohe&#x27;,\n",
       "                                                                   OneHotEncoder(handle_unknown=&#x27;ignore&#x27;)),\n",
       "                                                                  (&#x27;si&#x27;,\n",
       "                                                                   SimpleImputer(strategy=&#x27;most_frequent&#x27;))]),\n",
       "                                                  [&#x27;spn&#x27;, &#x27;fmi&#x27;, &#x27;ecuSource&#x27;]),\n",
       "                                                 (&#x27;bool&#x27;,\n",
       "                                                  Pipeline(steps=[(&#x27;ii&#x27;,\n",
       "                                                                   IterativeImputer(initial_strategy=&#x27;most_frequent&#x27;,\n",
       "                                                                                    max_iter=30,\n",
       "                                                                                    sample_posterior=True))]),\n",
       "                                                  [&#x27;CruiseControlActive&#x27;,\n",
       "                                                   &#x27;IgnStatus&#x27;, &#x27;ParkingBrake&#x27;,\n",
       "                                                   &#x27;active&#x27;])]))])</pre></div> </div></div><div class=\"sk-serial\"><div class=\"sk-item sk-dashed-wrapped\"><div class=\"sk-label-container\"><div class=\"sk-label fitted sk-toggleable\"><input class=\"sk-toggleable__control sk-hidden--visually\" id=\"sk-estimator-id-2\" type=\"checkbox\" ><label for=\"sk-estimator-id-2\" class=\"sk-toggleable__label fitted sk-toggleable__label-arrow\"><div><div>transformer: ColumnTransformer</div></div><div><a class=\"sk-estimator-doc-link fitted\" rel=\"noreferrer\" target=\"_blank\" href=\"https://scikit-learn.org/1.6/modules/generated/sklearn.compose.ColumnTransformer.html\">?<span>Documentation for transformer: ColumnTransformer</span></a></div></label><div class=\"sk-toggleable__content fitted\"><pre>ColumnTransformer(transformers=[(&#x27;num&#x27;,\n",
       "                                 Pipeline(steps=[(&#x27;scaler&#x27;, StandardScaler()),\n",
       "                                                 (&#x27;ii&#x27;,\n",
       "                                                  IterativeImputer(max_iter=30,\n",
       "                                                                   sample_posterior=True))]),\n",
       "                                 [&#x27;AcceleratorPedal&#x27;, &#x27;BarometricPressure&#x27;,\n",
       "                                  &#x27;EngineCoolantTemperature&#x27;,\n",
       "                                  &#x27;EngineOilPressure&#x27;, &#x27;EngineOilTemperature&#x27;,\n",
       "                                  &#x27;EngineRpm&#x27;, &#x27;FuelLevel&#x27;,\n",
       "                                  &#x27;activeTransitionCount&#x27;, &#x27;FuelLtd&#x27;,\n",
       "                                  &#x27;FuelTemperature&#x27;,\n",
       "                                  &#x27;IntakeManifoldTemp...\n",
       "                                  &#x27;FuelRate&#x27;, &#x27;EngineTimeLtd&#x27;, &#x27;Throttle&#x27;]),\n",
       "                                (&#x27;cat&#x27;,\n",
       "                                 Pipeline(steps=[(&#x27;ohe&#x27;,\n",
       "                                                  OneHotEncoder(handle_unknown=&#x27;ignore&#x27;)),\n",
       "                                                 (&#x27;si&#x27;,\n",
       "                                                  SimpleImputer(strategy=&#x27;most_frequent&#x27;))]),\n",
       "                                 [&#x27;spn&#x27;, &#x27;fmi&#x27;, &#x27;ecuSource&#x27;]),\n",
       "                                (&#x27;bool&#x27;,\n",
       "                                 Pipeline(steps=[(&#x27;ii&#x27;,\n",
       "                                                  IterativeImputer(initial_strategy=&#x27;most_frequent&#x27;,\n",
       "                                                                   max_iter=30,\n",
       "                                                                   sample_posterior=True))]),\n",
       "                                 [&#x27;CruiseControlActive&#x27;, &#x27;IgnStatus&#x27;,\n",
       "                                  &#x27;ParkingBrake&#x27;, &#x27;active&#x27;])])</pre></div> </div></div><div class=\"sk-parallel\"><div class=\"sk-parallel-item\"><div class=\"sk-item\"><div class=\"sk-label-container\"><div class=\"sk-label fitted sk-toggleable\"><input class=\"sk-toggleable__control sk-hidden--visually\" id=\"sk-estimator-id-3\" type=\"checkbox\" ><label for=\"sk-estimator-id-3\" class=\"sk-toggleable__label fitted sk-toggleable__label-arrow\"><div><div>num</div></div></label><div class=\"sk-toggleable__content fitted\"><pre>[&#x27;AcceleratorPedal&#x27;, &#x27;BarometricPressure&#x27;, &#x27;EngineCoolantTemperature&#x27;, &#x27;EngineOilPressure&#x27;, &#x27;EngineOilTemperature&#x27;, &#x27;EngineRpm&#x27;, &#x27;FuelLevel&#x27;, &#x27;activeTransitionCount&#x27;, &#x27;FuelLtd&#x27;, &#x27;FuelTemperature&#x27;, &#x27;IntakeManifoldTemperature&#x27;, &#x27;Speed&#x27;, &#x27;FuelRate&#x27;, &#x27;EngineTimeLtd&#x27;, &#x27;Throttle&#x27;]</pre></div> </div></div><div class=\"sk-serial\"><div class=\"sk-item\"><div class=\"sk-serial\"><div class=\"sk-item\"><div class=\"sk-estimator fitted sk-toggleable\"><input class=\"sk-toggleable__control sk-hidden--visually\" id=\"sk-estimator-id-4\" type=\"checkbox\" ><label for=\"sk-estimator-id-4\" class=\"sk-toggleable__label fitted sk-toggleable__label-arrow\"><div><div>StandardScaler</div></div><div><a class=\"sk-estimator-doc-link fitted\" rel=\"noreferrer\" target=\"_blank\" href=\"https://scikit-learn.org/1.6/modules/generated/sklearn.preprocessing.StandardScaler.html\">?<span>Documentation for StandardScaler</span></a></div></label><div class=\"sk-toggleable__content fitted\"><pre>StandardScaler()</pre></div> </div></div><div class=\"sk-item\"><div class=\"sk-estimator fitted sk-toggleable\"><input class=\"sk-toggleable__control sk-hidden--visually\" id=\"sk-estimator-id-5\" type=\"checkbox\" ><label for=\"sk-estimator-id-5\" class=\"sk-toggleable__label fitted sk-toggleable__label-arrow\"><div><div>IterativeImputer</div></div><div><a class=\"sk-estimator-doc-link fitted\" rel=\"noreferrer\" target=\"_blank\" href=\"https://scikit-learn.org/1.6/modules/generated/sklearn.impute.IterativeImputer.html\">?<span>Documentation for IterativeImputer</span></a></div></label><div class=\"sk-toggleable__content fitted\"><pre>IterativeImputer(max_iter=30, sample_posterior=True)</pre></div> </div></div></div></div></div></div></div><div class=\"sk-parallel-item\"><div class=\"sk-item\"><div class=\"sk-label-container\"><div class=\"sk-label fitted sk-toggleable\"><input class=\"sk-toggleable__control sk-hidden--visually\" id=\"sk-estimator-id-6\" type=\"checkbox\" ><label for=\"sk-estimator-id-6\" class=\"sk-toggleable__label fitted sk-toggleable__label-arrow\"><div><div>cat</div></div></label><div class=\"sk-toggleable__content fitted\"><pre>[&#x27;spn&#x27;, &#x27;fmi&#x27;, &#x27;ecuSource&#x27;]</pre></div> </div></div><div class=\"sk-serial\"><div class=\"sk-item\"><div class=\"sk-serial\"><div class=\"sk-item\"><div class=\"sk-estimator fitted sk-toggleable\"><input class=\"sk-toggleable__control sk-hidden--visually\" id=\"sk-estimator-id-7\" type=\"checkbox\" ><label for=\"sk-estimator-id-7\" class=\"sk-toggleable__label fitted sk-toggleable__label-arrow\"><div><div>OneHotEncoder</div></div><div><a class=\"sk-estimator-doc-link fitted\" rel=\"noreferrer\" target=\"_blank\" href=\"https://scikit-learn.org/1.6/modules/generated/sklearn.preprocessing.OneHotEncoder.html\">?<span>Documentation for OneHotEncoder</span></a></div></label><div class=\"sk-toggleable__content fitted\"><pre>OneHotEncoder(handle_unknown=&#x27;ignore&#x27;)</pre></div> </div></div><div class=\"sk-item\"><div class=\"sk-estimator fitted sk-toggleable\"><input class=\"sk-toggleable__control sk-hidden--visually\" id=\"sk-estimator-id-8\" type=\"checkbox\" ><label for=\"sk-estimator-id-8\" class=\"sk-toggleable__label fitted sk-toggleable__label-arrow\"><div><div>SimpleImputer</div></div><div><a class=\"sk-estimator-doc-link fitted\" rel=\"noreferrer\" target=\"_blank\" href=\"https://scikit-learn.org/1.6/modules/generated/sklearn.impute.SimpleImputer.html\">?<span>Documentation for SimpleImputer</span></a></div></label><div class=\"sk-toggleable__content fitted\"><pre>SimpleImputer(strategy=&#x27;most_frequent&#x27;)</pre></div> </div></div></div></div></div></div></div><div class=\"sk-parallel-item\"><div class=\"sk-item\"><div class=\"sk-label-container\"><div class=\"sk-label fitted sk-toggleable\"><input class=\"sk-toggleable__control sk-hidden--visually\" id=\"sk-estimator-id-9\" type=\"checkbox\" ><label for=\"sk-estimator-id-9\" class=\"sk-toggleable__label fitted sk-toggleable__label-arrow\"><div><div>bool</div></div></label><div class=\"sk-toggleable__content fitted\"><pre>[&#x27;CruiseControlActive&#x27;, &#x27;IgnStatus&#x27;, &#x27;ParkingBrake&#x27;, &#x27;active&#x27;]</pre></div> </div></div><div class=\"sk-serial\"><div class=\"sk-item\"><div class=\"sk-serial\"><div class=\"sk-item\"><div class=\"sk-estimator fitted sk-toggleable\"><input class=\"sk-toggleable__control sk-hidden--visually\" id=\"sk-estimator-id-10\" type=\"checkbox\" ><label for=\"sk-estimator-id-10\" class=\"sk-toggleable__label fitted sk-toggleable__label-arrow\"><div><div>IterativeImputer</div></div><div><a class=\"sk-estimator-doc-link fitted\" rel=\"noreferrer\" target=\"_blank\" href=\"https://scikit-learn.org/1.6/modules/generated/sklearn.impute.IterativeImputer.html\">?<span>Documentation for IterativeImputer</span></a></div></label><div class=\"sk-toggleable__content fitted\"><pre>IterativeImputer(initial_strategy=&#x27;most_frequent&#x27;, max_iter=30,\n",
       "                 sample_posterior=True)</pre></div> </div></div></div></div></div></div></div></div></div></div></div></div></div>"
      ],
      "text/plain": [
       "Pipeline(steps=[('transformer',\n",
       "                 ColumnTransformer(transformers=[('num',\n",
       "                                                  Pipeline(steps=[('scaler',\n",
       "                                                                   StandardScaler()),\n",
       "                                                                  ('ii',\n",
       "                                                                   IterativeImputer(max_iter=30,\n",
       "                                                                                    sample_posterior=True))]),\n",
       "                                                  ['AcceleratorPedal',\n",
       "                                                   'BarometricPressure',\n",
       "                                                   'EngineCoolantTemperature',\n",
       "                                                   'EngineOilPressure',\n",
       "                                                   'EngineOilTemperature',\n",
       "                                                   'EngineRpm', 'FuelLevel',\n",
       "                                                   'activeTransitionCount',\n",
       "                                                   'FuelLtd', 'FuelT...\n",
       "                                                   'EngineTimeLtd',\n",
       "                                                   'Throttle']),\n",
       "                                                 ('cat',\n",
       "                                                  Pipeline(steps=[('ohe',\n",
       "                                                                   OneHotEncoder(handle_unknown='ignore')),\n",
       "                                                                  ('si',\n",
       "                                                                   SimpleImputer(strategy='most_frequent'))]),\n",
       "                                                  ['spn', 'fmi', 'ecuSource']),\n",
       "                                                 ('bool',\n",
       "                                                  Pipeline(steps=[('ii',\n",
       "                                                                   IterativeImputer(initial_strategy='most_frequent',\n",
       "                                                                                    max_iter=30,\n",
       "                                                                                    sample_posterior=True))]),\n",
       "                                                  ['CruiseControlActive',\n",
       "                                                   'IgnStatus', 'ParkingBrake',\n",
       "                                                   'active'])]))])"
      ]
     },
     "execution_count": 14,
     "metadata": {},
     "output_type": "execute_result"
    }
   ],
   "source": [
    "%%time\n",
    "\n",
    "numerical_pipeline = Pipeline([\n",
    "    ('scaler', StandardScaler()),\n",
    "    ('ii', IterativeImputer(initial_strategy = 'mean',\n",
    "                           max_iter = 30,\n",
    "                           sample_posterior = True))\n",
    "])\n",
    "\n",
    "categorical_pipeline = Pipeline([\n",
    "    ('ohe', OneHotEncoder(categories='auto', \n",
    "                          handle_unknown = 'ignore')),\n",
    "    ('si', SimpleImputer(strategy = 'most_frequent'))\n",
    "])\n",
    "\n",
    "boolean_pipeline = Pipeline([\n",
    "    ('ii', IterativeImputer(initial_strategy = 'most_frequent',\n",
    "                           max_iter = 30,\n",
    "                           sample_posterior = True))\n",
    "])\n",
    "\n",
    "ct = ColumnTransformer(\n",
    "    transformers=[\n",
    "        ('num', numerical_pipeline, scale_features),\n",
    "        ('cat', categorical_pipeline, ohe_features),\n",
    "        ('bool', boolean_pipeline, bool_features)\n",
    "    ],\n",
    "    remainder='drop'\n",
    ")\n",
    "\n",
    "pipe = Pipeline(\n",
    "    steps=[\n",
    "        ('transformer', ct)\n",
    "    ])\n",
    "\n",
    "pipe.fit(X_train, y_train)"
   ]
  },
  {
   "cell_type": "markdown",
   "id": "92a4fc79-7a84-45c9-98be-1ad514402921",
   "metadata": {},
   "source": [
    "The above cell takes 11 minutes to fit the pipe, and the cell below takes 4 minutes to transform the pipe."
   ]
  },
  {
   "cell_type": "code",
   "execution_count": 15,
   "id": "9d05f80c-1dad-498f-a7b8-f4c36b4867fc",
   "metadata": {},
   "outputs": [
    {
     "name": "stdout",
     "output_type": "stream",
     "text": [
      "CPU times: total: 4min 15s\n",
      "Wall time: 2min 52s\n"
     ]
    }
   ],
   "source": [
    "%%time\n",
    "\n",
    "X_train_transformed = pipe.transform(X_train)\n",
    "X_test_transformed = pipe.transform(X_test) "
   ]
  },
  {
   "cell_type": "code",
   "execution_count": 61,
   "id": "a3443490-f06f-443b-9693-ab55963f93a8",
   "metadata": {},
   "outputs": [],
   "source": [
    "smote = SMOTE(\n",
    "    sampling_strategy = 'minority'\n",
    ")\n",
    "X_train_balanced, y_train_balanced = smote.fit_resample(X_train_transformed, y_train)"
   ]
  },
  {
   "cell_type": "markdown",
   "id": "ff391d44-e3d7-4d07-865e-3c2d3a0cf385",
   "metadata": {},
   "source": [
    "Transformation of pipe and saving the pipe as a pickle object so that the pipe doesn't need to be fitted again."
   ]
  },
  {
   "cell_type": "code",
   "execution_count": 17,
   "id": "ef941504-ade6-4c1b-bb54-1c88a001ec77",
   "metadata": {},
   "outputs": [],
   "source": [
    "filename = 'pipe_transformed.pkl'\n",
    "\n",
    "pickle_list = [pipe, X_train_balanced, X_test_transformed, y_train_balanced]\n",
    "\n",
    "with open(filename, 'wb') as file:\n",
    "    pickle.dump(pickle_list, file)"
   ]
  },
  {
   "cell_type": "code",
   "execution_count": 18,
   "id": "ffbe6c19-6d0c-4ee9-973f-e6a09700fe8a",
   "metadata": {},
   "outputs": [],
   "source": [
    "filename = 'pipe_transformed.pkl'\n",
    "\n",
    "with open(filename, 'rb') as file:\n",
    "    pipe, X_train_balanced, X_test_transformed, y_train_balanced = pickle.load(file)"
   ]
  },
  {
   "cell_type": "markdown",
   "id": "a9a8ee9d-c2df-4f62-a509-63a6cbce5900",
   "metadata": {},
   "source": [
    "Applying the pipe transformations to models to see which model performs best."
   ]
  },
  {
   "cell_type": "markdown",
   "id": "7e9295dc-2138-45a2-b7bc-6debca63f709",
   "metadata": {},
   "source": [
    "%%time\n",
    "\n",
    "knn_model = KNeighborsClassifier().fit(X_train_balanced, y_train_balanced)"
   ]
  },
  {
   "cell_type": "markdown",
   "id": "b71067e2-6858-4b65-9ce7-12cbd63e3d13",
   "metadata": {},
   "source": [
    "%%time\n",
    "\n",
    "y_pred_knn = knn_model.predict(X_test_transformed)"
   ]
  },
  {
   "cell_type": "markdown",
   "id": "8aae687a-7616-4adf-a8c1-126653fc1710",
   "metadata": {},
   "source": [
    "filename = 'knn.pkl'\n",
    "\n",
    "pickle_list = [y_pred_knn, knn_model]\n",
    "\n",
    "with open(filename, 'wb') as file:\n",
    "    pickle.dump(pickle_list, file)"
   ]
  },
  {
   "cell_type": "markdown",
   "id": "c603ec13-6b60-466d-8aa0-204b467710df",
   "metadata": {},
   "source": [
    "filename = 'knn.pkl'\n",
    "\n",
    "with open(filename, 'rb') as file:\n",
    "    knn_model, y_pred_knn = pickle.load(file)"
   ]
  },
  {
   "cell_type": "markdown",
   "id": "800e226d-403b-4852-94b3-2005895c02e6",
   "metadata": {},
   "source": [
    "Prediction on KNeighborsClassifier takes a while"
   ]
  },
  {
   "cell_type": "markdown",
   "id": "a975bbeb-900b-4452-886a-ea8e13e880c0",
   "metadata": {},
   "source": [
    "print(f'Accuracy: {accuracy_score(y_test, y_pred_knn)}')\n",
    "print(f'MCC: {matthews_corrcoef(y_test, y_pred_knn)}')\n",
    "print(confusion_matrix(y_test, y_pred_knn))\n",
    "print(classification_report(y_test, y_pred_knn, zero_division = 0))\n",
    "#print(cross_val_score(knn_model, X_train_transformed, y_train, cv=3))"
   ]
  },
  {
   "cell_type": "markdown",
   "id": "ba588427-a890-4a48-b1af-d48336973be1",
   "metadata": {},
   "source": [
    "Cells below use hyperopt for hyperparameter tuning of xgboost"
   ]
  },
  {
   "cell_type": "markdown",
   "id": "2bec15a9-9451-4dfd-a9f6-2547335a06e6",
   "metadata": {},
   "source": [
    "space={'max_depth': hp.quniform(\"max_depth\", 3, 18, 1),\n",
    "        'gamma': hp.uniform ('gamma', 1,9),\n",
    "        'reg_alpha' : hp.quniform('reg_alpha', 40,180,1),\n",
    "        'reg_lambda' : hp.uniform('reg_lambda', 0,1),\n",
    "        'colsample_bytree' : hp.uniform('colsample_bytree', 0.5,1),\n",
    "        'min_child_weight' : hp.quniform('min_child_weight', 0, 10, 1),\n",
    "        'n_estimators': 180,\n",
    "        'seed': 0\n",
    "    }"
   ]
  },
  {
   "cell_type": "markdown",
   "id": "9e9833d7-fafa-492b-ae54-87bbf0e52af9",
   "metadata": {},
   "source": [
    "def objective(space):\n",
    "    clf = xgb.XGBClassifier(\n",
    "                    n_estimators =space['n_estimators'], \n",
    "                    max_depth = int(space['max_depth']), \n",
    "                    gamma = space['gamma'],\n",
    "                    reg_alpha = int(space['reg_alpha']),\n",
    "                    min_child_weight=(space['min_child_weight']),\n",
    "                    colsample_bytree=(space['colsample_bytree']),\n",
    "                    eval_metric=\"auc\",\n",
    "                    early_stopping_rounds=10)\n",
    "    \n",
    "    evaluation = [( X_train_balanced, y_train_balanced), ( X_test_transformed, y_test)]\n",
    "    \n",
    "    clf.fit(X_train_balanced, y_train_balanced,\n",
    "            eval_set=evaluation,\n",
    "            verbose=False)\n",
    "    \n",
    "\n",
    "    pred = clf.predict(X_test_transformed)\n",
    "    accuracy = accuracy_score(y_test, pred>0.5)\n",
    "    print (\"SCORE:\", accuracy)\n",
    "    return {'loss': -accuracy, 'status': STATUS_OK }"
   ]
  },
  {
   "cell_type": "markdown",
   "id": "7cb032f3-d74d-4e11-8fe0-1330566ad7c1",
   "metadata": {},
   "source": [
    "trials = Trials()\n",
    "\n",
    "best_hyperparams = fmin(fn = objective,\n",
    "                        space = space,\n",
    "                        algo = tpe.suggest,\n",
    "                        max_evals = 100,\n",
    "                        trials = trials)"
   ]
  },
  {
   "cell_type": "markdown",
   "id": "be9d2b1c-0d81-4a31-a105-434b6ea9158c",
   "metadata": {},
   "source": [
    "print(\"The best hyperparameters are : \",\"\\n\")\n",
    "print(best_hyperparams)"
   ]
  },
  {
   "cell_type": "code",
   "execution_count": 62,
   "id": "d8d008ca-411c-4622-8198-4e74595a1345",
   "metadata": {},
   "outputs": [
    {
     "name": "stdout",
     "output_type": "stream",
     "text": [
      "CPU times: total: 4min 29s\n",
      "Wall time: 23.3 s\n"
     ]
    }
   ],
   "source": [
    "%%time\n",
    "\n",
    "xgbm = XGBClassifier(\n",
    "    objective=\"binary:logistic\",\n",
    "    learning_rate=0.1,\n",
    "    colsample_bytree = 0.9179993452534458,\n",
    "    gamma = 3.55507468819673,\n",
    "    max_depth = 17,\n",
    "    min_child_weight = 9,\n",
    "    reg_alpha = 62,\n",
    "    n_estimators = 100,\n",
    "    reg_lambda = 0.5990326545008506,\n",
    "    scale_pos_weight = 2\n",
    ").fit(X_train_balanced, y_train_balanced)\n",
    "\n",
    "y_pred_xgbm = xgbm.predict(X_test_transformed)"
   ]
  },
  {
   "cell_type": "markdown",
   "id": "0e3b6370-1636-4e1a-aba2-ac1efa3e7dfa",
   "metadata": {},
   "source": [
    "Cell below allowed for the feature importance graphing of scaled features, but is broken when all features are selected"
   ]
  },
  {
   "cell_type": "markdown",
   "id": "f5cf04b5-fc9a-4504-873d-6011ccb2ab95",
   "metadata": {},
   "source": [
    "xgbm.get_booster().feature_names = scale_features\n",
    "\n",
    "plot_importance(xgbm)\n",
    "plt.figure(figsize = (16, 12))\n",
    "#plt.savefig(\"graphs/feature_importance.png\")\n",
    "plt.show();"
   ]
  },
  {
   "cell_type": "code",
   "execution_count": 20,
   "id": "f2e17c86-fb0b-4001-9134-19cb4e1a4875",
   "metadata": {},
   "outputs": [],
   "source": [
    "filename = 'xgbm.pkl'\n",
    "\n",
    "pickle_list = [y_pred_xgbm, xgbm]\n",
    "\n",
    "with open(filename, 'wb') as file:\n",
    "    pickle.dump(pickle_list, file)"
   ]
  },
  {
   "cell_type": "code",
   "execution_count": 21,
   "id": "2ca0f7b2-d2aa-41ef-be53-d5a91d664bb0",
   "metadata": {},
   "outputs": [],
   "source": [
    "filename = 'xgbm.pkl'\n",
    "\n",
    "with open(filename, 'rb') as file:\n",
    "    y_pred_xgbm, xgbm = pickle.load(file)"
   ]
  },
  {
   "cell_type": "code",
   "execution_count": 63,
   "id": "d4cd5b2a-8880-4355-92a9-7c96ce9a2807",
   "metadata": {},
   "outputs": [
    {
     "name": "stdout",
     "output_type": "stream",
     "text": [
      "Accuracy: 0.9921428635495242\n",
      "MCC: 0.1144354097881846\n",
      "[[110561    619]\n",
      " [   257     54]]\n",
      "              precision    recall  f1-score   support\n",
      "\n",
      "           0       1.00      0.99      1.00    111180\n",
      "           1       0.08      0.17      0.11       311\n",
      "\n",
      "    accuracy                           0.99    111491\n",
      "   macro avg       0.54      0.58      0.55    111491\n",
      "weighted avg       1.00      0.99      0.99    111491\n",
      "\n"
     ]
    }
   ],
   "source": [
    "print(f'Accuracy: {accuracy_score(y_test, y_pred_xgbm)}')\n",
    "print(f'MCC: {matthews_corrcoef(y_test, y_pred_xgbm)}')\n",
    "print(confusion_matrix(y_test, y_pred_xgbm))\n",
    "print(classification_report(y_test, y_pred_xgbm, zero_division = 0))"
   ]
  },
  {
   "cell_type": "code",
   "execution_count": 23,
   "id": "319c7f79-6e77-4042-896f-84beebdfc6c0",
   "metadata": {},
   "outputs": [],
   "source": [
    "probas = xgbm.predict_proba(X_test_transformed)"
   ]
  },
  {
   "cell_type": "code",
   "execution_count": 24,
   "id": "5ec76181-c860-42d3-99e7-b4fc9fa24c68",
   "metadata": {},
   "outputs": [
    {
     "data": {
      "image/png": "[encoded data removed]",
      "text/plain": [
       "<Figure size 640x480 with 1 Axes>"
      ]
     },
     "metadata": {},
     "output_type": "display_data"
    }
   ],
   "source": [
    "skplt.metrics.plot_precision_recall(y_test, probas)\n",
    "#plt.savefig(\"graphs/precision_recall_curve.png\")\n",
    "plt.show()"
   ]
  },
  {
   "cell_type": "code",
   "execution_count": 25,
   "id": "b668de2d-7960-4694-ad65-e3774fd1e986",
   "metadata": {},
   "outputs": [
    {
     "data": {
      "image/png": "[encoded data removed]",
      "text/plain": [
       "<Figure size 800x600 with 1 Axes>"
      ]
     },
     "metadata": {},
     "output_type": "display_data"
    }
   ],
   "source": [
    "fpr, tpr, thresholds = roc_curve(y_test, y_pred_xgbm)\n",
    "roc_auc = roc_auc_score(y_test, y_pred_xgbm)\n",
    "\n",
    "plt.figure(figsize=(8, 6))\n",
    "plt.plot(fpr, tpr, color='#3ABC00', lw=2, label=f'ROC curve (AUC = {roc_auc:.2f})')\n",
    "plt.plot([0, 1], [0, 1], color='navy', lw=2, linestyle='--')\n",
    "plt.xlim([0.0, 1.0])\n",
    "plt.ylim([0.0, 1.05])\n",
    "plt.xlabel('False Positive Rate')\n",
    "plt.ylabel('True Positive Rate')\n",
    "plt.title('Receiver Operating Characteristic (ROC)')\n",
    "plt.legend(loc=\"lower right\")\n",
    "#plt.savefig(\"graphs/roc_curve.png\")\n",
    "plt.show();"
   ]
  },
  {
   "cell_type": "code",
   "execution_count": 26,
   "id": "80a301d1-5776-46e9-ba56-c09a4e1b4982",
   "metadata": {},
   "outputs": [],
   "source": [
    "def target_pred(df, event, equipment, target, pred):\n",
    "    df = df[[event, equipment, target]].copy()\n",
    "    df['predict'] = pred\n",
    "    df[event] = pd.to_datetime(df[event])\n",
    "    df = df.sort_values(by=[equipment, event])\n",
    "    df['time_diff'] = df.groupby(equipment)[event].diff().dt.total_seconds() / 3600\n",
    "    df['valid_group'] = (df['time_diff'].isna()) | (df['time_diff'] <= 2)\n",
    "    df['temp_group'] = (~df['valid_group']).cumsum()\n",
    "    df['combined'] = df[target].astype(str) + '_' + df['predict'].astype(str)\n",
    "    \n",
    "    result = df.groupby([equipment, 'temp_group'])['combined'].value_counts().reset_index(name='count')\n",
    "    result = result.groupby(equipment)['combined'].value_counts().unstack(fill_value=0).drop_duplicates()\n",
    "    result = result.rename(columns = {'0_0': 'true negative', '0_1': 'false positive', '1_0': 'false negative', '1_1': 'true positive'})\n",
    "    counts = (result.iloc[:,0].sum() * 0) - (result.iloc[:,1].sum() * 500) - (result.iloc[:,2].sum() * 4000) + (result.iloc[:,3].sum() * 4000)\n",
    "    return counts"
   ]
  },
  {
   "cell_type": "code",
   "execution_count": 64,
   "id": "036e0647-b1b2-4d0d-b1b2-b59ad01eba6e",
   "metadata": {},
   "outputs": [
    {
     "data": {
      "text/plain": [
       "np.int64(-318000)"
      ]
     },
     "execution_count": 64,
     "metadata": {},
     "output_type": "execute_result"
    }
   ],
   "source": [
    "target_pred(df_test, 'EventTimeStamp', 'EquipmentID', 'target', y_pred_xgbm)"
   ]
  },
  {
   "cell_type": "code",
   "execution_count": 28,
   "id": "856e1513-c70d-4e6d-a953-94fe5202a61c",
   "metadata": {},
   "outputs": [
    {
     "name": "stdout",
     "output_type": "stream",
     "text": [
      "CPU times: total: 16.3 s\n",
      "Wall time: 16.3 s\n"
     ]
    }
   ],
   "source": [
    "%%time\n",
    "\n",
    "rfc = RandomForestClassifier(n_estimators=5, max_depth=5, random_state=27).fit(X_train_balanced, y_train_balanced)\n",
    "\n",
    "y_pred_rfc = rfc.predict(X_test_transformed)"
   ]
  },
  {
   "cell_type": "code",
   "execution_count": 29,
   "id": "6840cdb5-515a-4fea-a000-8b9b961c7eb7",
   "metadata": {},
   "outputs": [],
   "source": [
    "filename = 'rfc.pkl'\n",
    "\n",
    "pickle_list = [y_pred_rfc, rfc]\n",
    "\n",
    "with open(filename, 'wb') as file:\n",
    "    pickle.dump(pickle_list, file)"
   ]
  },
  {
   "cell_type": "code",
   "execution_count": 30,
   "id": "1ff6581a-5f1b-49ff-b4ac-5ef415f1a456",
   "metadata": {},
   "outputs": [],
   "source": [
    "filename = 'rfc.pkl'\n",
    "\n",
    "with open(filename, 'rb') as file:\n",
    "    y_pred_rfc, rfc = pickle.load(file)"
   ]
  },
  {
   "cell_type": "code",
   "execution_count": 31,
   "id": "d99cf5c1-178b-4388-b783-6c3a95c5493f",
   "metadata": {},
   "outputs": [
    {
     "name": "stdout",
     "output_type": "stream",
     "text": [
      "Accuracy: 0.8588226852391673\n",
      "MCC: 0.08313765374934395\n",
      "[[95536 15644]\n",
      " [   96   215]]\n",
      "              precision    recall  f1-score   support\n",
      "\n",
      "           0       1.00      0.86      0.92    111180\n",
      "           1       0.01      0.69      0.03       311\n",
      "\n",
      "    accuracy                           0.86    111491\n",
      "   macro avg       0.51      0.78      0.48    111491\n",
      "weighted avg       1.00      0.86      0.92    111491\n",
      "\n"
     ]
    }
   ],
   "source": [
    "print(f'Accuracy: {accuracy_score(y_test, y_pred_rfc)}')\n",
    "print(f'MCC: {matthews_corrcoef(y_test, y_pred_rfc)}')\n",
    "print(confusion_matrix(y_test, y_pred_rfc))\n",
    "print(classification_report(y_test, y_pred_rfc, zero_division = 0))"
   ]
  },
  {
   "cell_type": "code",
   "execution_count": 32,
   "id": "42a26ebb-6577-48d7-afe9-7f45c896b0fa",
   "metadata": {},
   "outputs": [
    {
     "data": {
      "image/png": "[encoded data removed]",
      "text/plain": [
       "<Figure size 640x480 with 2 Axes>"
      ]
     },
     "metadata": {},
     "output_type": "display_data"
    }
   ],
   "source": [
    "report = classification_report(y_test, y_pred_xgbm, output_dict=True)\n",
    "df_report = pd.DataFrame(report).transpose()\n",
    "    \n",
    "fig, ax = plt.subplots()\n",
    "sn.heatmap(df_report.iloc[:-1, :].T, annot=True, fmt=\".2f\", cmap=\"YlGnBu\", ax=ax)\n",
    "\n",
    "plt.title('Classification Report')\n",
    "plt.ylabel('Metrics')\n",
    "plt.xlabel('Classes')\n",
    "#plt.savefig(\"graphs/classification_report.png\")\n",
    "plt.show();"
   ]
  },
  {
   "cell_type": "code",
   "execution_count": 33,
   "id": "c8993ce4-5832-445d-8025-e9fbab36a2e3",
   "metadata": {},
   "outputs": [
    {
     "data": {
      "image/png": "[encoded data removed]",
      "text/plain": [
       "<Figure size 640x480 with 2 Axes>"
      ]
     },
     "metadata": {},
     "output_type": "display_data"
    }
   ],
   "source": [
    "skplt.metrics.plot_confusion_matrix(y_test, y_pred_xgbm, normalize=False)\n",
    "#plt.savefig(\"graphs/confusion_matrix.png\")\n",
    "plt.show()"
   ]
  },
  {
   "cell_type": "code",
   "execution_count": 34,
   "id": "7d5a4f42-ae77-48cc-b754-2e56f389d6b4",
   "metadata": {},
   "outputs": [
    {
     "name": "stdout",
     "output_type": "stream",
     "text": [
      "CPU times: total: 1min 27s\n",
      "Wall time: 1min 27s\n"
     ]
    }
   ],
   "source": [
    "%%time\n",
    "\n",
    "logreg = LogisticRegression(max_iter=10000).fit(X_train_balanced, y_train_balanced)\n",
    "\n",
    "y_pred_logreg = logreg.predict(X_test_transformed)"
   ]
  },
  {
   "cell_type": "code",
   "execution_count": 35,
   "id": "47aee0c5-d494-40a4-b150-d5e2a0bc2a31",
   "metadata": {},
   "outputs": [],
   "source": [
    "filename = 'logreg.pkl'\n",
    "\n",
    "pickle_list = [y_pred_logreg, logreg]\n",
    "\n",
    "with open(filename, 'wb') as file:\n",
    "    pickle.dump(pickle_list, file)"
   ]
  },
  {
   "cell_type": "code",
   "execution_count": 36,
   "id": "ede2203f-dd06-4fb0-96b3-f9b786a8a884",
   "metadata": {},
   "outputs": [],
   "source": [
    "filename = 'logreg.pkl'\n",
    "\n",
    "with open(filename, 'rb') as file:\n",
    "    y_pred_logreg, logreg = pickle.load(file)"
   ]
  },
  {
   "cell_type": "code",
   "execution_count": 51,
   "id": "40dabaea-b72c-4cca-9370-55ddf4c52569",
   "metadata": {
    "scrolled": true
   },
   "outputs": [
    {
     "name": "stdout",
     "output_type": "stream",
     "text": [
      "Accuracy: 0.8338161824721277\n",
      "MCC: 0.09268611147616317\n",
      "[[92707 18473]\n",
      " [   55   256]]\n",
      "              precision    recall  f1-score   support\n",
      "\n",
      "           0       1.00      0.83      0.91    111180\n",
      "           1       0.01      0.82      0.03       311\n",
      "\n",
      "    accuracy                           0.83    111491\n",
      "   macro avg       0.51      0.83      0.47    111491\n",
      "weighted avg       1.00      0.83      0.91    111491\n",
      "\n"
     ]
    }
   ],
   "source": [
    "print(f'Accuracy: {accuracy_score(y_test, y_pred_logreg)}')\n",
    "print(f'MCC: {matthews_corrcoef(y_test, y_pred_logreg)}')\n",
    "print(confusion_matrix(y_test, y_pred_logreg))\n",
    "print(classification_report(y_test, y_pred_logreg, zero_division = 0))"
   ]
  },
  {
   "cell_type": "code",
   "execution_count": 38,
   "id": "19c2ceb1-8036-46f7-af4c-d058f2a9ab17",
   "metadata": {},
   "outputs": [],
   "source": [
    "df_test['predictions'] = y_pred_logreg"
   ]
  },
  {
   "cell_type": "code",
   "execution_count": 39,
   "id": "47aac760-33ff-43f5-aeb1-a75da31781b0",
   "metadata": {},
   "outputs": [],
   "source": [
    "pred_df = df_test[['EventTimeStamp', 'EquipmentID', 'spn', 'target', 'predictions']]"
   ]
  },
  {
   "cell_type": "code",
   "execution_count": 40,
   "id": "19268c56-5541-46ce-ac70-ca654f46edf1",
   "metadata": {},
   "outputs": [
    {
     "data": {
      "text/html": [
       "<div>\n",
       "<style scoped>\n",
       "    .dataframe tbody tr th:only-of-type {\n",
       "        vertical-align: middle;\n",
       "    }\n",
       "\n",
       "    .dataframe tbody tr th {\n",
       "        vertical-align: top;\n",
       "    }\n",
       "\n",
       "    .dataframe thead th {\n",
       "        text-align: right;\n",
       "    }\n",
       "</style>\n",
       "<table border=\"1\" class=\"dataframe\">\n",
       "  <thead>\n",
       "    <tr style=\"text-align: right;\">\n",
       "      <th></th>\n",
       "      <th>EventTimeStamp</th>\n",
       "      <th>EquipmentID</th>\n",
       "      <th>spn</th>\n",
       "      <th>target</th>\n",
       "      <th>predictions</th>\n",
       "    </tr>\n",
       "  </thead>\n",
       "  <tbody>\n",
       "    <tr>\n",
       "      <th>949513</th>\n",
       "      <td>2019-01-13 11:58:11</td>\n",
       "      <td>1698</td>\n",
       "      <td>4340</td>\n",
       "      <td>1</td>\n",
       "      <td>1</td>\n",
       "    </tr>\n",
       "    <tr>\n",
       "      <th>949512</th>\n",
       "      <td>2019-01-13 11:58:11</td>\n",
       "      <td>1698</td>\n",
       "      <td>6802</td>\n",
       "      <td>1</td>\n",
       "      <td>1</td>\n",
       "    </tr>\n",
       "    <tr>\n",
       "      <th>949526</th>\n",
       "      <td>2019-01-13 13:13:23</td>\n",
       "      <td>1698</td>\n",
       "      <td>1569</td>\n",
       "      <td>1</td>\n",
       "      <td>1</td>\n",
       "    </tr>\n",
       "    <tr>\n",
       "      <th>952402</th>\n",
       "      <td>2019-01-21 03:54:10</td>\n",
       "      <td>1827</td>\n",
       "      <td>1569</td>\n",
       "      <td>1</td>\n",
       "      <td>1</td>\n",
       "    </tr>\n",
       "    <tr>\n",
       "      <th>952403</th>\n",
       "      <td>2019-01-21 04:20:26</td>\n",
       "      <td>1827</td>\n",
       "      <td>1569</td>\n",
       "      <td>1</td>\n",
       "      <td>1</td>\n",
       "    </tr>\n",
       "    <tr>\n",
       "      <th>...</th>\n",
       "      <td>...</td>\n",
       "      <td>...</td>\n",
       "      <td>...</td>\n",
       "      <td>...</td>\n",
       "      <td>...</td>\n",
       "    </tr>\n",
       "    <tr>\n",
       "      <th>1052160</th>\n",
       "      <td>2020-02-13 08:32:46</td>\n",
       "      <td>1872</td>\n",
       "      <td>1569</td>\n",
       "      <td>1</td>\n",
       "      <td>1</td>\n",
       "    </tr>\n",
       "    <tr>\n",
       "      <th>1052158</th>\n",
       "      <td>2020-02-13 08:32:46</td>\n",
       "      <td>1872</td>\n",
       "      <td>3364</td>\n",
       "      <td>1</td>\n",
       "      <td>1</td>\n",
       "    </tr>\n",
       "    <tr>\n",
       "      <th>1052161</th>\n",
       "      <td>2020-02-13 08:32:46</td>\n",
       "      <td>1872</td>\n",
       "      <td>1761</td>\n",
       "      <td>1</td>\n",
       "      <td>1</td>\n",
       "    </tr>\n",
       "    <tr>\n",
       "      <th>1052233</th>\n",
       "      <td>2020-02-13 11:32:18</td>\n",
       "      <td>1872</td>\n",
       "      <td>5835</td>\n",
       "      <td>1</td>\n",
       "      <td>1</td>\n",
       "    </tr>\n",
       "    <tr>\n",
       "      <th>1052234</th>\n",
       "      <td>2020-02-13 11:32:18</td>\n",
       "      <td>1872</td>\n",
       "      <td>3226</td>\n",
       "      <td>1</td>\n",
       "      <td>1</td>\n",
       "    </tr>\n",
       "  </tbody>\n",
       "</table>\n",
       "<p>237 rows × 5 columns</p>\n",
       "</div>"
      ],
      "text/plain": [
       "              EventTimeStamp EquipmentID   spn  target  predictions\n",
       "949513   2019-01-13 11:58:11        1698  4340       1            1\n",
       "949512   2019-01-13 11:58:11        1698  6802       1            1\n",
       "949526   2019-01-13 13:13:23        1698  1569       1            1\n",
       "952402   2019-01-21 03:54:10        1827  1569       1            1\n",
       "952403   2019-01-21 04:20:26        1827  1569       1            1\n",
       "...                      ...         ...   ...     ...          ...\n",
       "1052160  2020-02-13 08:32:46        1872  1569       1            1\n",
       "1052158  2020-02-13 08:32:46        1872  3364       1            1\n",
       "1052161  2020-02-13 08:32:46        1872  1761       1            1\n",
       "1052233  2020-02-13 11:32:18        1872  5835       1            1\n",
       "1052234  2020-02-13 11:32:18        1872  3226       1            1\n",
       "\n",
       "[237 rows x 5 columns]"
      ]
     },
     "execution_count": 40,
     "metadata": {},
     "output_type": "execute_result"
    }
   ],
   "source": [
    "pred_df[(pred_df['target'] == 1) & (pred_df['predictions'] == 1)].drop_duplicates()"
   ]
  },
  {
   "cell_type": "markdown",
   "id": "3c03c4aa-11cd-4d96-b52a-1baec860c89d",
   "metadata": {},
   "source": [
    "y_val_pred_proba = pipe.predict_proba(X_val)[:,1]"
   ]
  },
  {
   "cell_type": "markdown",
   "id": "e04b2be2-7dc3-49d4-a12c-1b1840fa1719",
   "metadata": {},
   "source": [
    "candidate_thresholds = np.arange(start = 0.1, stop = 0.925, step = 0.01)\n",
    "thresholds = pd.DataFrame({'threshold': candidate_thresholds})\n",
    "thresholds['f1'] = thresholds['threshold'].apply(lambda x: f1_score(y_val, y_val_pred_proba > x))\n",
    "thresholds.sort_values('f1', ascending = False).head()"
   ]
  },
  {
   "cell_type": "markdown",
   "id": "4cdfe9a7-e98a-4675-ac0c-1e299774ba8f",
   "metadata": {},
   "source": [
    "threshold = 0.10\n",
    "\n",
    "y_pred_proba = model.predict_proba(X_test_transformed)[:,1]\n",
    "\n",
    "y_pred = y_pred_proba > threshold\n",
    "print(f'Accuracy: {accuracy_score(y_test, y_pred)}')\n",
    "print(f'MCC: {matthews_corrcoef(y_test, y_pred)}')\n",
    "print(confusion_matrix(y_test, y_pred))\n",
    "print(classification_report(y_test, y_pred))"
   ]
  },
  {
   "cell_type": "code",
   "execution_count": 52,
   "id": "727b9973-adb5-42f9-a20c-f9f9cf5cfd7b",
   "metadata": {},
   "outputs": [
    {
     "data": {
      "text/plain": [
       "np.int64(-4673500)"
      ]
     },
     "execution_count": 52,
     "metadata": {},
     "output_type": "execute_result"
    }
   ],
   "source": [
    "target_pred(df_test, 'EventTimeStamp', 'EquipmentID', 'target', y_pred_logreg)"
   ]
  },
  {
   "cell_type": "code",
   "execution_count": 41,
   "id": "f55b4c5b-a5e0-4ba6-bc9b-b353fbf9a008",
   "metadata": {},
   "outputs": [],
   "source": [
    "#param_grid = {\n",
    "#    'preprocessor__num__scaler__with_mean': [True, False],\n",
    "#    'preprocessor__num__scaler__with_std': [True, False],\n",
    "#    'classifier__C': [0.1, 1, 10],\n",
    "#    'classifier__solver': ['liblinear', 'newton-cg']\n",
    "#}\n",
    "\n",
    "#randomized_search = RandomizedSearchCV(pipeline, param_grid, n_iter=10, cv=3)"
   ]
  },
  {
   "cell_type": "markdown",
   "id": "2f5e1035-3428-4b61-b8de-b020650f5b9a",
   "metadata": {},
   "source": [
    "%%time\n",
    "\n",
    "hgbc = HistGradientBoostingClassifier().fit(X_train_balanced, y_train_balanced)\n",
    "\n",
    "y_pred_hgbc = hgbc.predict(X_test_transformed)"
   ]
  },
  {
   "cell_type": "markdown",
   "id": "c4e42fcf-06ee-4201-be18-89549d99a2f2",
   "metadata": {},
   "source": [
    "confusion_matrix(y_test, y_pred_hgbc)"
   ]
  },
  {
   "cell_type": "markdown",
   "id": "65c244c1-0cf7-4215-9d0e-a9669afb9661",
   "metadata": {},
   "source": [
    "print(classification_report(y_test, y_pred_hgbc, zero_division = 0))"
   ]
  },
  {
   "cell_type": "code",
   "execution_count": 42,
   "id": "7e792e87-7ca2-4392-b950-c40be8293557",
   "metadata": {},
   "outputs": [
    {
     "name": "stdout",
     "output_type": "stream",
     "text": [
      "CPU times: total: 11min 3s\n",
      "Wall time: 11min 5s\n"
     ]
    }
   ],
   "source": [
    "%%time\n",
    "\n",
    "dtc = DecisionTreeClassifier().fit(X_train_balanced, y_train_balanced)\n",
    "\n",
    "y_pred_dtc = dtc.predict(X_test_transformed)"
   ]
  },
  {
   "cell_type": "code",
   "execution_count": 43,
   "id": "a6c0eb4a-ea23-42b3-b535-18bd124cf99e",
   "metadata": {},
   "outputs": [],
   "source": [
    "filename = 'dtc.pkl'\n",
    "\n",
    "pickle_list = [y_pred_dtc, dtc]\n",
    "\n",
    "with open(filename, 'wb') as file:\n",
    "    pickle.dump(pickle_list, file)"
   ]
  },
  {
   "cell_type": "code",
   "execution_count": 44,
   "id": "4bda53a7-f1f7-4c82-94ff-cc303e9ac110",
   "metadata": {},
   "outputs": [],
   "source": [
    "filename = 'dtc.pkl'\n",
    "\n",
    "with open(filename, 'rb') as file:\n",
    "    y_pred_dtc, dtc = pickle.load(file)"
   ]
  },
  {
   "cell_type": "code",
   "execution_count": 45,
   "id": "1be65427-0917-4835-b674-1a2b85b120ad",
   "metadata": {},
   "outputs": [
    {
     "name": "stdout",
     "output_type": "stream",
     "text": [
      "Accuracy: 0.9928155635880923\n",
      "MCC: 0.07137901548777932\n",
      "[[110659    521]\n",
      " [   280     31]]\n",
      "              precision    recall  f1-score   support\n",
      "\n",
      "           0       1.00      1.00      1.00    111180\n",
      "           1       0.06      0.10      0.07       311\n",
      "\n",
      "    accuracy                           0.99    111491\n",
      "   macro avg       0.53      0.55      0.53    111491\n",
      "weighted avg       0.99      0.99      0.99    111491\n",
      "\n"
     ]
    }
   ],
   "source": [
    "print(f'Accuracy: {accuracy_score(y_test, y_pred_dtc)}')\n",
    "print(f'MCC: {matthews_corrcoef(y_test, y_pred_dtc)}')\n",
    "print(confusion_matrix(y_test, y_pred_dtc))\n",
    "print(classification_report(y_test, y_pred_dtc, zero_division = 0))"
   ]
  },
  {
   "cell_type": "markdown",
   "id": "b0becb95-b2a1-4700-9ef3-39f00fc2163b",
   "metadata": {},
   "source": [
    "%%time\n",
    "\n",
    "svm = SVC(kernel='linear', C=1.0, gamma='auto', probability=True)\n",
    "\n",
    "svm.fit(X_train_balanced, y_train_balanced)\n",
    "\n",
    "y_pred_svm = svm.predict(X_test_transformed)"
   ]
  },
  {
   "cell_type": "markdown",
   "id": "206b0b7b-87d3-4af4-9358-d56ee9c90833",
   "metadata": {},
   "source": [
    "filename = 'svm.pkl'\n",
    "\n",
    "pickle_list = [y_pred_svm, svm]\n",
    "\n",
    "with open(filename, 'wb') as file:\n",
    "    pickle.dump(pickle_list, file)"
   ]
  },
  {
   "cell_type": "markdown",
   "id": "957f5702-073a-40bc-94d5-d00a30e12647",
   "metadata": {},
   "source": [
    "filename = 'svm.pkl'\n",
    "\n",
    "with open(filename, 'rb') as file:\n",
    "    y_pred_svm, svm = pickle.load(file)"
   ]
  },
  {
   "cell_type": "markdown",
   "id": "a3e97470-6255-491c-8ba1-93c0ac3c8b3f",
   "metadata": {},
   "source": [
    "print(f'Accuracy: {accuracy_score(y_test, y_pred_svm)}')\n",
    "print(f'MCC: {matthews_corrcoef(y_test, y_pred_svm)}')\n",
    "print(confusion_matrix(y_test, y_pred_svm))\n",
    "print(classification_report(y_test, y_pred_svm, zero_division = 0))"
   ]
  },
  {
   "cell_type": "code",
   "execution_count": 46,
   "id": "8ca3f43c-79be-4756-9636-325cf66168ce",
   "metadata": {},
   "outputs": [
    {
     "name": "stdout",
     "output_type": "stream",
     "text": [
      "[LightGBM] [Info] Number of positive: 943351, number of negative: 943351\n",
      "[LightGBM] [Info] Auto-choosing row-wise multi-threading, the overhead of testing was 0.836392 seconds.\n",
      "You can set `force_row_wise=true` to remove the overhead.\n",
      "And if memory is not enough, you can set `force_col_wise=true`.\n",
      "[LightGBM] [Info] Total Bins 26233\n",
      "[LightGBM] [Info] Number of data points in the train set: 1886702, number of used features: 321\n",
      "[LightGBM] [Info] [binary:BoostFromScore]: pavg=0.500000 -> initscore=0.000000\n",
      "CPU times: total: 1min 27s\n",
      "Wall time: 11.7 s\n"
     ]
    },
    {
     "name": "stderr",
     "output_type": "stream",
     "text": [
      "C:\\Users\\cavin\\AppData\\Local\\Programs\\Python\\Python313\\Lib\\site-packages\\sklearn\\utils\\validation.py:2739: UserWarning: X does not have valid feature names, but LGBMClassifier was fitted with feature names\n",
      "  warnings.warn(\n"
     ]
    }
   ],
   "source": [
    "%%time\n",
    "\n",
    "lgb = LGBMClassifier().fit(X_train_balanced, y_train_balanced)\n",
    "\n",
    "y_pred_lgb = lgb.predict(X_test_transformed)"
   ]
  },
  {
   "cell_type": "code",
   "execution_count": 47,
   "id": "f6cafd56-7b30-4ed0-bd2e-7333ecf42217",
   "metadata": {},
   "outputs": [],
   "source": [
    "filename = 'lgb.pkl'\n",
    "\n",
    "pickle_list = [y_pred_lgb, lgb]\n",
    "\n",
    "with open(filename, 'wb') as file:\n",
    "    pickle.dump(pickle_list, file)"
   ]
  },
  {
   "cell_type": "code",
   "execution_count": 48,
   "id": "cb9e2179-86b9-4f49-9cf5-07d0d3c64f9c",
   "metadata": {},
   "outputs": [],
   "source": [
    "filename = 'lgb.pkl'\n",
    "\n",
    "with open(filename, 'rb') as file:\n",
    "    y_pred_lgb, lgb = pickle.load(file)"
   ]
  },
  {
   "cell_type": "code",
   "execution_count": 49,
   "id": "cbc5bb36-fa5e-4a87-83c8-39660a13aeeb",
   "metadata": {},
   "outputs": [
    {
     "name": "stdout",
     "output_type": "stream",
     "text": [
      "Accuracy: 0.9755226879299674\n",
      "MCC: 0.20616397323028463\n",
      "[[108564   2616]\n",
      " [   113    198]]\n",
      "              precision    recall  f1-score   support\n",
      "\n",
      "           0       1.00      0.98      0.99    111180\n",
      "           1       0.07      0.64      0.13       311\n",
      "\n",
      "    accuracy                           0.98    111491\n",
      "   macro avg       0.53      0.81      0.56    111491\n",
      "weighted avg       1.00      0.98      0.99    111491\n",
      "\n"
     ]
    }
   ],
   "source": [
    "print(f'Accuracy: {accuracy_score(y_test, y_pred_lgb)}')\n",
    "print(f'MCC: {matthews_corrcoef(y_test, y_pred_lgb)}')\n",
    "print(confusion_matrix(y_test, y_pred_lgb))\n",
    "print(classification_report(y_test, y_pred_lgb, zero_division = 0))"
   ]
  },
  {
   "cell_type": "code",
   "execution_count": 50,
   "id": "eeff8a50-1460-47d1-9d37-fc50932c8280",
   "metadata": {},
   "outputs": [
    {
     "name": "stderr",
     "output_type": "stream",
     "text": [
      "C:\\Users\\cavin\\AppData\\Local\\Programs\\Python\\Python313\\Lib\\site-packages\\sklearn\\utils\\validation.py:2739: UserWarning: X does not have valid feature names, but LGBMClassifier was fitted with feature names\n",
      "  warnings.warn(\n"
     ]
    },
    {
     "data": {
      "image/png": "[encoded data removed]",
      "text/plain": [
       "<Figure size 640x480 with 1 Axes>"
      ]
     },
     "metadata": {},
     "output_type": "display_data"
    },
    {
     "name": "stdout",
     "output_type": "stream",
     "text": [
      "CPU times: total: 4.81 s\n",
      "Wall time: 719 ms\n"
     ]
    }
   ],
   "source": [
    "%%time\n",
    "\n",
    "rf_probas = rfc.predict_proba(X_test_transformed)\n",
    "lr_probas = logreg.predict_proba(X_test_transformed)\n",
    "dtc_probas = dtc.predict_proba(X_test_transformed)\n",
    "xgbm_probas = xgbm.predict_proba(X_test_transformed)\n",
    "lgb_probas = lgb.predict_proba(X_test_transformed)\n",
    "probas_list = [rf_probas, \n",
    "               lr_probas, \n",
    "               dtc_probas, \n",
    "               xgbm_probas, \n",
    "               lgb_probas]\n",
    "clf_names = ['Random Forest', \n",
    "             'Logistic Regression',\n",
    "             'Decision Tree', \n",
    "             'XGBoost',\n",
    "             'Light GBM']\n",
    "skplt.metrics.plot_calibration_curve(y_test,\n",
    "                                     probas_list,\n",
    "                                     clf_names)\n",
    "#plt.savefig(\"graphs/calibration_curve.png\")\n",
    "plt.show()"
   ]
  },
  {
   "cell_type": "code",
   "execution_count": null,
   "id": "0ea84d6b-445a-4f8f-8f47-a068e13980b7",
   "metadata": {},
   "outputs": [],
   "source": []
  }
 ],
 "metadata": {
  "kernelspec": {
   "display_name": "Python 3 (ipykernel)",
   "language": "python",
   "name": "python3"
  },
  "language_info": {
   "codemirror_mode": {
    "name": "ipython",
    "version": 3
   },
   "file_extension": ".py",
   "mimetype": "text/x-python",
   "name": "python",
   "nbconvert_exporter": "python",
   "pygments_lexer": "ipython3",
   "version": "3.13.3"
  }
 },
 "nbformat": 4,
 "nbformat_minor": 5
}
