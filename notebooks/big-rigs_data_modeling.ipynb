{
 "cells": [
  {
   "cell_type": "markdown",
   "id": "40529150-cd0f-4230-98f9-9e091d484e79",
   "metadata": {},
   "source": [
    "## Modeling ##"
   ]
  },
  {
   "cell_type": "code",
   "execution_count": 1,
   "id": "5c124217-9d3e-4972-9943-38e258e1e439",
   "metadata": {},
   "outputs": [],
   "source": [
    "import pickle\n",
    "import pandas as pd\n",
    "import numpy as np\n",
    "import datetime as dt\n",
    "import matplotlib.pyplot as plt\n",
    "import scipy.stats as stats\n",
    "from sklearn.preprocessing import StandardScaler, OneHotEncoder, LabelEncoder\n",
    "from sklearn.pipeline import Pipeline, make_pipeline\n",
    "from sklearn.decomposition import PCA\n",
    "from sklearn.impute import KNNImputer,SimpleImputer\n",
    "from sklearn.compose import ColumnTransformer\n",
    "from sklearn.ensemble import RandomForestClassifier\n",
    "from sklearn.model_selection import train_test_split, RandomizedSearchCV, cross_val_score\n",
    "from sklearn.metrics import (\n",
    "    classification_report, \n",
    "    confusion_matrix,\n",
    "    r2_score,\n",
    "    mean_squared_error, \n",
    "    root_mean_squared_error,\n",
    "    mean_absolute_error, \n",
    "    mean_absolute_percentage_error,\n",
    "    accuracy_score,\n",
    "    matthews_corrcoef,\n",
    "    brier_score_loss,\n",
    "    f1_score\n",
    ")\n",
    "from sklearn.inspection import PartialDependenceDisplay\n",
    "from sklearn.neighbors import KNeighborsClassifier, NearestNeighbors\n",
    "from scipy.spatial import KDTree\n",
    "\n",
    "from sklearn.linear_model import LogisticRegression\n",
    "\n",
    "from faiss_imputer import FaissImputer\n",
    "\n",
    "from xgboost import XGBClassifier\n",
    "\n",
    "from sklearn.neural_network import MLPClassifier\n",
    "\n",
    "from sklearn.ensemble import HistGradientBoostingClassifier\n",
    "\n",
    "import time"
   ]
  },
  {
   "cell_type": "markdown",
   "id": "8a32a870-37e7-4bb2-8522-7990fcf615e5",
   "metadata": {},
   "source": [
    "This notebook is dedicated to the feature selection and statistical modeling of our trucking data."
   ]
  },
  {
   "cell_type": "code",
   "execution_count": 2,
   "id": "49948ce0-cf27-4e2b-8272-c41a1b4680c8",
   "metadata": {},
   "outputs": [],
   "source": [
    "pd.set_option('display.max_columns', None)"
   ]
  },
  {
   "cell_type": "code",
   "execution_count": 3,
   "id": "55f0dd30-4d54-4dfa-b6e9-d3ba19fd3145",
   "metadata": {},
   "outputs": [],
   "source": [
    "df = pd.read_csv('../data/data_clean_05_01.csv', low_memory=False)"
   ]
  },
  {
   "cell_type": "code",
   "execution_count": 4,
   "id": "980ad7b1-f6b6-48e2-93a8-bb23f4d7f357",
   "metadata": {},
   "outputs": [],
   "source": [
    "test_date = '2019-01-01'\n",
    "\n",
    "df_test = df.sort_values('EventTimeStamp').loc[df['EventTimeStamp'] > test_date]"
   ]
  },
  {
   "cell_type": "code",
   "execution_count": 5,
   "id": "21273589-d7d9-44b5-a94f-5cbb97dc264c",
   "metadata": {},
   "outputs": [],
   "source": [
    "df_train = df.sort_values('EventTimeStamp').loc[df['EventTimeStamp'] < test_date]"
   ]
  },
  {
   "cell_type": "code",
   "execution_count": 6,
   "id": "88d4fcac-d01a-4fe9-bdf9-11eff1650777",
   "metadata": {},
   "outputs": [],
   "source": [
    "#df = df.sample(frac=0.50)"
   ]
  },
  {
   "cell_type": "code",
   "execution_count": 7,
   "id": "79c8529d-97e4-4cab-9fc3-5cf31cfd0d47",
   "metadata": {},
   "outputs": [],
   "source": [
    "columns_to_object = ['ecuSource',\n",
    "                     'spn',\n",
    "                     'fmi',\n",
    "                     'MCTNumber',\n",
    "                     'RecordID',\n",
    "                     'ESS_Id',\n",
    "                     'LampStatus'\n",
    "                    ]\n",
    "\n",
    "for column in columns_to_object:\n",
    "    df[column] = df[column].astype(object)"
   ]
  },
  {
   "cell_type": "code",
   "execution_count": 8,
   "id": "b749c089-60bd-4808-9880-7fa4f87cd411",
   "metadata": {},
   "outputs": [],
   "source": [
    "columns_to_bool = ['CruiseControlActive',\n",
    "                   'IgnStatus',\n",
    "                   'ParkingBrake']\n",
    "\n",
    "for column in columns_to_bool:\n",
    "    df[column] = df[column].astype(bool)"
   ]
  },
  {
   "cell_type": "code",
   "execution_count": 9,
   "id": "4c9af9c1-8bec-411e-875e-5a5e2002062e",
   "metadata": {},
   "outputs": [],
   "source": [
    "int64_cols = df.select_dtypes(include='bool').columns\n",
    "df[int64_cols] = df[int64_cols].astype('int64')"
   ]
  },
  {
   "cell_type": "markdown",
   "id": "0c3514de-2831-4ca7-ae0d-6971d37e59a1",
   "metadata": {},
   "source": [
    "Scaling and encoding features for modeling"
   ]
  },
  {
   "cell_type": "code",
   "execution_count": 10,
   "id": "281a225e-3ea6-41d3-bbed-b63fd9634d57",
   "metadata": {},
   "outputs": [
    {
     "name": "stdout",
     "output_type": "stream",
     "text": [
      "<class 'pandas.core.frame.DataFrame'>\n",
      "RangeIndex: 1057049 entries, 0 to 1057048\n",
      "Data columns (total 45 columns):\n",
      " #   Column                     Non-Null Count    Dtype  \n",
      "---  ------                     --------------    -----  \n",
      " 0   AcceleratorPedal           480660 non-null   float64\n",
      " 1   BarometricPressure         530902 non-null   float64\n",
      " 2   CruiseControlActive        1057049 non-null  int64  \n",
      " 3   CruiseControlSetSpeed      521823 non-null   float64\n",
      " 4   DistanceLtd                530760 non-null   float64\n",
      " 5   EngineCoolantTemperature   530890 non-null   float64\n",
      " 6   EngineLoad                 530421 non-null   float64\n",
      " 7   EngineOilPressure          531008 non-null   float64\n",
      " 8   EngineOilTemperature       529370 non-null   float64\n",
      " 9   EngineRpm                  531324 non-null   float64\n",
      " 10  EngineTimeLtd              527047 non-null   float64\n",
      " 11  FuelLevel                  455471 non-null   float64\n",
      " 12  FuelLtd                    530354 non-null   float64\n",
      " 13  FuelRate                   530151 non-null   float64\n",
      " 14  FuelTemperature            271089 non-null   float64\n",
      " 15  IgnStatus                  1057049 non-null  int64  \n",
      " 16  IntakeManifoldTemperature  530995 non-null   float64\n",
      " 17  LampStatus                 1057049 non-null  object \n",
      " 18  ParkingBrake               1057049 non-null  int64  \n",
      " 19  ServiceDistance            198 non-null      float64\n",
      " 20  Speed                      529278 non-null   float64\n",
      " 21  SwitchedBatteryVoltage     106228 non-null   object \n",
      " 22  Throttle                   375438 non-null   float64\n",
      " 23  TurboBoostPressure         528806 non-null   float64\n",
      " 24  RecordID                   1057049 non-null  object \n",
      " 25  ESS_Id                     1057049 non-null  object \n",
      " 26  EventTimeStamp             1057049 non-null  object \n",
      " 27  eventDescription           1006152 non-null  object \n",
      " 28  ecuSoftwareVersion         792713 non-null   object \n",
      " 29  ecuSerialNumber            751116 non-null   object \n",
      " 30  ecuModel                   1001026 non-null  object \n",
      " 31  ecuMake                    1001026 non-null  object \n",
      " 32  ecuSource                  1057049 non-null  object \n",
      " 33  spn                        1057049 non-null  object \n",
      " 34  fmi                        1057049 non-null  object \n",
      " 35  active                     1057049 non-null  int64  \n",
      " 36  activeTransitionCount      1057049 non-null  int64  \n",
      " 37  EquipmentID                1057049 non-null  object \n",
      " 38  MCTNumber                  1057049 non-null  object \n",
      " 39  Latitude                   1057049 non-null  float64\n",
      " 40  Longitude                  1057049 non-null  float64\n",
      " 41  LocationTimeStamp          1057049 non-null  object \n",
      " 42  time_derate                249051 non-null   object \n",
      " 43  time_until_derate          249051 non-null   object \n",
      " 44  target                     1057049 non-null  int64  \n",
      "dtypes: float64(21), int64(6), object(18)\n",
      "memory usage: 362.9+ MB\n"
     ]
    }
   ],
   "source": [
    "df.info()"
   ]
  },
  {
   "cell_type": "code",
   "execution_count": 11,
   "id": "10d15d1d-9522-45f3-838f-f88330441358",
   "metadata": {},
   "outputs": [],
   "source": [
    "X = df.drop(['target',  \n",
    "            'LocationTimeStamp',\n",
    "            'EventTimeStamp',\n",
    "            'eventDescription',\n",
    "            'ecuSerialNumber',\n",
    "            'ecuSoftwareVersion',\n",
    "            'time_derate',\n",
    "            'time_until_derate',\n",
    "            'Longitude',\n",
    "            'Latitude',\n",
    "            'ESS_Id',\n",
    "            'RecordID',\n",
    "            'ecuSource',\n",
    "            'ServiceDistance',\n",
    "            'ecuMake',\n",
    "            'SwitchedBatteryVoltage',\n",
    "            'EquipmentID',\n",
    "            'ecuModel',\n",
    "            'MCTNumber',\n",
    "            'LampStatus',\n",
    "            'activeTransitionCount'\n",
    "            ], axis=1)\n",
    "\n",
    "y = df['target']"
   ]
  },
  {
   "cell_type": "code",
   "execution_count": 12,
   "id": "6fb5c493-0ebd-453d-abf3-5bdf024d5ffb",
   "metadata": {},
   "outputs": [],
   "source": [
    "X_train, X_test, y_train, y_test = train_test_split(X, y, test_size=0.3, random_state=27, stratify=y)\n",
    "\n",
    "X_train, X_val, y_train, y_val = train_test_split(X_train, y_train, stratify = y_train, random_state = 27, train_size = 0.6/0.8)"
   ]
  },
  {
   "cell_type": "code",
   "execution_count": 13,
   "id": "9d74d41e-84d7-4347-806b-8db7148d05d4",
   "metadata": {},
   "outputs": [],
   "source": [
    "ohe_features = ['spn',\n",
    "                'fmi'\n",
    "                ] \n",
    "\n",
    "bool_to_features = X_train.select_dtypes(include='int64')\n",
    "bool_features = list(bool_to_features.columns)\n",
    "\n",
    "scale_features = ['AcceleratorPedal',\n",
    "                  'BarometricPressure',\n",
    "                  'DistanceLtd',\n",
    "                  'EngineCoolantTemperature',\n",
    "                  'EngineLoad',\n",
    "                  'EngineOilPressure',\n",
    "                  'EngineOilTemperature',\n",
    "                  'EngineRpm',\n",
    "                  'FuelLevel',\n",
    "                  'FuelLtd',\n",
    "                  'FuelTemperature',\n",
    "                  'IntakeManifoldTemperature',\n",
    "                  'Speed',\n",
    "                  'TurboBoostPressure',\n",
    "                  'FuelRate',\n",
    "                  'EngineTimeLtd',\n",
    "                  'CruiseControlSetSpeed',\n",
    "                  'Throttle']\n",
    "\n",
    "everything = list(set(ohe_features + bool_features + scale_features))\n",
    "the_rest = X_train.columns.difference(everything)\n",
    "\n",
    "pca = PCA(n_components = 1)"
   ]
  },
  {
   "cell_type": "code",
   "execution_count": null,
   "id": "d2e4e733-d205-48f2-9f01-ae01f9ab5353",
   "metadata": {},
   "outputs": [],
   "source": [
    "%%time\n",
    "\n",
    "numerical_pipeline = Pipeline([\n",
    "    ('scaler', StandardScaler()),\n",
    "    ('knn_imputer', KNNImputer(n_neighbors=3))\n",
    "])\n",
    "\n",
    "categorical_pipeline = Pipeline([\n",
    "    ('si', SimpleImputer(strategy='most_frequent')),\n",
    "    ('ohe', OneHotEncoder(handle_unknown='ignore', sparse_output=False))\n",
    "])\n",
    "\n",
    "boolean_pipeline = Pipeline([\n",
    "    ('si', SimpleImputer(strategy='most_frequent'))\n",
    "])\n",
    "\n",
    "ct = ColumnTransformer(\n",
    "    transformers=[\n",
    "        ('num', numerical_pipeline, scale_features),\n",
    "        ('cat', categorical_pipeline, ohe_features),\n",
    "        ('bool', boolean_pipeline, bool_features)\n",
    "    ],\n",
    "    remainder='drop'\n",
    ")\n",
    "\n",
    "pipe = Pipeline(\n",
    "    steps=[\n",
    "        ('transformer', ct),\n",
    "        ('pca', pca)\n",
    "    ]\n",
    ")\n",
    "pipe.fit(X_train)\n",
    "\n",
    "X_train_transformed = pipe.transform(X_train)\n",
    "X_test_transformed = pipe.transform(X_test) "
   ]
  },
  {
   "cell_type": "code",
   "execution_count": null,
   "id": "ef941504-ade6-4c1b-bb54-1c88a001ec77",
   "metadata": {},
   "outputs": [],
   "source": [
    "filename = 'pipe_transformed.pkl'\n",
    "\n",
    "pickle_list = [pipe, X_train_transformed, X_test_transformed]\n",
    "\n",
    "with open(filename, 'wb') as file:\n",
    "    pickle.dump(pickle_list, file)"
   ]
  },
  {
   "cell_type": "code",
   "execution_count": null,
   "id": "ffbe6c19-6d0c-4ee9-973f-e6a09700fe8a",
   "metadata": {},
   "outputs": [],
   "source": [
    "with open(filename, 'rb') as file:\n",
    "    pipe, X_train_transformed, X_test_transformed = pickle.load(file)"
   ]
  },
  {
   "cell_type": "code",
   "execution_count": null,
   "id": "49caad53-ecee-45f8-a5f2-1617a87bbf57",
   "metadata": {},
   "outputs": [],
   "source": [
    "knn_model = KNeighborsClassifier().fit(X_train_transformed, y_train)"
   ]
  },
  {
   "cell_type": "code",
   "execution_count": null,
   "id": "88c8285d-a4fa-432f-bc72-8d4a223f69a8",
   "metadata": {},
   "outputs": [],
   "source": [
    "y_pred_knn = knn_model.predict(X_test_transformed)"
   ]
  },
  {
   "cell_type": "code",
   "execution_count": null,
   "id": "d8d008ca-411c-4622-8198-4e74595a1345",
   "metadata": {},
   "outputs": [],
   "source": [
    "%%time\n",
    "\n",
    "xgb = XGBClassifier().fit(x_train_transformed, y_train)\n",
    "\n",
    "y_pred_xgb = xgb.predict(X_test_transformed)"
   ]
  },
  {
   "cell_type": "code",
   "execution_count": null,
   "id": "d4cd5b2a-8880-4355-92a9-7c96ce9a2807",
   "metadata": {},
   "outputs": [],
   "source": [
    "print(f'Accuracy: {accuracy_score(y_test, y_pred_xgb)}')\n",
    "print(f'MCC: {matthews_corrcoef(y_test, y_pred_xgb)}')\n",
    "print(confusion_matrix(y_test, y_pred_xgb))\n",
    "print(classification_report(y_test, y_pred_xgb))"
   ]
  },
  {
   "cell_type": "code",
   "execution_count": null,
   "id": "a8596ca8-4078-4ea1-81b3-3263d50fb29c",
   "metadata": {},
   "outputs": [],
   "source": [
    "print(f'Accuracy: {accuracy_score(y_test, y_pred_knn)}')\n",
    "print(f'MCC: {matthews_corrcoef(y_test, y_pred_knn)}')\n",
    "print(confusion_matrix(y_test, y_pred_knn))\n",
    "print(classification_report(y_test, y_pred_knn))\n",
    "print(cross_val_score(knn_model, X_train_transformed, y_train, cv=3))"
   ]
  },
  {
   "cell_type": "code",
   "execution_count": null,
   "id": "f55b4c5b-a5e0-4ba6-bc9b-b353fbf9a008",
   "metadata": {},
   "outputs": [],
   "source": [
    "#param_grid = {\n",
    "#    'preprocessor__num__scaler__with_mean': [True, False],\n",
    "#    'preprocessor__num__scaler__with_std': [True, False],\n",
    "#    'classifier__C': [0.1, 1, 10],\n",
    "#    'classifier__solver': ['liblinear', 'newton-cg']\n",
    "#}\n",
    "\n",
    "#randomized_search = RandomizedSearchCV(pipeline, param_grid, n_iter=10, cv=3)"
   ]
  },
  {
   "cell_type": "code",
   "execution_count": null,
   "id": "eb60e410-a4bb-4eb4-a1dc-bf4f0cb3aaac",
   "metadata": {
    "scrolled": true
   },
   "outputs": [],
   "source": [
    "#%%time\n",
    "\n",
    "#knc = KNeighborsClassifier().fit(X_train_encoded, y_train)\n",
    "#y_pred_knc = knc.predict(X_test_encoded)"
   ]
  },
  {
   "cell_type": "code",
   "execution_count": null,
   "id": "6ddc3a44-dcb2-4ac0-91f2-a8c185987470",
   "metadata": {},
   "outputs": [],
   "source": [
    "#print(classification_report(y_test, y_pred_knc, zero_division = 0))"
   ]
  },
  {
   "cell_type": "code",
   "execution_count": null,
   "id": "19b9beb4-3714-463a-a8b9-b1785884cf26",
   "metadata": {},
   "outputs": [],
   "source": [
    "#confusion_matrix(y_test, y_pred_knc)"
   ]
  },
  {
   "cell_type": "code",
   "execution_count": null,
   "id": "e796a9b4-e35f-4c35-b609-cf7ead439a78",
   "metadata": {},
   "outputs": [],
   "source": [
    "y_val_pred_proba = pipe.predict_proba(X_val)[:,1]"
   ]
  },
  {
   "cell_type": "code",
   "execution_count": null,
   "id": "527d3f6d-72fc-4576-9cd0-c488130a1ede",
   "metadata": {},
   "outputs": [],
   "source": [
    "candidate_thresholds = np.arange(start = 0.1, stop = 0.925, step = 0.01)\n",
    "thresholds = pd.DataFrame({'threshold': candidate_thresholds})\n",
    "thresholds['f1'] = thresholds['threshold'].apply(lambda x: f1_score(y_val, y_val_pred_proba > x))\n",
    "thresholds.sort_values('f1', ascending = False).head()"
   ]
  },
  {
   "cell_type": "code",
   "execution_count": null,
   "id": "1def0a50-27c8-44d1-8de6-a5e7da3791f1",
   "metadata": {},
   "outputs": [],
   "source": [
    "threshold = 0.10\n",
    "\n",
    "y_pred_proba = model.predict_proba(X_test)[:,1]\n",
    "\n",
    "y_pred = y_pred_proba > threshold\n",
    "print(f'Accuracy: {accuracy_score(y_test, y_pred)}')\n",
    "print(f'MCC: {matthews_corrcoef(y_test, y_pred)}')\n",
    "print(confusion_matrix(y_test, y_pred))\n",
    "print(classification_report(y_test, y_pred))"
   ]
  },
  {
   "cell_type": "code",
   "execution_count": null,
   "id": "d5662e29-269b-4b0d-96de-afd53ab8fce1",
   "metadata": {},
   "outputs": [],
   "source": [
    "%%time\n",
    "\n",
    "hgbc = HistGradientBoostingClassifier().fit(X_train_encoded, y_train)\n",
    "\n",
    "y_pred_mlp = hgbc.predict(X_test_encoded)"
   ]
  },
  {
   "cell_type": "code",
   "execution_count": null,
   "id": "0ad33268-e4b4-4750-9094-896690f7640b",
   "metadata": {},
   "outputs": [],
   "source": [
    "confusion_matrix(y_test, y_pred_mlp)"
   ]
  },
  {
   "cell_type": "code",
   "execution_count": null,
   "id": "871a5a24-ca23-410f-830d-dafa5e893945",
   "metadata": {},
   "outputs": [],
   "source": [
    "print(classification_report(y_test, y_pred_mlp, zero_division = 0))"
   ]
  }
 ],
 "metadata": {
  "kernelspec": {
   "display_name": "Python 3 (ipykernel)",
   "language": "python",
   "name": "python3"
  },
  "language_info": {
   "codemirror_mode": {
    "name": "ipython",
    "version": 3
   },
   "file_extension": ".py",
   "mimetype": "text/x-python",
   "name": "python",
   "nbconvert_exporter": "python",
   "pygments_lexer": "ipython3",
   "version": "3.13.3"
  }
 },
 "nbformat": 4,
 "nbformat_minor": 5
}
