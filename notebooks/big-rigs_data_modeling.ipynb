{
 "cells": [
  {
   "cell_type": "markdown",
   "id": "40529150-cd0f-4230-98f9-9e091d484e79",
   "metadata": {},
   "source": [
    "## Modeling ##"
   ]
  },
  {
   "cell_type": "code",
   "execution_count": 2,
   "id": "41e169eb-1174-4605-9c63-58f513092361",
   "metadata": {},
   "outputs": [],
   "source": [
    "# pip install faiss_imputer"
   ]
  },
  {
   "cell_type": "code",
   "execution_count": 3,
   "id": "5c124217-9d3e-4972-9943-38e258e1e439",
   "metadata": {},
   "outputs": [],
   "source": [
    "import pandas as pd\n",
    "import numpy as np\n",
    "import datetime as dt\n",
    "import matplotlib.pyplot as plt\n",
    "import scipy.stats as stats\n",
    "from sklearn.preprocessing import StandardScaler, OneHotEncoder, LabelEncoder\n",
    "from sklearn.pipeline import Pipeline, make_pipeline\n",
    "from sklearn.impute import KNNImputer\n",
    "from sklearn.compose import ColumnTransformer\n",
    "from sklearn.ensemble import RandomForestClassifier\n",
    "from sklearn.model_selection import train_test_split\n",
    "from sklearn.metrics import (\n",
    "    classification_report, \n",
    "    confusion_matrix,\n",
    "    r2_score,\n",
    "    mean_squared_error, \n",
    "    root_mean_squared_error,\n",
    "    mean_absolute_error, \n",
    "    mean_absolute_percentage_error\n",
    ")\n",
    "from sklearn.inspection import PartialDependenceDisplay\n",
    "from sklearn.neighbors import KNeighborsClassifier, NearestNeighbors\n",
    "from scipy.spatial import KDTree\n",
    "from faiss_imputer import FaissImputer\n",
    "\n",
    "from tqdm.notebook import tqdm, trange\n",
    "from ipywidgets import interactive\n",
    "from lightgbm import LGBMClassifier\n",
    "from xgboost import XGBClassifier\n",
    "from sklearn.impute import SimpleImputer"
   ]
  },
  {
   "cell_type": "markdown",
   "id": "8a32a870-37e7-4bb2-8522-7990fcf615e5",
   "metadata": {},
   "source": [
    "This notebook is dedicated to the feature selection and statistical modeling of our trucking data."
   ]
  },
  {
   "cell_type": "code",
   "execution_count": 5,
   "id": "55f0dd30-4d54-4dfa-b6e9-d3ba19fd3145",
   "metadata": {},
   "outputs": [],
   "source": [
    "df = pd.read_csv('../data/data_clean.csv', low_memory=False)"
   ]
  },
  {
   "cell_type": "code",
   "execution_count": 6,
   "id": "aa7675e1-ebc5-4fa7-89e8-ba2524845a94",
   "metadata": {},
   "outputs": [],
   "source": [
    "#df_sample = df.sample(frac=0.3, random_state=42)"
   ]
  },
  {
   "cell_type": "code",
   "execution_count": 7,
   "id": "35e8d4c4-1d91-472e-ab5f-7eda723fa0c8",
   "metadata": {},
   "outputs": [
    {
     "name": "stdout",
     "output_type": "stream",
     "text": [
      "<class 'pandas.core.frame.DataFrame'>\n",
      "RangeIndex: 1057049 entries, 0 to 1057048\n",
      "Data columns (total 47 columns):\n",
      " #   Column                     Non-Null Count    Dtype  \n",
      "---  ------                     --------------    -----  \n",
      " 0   Unnamed: 0                 1057049 non-null  int64  \n",
      " 1   RecordID                   1057049 non-null  int64  \n",
      " 2   ESS_Id                     1057049 non-null  int64  \n",
      " 3   EventTimeStamp             1057049 non-null  object \n",
      " 4   eventDescription           1006152 non-null  object \n",
      " 5   ecuSoftwareVersion         792713 non-null   object \n",
      " 6   ecuSerialNumber            751116 non-null   object \n",
      " 7   ecuModel                   1001026 non-null  object \n",
      " 8   ecuMake                    1001026 non-null  object \n",
      " 9   ecuSource                  1057049 non-null  int64  \n",
      " 10  spn                        1057049 non-null  int64  \n",
      " 11  fmi                        1057049 non-null  int64  \n",
      " 12  active                     1057049 non-null  bool   \n",
      " 13  activeTransitionCount      1057049 non-null  int64  \n",
      " 14  EquipmentID                1057049 non-null  object \n",
      " 15  MCTNumber                  1057049 non-null  int64  \n",
      " 16  Latitude                   1057049 non-null  float64\n",
      " 17  Longitude                  1057049 non-null  float64\n",
      " 18  LocationTimeStamp          1057049 non-null  object \n",
      " 19  FaultId                    1057049 non-null  int64  \n",
      " 20  AcceleratorPedal           480660 non-null   float64\n",
      " 21  BarometricPressure         530902 non-null   float64\n",
      " 22  CruiseControlActive        1057049 non-null  bool   \n",
      " 23  CruiseControlSetSpeed      521823 non-null   float64\n",
      " 24  DistanceLtd                530760 non-null   float64\n",
      " 25  EngineCoolantTemperature   530890 non-null   float64\n",
      " 26  EngineLoad                 530421 non-null   float64\n",
      " 27  EngineOilPressure          531008 non-null   float64\n",
      " 28  EngineOilTemperature       529370 non-null   float64\n",
      " 29  EngineRpm                  531324 non-null   float64\n",
      " 30  EngineTimeLtd              527047 non-null   float64\n",
      " 31  FuelLevel                  455471 non-null   float64\n",
      " 32  FuelLtd                    530354 non-null   float64\n",
      " 33  FuelRate                   530151 non-null   float64\n",
      " 34  FuelTemperature            271089 non-null   float64\n",
      " 35  IgnStatus                  1057049 non-null  bool   \n",
      " 36  IntakeManifoldTemperature  530995 non-null   float64\n",
      " 37  LampStatus                 1057049 non-null  int64  \n",
      " 38  ParkingBrake               1057049 non-null  bool   \n",
      " 39  ServiceDistance            198 non-null      float64\n",
      " 40  Speed                      529278 non-null   float64\n",
      " 41  SwitchedBatteryVoltage     106228 non-null   float64\n",
      " 42  Throttle                   375438 non-null   float64\n",
      " 43  TurboBoostPressure         528806 non-null   float64\n",
      " 44  next_derate_timestamp      249051 non-null   object \n",
      " 45  time_until_detate          249051 non-null   object \n",
      " 46  target                     1057049 non-null  bool   \n",
      "dtypes: bool(5), float64(22), int64(10), object(10)\n",
      "memory usage: 343.8+ MB\n"
     ]
    }
   ],
   "source": [
    "df.info()"
   ]
  },
  {
   "cell_type": "code",
   "execution_count": 8,
   "id": "9017d57a-9699-46cd-bb4f-2ac820673555",
   "metadata": {},
   "outputs": [],
   "source": [
    "df = df.drop('Unnamed: 0', axis=1)"
   ]
  },
  {
   "cell_type": "code",
   "execution_count": 9,
   "id": "8f4e3713-9b81-4c29-bc1b-23771be3185b",
   "metadata": {},
   "outputs": [],
   "source": [
    "object_columns_to_change_to_category = [        \n",
    "    'eventDescription',  \n",
    "    'ecuSoftwareVersion',          \n",
    "    'ecuSerialNumber',         \n",
    "    'ecuModel',           \n",
    "    'ecuMake',                  \n",
    "    'EquipmentID',                                 \n",
    "    'LampStatus',              \n",
    "    'ServiceDistance',\n",
    "    'next_derate_timestamp',\n",
    "    'time_until_detate'] "
   ]
  },
  {
   "cell_type": "code",
   "execution_count": 10,
   "id": "d050a19b-06ad-4167-a721-3cbb74f68c97",
   "metadata": {},
   "outputs": [],
   "source": [
    "for column in object_columns_to_change_to_category:\n",
    "    df[column] = df[column].astype('category')"
   ]
  },
  {
   "cell_type": "code",
   "execution_count": 11,
   "id": "b5e576a1-e425-418b-9113-d817a9dcf370",
   "metadata": {},
   "outputs": [],
   "source": [
    "df['EventTimeStamp'] = pd.to_datetime(df['EventTimeStamp'])\n",
    "df['LocationTimeStamp'] = pd.to_datetime(df['LocationTimeStamp'])"
   ]
  },
  {
   "cell_type": "code",
   "execution_count": 12,
   "id": "df975710-4af8-4305-9f2f-bbde4a37225d",
   "metadata": {},
   "outputs": [],
   "source": [
    "int_columns_to_categorical = ['RecordID',\n",
    "'ESS_Id',                    \n",
    "'ecuSource',                    \n",
    "'spn',                       \n",
    "'fmi',  \n",
    "'active',       \n",
    "'MCTNumber',                  \n",
    "'FaultId']"
   ]
  },
  {
   "cell_type": "code",
   "execution_count": 13,
   "id": "a4a436a0-add9-4120-a4e0-8f831ad466e9",
   "metadata": {},
   "outputs": [],
   "source": [
    "for column in int_columns_to_categorical:\n",
    "    df[column] = df[column].astype('category')"
   ]
  },
  {
   "cell_type": "code",
   "execution_count": 14,
   "id": "f6376a1f-bbbb-41d0-b88d-f92c320ce5f3",
   "metadata": {},
   "outputs": [],
   "source": [
    "float64_cols = df.select_dtypes(include=['float64']).columns\n",
    "df[float64_cols] = df[float64_cols].astype('float32')"
   ]
  },
  {
   "cell_type": "code",
   "execution_count": 15,
   "id": "c29a9a86-917b-4d6a-aef5-492142b23590",
   "metadata": {},
   "outputs": [
    {
     "name": "stdout",
     "output_type": "stream",
     "text": [
      "<class 'pandas.core.frame.DataFrame'>\n",
      "RangeIndex: 1057049 entries, 0 to 1057048\n",
      "Data columns (total 46 columns):\n",
      " #   Column                     Non-Null Count    Dtype         \n",
      "---  ------                     --------------    -----         \n",
      " 0   RecordID                   1057049 non-null  category      \n",
      " 1   ESS_Id                     1057049 non-null  category      \n",
      " 2   EventTimeStamp             1057049 non-null  datetime64[ns]\n",
      " 3   eventDescription           1006152 non-null  category      \n",
      " 4   ecuSoftwareVersion         792713 non-null   category      \n",
      " 5   ecuSerialNumber            751116 non-null   category      \n",
      " 6   ecuModel                   1001026 non-null  category      \n",
      " 7   ecuMake                    1001026 non-null  category      \n",
      " 8   ecuSource                  1057049 non-null  category      \n",
      " 9   spn                        1057049 non-null  category      \n",
      " 10  fmi                        1057049 non-null  category      \n",
      " 11  active                     1057049 non-null  category      \n",
      " 12  activeTransitionCount      1057049 non-null  int64         \n",
      " 13  EquipmentID                1057049 non-null  category      \n",
      " 14  MCTNumber                  1057049 non-null  category      \n",
      " 15  Latitude                   1057049 non-null  float32       \n",
      " 16  Longitude                  1057049 non-null  float32       \n",
      " 17  LocationTimeStamp          1057049 non-null  datetime64[ns]\n",
      " 18  FaultId                    1057049 non-null  category      \n",
      " 19  AcceleratorPedal           480660 non-null   float32       \n",
      " 20  BarometricPressure         530902 non-null   float32       \n",
      " 21  CruiseControlActive        1057049 non-null  bool          \n",
      " 22  CruiseControlSetSpeed      521823 non-null   float32       \n",
      " 23  DistanceLtd                530760 non-null   float32       \n",
      " 24  EngineCoolantTemperature   530890 non-null   float32       \n",
      " 25  EngineLoad                 530421 non-null   float32       \n",
      " 26  EngineOilPressure          531008 non-null   float32       \n",
      " 27  EngineOilTemperature       529370 non-null   float32       \n",
      " 28  EngineRpm                  531324 non-null   float32       \n",
      " 29  EngineTimeLtd              527047 non-null   float32       \n",
      " 30  FuelLevel                  455471 non-null   float32       \n",
      " 31  FuelLtd                    530354 non-null   float32       \n",
      " 32  FuelRate                   530151 non-null   float32       \n",
      " 33  FuelTemperature            271089 non-null   float32       \n",
      " 34  IgnStatus                  1057049 non-null  bool          \n",
      " 35  IntakeManifoldTemperature  530995 non-null   float32       \n",
      " 36  LampStatus                 1057049 non-null  category      \n",
      " 37  ParkingBrake               1057049 non-null  bool          \n",
      " 38  ServiceDistance            198 non-null      category      \n",
      " 39  Speed                      529278 non-null   float32       \n",
      " 40  SwitchedBatteryVoltage     106228 non-null   float32       \n",
      " 41  Throttle                   375438 non-null   float32       \n",
      " 42  TurboBoostPressure         528806 non-null   float32       \n",
      " 43  next_derate_timestamp      249051 non-null   category      \n",
      " 44  time_until_detate          249051 non-null   category      \n",
      " 45  target                     1057049 non-null  bool          \n",
      "dtypes: bool(4), category(18), datetime64[ns](2), float32(21), int64(1)\n",
      "memory usage: 282.2 MB\n"
     ]
    }
   ],
   "source": [
    "df.info()"
   ]
  },
  {
   "cell_type": "markdown",
   "id": "0c3514de-2831-4ca7-ae0d-6971d37e59a1",
   "metadata": {},
   "source": [
    "Scaling and encoding features for modeling"
   ]
  },
  {
   "cell_type": "code",
   "execution_count": 17,
   "id": "10d15d1d-9522-45f3-838f-f88330441358",
   "metadata": {},
   "outputs": [],
   "source": [
    "X = df.drop(['target',\n",
    "            'LocationTimeStamp',\n",
    "            'EventTimeStamp',\n",
    "            'eventDescription',\n",
    "            'ESS_Id',\n",
    "            'ecuModel',\n",
    "            'ecuMake',\n",
    "            'ecuSource',\n",
    "            'ecuSoftwareVersion',\n",
    "            'ecuSerialNumber',\n",
    "            'MCTNumber',\n",
    "            'ServiceDistance',\n",
    "            'Latitude',\n",
    "            'Longitude',\n",
    "            'RecordID',\n",
    "            'next_derate_timestamp',\n",
    "            'time_until_detate',\n",
    "            'FaultId'], axis=1)\n",
    "\n",
    "y = df['target'].values"
   ]
  },
  {
   "cell_type": "code",
   "execution_count": 18,
   "id": "6fb5c493-0ebd-453d-abf3-5bdf024d5ffb",
   "metadata": {},
   "outputs": [],
   "source": [
    "X_train, X_test, y_train, y_test = train_test_split(X, y, test_size=0.3, random_state=27, stratify=y)"
   ]
  },
  {
   "cell_type": "code",
   "execution_count": 19,
   "id": "32435c9e-d61d-4170-915f-460fa36ad67b",
   "metadata": {},
   "outputs": [
    {
     "name": "stdout",
     "output_type": "stream",
     "text": [
      "<class 'pandas.core.frame.DataFrame'>\n",
      "Index: 739934 entries, 1035968 to 850462\n",
      "Data columns (total 28 columns):\n",
      " #   Column                     Non-Null Count   Dtype   \n",
      "---  ------                     --------------   -----   \n",
      " 0   spn                        739934 non-null  category\n",
      " 1   fmi                        739934 non-null  category\n",
      " 2   active                     739934 non-null  category\n",
      " 3   activeTransitionCount      739934 non-null  int64   \n",
      " 4   EquipmentID                739934 non-null  category\n",
      " 5   AcceleratorPedal           336870 non-null  float32 \n",
      " 6   BarometricPressure         371934 non-null  float32 \n",
      " 7   CruiseControlActive        739934 non-null  bool    \n",
      " 8   CruiseControlSetSpeed      365583 non-null  float32 \n",
      " 9   DistanceLtd                371835 non-null  float32 \n",
      " 10  EngineCoolantTemperature   371915 non-null  float32 \n",
      " 11  EngineLoad                 371599 non-null  float32 \n",
      " 12  EngineOilPressure          372018 non-null  float32 \n",
      " 13  EngineOilTemperature       370868 non-null  float32 \n",
      " 14  EngineRpm                  372226 non-null  float32 \n",
      " 15  EngineTimeLtd              369221 non-null  float32 \n",
      " 16  FuelLevel                  318875 non-null  float32 \n",
      " 17  FuelLtd                    371543 non-null  float32 \n",
      " 18  FuelRate                   371416 non-null  float32 \n",
      " 19  FuelTemperature            189925 non-null  float32 \n",
      " 20  IgnStatus                  739934 non-null  bool    \n",
      " 21  IntakeManifoldTemperature  371994 non-null  float32 \n",
      " 22  LampStatus                 739934 non-null  category\n",
      " 23  ParkingBrake               739934 non-null  bool    \n",
      " 24  Speed                      370785 non-null  float32 \n",
      " 25  SwitchedBatteryVoltage     74518 non-null   float32 \n",
      " 26  Throttle                   263027 non-null  float32 \n",
      " 27  TurboBoostPressure         370492 non-null  float32 \n",
      "dtypes: bool(3), category(5), float32(19), int64(1)\n",
      "memory usage: 72.0 MB\n"
     ]
    }
   ],
   "source": [
    "X_train.info()"
   ]
  },
  {
   "cell_type": "code",
   "execution_count": 20,
   "id": "8e0e617b-d1ef-4a2a-b95d-8725a90ef88a",
   "metadata": {},
   "outputs": [
    {
     "name": "stderr",
     "output_type": "stream",
     "text": [
      "C:\\Users\\billy\\anaconda3\\Lib\\site-packages\\faiss_imputer\\faiss_imputer.py:99: RuntimeWarning: Mean of empty slice\n",
      "  column_agg = np.nanmean(selected_values, axis=0)\n"
     ]
    },
    {
     "name": "stdout",
     "output_type": "stream",
     "text": [
      "[LightGBM] [Info] Number of positive: 1763, number of negative: 738171\n",
      "[LightGBM] [Info] Auto-choosing col-wise multi-threading, the overhead of testing was 0.126267 seconds.\n",
      "You can set `force_col_wise=true` to remove the overhead.\n",
      "[LightGBM] [Info] Total Bins 6531\n",
      "[LightGBM] [Info] Number of data points in the train set: 739934, number of used features: 1270\n",
      "[LightGBM] [Info] [binary:BoostFromScore]: pavg=0.002383 -> initscore=-6.037159\n",
      "[LightGBM] [Info] Start training from score -6.037159\n"
     ]
    }
   ],
   "source": [
    "categorical_features = ['spn', 'fmi', 'EquipmentID', 'LampStatus'] \n",
    "bool_features = ['CruiseControlActive', 'ParkingBrake', 'IgnStatus', 'active']\n",
    "numeric_features = [x for x in X_train.columns if x not in categorical_features + bool_features] \n",
    "\n",
    "numeric_pipe = Pipeline(\n",
    "    steps=[\n",
    "        ('scale', StandardScaler()),\n",
    "        ('faiss_imputer', FaissImputer(n_neighbors=3, strategy = 'mean')),\n",
    "    ]\n",
    ")\n",
    "\n",
    "categorical_pipe = Pipeline(\n",
    "    steps=[\n",
    "        ('onehot', OneHotEncoder(handle_unknown='ignore', sparse_output=False)),\n",
    "        ('KNN_imputer', SimpleImputer(strategy='most_frequent')),\n",
    "    ]\n",
    ")\n",
    "\n",
    "bool_pipe = Pipeline(\n",
    "    steps=[\n",
    "        ('bool_impute', SimpleImputer(strategy='most_frequent'))\n",
    "    ]\n",
    ")\n",
    "\n",
    "ct = ColumnTransformer(\n",
    "    transformers=[\n",
    "        ('numeric', numeric_pipe, numeric_features),\n",
    "        ('categorical', categorical_pipe, categorical_features),\n",
    "        ('bool', bool_pipe, bool_features)\n",
    "    ]\n",
    ")\n",
    "\n",
    "pipe = Pipeline(\n",
    "    steps=[\n",
    "        ('transformer', ct),\n",
    "        ('lightgbm', LGBMClassifier(\n",
    "        ))\n",
    "    ]\n",
    ").fit(X_train, y_train)"
   ]
  },
  {
   "cell_type": "code",
   "execution_count": 21,
   "id": "fb0b52db-3586-4613-9403-745e269ce6bf",
   "metadata": {},
   "outputs": [],
   "source": [
    "# - there rae 1763 positive samples and 738,171 negative samples. This suggests dataset is highly imbalanced, which may require adjustments like class weighting or resampling.\n",
    "# - LightGBM uses histogram-based learning instead of splitting values directly. This means the dataset has 6531 unique bin partitions, which can improve training efficiency.\n",
    "# - there are 739,934 rows being used for training. the model is leveraging 1270 features in total.\n",
    "# - Since it's a binary classification task, LightGBM calculates an initial score (-6.037159). This score is derived from the prior probability (pavg=0.002383), meaning only 0.238% of samples are positive. The low prior probability affects LightGBM's initial weight adjustments to balance the learning process.\n",
    "\n",
    "# Next steps:\n",
    "# Given the severe class imbalance, I might: ✔ Use scale_pos_weight in LightGBM to balance classes ✔ Apply oversampling techniques (SMOTE, ADASYN) if necessary ✔ Tune the learning rate for better convergence"
   ]
  },
  {
   "cell_type": "code",
   "execution_count": 22,
   "id": "c79ffc03-5dfe-49ff-9c25-bae40629ee22",
   "metadata": {},
   "outputs": [
    {
     "name": "stderr",
     "output_type": "stream",
     "text": [
      "C:\\Users\\billy\\anaconda3\\Lib\\site-packages\\faiss_imputer\\faiss_imputer.py:99: RuntimeWarning: Mean of empty slice\n",
      "  column_agg = np.nanmean(selected_values, axis=0)\n"
     ]
    }
   ],
   "source": [
    "y_pred = pipe.predict(X_test)"
   ]
  },
  {
   "cell_type": "code",
   "execution_count": 23,
   "id": "e691131f-3e3f-4125-a70d-acd59fa8be1b",
   "metadata": {},
   "outputs": [
    {
     "name": "stdout",
     "output_type": "stream",
     "text": [
      "              precision    recall  f1-score   support\n",
      "\n",
      "       False       1.00      1.00      1.00    316360\n",
      "        True       0.29      0.24      0.26       755\n",
      "\n",
      "    accuracy                           1.00    317115\n",
      "   macro avg       0.64      0.62      0.63    317115\n",
      "weighted avg       1.00      1.00      1.00    317115\n",
      "\n"
     ]
    }
   ],
   "source": [
    "print(classification_report(y_test, y_pred, zero_division = 0))\n",
    "#feature_importances = pd.Series(pipe.feature_importances_, index=X_train.columns)\n",
    "#feature_importances.sort_values(ascending=False)\n",
    "#print(feature_importances)"
   ]
  },
  {
   "cell_type": "code",
   "execution_count": 24,
   "id": "3682611b-c7db-4eea-b835-055d372b9ca8",
   "metadata": {},
   "outputs": [
    {
     "name": "stderr",
     "output_type": "stream",
     "text": [
      "C:\\Users\\billy\\AppData\\Local\\Temp\\ipykernel_13004\\3329684240.py:1: FutureWarning: The behavior of 'isin' with dtype=datetime64[ns] and castable values (e.g. strings) is deprecated. In a future version, these will not be considered matching by isin. Explicitly cast to the appropriate dtype before calling isin instead.\n",
      "  df[df.isin(['99,6']).any(axis=1)]\n"
     ]
    },
    {
     "data": {
      "text/html": [
       "<div>\n",
       "<style scoped>\n",
       "    .dataframe tbody tr th:only-of-type {\n",
       "        vertical-align: middle;\n",
       "    }\n",
       "\n",
       "    .dataframe tbody tr th {\n",
       "        vertical-align: top;\n",
       "    }\n",
       "\n",
       "    .dataframe thead th {\n",
       "        text-align: right;\n",
       "    }\n",
       "</style>\n",
       "<table border=\"1\" class=\"dataframe\">\n",
       "  <thead>\n",
       "    <tr style=\"text-align: right;\">\n",
       "      <th></th>\n",
       "      <th>RecordID</th>\n",
       "      <th>ESS_Id</th>\n",
       "      <th>EventTimeStamp</th>\n",
       "      <th>eventDescription</th>\n",
       "      <th>ecuSoftwareVersion</th>\n",
       "      <th>ecuSerialNumber</th>\n",
       "      <th>ecuModel</th>\n",
       "      <th>ecuMake</th>\n",
       "      <th>ecuSource</th>\n",
       "      <th>spn</th>\n",
       "      <th>...</th>\n",
       "      <th>LampStatus</th>\n",
       "      <th>ParkingBrake</th>\n",
       "      <th>ServiceDistance</th>\n",
       "      <th>Speed</th>\n",
       "      <th>SwitchedBatteryVoltage</th>\n",
       "      <th>Throttle</th>\n",
       "      <th>TurboBoostPressure</th>\n",
       "      <th>next_derate_timestamp</th>\n",
       "      <th>time_until_detate</th>\n",
       "      <th>target</th>\n",
       "    </tr>\n",
       "  </thead>\n",
       "  <tbody>\n",
       "  </tbody>\n",
       "</table>\n",
       "<p>0 rows × 46 columns</p>\n",
       "</div>"
      ],
      "text/plain": [
       "Empty DataFrame\n",
       "Columns: [RecordID, ESS_Id, EventTimeStamp, eventDescription, ecuSoftwareVersion, ecuSerialNumber, ecuModel, ecuMake, ecuSource, spn, fmi, active, activeTransitionCount, EquipmentID, MCTNumber, Latitude, Longitude, LocationTimeStamp, FaultId, AcceleratorPedal, BarometricPressure, CruiseControlActive, CruiseControlSetSpeed, DistanceLtd, EngineCoolantTemperature, EngineLoad, EngineOilPressure, EngineOilTemperature, EngineRpm, EngineTimeLtd, FuelLevel, FuelLtd, FuelRate, FuelTemperature, IgnStatus, IntakeManifoldTemperature, LampStatus, ParkingBrake, ServiceDistance, Speed, SwitchedBatteryVoltage, Throttle, TurboBoostPressure, next_derate_timestamp, time_until_detate, target]\n",
       "Index: []\n",
       "\n",
       "[0 rows x 46 columns]"
      ]
     },
     "execution_count": 24,
     "metadata": {},
     "output_type": "execute_result"
    }
   ],
   "source": [
    "df[df.isin(['99,6']).any(axis=1)]"
   ]
  },
  {
   "cell_type": "code",
   "execution_count": 25,
   "id": "7a243b39-8d54-481e-a22e-22f2df4b6fd2",
   "metadata": {},
   "outputs": [
    {
     "ename": "ValueError",
     "evalue": "Cannot cast object dtype to float64",
     "output_type": "error",
     "traceback": [
      "\u001b[1;31m---------------------------------------------------------------------------\u001b[0m",
      "\u001b[1;31mValueError\u001b[0m                                Traceback (most recent call last)",
      "File \u001b[1;32m~\\anaconda3\\Lib\\site-packages\\pandas\\core\\arrays\\categorical.py:591\u001b[0m, in \u001b[0;36mCategorical.astype\u001b[1;34m(self, dtype, copy)\u001b[0m\n\u001b[0;32m    590\u001b[0m \u001b[38;5;28;01mtry\u001b[39;00m:\n\u001b[1;32m--> 591\u001b[0m     new_cats \u001b[38;5;241m=\u001b[39m new_cats\u001b[38;5;241m.\u001b[39mastype(dtype\u001b[38;5;241m=\u001b[39mdtype, copy\u001b[38;5;241m=\u001b[39mcopy)\n\u001b[0;32m    592\u001b[0m     fill_value \u001b[38;5;241m=\u001b[39m \u001b[38;5;28mself\u001b[39m\u001b[38;5;241m.\u001b[39mcategories\u001b[38;5;241m.\u001b[39m_na_value\n",
      "\u001b[1;31mValueError\u001b[0m: could not convert string to float: '2185A'",
      "\nDuring handling of the above exception, another exception occurred:\n",
      "\u001b[1;31mValueError\u001b[0m                                Traceback (most recent call last)",
      "Cell \u001b[1;32mIn[25], line 1\u001b[0m\n\u001b[1;32m----> 1\u001b[0m df\u001b[38;5;241m.\u001b[39mloc[df[\u001b[38;5;124m'\u001b[39m\u001b[38;5;124mEquipmentID\u001b[39m\u001b[38;5;124m'\u001b[39m] \u001b[38;5;241m==\u001b[39m \u001b[38;5;124m'\u001b[39m\u001b[38;5;124mR1762\u001b[39m\u001b[38;5;124m'\u001b[39m][\u001b[38;5;124m'\u001b[39m\u001b[38;5;124mEquipmentID\u001b[39m\u001b[38;5;124m'\u001b[39m]\u001b[38;5;241m.\u001b[39mastype(\u001b[38;5;28mfloat\u001b[39m)\n",
      "File \u001b[1;32m~\\anaconda3\\Lib\\site-packages\\pandas\\core\\generic.py:6643\u001b[0m, in \u001b[0;36mNDFrame.astype\u001b[1;34m(self, dtype, copy, errors)\u001b[0m\n\u001b[0;32m   6637\u001b[0m     results \u001b[38;5;241m=\u001b[39m [\n\u001b[0;32m   6638\u001b[0m         ser\u001b[38;5;241m.\u001b[39mastype(dtype, copy\u001b[38;5;241m=\u001b[39mcopy, errors\u001b[38;5;241m=\u001b[39merrors) \u001b[38;5;28;01mfor\u001b[39;00m _, ser \u001b[38;5;129;01min\u001b[39;00m \u001b[38;5;28mself\u001b[39m\u001b[38;5;241m.\u001b[39mitems()\n\u001b[0;32m   6639\u001b[0m     ]\n\u001b[0;32m   6641\u001b[0m \u001b[38;5;28;01melse\u001b[39;00m:\n\u001b[0;32m   6642\u001b[0m     \u001b[38;5;66;03m# else, only a single dtype is given\u001b[39;00m\n\u001b[1;32m-> 6643\u001b[0m     new_data \u001b[38;5;241m=\u001b[39m \u001b[38;5;28mself\u001b[39m\u001b[38;5;241m.\u001b[39m_mgr\u001b[38;5;241m.\u001b[39mastype(dtype\u001b[38;5;241m=\u001b[39mdtype, copy\u001b[38;5;241m=\u001b[39mcopy, errors\u001b[38;5;241m=\u001b[39merrors)\n\u001b[0;32m   6644\u001b[0m     res \u001b[38;5;241m=\u001b[39m \u001b[38;5;28mself\u001b[39m\u001b[38;5;241m.\u001b[39m_constructor_from_mgr(new_data, axes\u001b[38;5;241m=\u001b[39mnew_data\u001b[38;5;241m.\u001b[39maxes)\n\u001b[0;32m   6645\u001b[0m     \u001b[38;5;28;01mreturn\u001b[39;00m res\u001b[38;5;241m.\u001b[39m__finalize__(\u001b[38;5;28mself\u001b[39m, method\u001b[38;5;241m=\u001b[39m\u001b[38;5;124m\"\u001b[39m\u001b[38;5;124mastype\u001b[39m\u001b[38;5;124m\"\u001b[39m)\n",
      "File \u001b[1;32m~\\anaconda3\\Lib\\site-packages\\pandas\\core\\internals\\managers.py:430\u001b[0m, in \u001b[0;36mBaseBlockManager.astype\u001b[1;34m(self, dtype, copy, errors)\u001b[0m\n\u001b[0;32m    427\u001b[0m \u001b[38;5;28;01melif\u001b[39;00m using_copy_on_write():\n\u001b[0;32m    428\u001b[0m     copy \u001b[38;5;241m=\u001b[39m \u001b[38;5;28;01mFalse\u001b[39;00m\n\u001b[1;32m--> 430\u001b[0m \u001b[38;5;28;01mreturn\u001b[39;00m \u001b[38;5;28mself\u001b[39m\u001b[38;5;241m.\u001b[39mapply(\n\u001b[0;32m    431\u001b[0m     \u001b[38;5;124m\"\u001b[39m\u001b[38;5;124mastype\u001b[39m\u001b[38;5;124m\"\u001b[39m,\n\u001b[0;32m    432\u001b[0m     dtype\u001b[38;5;241m=\u001b[39mdtype,\n\u001b[0;32m    433\u001b[0m     copy\u001b[38;5;241m=\u001b[39mcopy,\n\u001b[0;32m    434\u001b[0m     errors\u001b[38;5;241m=\u001b[39merrors,\n\u001b[0;32m    435\u001b[0m     using_cow\u001b[38;5;241m=\u001b[39musing_copy_on_write(),\n\u001b[0;32m    436\u001b[0m )\n",
      "File \u001b[1;32m~\\anaconda3\\Lib\\site-packages\\pandas\\core\\internals\\managers.py:363\u001b[0m, in \u001b[0;36mBaseBlockManager.apply\u001b[1;34m(self, f, align_keys, **kwargs)\u001b[0m\n\u001b[0;32m    361\u001b[0m         applied \u001b[38;5;241m=\u001b[39m b\u001b[38;5;241m.\u001b[39mapply(f, \u001b[38;5;241m*\u001b[39m\u001b[38;5;241m*\u001b[39mkwargs)\n\u001b[0;32m    362\u001b[0m     \u001b[38;5;28;01melse\u001b[39;00m:\n\u001b[1;32m--> 363\u001b[0m         applied \u001b[38;5;241m=\u001b[39m \u001b[38;5;28mgetattr\u001b[39m(b, f)(\u001b[38;5;241m*\u001b[39m\u001b[38;5;241m*\u001b[39mkwargs)\n\u001b[0;32m    364\u001b[0m     result_blocks \u001b[38;5;241m=\u001b[39m extend_blocks(applied, result_blocks)\n\u001b[0;32m    366\u001b[0m out \u001b[38;5;241m=\u001b[39m \u001b[38;5;28mtype\u001b[39m(\u001b[38;5;28mself\u001b[39m)\u001b[38;5;241m.\u001b[39mfrom_blocks(result_blocks, \u001b[38;5;28mself\u001b[39m\u001b[38;5;241m.\u001b[39maxes)\n",
      "File \u001b[1;32m~\\anaconda3\\Lib\\site-packages\\pandas\\core\\internals\\blocks.py:758\u001b[0m, in \u001b[0;36mBlock.astype\u001b[1;34m(self, dtype, copy, errors, using_cow, squeeze)\u001b[0m\n\u001b[0;32m    755\u001b[0m         \u001b[38;5;28;01mraise\u001b[39;00m \u001b[38;5;167;01mValueError\u001b[39;00m(\u001b[38;5;124m\"\u001b[39m\u001b[38;5;124mCan not squeeze with more than one column.\u001b[39m\u001b[38;5;124m\"\u001b[39m)\n\u001b[0;32m    756\u001b[0m     values \u001b[38;5;241m=\u001b[39m values[\u001b[38;5;241m0\u001b[39m, :]  \u001b[38;5;66;03m# type: ignore[call-overload]\u001b[39;00m\n\u001b[1;32m--> 758\u001b[0m new_values \u001b[38;5;241m=\u001b[39m astype_array_safe(values, dtype, copy\u001b[38;5;241m=\u001b[39mcopy, errors\u001b[38;5;241m=\u001b[39merrors)\n\u001b[0;32m    760\u001b[0m new_values \u001b[38;5;241m=\u001b[39m maybe_coerce_values(new_values)\n\u001b[0;32m    762\u001b[0m refs \u001b[38;5;241m=\u001b[39m \u001b[38;5;28;01mNone\u001b[39;00m\n",
      "File \u001b[1;32m~\\anaconda3\\Lib\\site-packages\\pandas\\core\\dtypes\\astype.py:237\u001b[0m, in \u001b[0;36mastype_array_safe\u001b[1;34m(values, dtype, copy, errors)\u001b[0m\n\u001b[0;32m    234\u001b[0m     dtype \u001b[38;5;241m=\u001b[39m dtype\u001b[38;5;241m.\u001b[39mnumpy_dtype\n\u001b[0;32m    236\u001b[0m \u001b[38;5;28;01mtry\u001b[39;00m:\n\u001b[1;32m--> 237\u001b[0m     new_values \u001b[38;5;241m=\u001b[39m astype_array(values, dtype, copy\u001b[38;5;241m=\u001b[39mcopy)\n\u001b[0;32m    238\u001b[0m \u001b[38;5;28;01mexcept\u001b[39;00m (\u001b[38;5;167;01mValueError\u001b[39;00m, \u001b[38;5;167;01mTypeError\u001b[39;00m):\n\u001b[0;32m    239\u001b[0m     \u001b[38;5;66;03m# e.g. _astype_nansafe can fail on object-dtype of strings\u001b[39;00m\n\u001b[0;32m    240\u001b[0m     \u001b[38;5;66;03m#  trying to convert to float\u001b[39;00m\n\u001b[0;32m    241\u001b[0m     \u001b[38;5;28;01mif\u001b[39;00m errors \u001b[38;5;241m==\u001b[39m \u001b[38;5;124m\"\u001b[39m\u001b[38;5;124mignore\u001b[39m\u001b[38;5;124m\"\u001b[39m:\n",
      "File \u001b[1;32m~\\anaconda3\\Lib\\site-packages\\pandas\\core\\dtypes\\astype.py:179\u001b[0m, in \u001b[0;36mastype_array\u001b[1;34m(values, dtype, copy)\u001b[0m\n\u001b[0;32m    175\u001b[0m     \u001b[38;5;28;01mreturn\u001b[39;00m values\n\u001b[0;32m    177\u001b[0m \u001b[38;5;28;01mif\u001b[39;00m \u001b[38;5;129;01mnot\u001b[39;00m \u001b[38;5;28misinstance\u001b[39m(values, np\u001b[38;5;241m.\u001b[39mndarray):\n\u001b[0;32m    178\u001b[0m     \u001b[38;5;66;03m# i.e. ExtensionArray\u001b[39;00m\n\u001b[1;32m--> 179\u001b[0m     values \u001b[38;5;241m=\u001b[39m values\u001b[38;5;241m.\u001b[39mastype(dtype, copy\u001b[38;5;241m=\u001b[39mcopy)\n\u001b[0;32m    181\u001b[0m \u001b[38;5;28;01melse\u001b[39;00m:\n\u001b[0;32m    182\u001b[0m     values \u001b[38;5;241m=\u001b[39m _astype_nansafe(values, dtype, copy\u001b[38;5;241m=\u001b[39mcopy)\n",
      "File \u001b[1;32m~\\anaconda3\\Lib\\site-packages\\pandas\\core\\arrays\\categorical.py:602\u001b[0m, in \u001b[0;36mCategorical.astype\u001b[1;34m(self, dtype, copy)\u001b[0m\n\u001b[0;32m    597\u001b[0m     \u001b[38;5;28;01mexcept\u001b[39;00m (\n\u001b[0;32m    598\u001b[0m         \u001b[38;5;167;01mTypeError\u001b[39;00m,  \u001b[38;5;66;03m# downstream error msg for CategoricalIndex is misleading\u001b[39;00m\n\u001b[0;32m    599\u001b[0m         \u001b[38;5;167;01mValueError\u001b[39;00m,\n\u001b[0;32m    600\u001b[0m     ):\n\u001b[0;32m    601\u001b[0m         msg \u001b[38;5;241m=\u001b[39m \u001b[38;5;124mf\u001b[39m\u001b[38;5;124m\"\u001b[39m\u001b[38;5;124mCannot cast \u001b[39m\u001b[38;5;132;01m{\u001b[39;00m\u001b[38;5;28mself\u001b[39m\u001b[38;5;241m.\u001b[39mcategories\u001b[38;5;241m.\u001b[39mdtype\u001b[38;5;132;01m}\u001b[39;00m\u001b[38;5;124m dtype to \u001b[39m\u001b[38;5;132;01m{\u001b[39;00mdtype\u001b[38;5;132;01m}\u001b[39;00m\u001b[38;5;124m\"\u001b[39m\n\u001b[1;32m--> 602\u001b[0m         \u001b[38;5;28;01mraise\u001b[39;00m \u001b[38;5;167;01mValueError\u001b[39;00m(msg)\n\u001b[0;32m    604\u001b[0m     result \u001b[38;5;241m=\u001b[39m take_nd(\n\u001b[0;32m    605\u001b[0m         new_cats, ensure_platform_int(\u001b[38;5;28mself\u001b[39m\u001b[38;5;241m.\u001b[39m_codes), fill_value\u001b[38;5;241m=\u001b[39mfill_value\n\u001b[0;32m    606\u001b[0m     )\n\u001b[0;32m    608\u001b[0m \u001b[38;5;28;01mreturn\u001b[39;00m result\n",
      "\u001b[1;31mValueError\u001b[0m: Cannot cast object dtype to float64"
     ]
    }
   ],
   "source": [
    "df.loc[df['EquipmentID'] == 'R1762']['EquipmentID'].astype(float)"
   ]
  },
  {
   "cell_type": "code",
   "execution_count": null,
   "id": "4f13d84a-58cd-424d-bf29-91e275a1c42b",
   "metadata": {},
   "outputs": [],
   "source": []
  },
  {
   "cell_type": "code",
   "execution_count": null,
   "id": "11cb3d04-d234-4eb6-bfe5-679c8b159913",
   "metadata": {},
   "outputs": [],
   "source": []
  },
  {
   "cell_type": "code",
   "execution_count": null,
   "id": "57ea0dea-2554-49ca-a393-08250fe7c37f",
   "metadata": {},
   "outputs": [],
   "source": []
  },
  {
   "cell_type": "code",
   "execution_count": null,
   "id": "490b15b9-76cd-4b04-8524-12191524149e",
   "metadata": {},
   "outputs": [],
   "source": []
  },
  {
   "cell_type": "code",
   "execution_count": null,
   "id": "0a402fd5-3066-4ec7-a579-9c7dfb929f99",
   "metadata": {},
   "outputs": [],
   "source": []
  }
 ],
 "metadata": {
  "kernelspec": {
   "display_name": "Python 3 (ipykernel)",
   "language": "python",
   "name": "python3"
  },
  "language_info": {
   "codemirror_mode": {
    "name": "ipython",
    "version": 3
   },
   "file_extension": ".py",
   "mimetype": "text/x-python",
   "name": "python",
   "nbconvert_exporter": "python",
   "pygments_lexer": "ipython3",
   "version": "3.12.4"
  }
 },
 "nbformat": 4,
 "nbformat_minor": 5
}
