{
 "cells": [
  {
   "cell_type": "markdown",
   "id": "40529150-cd0f-4230-98f9-9e091d484e79",
   "metadata": {},
   "source": [
    "## Modeling ##"
   ]
  },
  {
   "cell_type": "code",
   "execution_count": 1,
   "id": "5c124217-9d3e-4972-9943-38e258e1e439",
   "metadata": {},
   "outputs": [],
   "source": [
    "import time\n",
    "import pickle\n",
    "import os\n",
    "import pandas as pd\n",
    "import numpy as np\n",
    "import datetime as dt\n",
    "import matplotlib.pyplot as plt\n",
    "import seaborn as sn\n",
    "from matplotlib.colors import Colormap\n",
    "import scipy.stats as stats\n",
    "from numpy import interp\n",
    "import scikitplot as skplt\n",
    "from sklearn.preprocessing import StandardScaler, OneHotEncoder, LabelEncoder\n",
    "from sklearn.pipeline import Pipeline, make_pipeline\n",
    "from sklearn.decomposition import PCA\n",
    "from sklearn.experimental import enable_iterative_imputer\n",
    "from sklearn.impute import KNNImputer, SimpleImputer, IterativeImputer\n",
    "from sklearn.compose import ColumnTransformer\n",
    "from sklearn.ensemble import RandomForestClassifier\n",
    "from sklearn.tree import DecisionTreeClassifier\n",
    "from sklearn.model_selection import (\n",
    "    train_test_split,\n",
    "    GridSearchCV,\n",
    "    RandomizedSearchCV, \n",
    "    cross_val_score, \n",
    "    cross_val_predict\n",
    ")\n",
    "from sklearn.metrics import (\n",
    "    classification_report, \n",
    "    confusion_matrix,\n",
    "    r2_score,\n",
    "    mean_squared_error, \n",
    "    root_mean_squared_error,\n",
    "    mean_absolute_error, \n",
    "    mean_absolute_percentage_error,\n",
    "    accuracy_score,\n",
    "    matthews_corrcoef,\n",
    "    brier_score_loss,\n",
    "    f1_score,\n",
    "    roc_curve, \n",
    "    roc_auc_score\n",
    ")\n",
    "from sklearn.feature_selection import SelectKBest, chi2\n",
    "from sklearn.inspection import PartialDependenceDisplay\n",
    "from sklearn.neighbors import KNeighborsClassifier, NearestNeighbors\n",
    "from sklearn.linear_model import LogisticRegression\n",
    "from sklearn.svm import SVC\n",
    "import xgboost as xgb\n",
    "from xgboost import XGBClassifier\n",
    "from xgboost import plot_importance\n",
    "from lightgbm import LGBMClassifier\n",
    "from sklearn.ensemble import HistGradientBoostingClassifier\n",
    "from imblearn.over_sampling import SMOTE\n",
    "\n",
    "from hyperopt import STATUS_OK, Trials, fmin, hp, tpe\n",
    "\n",
    "import matplotlib.ticker as mticker\n",
    "\n",
    "import shap"
   ]
  },
  {
   "cell_type": "code",
   "execution_count": 2,
   "id": "42549602-124e-460f-840f-563c2e57cdd8",
   "metadata": {},
   "outputs": [
    {
     "name": "stdout",
     "output_type": "stream",
     "text": [
      "Current working directory is C:\\Users\\cavin\\Documents\\NSS_Projects\\Python\\big-g-big-rigs\\notebooks\n"
     ]
    }
   ],
   "source": [
    "print(f'Current working directory is {os.getcwd()}')"
   ]
  },
  {
   "cell_type": "markdown",
   "id": "8a32a870-37e7-4bb2-8522-7990fcf615e5",
   "metadata": {},
   "source": [
    "This notebook is dedicated to the feature selection and statistical modeling of our trucking data."
   ]
  },
  {
   "cell_type": "code",
   "execution_count": 3,
   "id": "49948ce0-cf27-4e2b-8272-c41a1b4680c8",
   "metadata": {},
   "outputs": [],
   "source": [
    "pd.set_option('display.max_columns', None)"
   ]
  },
  {
   "cell_type": "code",
   "execution_count": null,
   "id": "55f0dd30-4d54-4dfa-b6e9-d3ba19fd3145",
   "metadata": {},
   "outputs": [],
   "source": [
    "df = pd.read_csv('../data/data_clean_05_13.csv', low_memory=False)"
   ]
  },
  {
   "cell_type": "code",
   "execution_count": null,
   "id": "517fb8a7-4030-4e22-a66e-e0bf36ad0a83",
   "metadata": {},
   "outputs": [],
   "source": [
    "df.shape"
   ]
  },
  {
   "cell_type": "markdown",
   "id": "5e5a583b-f665-4dad-ba46-3f0616ecf0e1",
   "metadata": {},
   "source": [
    "Cleaning features and reassigning them to the proper dtypes"
   ]
  },
  {
   "cell_type": "code",
   "execution_count": null,
   "id": "79c8529d-97e4-4cab-9fc3-5cf31cfd0d47",
   "metadata": {},
   "outputs": [],
   "source": [
    "# columns_to_object = ['ecuSource',\n",
    "#                      'spn',\n",
    "#                      'fmi',\n",
    "#                      'MCTNumber',\n",
    "#                      'RecordID',\n",
    "#                      'ESS_Id'\n",
    "#                     ]\n",
    "\n",
    "# for column in columns_to_object:\n",
    "#     df[column] = df[column].astype(object)"
   ]
  },
  {
   "cell_type": "code",
   "execution_count": null,
   "id": "b749c089-60bd-4808-9880-7fa4f87cd411",
   "metadata": {},
   "outputs": [],
   "source": [
    "columns_to_bool = ['CruiseControlActive',\n",
    "                   'IgnStatus',\n",
    "                   'ParkingBrake']\n",
    "\n",
    "for column in columns_to_bool:\n",
    "    df[column] = df[column].astype(bool)"
   ]
  },
  {
   "cell_type": "code",
   "execution_count": null,
   "id": "4c9af9c1-8bec-411e-875e-5a5e2002062e",
   "metadata": {},
   "outputs": [],
   "source": [
    "int64_cols = df.select_dtypes(include='bool').columns\n",
    "df[int64_cols] = df[int64_cols].astype('int64')"
   ]
  },
  {
   "cell_type": "markdown",
   "id": "0dbffb1c-6c68-469f-9d86-fd73c99dfa93",
   "metadata": {},
   "source": [
    "Separating the test and training data."
   ]
  },
  {
   "cell_type": "code",
   "execution_count": null,
   "id": "980ad7b1-f6b6-48e2-93a8-bb23f4d7f357",
   "metadata": {},
   "outputs": [],
   "source": [
    "test_date = '2019-01-01'\n",
    "\n",
    "df_test = df.sort_values('EventTimeStamp').loc[df['EventTimeStamp'] > test_date]"
   ]
  },
  {
   "cell_type": "code",
   "execution_count": null,
   "id": "41f1acb8-2744-46d0-be23-82d24a7d7291",
   "metadata": {},
   "outputs": [],
   "source": [
    "df_test.loc[df_test['spn'] == 5246]['spn'].value_counts()"
   ]
  },
  {
   "cell_type": "code",
   "execution_count": null,
   "id": "21273589-d7d9-44b5-a94f-5cbb97dc264c",
   "metadata": {},
   "outputs": [],
   "source": [
    "df_train = df.sort_values('EventTimeStamp').loc[df['EventTimeStamp'] < test_date]"
   ]
  },
  {
   "cell_type": "code",
   "execution_count": null,
   "id": "88d4fcac-d01a-4fe9-bdf9-11eff1650777",
   "metadata": {},
   "outputs": [],
   "source": [
    "#df = df.sample(frac=0.50)"
   ]
  },
  {
   "cell_type": "markdown",
   "id": "0c3514de-2831-4ca7-ae0d-6971d37e59a1",
   "metadata": {},
   "source": [
    "Scaling and encoding features for modeling."
   ]
  },
  {
   "cell_type": "code",
   "execution_count": null,
   "id": "10d15d1d-9522-45f3-838f-f88330441358",
   "metadata": {},
   "outputs": [],
   "source": [
    "X_train = df_train.drop(columns = [\n",
    "            'target',  \n",
    "            'LocationTimeStamp',\n",
    "            'EventTimeStamp',\n",
    "            'eventDescription',\n",
    "            'ecuSerialNumber',\n",
    "            'ecuSoftwareVersion',\n",
    "            'time_derate',\n",
    "            'time_until_derate',\n",
    "            'Longitude',\n",
    "            'Latitude',\n",
    "            'ESS_Id',\n",
    "            'RecordID',\n",
    "            'ecuModel',\n",
    "            'ServiceDistance',\n",
    "            'ecuMake',\n",
    "            'SwitchedBatteryVoltage',\n",
    "            'MCTNumber',\n",
    "            'EquipmentID',\n",
    "            'LampStatus',\n",
    "            'AcceleratorPedal',\n",
    "            'FuelLevel',\n",
    "            'FuelTemperature',\n",
    "            'ParkingBrake',\n",
    "            'CruiseControlSetSpeed',\n",
    "            'EngineLoad',\n",
    "            'TurboBoostPressure',\n",
    "            'DistanceLtd',\n",
    "            'ecuSource',\n",
    "            'spn',\n",
    "            'fmi', \n",
    "            # 'Unnamed: 0',\n",
    "            # 'FaultId'\n",
    "            ], axis=1)\n",
    "\n",
    "y_train = df_train['target']"
   ]
  },
  {
   "cell_type": "code",
   "execution_count": null,
   "id": "a9c147e7-fce8-433c-ac87-cdf652d8016e",
   "metadata": {},
   "outputs": [],
   "source": [
    "X_test = df_test.drop(columns = [\n",
    "            'target',  \n",
    "            'LocationTimeStamp',\n",
    "            'EventTimeStamp',\n",
    "            'eventDescription',\n",
    "            'ecuSerialNumber',\n",
    "            'ecuSoftwareVersion',\n",
    "            'time_derate',\n",
    "            'time_until_derate',\n",
    "            'Longitude',\n",
    "            'Latitude',\n",
    "            'ESS_Id',\n",
    "            'RecordID',\n",
    "            'ecuModel',\n",
    "            'ServiceDistance',\n",
    "            'ecuMake',\n",
    "            'SwitchedBatteryVoltage',\n",
    "            'MCTNumber',\n",
    "            'EquipmentID',\n",
    "            'LampStatus',\n",
    "            'AcceleratorPedal',\n",
    "            'FuelLevel',\n",
    "            'FuelTemperature',\n",
    "            'ParkingBrake',\n",
    "            'CruiseControlSetSpeed',\n",
    "            'EngineLoad',\n",
    "            'TurboBoostPressure',\n",
    "            'DistanceLtd',\n",
    "            'ecuSource',\n",
    "            'spn',\n",
    "            'fmi', \n",
    "            # 'Unnamed: 0',\n",
    "            # 'FaultId'\n",
    "            ], axis=1)\n",
    "\n",
    "y_test = df_test['target']"
   ]
  },
  {
   "cell_type": "markdown",
   "id": "0c2d1538-cbd0-4787-86f1-d79e1e6c6e5f",
   "metadata": {},
   "source": [
    "X_train, X_test, y_train, y_test = train_test_split(X, y, test_size=0.3, random_state=27, stratify=y)\n",
    "\n",
    "X_train, X_val, y_train, y_val = train_test_split(X_train, y_train, stratify = y_train, random_state = 27, train_size = 0.6/0.8)"
   ]
  },
  {
   "cell_type": "markdown",
   "id": "6c1f5470-86b4-4f55-90ab-0489cca77655",
   "metadata": {},
   "source": [
    "Selection of features for each step of the pipeline. The last few lines are for checking to make sure each feature is accounted for."
   ]
  },
  {
   "cell_type": "code",
   "execution_count": null,
   "id": "9d74d41e-84d7-4347-806b-8db7148d05d4",
   "metadata": {},
   "outputs": [],
   "source": [
    "ohe_features = ['spn_fmi'\n",
    "                ] \n",
    "\n",
    "bool_features = ['CruiseControlActive',\n",
    "                 'IgnStatus',\n",
    "                 'active'\n",
    "                ]\n",
    "\n",
    "scale_features = [\n",
    "                  'BarometricPressure',\n",
    "                  'EngineCoolantTemperature',\n",
    "                  'EngineOilPressure',\n",
    "                  'EngineOilTemperature',\n",
    "                  'EngineRpm',\n",
    "                  'activeTransitionCount',\n",
    "                  'FuelLtd',\n",
    "                  'IntakeManifoldTemperature',\n",
    "                  'Speed',\n",
    "                  'FuelRate',\n",
    "                  'EngineTimeLtd',\n",
    "                  'Throttle'\n",
    "                ]\n",
    "\n",
    "everything = list(set(ohe_features + bool_features + scale_features))\n",
    "the_rest = X_train.columns.difference(everything)\n",
    "# pca = PCA(n_components = 5)\n",
    "the_rest"
   ]
  },
  {
   "cell_type": "code",
   "execution_count": null,
   "id": "d2e4e733-d205-48f2-9f01-ae01f9ab5353",
   "metadata": {},
   "outputs": [],
   "source": [
    "%%time\n",
    "\n",
    "numerical_pipeline = Pipeline([\n",
    "    ('scaler', StandardScaler()),\n",
    "    ('ii', IterativeImputer(initial_strategy = 'mean',\n",
    "                           max_iter = 30,\n",
    "                           sample_posterior = True))\n",
    "])\n",
    "\n",
    "categorical_pipeline = Pipeline([\n",
    "    ('ohe', OneHotEncoder(categories='auto', \n",
    "                          handle_unknown = 'ignore')),\n",
    "    ('si', SimpleImputer(strategy = 'most_frequent'))\n",
    "])\n",
    "\n",
    "boolean_pipeline = Pipeline([\n",
    "    ('ii', IterativeImputer(initial_strategy = 'most_frequent',\n",
    "                           max_iter = 30,\n",
    "                           sample_posterior = True))\n",
    "])\n",
    "\n",
    "ct = ColumnTransformer(\n",
    "    transformers=[\n",
    "        ('num', numerical_pipeline, scale_features),\n",
    "        ('cat', categorical_pipeline, ohe_features),\n",
    "        ('bool', boolean_pipeline, bool_features)\n",
    "    ],\n",
    "    remainder='drop'\n",
    ")\n",
    "\n",
    "pipe = Pipeline(\n",
    "    steps=[\n",
    "        ('transformer', ct)\n",
    "    ])\n",
    "\n",
    "pipe.fit(X_train, y_train)"
   ]
  },
  {
   "cell_type": "markdown",
   "id": "92a4fc79-7a84-45c9-98be-1ad514402921",
   "metadata": {},
   "source": [
    "The above cell takes 4 minutes to fit the pipe, and the cell below takes 2 minutes to transform the pipe."
   ]
  },
  {
   "cell_type": "code",
   "execution_count": null,
   "id": "9d05f80c-1dad-498f-a7b8-f4c36b4867fc",
   "metadata": {},
   "outputs": [],
   "source": [
    "%%time\n",
    "\n",
    "X_train_transformed = pipe.transform(X_train)\n",
    "X_test_transformed = pipe.transform(X_test) "
   ]
  },
  {
   "cell_type": "code",
   "execution_count": null,
   "id": "a3443490-f06f-443b-9693-ab55963f93a8",
   "metadata": {},
   "outputs": [],
   "source": [
    "smote = SMOTE()\n",
    "X_train_balanced, y_train_balanced = smote.fit_resample(X_train_transformed, y_train)"
   ]
  },
  {
   "cell_type": "markdown",
   "id": "ff391d44-e3d7-4d07-865e-3c2d3a0cf385",
   "metadata": {},
   "source": [
    "Transformation of pipe and saving the pipe as a pickle object so that the pipe doesn't need to be fitted again."
   ]
  },
  {
   "cell_type": "code",
   "execution_count": null,
   "id": "ef941504-ade6-4c1b-bb54-1c88a001ec77",
   "metadata": {},
   "outputs": [],
   "source": [
    "filename = 'pipe_transformed.pkl'\n",
    "\n",
    "pickle_list = [pipe, X_train_balanced, X_test_transformed, y_train_balanced]\n",
    "\n",
    "with open(filename, 'wb') as file:\n",
    "    pickle.dump(pickle_list, file)"
   ]
  },
  {
   "cell_type": "code",
   "execution_count": null,
   "id": "ffbe6c19-6d0c-4ee9-973f-e6a09700fe8a",
   "metadata": {},
   "outputs": [],
   "source": [
    "filename = 'pipe_transformed.pkl'\n",
    "\n",
    "with open(filename, 'rb') as file:\n",
    "    pipe, X_train_balanced, X_test_transformed, y_train_balanced = pickle.load(file)"
   ]
  },
  {
   "cell_type": "markdown",
   "id": "a9a8ee9d-c2df-4f62-a509-63a6cbce5900",
   "metadata": {},
   "source": [
    "Applying the pipe transformations to models to see which model performs best."
   ]
  },
  {
   "cell_type": "code",
   "execution_count": null,
   "id": "9719affa-c5bd-4509-bfee-39cca601f489",
   "metadata": {},
   "outputs": [],
   "source": [
    "%%time\n",
    "\n",
    "knn_model = KNeighborsClassifier().fit(X_train_balanced, y_train_balanced)"
   ]
  },
  {
   "cell_type": "code",
   "execution_count": null,
   "id": "160407de-3b74-4cc3-96c6-56e15f753a8d",
   "metadata": {},
   "outputs": [],
   "source": [
    "%%time\n",
    "\n",
    "y_pred_knn = knn_model.predict(X_test_transformed)"
   ]
  },
  {
   "cell_type": "code",
   "execution_count": null,
   "id": "3560f24e-e916-436b-9946-dce8cb8f5668",
   "metadata": {},
   "outputs": [],
   "source": [
    "filename = 'knn.pkl'\n",
    "\n",
    "pickle_list = [y_pred_knn, knn_model]\n",
    "\n",
    "with open(filename, 'wb') as file:\n",
    "    pickle.dump(pickle_list, file)"
   ]
  },
  {
   "cell_type": "code",
   "execution_count": null,
   "id": "8237c303-a9e4-41ca-843e-b5a76fcc687d",
   "metadata": {},
   "outputs": [],
   "source": [
    "filename = 'knn.pkl'\n",
    "\n",
    "with open(filename, 'rb') as file:\n",
    "    knn_model, y_pred_knn = pickle.load(file)"
   ]
  },
  {
   "cell_type": "markdown",
   "id": "800e226d-403b-4852-94b3-2005895c02e6",
   "metadata": {},
   "source": [
    "Prediction on KNeighborsClassifier takes a while"
   ]
  },
  {
   "cell_type": "code",
   "execution_count": null,
   "id": "c3952023-cdc6-4e16-a818-313367871cde",
   "metadata": {},
   "outputs": [],
   "source": [
    "print(f'Accuracy: {accuracy_score(y_test, y_pred_knn)}')\n",
    "print(f'MCC: {matthews_corrcoef(y_test, y_pred_knn)}')\n",
    "print(confusion_matrix(y_test, y_pred_knn))\n",
    "print(classification_report(y_test, y_pred_knn, zero_division = 0))\n",
    "#print(cross_val_score(knn_model, X_train_transformed, y_train, cv=3))"
   ]
  },
  {
   "cell_type": "code",
   "execution_count": null,
   "id": "e53dc862-3b30-41c9-9360-274dbeabf6d4",
   "metadata": {},
   "outputs": [],
   "source": [
    "knn_save = target_pred(df_test, 'EventTimeStamp', 'EquipmentID', 'target', y_pred_knn)"
   ]
  },
  {
   "cell_type": "markdown",
   "id": "ba588427-a890-4a48-b1af-d48336973be1",
   "metadata": {},
   "source": [
    "Cells below use hyperopt for hyperparameter tuning of xgboost"
   ]
  },
  {
   "cell_type": "markdown",
   "id": "de0eb73b-925d-4be5-909f-06a62d97704b",
   "metadata": {},
   "source": [
    "space={'max_depth': hp.quniform(\"max_depth\", 3, 18, 1),\n",
    "        'gamma': hp.uniform ('gamma', 1,9),\n",
    "        'reg_alpha' : hp.quniform('reg_alpha', 40,180,1),\n",
    "        'reg_lambda' : hp.uniform('reg_lambda', 0,1),\n",
    "        'colsample_bytree' : hp.uniform('colsample_bytree', 0.5,1),\n",
    "        'min_child_weight' : hp.quniform('min_child_weight', 0, 10, 1),\n",
    "        'n_estimators': 180,\n",
    "        'seed': 0\n",
    "    }"
   ]
  },
  {
   "cell_type": "markdown",
   "id": "8743e838-24ae-4fdd-a749-24e29b2d956d",
   "metadata": {},
   "source": [
    "def objective(space):\n",
    "    clf = xgb.XGBClassifier(\n",
    "                    n_estimators =space['n_estimators'], \n",
    "                    max_depth = int(space['max_depth']), \n",
    "                    gamma = space['gamma'],\n",
    "                    reg_alpha = int(space['reg_alpha']),\n",
    "                    min_child_weight=(space['min_child_weight']),\n",
    "                    colsample_bytree=(space['colsample_bytree']),\n",
    "                    eval_metric=\"auc\",\n",
    "                    early_stopping_rounds=10)\n",
    "    \n",
    "    evaluation = [( X_train_balanced, y_train_balanced), ( X_test_transformed, y_test)]\n",
    "    \n",
    "    clf.fit(X_train_balanced, y_train_balanced,\n",
    "            eval_set=evaluation,\n",
    "            verbose=False)\n",
    "    \n",
    "\n",
    "    pred = clf.predict(X_test_transformed)\n",
    "    f1_score1 = f1_score(y_test, pred>0.5)\n",
    "    print (\"SCORE:\", f1_score1)\n",
    "    return {'loss': -f1_score1, 'status': STATUS_OK }"
   ]
  },
  {
   "cell_type": "markdown",
   "id": "9d664b9b-3f5b-443d-9e6d-1c2939451fa1",
   "metadata": {},
   "source": [
    "trials = Trials()\n",
    "\n",
    "best_hyperparams = fmin(fn = objective,\n",
    "                        space = space,\n",
    "                        algo = tpe.suggest,\n",
    "                        max_evals = 100,\n",
    "                        trials = trials)"
   ]
  },
  {
   "cell_type": "markdown",
   "id": "8d25ddae-8a61-491a-82d8-889330a48e11",
   "metadata": {},
   "source": [
    "print(\"The best hyperparameters are : \",\"\\n\")\n",
    "print(best_hyperparams)"
   ]
  },
  {
   "cell_type": "code",
   "execution_count": null,
   "id": "d8d008ca-411c-4622-8198-4e74595a1345",
   "metadata": {},
   "outputs": [],
   "source": [
    "%%time\n",
    "\n",
    "xgbm = XGBClassifier(\n",
    "    # objective=\"binary:logistic\",\n",
    "    # colsample_bytree = 0.9179993452534458,\n",
    "    # gamma = 3.55507468819673,\n",
    "    # max_depth = 17,\n",
    "    # min_child_weight = 9,\n",
    "    # reg_alpha = 62,\n",
    "    # n_estimators = 100,\n",
    "    # reg_lambda = 0.5990326545008506,\n",
    "    # scale_pos_weight = 1\n",
    ").fit(X_train_balanced, y_train_balanced)\n",
    "\n",
    "y_pred_xgbm = xgbm.predict(X_test_transformed)\n",
    "\n",
    "# y_pred_proba = xgbm.predict_proba(X_test_transformed)[:, 1]\n",
    "\n",
    "# threshold = 0.7\n",
    "\n",
    "# y_pred_xgbm = (y_pred_proba > threshold).astype(int)"
   ]
  },
  {
   "cell_type": "markdown",
   "id": "0e3b6370-1636-4e1a-aba2-ac1efa3e7dfa",
   "metadata": {},
   "source": [
    "Cell below allowed for the feature importance graphing of scaled features, but is broken when all features are selected"
   ]
  },
  {
   "cell_type": "markdown",
   "id": "f5cf04b5-fc9a-4504-873d-6011ccb2ab95",
   "metadata": {},
   "source": [
    "xgbm.get_booster().feature_names = scale_features\n",
    "\n",
    "plot_importance(xgbm)\n",
    "plt.figure(figsize = (16, 12))\n",
    "#plt.savefig(\"graphs/feature_importance.png\")\n",
    "plt.show();"
   ]
  },
  {
   "cell_type": "code",
   "execution_count": null,
   "id": "f2e17c86-fb0b-4001-9134-19cb4e1a4875",
   "metadata": {},
   "outputs": [],
   "source": [
    "filename = 'xgbm.pkl'\n",
    "\n",
    "pickle_list = [y_pred_xgbm, xgbm]\n",
    "\n",
    "with open(filename, 'wb') as file:\n",
    "    pickle.dump(pickle_list, file)"
   ]
  },
  {
   "cell_type": "code",
   "execution_count": null,
   "id": "2ca0f7b2-d2aa-41ef-be53-d5a91d664bb0",
   "metadata": {},
   "outputs": [],
   "source": [
    "filename = 'xgbm.pkl'\n",
    "\n",
    "with open(filename, 'rb') as file:\n",
    "    y_pred_xgbm, xgbm = pickle.load(file)"
   ]
  },
  {
   "cell_type": "code",
   "execution_count": null,
   "id": "d4cd5b2a-8880-4355-92a9-7c96ce9a2807",
   "metadata": {},
   "outputs": [],
   "source": [
    "print(f'Accuracy: {accuracy_score(y_test, y_pred_xgbm)}')\n",
    "print(f'MCC: {matthews_corrcoef(y_test, y_pred_xgbm)}')\n",
    "print(confusion_matrix(y_test, y_pred_xgbm))\n",
    "print(classification_report(y_test, y_pred_xgbm, zero_division = 0))"
   ]
  },
  {
   "cell_type": "code",
   "execution_count": null,
   "id": "319c7f79-6e77-4042-896f-84beebdfc6c0",
   "metadata": {},
   "outputs": [],
   "source": [
    "probas = rfc.predict_proba(X_test_transformed)"
   ]
  },
  {
   "cell_type": "code",
   "execution_count": null,
   "id": "5ec76181-c860-42d3-99e7-b4fc9fa24c68",
   "metadata": {},
   "outputs": [],
   "source": [
    "skplt.metrics.plot_precision_recall(y_test, probas)\n",
    "#plt.savefig(\"../graphs/precision_recall_curve.png\")\n",
    "plt.show()"
   ]
  },
  {
   "cell_type": "code",
   "execution_count": null,
   "id": "b668de2d-7960-4694-ad65-e3774fd1e986",
   "metadata": {},
   "outputs": [],
   "source": [
    "fpr, tpr, thresholds = roc_curve(y_test, y_pred_rfc)\n",
    "roc_auc = roc_auc_score(y_test, y_pred_rfc)\n",
    "\n",
    "plt.figure(figsize=(8, 6))\n",
    "plt.plot(fpr, tpr, color='#3ABC00', lw=2, label=f'ROC curve (AUC = {roc_auc:.2f})')\n",
    "plt.plot([0, 1], [0, 1], color='navy', lw=2, linestyle='--')\n",
    "plt.xlim([0.0, 1.0])\n",
    "plt.ylim([0.0, 1.05])\n",
    "plt.xlabel('False Positive Rate')\n",
    "plt.ylabel('True Positive Rate')\n",
    "plt.title('Receiver Operating Characteristic (ROC)')\n",
    "plt.legend(loc=\"lower right\")\n",
    "#plt.savefig(\"graphs/roc_curve.png\")\n",
    "plt.show();"
   ]
  },
  {
   "cell_type": "code",
   "execution_count": null,
   "id": "5d493f6d-b80b-4508-a346-e510f15d5d8d",
   "metadata": {},
   "outputs": [],
   "source": []
  },
  {
   "cell_type": "code",
   "execution_count": null,
   "id": "514b5fb1-bebb-4fb8-8551-093236d8d7ab",
   "metadata": {},
   "outputs": [],
   "source": [
    "df_test['predictions'] = y_pred_xgbm\n",
    "df_test['EventTimeStamp'] = pd.to_datetime(df_test['EventTimeStamp'])\n",
    "df_test['combined'] = df_test['target'].astype(str) + '_' + df_test['predictions'].astype(str)\n",
    "df_test.groupby(['EquipmentID'])['combined'].value_counts().unstack(fill_value=0).drop_duplicates()"
   ]
  },
  {
   "cell_type": "code",
   "execution_count": null,
   "id": "a37e49c7-f023-416a-98e9-19d49b5ddffd",
   "metadata": {},
   "outputs": [],
   "source": [
    "test_df = (\n",
    "    (df_test[['EventTimeStamp', 'EquipmentID', 'target', 'predictions']]\n",
    "     .sort_values(by=['EventTimeStamp', 'EquipmentID'])\n",
    " .groupby('EquipmentID')['EventTimeStamp']\n",
    " .diff().dt.total_seconds() / 3600).isna().value_counts()\n",
    ")\n",
    "test_df"
   ]
  },
  {
   "cell_type": "code",
   "execution_count": null,
   "id": "80a301d1-5776-46e9-ba56-c09a4e1b4982",
   "metadata": {},
   "outputs": [],
   "source": [
    "def target_pred(df, event, equipment, target, pred):\n",
    "    df = df[[event, equipment, target]].copy()\n",
    "    df['predict'] = pred\n",
    "    df['combined'] = df[target].astype(str) + '_' + df['predict'].astype(str)\n",
    "    df[event] = pd.to_datetime(df[event])\n",
    "    df = df.sort_values(by=[equipment, event])\n",
    "\n",
    "    df['time_diff'] = df.groupby(equipment)[event].diff().dt.total_seconds() / 3600\n",
    "    df['valid_group'] = (df['time_diff'].isna()) | (df['time_diff'] <= 2)\n",
    "    df['temp_group'] = (~df['valid_group']).cumsum()\n",
    "    result = df.groupby([equipment, 'temp_group'])['combined'].value_counts().reset_index()\n",
    "    result = df.groupby([equipment, 'temp_group'])['combined'].value_counts().unstack(fill_value=0).drop_duplicates()\n",
    "    result = result.rename(columns = {'0_0': 'true negative', '0_1': 'false positive', '1_0': 'false negative', '1_1': 'true positive'})\n",
    "\n",
    "    for index, row in result.iterrows():\n",
    "        if row['true positive'] >= 1:\n",
    "            result.loc[index, 'true positive'] = 1\n",
    "            result.loc[index, ~result.columns.isin(['true positive'])] = 0\n",
    "        elif row['true positive'] == 0 and row['false positive'] >= 1:\n",
    "            result.loc[index, 'false positive'] = 1\n",
    "            result.loc[index, ~result.columns.isin(['false positive', 'true positive'])] = 0\n",
    "        elif row['true positive'] == 0 and row['false positive'] == 0 and row['false negative'] >= 1:\n",
    "            result.loc[index, 'false negative'] = 1\n",
    "            result.loc[index, ~result.columns.isin(['false negative', 'false positive', 'true positive'])] = 0\n",
    "        else:\n",
    "            result.loc[index, 'true negative'] = 1     \n",
    "\n",
    "    counts = (result.iloc[:,0].sum() * 0) - (result.iloc[:,1].sum() * 500) + (result.iloc[:,3].sum() * 4000)\n",
    "    print(result[['true positive', 'false positive', 'false negative', 'true negative']].sum())\n",
    "    return counts"
   ]
  },
  {
   "cell_type": "code",
   "execution_count": null,
   "id": "036e0647-b1b2-4d0d-b1b2-b59ad01eba6e",
   "metadata": {},
   "outputs": [],
   "source": [
    "xgbm_save = target_pred(df_test, 'EventTimeStamp', 'EquipmentID', 'target', y_pred_xgbm)\n",
    "xgbm_save"
   ]
  },
  {
   "cell_type": "code",
   "execution_count": null,
   "id": "856e1513-c70d-4e6d-a953-94fe5202a61c",
   "metadata": {},
   "outputs": [],
   "source": [
    "%%time\n",
    "\n",
    "rfc = RandomForestClassifier(n_estimators=5, max_depth=5, random_state=27).fit(X_train_balanced, y_train_balanced)\n",
    "\n",
    "y_pred_rfc = rfc.predict(X_test_transformed)"
   ]
  },
  {
   "cell_type": "code",
   "execution_count": null,
   "id": "6840cdb5-515a-4fea-a000-8b9b961c7eb7",
   "metadata": {},
   "outputs": [],
   "source": [
    "filename = 'rfc.pkl'\n",
    "\n",
    "pickle_list = [y_pred_rfc, rfc]\n",
    "\n",
    "with open(filename, 'wb') as file:\n",
    "    pickle.dump(pickle_list, file)"
   ]
  },
  {
   "cell_type": "code",
   "execution_count": null,
   "id": "1ff6581a-5f1b-49ff-b4ac-5ef415f1a456",
   "metadata": {},
   "outputs": [],
   "source": [
    "filename = 'rfc.pkl'\n",
    "\n",
    "with open(filename, 'rb') as file:\n",
    "    y_pred_rfc, rfc = pickle.load(file)"
   ]
  },
  {
   "cell_type": "code",
   "execution_count": null,
   "id": "d99cf5c1-178b-4388-b783-6c3a95c5493f",
   "metadata": {},
   "outputs": [],
   "source": [
    "print(f'Accuracy: {accuracy_score(y_test, y_pred_rfc)}')\n",
    "print(f'MCC: {matthews_corrcoef(y_test, y_pred_rfc)}')\n",
    "print(confusion_matrix(y_test, y_pred_rfc))\n",
    "print(classification_report(y_test, y_pred_rfc, zero_division = 0))"
   ]
  },
  {
   "cell_type": "code",
   "execution_count": null,
   "id": "40141828-16a0-4fc2-8dda-0045b9f3c30d",
   "metadata": {},
   "outputs": [],
   "source": [
    "rfc_save = target_pred(df_test, 'EventTimeStamp', 'EquipmentID', 'target', y_pred_rfc)"
   ]
  },
  {
   "cell_type": "code",
   "execution_count": null,
   "id": "767c5dbf-195c-4b48-a2fc-35a3553fbdb3",
   "metadata": {},
   "outputs": [],
   "source": [
    "rfc_save"
   ]
  },
  {
   "cell_type": "code",
   "execution_count": null,
   "id": "42a26ebb-6577-48d7-afe9-7f45c896b0fa",
   "metadata": {},
   "outputs": [],
   "source": [
    "report = classification_report(y_test, y_pred_rfc, output_dict=True)\n",
    "df_report = pd.DataFrame(report).transpose()\n",
    "    \n",
    "fig, ax = plt.subplots()\n",
    "sn.heatmap(df_report.iloc[:-1, :].T, annot=True, fmt=\".2f\", cmap=\"YlGnBu\", ax=ax)\n",
    "\n",
    "plt.title('Classification Report')\n",
    "plt.ylabel('Metrics')\n",
    "plt.xlabel('Classes')\n",
    "plt.savefig(\"../graphs/classification_report.png\")\n",
    "plt.show();"
   ]
  },
  {
   "cell_type": "code",
   "execution_count": null,
   "id": "c8993ce4-5832-445d-8025-e9fbab36a2e3",
   "metadata": {},
   "outputs": [],
   "source": [
    "skplt.metrics.plot_confusion_matrix(y_test, y_pred_rfc, normalize=False)\n",
    "plt.savefig(\"../graphs/confusion_matrix.png\")\n",
    "plt.show()"
   ]
  },
  {
   "cell_type": "code",
   "execution_count": null,
   "id": "7d5a4f42-ae77-48cc-b754-2e56f389d6b4",
   "metadata": {},
   "outputs": [],
   "source": [
    "%%time\n",
    "\n",
    "logreg = LogisticRegression(max_iter=10000).fit(X_train_balanced, y_train_balanced)\n",
    "\n",
    "y_pred_logreg = logreg.predict(X_test_transformed)"
   ]
  },
  {
   "cell_type": "code",
   "execution_count": null,
   "id": "47aee0c5-d494-40a4-b150-d5e2a0bc2a31",
   "metadata": {},
   "outputs": [],
   "source": [
    "filename = 'logreg.pkl'\n",
    "\n",
    "pickle_list = [y_pred_logreg, logreg]\n",
    "\n",
    "with open(filename, 'wb') as file:\n",
    "    pickle.dump(pickle_list, file)"
   ]
  },
  {
   "cell_type": "code",
   "execution_count": null,
   "id": "ede2203f-dd06-4fb0-96b3-f9b786a8a884",
   "metadata": {},
   "outputs": [],
   "source": [
    "filename = 'logreg.pkl'\n",
    "\n",
    "with open(filename, 'rb') as file:\n",
    "    y_pred_logreg, logreg = pickle.load(file)"
   ]
  },
  {
   "cell_type": "code",
   "execution_count": null,
   "id": "40dabaea-b72c-4cca-9370-55ddf4c52569",
   "metadata": {
    "scrolled": true
   },
   "outputs": [],
   "source": [
    "print(f'Accuracy: {accuracy_score(y_test, y_pred_logreg)}')\n",
    "print(f'MCC: {matthews_corrcoef(y_test, y_pred_logreg)}')\n",
    "print(confusion_matrix(y_test, y_pred_logreg))\n",
    "print(classification_report(y_test, y_pred_logreg, zero_division = 0))"
   ]
  },
  {
   "cell_type": "code",
   "execution_count": null,
   "id": "83899072-8236-4e7f-98bf-f8a3710f63bf",
   "metadata": {},
   "outputs": [],
   "source": [
    "variable_names = pipe.named_steps['transformer'].get_feature_names_out()\n",
    "pd.DataFrame({\n",
    "    'variable': variable_names,\n",
    "    '_coeff': logreg.coef_.ravel()\n",
    "})"
   ]
  },
  {
   "cell_type": "code",
   "execution_count": null,
   "id": "ba741342-8823-4f0f-9da0-2c19b0009988",
   "metadata": {},
   "outputs": [],
   "source": [
    "X_train_pdd = pd.DataFrame(\n",
    "    columns=pipe.named_steps['transformer'].get_feature_names_out()\n",
    ")\n",
    "\n",
    "importance = np.abs(logreg.coef_[0])\n",
    "\n",
    "top_indices = np.argsort(importance)[-3:][::-1]\n",
    "\n",
    "top_features = variable_names[top_indices]\n",
    "\n",
    "for feature in top_features:\n",
    "    print(f\"Plotting PDP for feature: {feature}\")\n",
    "    PartialDependenceDisplay.from_estimator(logreg, X_train_pdd, [feature])\n",
    "    plt.show()"
   ]
  },
  {
   "cell_type": "code",
   "execution_count": null,
   "id": "19c2ceb1-8036-46f7-af4c-d058f2a9ab17",
   "metadata": {},
   "outputs": [],
   "source": [
    "df_test['predictions'] = y_pred_logreg"
   ]
  },
  {
   "cell_type": "code",
   "execution_count": null,
   "id": "47aac760-33ff-43f5-aeb1-a75da31781b0",
   "metadata": {},
   "outputs": [],
   "source": [
    "pred_df = df_test[['EventTimeStamp', 'EquipmentID', 'spn', 'target', 'predictions']]"
   ]
  },
  {
   "cell_type": "code",
   "execution_count": null,
   "id": "19268c56-5541-46ce-ac70-ca654f46edf1",
   "metadata": {},
   "outputs": [],
   "source": [
    "pred_df[(pred_df['target'] == 1) & (pred_df['predictions'] == 1)].drop_duplicates()"
   ]
  },
  {
   "cell_type": "markdown",
   "id": "3c03c4aa-11cd-4d96-b52a-1baec860c89d",
   "metadata": {},
   "source": [
    "y_val_pred_proba = pipe.predict_proba(X_val)[:,1]"
   ]
  },
  {
   "cell_type": "markdown",
   "id": "e04b2be2-7dc3-49d4-a12c-1b1840fa1719",
   "metadata": {},
   "source": [
    "candidate_thresholds = np.arange(start = 0.1, stop = 0.925, step = 0.01)\n",
    "thresholds = pd.DataFrame({'threshold': candidate_thresholds})\n",
    "thresholds['f1'] = thresholds['threshold'].apply(lambda x: f1_score(y_val, y_val_pred_proba > x))\n",
    "thresholds.sort_values('f1', ascending = False).head()"
   ]
  },
  {
   "cell_type": "markdown",
   "id": "4cdfe9a7-e98a-4675-ac0c-1e299774ba8f",
   "metadata": {},
   "source": [
    "threshold = 0.10\n",
    "\n",
    "y_pred_proba = model.predict_proba(X_test_transformed)[:,1]\n",
    "\n",
    "y_pred = y_pred_proba > threshold\n",
    "print(f'Accuracy: {accuracy_score(y_test, y_pred)}')\n",
    "print(f'MCC: {matthews_corrcoef(y_test, y_pred)}')\n",
    "print(confusion_matrix(y_test, y_pred))\n",
    "print(classification_report(y_test, y_pred))"
   ]
  },
  {
   "cell_type": "code",
   "execution_count": null,
   "id": "727b9973-adb5-42f9-a20c-f9f9cf5cfd7b",
   "metadata": {},
   "outputs": [],
   "source": [
    "logreg_save = target_pred(df_test, 'EventTimeStamp', 'EquipmentID', 'target', y_pred_logreg)"
   ]
  },
  {
   "cell_type": "code",
   "execution_count": null,
   "id": "f55b4c5b-a5e0-4ba6-bc9b-b353fbf9a008",
   "metadata": {},
   "outputs": [],
   "source": [
    "#param_grid = {\n",
    "#    'preprocessor__num__scaler__with_mean': [True, False],\n",
    "#    'preprocessor__num__scaler__with_std': [True, False],\n",
    "#    'classifier__C': [0.1, 1, 10],\n",
    "#    'classifier__solver': ['liblinear', 'newton-cg']\n",
    "#}\n",
    "\n",
    "#randomized_search = RandomizedSearchCV(pipeline, param_grid, n_iter=10, cv=3)"
   ]
  },
  {
   "cell_type": "markdown",
   "id": "2f5e1035-3428-4b61-b8de-b020650f5b9a",
   "metadata": {},
   "source": [
    "%%time\n",
    "\n",
    "hgbc = HistGradientBoostingClassifier().fit(X_train_balanced, y_train_balanced)\n",
    "\n",
    "y_pred_hgbc = hgbc.predict(X_test_transformed)"
   ]
  },
  {
   "cell_type": "markdown",
   "id": "c4e42fcf-06ee-4201-be18-89549d99a2f2",
   "metadata": {},
   "source": [
    "confusion_matrix(y_test, y_pred_hgbc)"
   ]
  },
  {
   "cell_type": "markdown",
   "id": "65c244c1-0cf7-4215-9d0e-a9669afb9661",
   "metadata": {},
   "source": [
    "print(classification_report(y_test, y_pred_hgbc, zero_division = 0))"
   ]
  },
  {
   "cell_type": "code",
   "execution_count": null,
   "id": "7e792e87-7ca2-4392-b950-c40be8293557",
   "metadata": {},
   "outputs": [],
   "source": [
    "%%time\n",
    "\n",
    "dtc = DecisionTreeClassifier().fit(X_train_balanced, y_train_balanced)\n",
    "\n",
    "y_pred_dtc = dtc.predict(X_test_transformed)"
   ]
  },
  {
   "cell_type": "code",
   "execution_count": null,
   "id": "a6c0eb4a-ea23-42b3-b535-18bd124cf99e",
   "metadata": {},
   "outputs": [],
   "source": [
    "filename = 'dtc.pkl'\n",
    "\n",
    "pickle_list = [y_pred_dtc, dtc]\n",
    "\n",
    "with open(filename, 'wb') as file:\n",
    "    pickle.dump(pickle_list, file)"
   ]
  },
  {
   "cell_type": "code",
   "execution_count": null,
   "id": "4bda53a7-f1f7-4c82-94ff-cc303e9ac110",
   "metadata": {},
   "outputs": [],
   "source": [
    "filename = 'dtc.pkl'\n",
    "\n",
    "with open(filename, 'rb') as file:\n",
    "    y_pred_dtc, dtc = pickle.load(file)"
   ]
  },
  {
   "cell_type": "code",
   "execution_count": null,
   "id": "1be65427-0917-4835-b674-1a2b85b120ad",
   "metadata": {},
   "outputs": [],
   "source": [
    "print(f'Accuracy: {accuracy_score(y_test, y_pred_dtc)}')\n",
    "print(f'MCC: {matthews_corrcoef(y_test, y_pred_dtc)}')\n",
    "print(confusion_matrix(y_test, y_pred_dtc))\n",
    "print(classification_report(y_test, y_pred_dtc, zero_division = 0))"
   ]
  },
  {
   "cell_type": "code",
   "execution_count": null,
   "id": "8a7e5190-90ec-4ef9-9bbc-3d98f5716f89",
   "metadata": {},
   "outputs": [],
   "source": [
    "dtc_save = target_pred(df_test, 'EventTimeStamp', 'EquipmentID', 'target', y_pred_dtc)"
   ]
  },
  {
   "cell_type": "markdown",
   "id": "b0becb95-b2a1-4700-9ef3-39f00fc2163b",
   "metadata": {},
   "source": [
    "%%time\n",
    "\n",
    "svm = SVC(kernel='linear', C=1.0, gamma='auto', probability=True)\n",
    "\n",
    "svm.fit(X_train_balanced, y_train_balanced)\n",
    "\n",
    "y_pred_svm = svm.predict(X_test_transformed)"
   ]
  },
  {
   "cell_type": "markdown",
   "id": "206b0b7b-87d3-4af4-9358-d56ee9c90833",
   "metadata": {},
   "source": [
    "filename = 'svm.pkl'\n",
    "\n",
    "pickle_list = [y_pred_svm, svm]\n",
    "\n",
    "with open(filename, 'wb') as file:\n",
    "    pickle.dump(pickle_list, file)"
   ]
  },
  {
   "cell_type": "markdown",
   "id": "957f5702-073a-40bc-94d5-d00a30e12647",
   "metadata": {},
   "source": [
    "filename = 'svm.pkl'\n",
    "\n",
    "with open(filename, 'rb') as file:\n",
    "    y_pred_svm, svm = pickle.load(file)"
   ]
  },
  {
   "cell_type": "markdown",
   "id": "a3e97470-6255-491c-8ba1-93c0ac3c8b3f",
   "metadata": {},
   "source": [
    "print(f'Accuracy: {accuracy_score(y_test, y_pred_svm)}')\n",
    "print(f'MCC: {matthews_corrcoef(y_test, y_pred_svm)}')\n",
    "print(confusion_matrix(y_test, y_pred_svm))\n",
    "print(classification_report(y_test, y_pred_svm, zero_division = 0))"
   ]
  },
  {
   "cell_type": "code",
   "execution_count": null,
   "id": "8ca3f43c-79be-4756-9636-325cf66168ce",
   "metadata": {},
   "outputs": [],
   "source": [
    "%%time\n",
    "\n",
    "lgb = LGBMClassifier().fit(X_train_balanced, y_train_balanced)\n",
    "\n",
    "y_pred_lgb = lgb.predict(X_test_transformed)"
   ]
  },
  {
   "cell_type": "code",
   "execution_count": null,
   "id": "f6cafd56-7b30-4ed0-bd2e-7333ecf42217",
   "metadata": {},
   "outputs": [],
   "source": [
    "filename = 'lgb.pkl'\n",
    "\n",
    "pickle_list = [y_pred_lgb, lgb]\n",
    "\n",
    "with open(filename, 'wb') as file:\n",
    "    pickle.dump(pickle_list, file)"
   ]
  },
  {
   "cell_type": "code",
   "execution_count": null,
   "id": "cb9e2179-86b9-4f49-9cf5-07d0d3c64f9c",
   "metadata": {},
   "outputs": [],
   "source": [
    "filename = 'lgb.pkl'\n",
    "\n",
    "with open(filename, 'rb') as file:\n",
    "    y_pred_lgb, lgb = pickle.load(file)"
   ]
  },
  {
   "cell_type": "code",
   "execution_count": null,
   "id": "cbc5bb36-fa5e-4a87-83c8-39660a13aeeb",
   "metadata": {},
   "outputs": [],
   "source": [
    "print(f'Accuracy: {accuracy_score(y_test, y_pred_lgb)}')\n",
    "print(f'MCC: {matthews_corrcoef(y_test, y_pred_lgb)}')\n",
    "print(confusion_matrix(y_test, y_pred_lgb))\n",
    "print(classification_report(y_test, y_pred_lgb, zero_division = 0))"
   ]
  },
  {
   "cell_type": "code",
   "execution_count": null,
   "id": "39d1960b-acf7-458c-aa50-ef249b74a56a",
   "metadata": {},
   "outputs": [],
   "source": [
    "lgb_save = target_pred(df_test, 'EventTimeStamp', 'EquipmentID', 'target', y_pred_lgb)"
   ]
  },
  {
   "cell_type": "code",
   "execution_count": null,
   "id": "663ecc57-5dc0-45ff-a66c-c2238dcdd311",
   "metadata": {},
   "outputs": [],
   "source": [
    "data_saves = pd.DataFrame({'Xgboost': [xgbm_save], \n",
    "                           'Logistic Regression': [logreg_save],\n",
    "                           'Random Forest': [rfc_save],\n",
    "                           'Decision Tree': [dtc_save],\n",
    "                           'Light GBM': [lgb_save]})"
   ]
  },
  {
   "cell_type": "code",
   "execution_count": null,
   "id": "535e53d0-3cfc-43eb-9248-ea407404c538",
   "metadata": {},
   "outputs": [],
   "source": [
    "fig, ax = plt.subplots()\n",
    "data_saves.plot(kind= 'bar', ax=ax, color=['#54A19E', '#517675', '#349ABE', '#417E95','#405F6A'])\n",
    "plt.title('Model performances')\n",
    "plt.ylabel('Money made')\n",
    "formatter = mticker.StrMethodFormatter('${x:,.0f}')\n",
    "ax.yaxis.set_major_formatter(formatter)\n",
    "plt.tick_params(\n",
    "    axis='x',         \n",
    "    which='both',      \n",
    "    bottom=False,      \n",
    "    top=False,        \n",
    "    labelbottom=False) \n",
    "#plt.savefig(\"../graphs/bar_chart.png\")\n",
    "plt.tight_layout()"
   ]
  },
  {
   "cell_type": "code",
   "execution_count": null,
   "id": "7325055e-88ff-45af-b3e9-6fc6572e09ce",
   "metadata": {},
   "outputs": [],
   "source": [
    "%%time\n",
    "\n",
    "rf_probas = rfc.predict_proba(X_test_transformed)\n",
    "lr_probas = logreg.predict_proba(X_test_transformed)\n",
    "dtc_probas = dtc.predict_proba(X_test_transformed)\n",
    "xgbm_probas = xgbm.predict_proba(X_test_transformed)\n",
    "lgb_probas = lgb.predict_proba(X_test_transformed)\n",
    "probas_list = [rf_probas, \n",
    "               lr_probas, \n",
    "               dtc_probas, \n",
    "               xgbm_probas, \n",
    "               lgb_probas]\n",
    "clf_names = ['Random Forest', \n",
    "             'Logistic Regression',\n",
    "             'Decision Tree', \n",
    "             'XGBoost',\n",
    "             'Light GBM']\n",
    "skplt.metrics.plot_calibration_curve(y_test,\n",
    "                                     probas_list,\n",
    "                                     clf_names)\n",
    "#plt.savefig(\"graphs/calibration_curve.png\")\n",
    "plt.show()"
   ]
  },
  {
   "cell_type": "code",
   "execution_count": null,
   "id": "0ea84d6b-445a-4f8f-8f47-a068e13980b7",
   "metadata": {},
   "outputs": [],
   "source": [
    "corr_matrix = X_train[scale_features].corr(numeric_only=True).melt(ignore_index=False)"
   ]
  },
  {
   "cell_type": "code",
   "execution_count": null,
   "id": "5ac2de2d-43c8-4dae-8d3b-aae5928c1ffc",
   "metadata": {},
   "outputs": [],
   "source": [
    "corr_matrix[corr_matrix['value'] != 1].sort_values(by = 'value', ascending=False)"
   ]
  },
  {
   "cell_type": "code",
   "execution_count": null,
   "id": "68168209-cf90-457e-b5dd-93325741a267",
   "metadata": {},
   "outputs": [],
   "source": [
    "X_train[scale_features].info()"
   ]
  },
  {
   "cell_type": "code",
   "execution_count": null,
   "id": "8ba571ea-3c80-494c-9b79-c9520074b88e",
   "metadata": {},
   "outputs": [],
   "source": [
    "plt.figure(figsize=(14, 9))\n",
    "sn.heatmap(corr_matrix, annot=True, cmap='YlGnBu')\n",
    "plt.xticks(rotation=45, ha='right')\n",
    "plt.title('Correlation Matrix')\n",
    "#plt.savefig(\"graphs/corr_matrix.png\")\n",
    "plt.show()"
   ]
  },
  {
   "cell_type": "code",
   "execution_count": null,
   "id": "326340c4-24a8-4445-842a-07dcdc115037",
   "metadata": {},
   "outputs": [],
   "source": [
    "rfc"
   ]
  },
  {
   "cell_type": "code",
   "execution_count": null,
   "id": "e3c25035-7cad-48d1-a9c7-88971a7d2819",
   "metadata": {},
   "outputs": [],
   "source": [
    "explainer = shap.TreeExplainer(rfc)\n",
    "explanation = explainer(X_test_transformed)"
   ]
  },
  {
   "cell_type": "code",
   "execution_count": null,
   "id": "d3d12f31-29e4-49a1-a31f-d1f01ed0ece7",
   "metadata": {},
   "outputs": [],
   "source": []
  }
 ],
 "metadata": {
  "kernelspec": {
   "display_name": "Python 3 (ipykernel)",
   "language": "python",
   "name": "python3"
  },
  "language_info": {
   "codemirror_mode": {
    "name": "ipython",
    "version": 3
   },
   "file_extension": ".py",
   "mimetype": "text/x-python",
   "name": "python",
   "nbconvert_exporter": "python",
   "pygments_lexer": "ipython3",
   "version": "3.13.3"
  }
 },
 "nbformat": 4,
 "nbformat_minor": 5
}
