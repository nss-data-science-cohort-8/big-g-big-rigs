{
 "cells": [
  {
   "cell_type": "markdown",
   "id": "40529150-cd0f-4230-98f9-9e091d484e79",
   "metadata": {},
   "source": [
    "## Modeling ##"
   ]
  },
  {
   "cell_type": "code",
   "execution_count": 189,
   "id": "5c124217-9d3e-4972-9943-38e258e1e439",
   "metadata": {},
   "outputs": [],
   "source": [
    "import pandas as pd\n",
    "import numpy as np\n",
    "import datetime as dt\n",
    "import matplotlib.pyplot as plt\n",
    "import scipy.stats as stats\n",
    "from sklearn.preprocessing import StandardScaler, OneHotEncoder, LabelEncoder\n",
    "from sklearn.pipeline import Pipeline, make_pipeline\n",
    "from sklearn.impute import KNNImputer\n",
    "from sklearn.compose import ColumnTransformer\n",
    "from sklearn.ensemble import RandomForestClassifier\n",
    "from sklearn.model_selection import train_test_split\n",
    "from sklearn.metrics import (\n",
    "    classification_report, \n",
    "    confusion_matrix,\n",
    "    r2_score,\n",
    "    mean_squared_error, \n",
    "    root_mean_squared_error,\n",
    "    mean_absolute_error, \n",
    "    mean_absolute_percentage_error\n",
    ")\n",
    "from sklearn.inspection import PartialDependenceDisplay\n",
    "from sklearn.neighbors import KNeighborsClassifier, NearestNeighbors\n",
    "from scipy.spatial import KDTree\n",
    "from faiss_imputer import FaissImputer\n",
    "\n",
    "from tqdm.notebook import tqdm, trange\n",
    "from ipywidgets import interactive\n",
    "\n",
    "from xgboost import XGBClassifier"
   ]
  },
  {
   "cell_type": "markdown",
   "id": "8a32a870-37e7-4bb2-8522-7990fcf615e5",
   "metadata": {},
   "source": [
    "This notebook is dedicated to the feature selection and statistical modeling of our trucking data."
   ]
  },
  {
   "cell_type": "code",
   "execution_count": 10,
   "id": "55f0dd30-4d54-4dfa-b6e9-d3ba19fd3145",
   "metadata": {},
   "outputs": [],
   "source": [
    "df = pd.read_csv('../data/data_clean.csv', low_memory=False, parse_dates=[26, 38, 39, 40])"
   ]
  },
  {
   "cell_type": "code",
   "execution_count": 52,
   "id": "b39b2302-1b8f-4e36-b30d-991eb27e62a1",
   "metadata": {},
   "outputs": [],
   "source": [
    "df['spn'] = df['spn'].astype(object)\n",
    "df = df.drop('Unnamed: 0', axis=1)"
   ]
  },
  {
   "cell_type": "code",
   "execution_count": 54,
   "id": "045f111e-b27d-4ee9-a86f-9bdcd95b133b",
   "metadata": {},
   "outputs": [
    {
     "name": "stdout",
     "output_type": "stream",
     "text": [
      "<class 'pandas.core.frame.DataFrame'>\n",
      "RangeIndex: 1057048 entries, 1 to 1057048\n",
      "Data columns (total 41 columns):\n",
      " #   Column                     Non-Null Count    Dtype         \n",
      "---  ------                     --------------    -----         \n",
      " 0   AcceleratorPedal           480659 non-null   float64       \n",
      " 1   BarometricPressure         530901 non-null   float64       \n",
      " 2   CruiseControlActive        520764 non-null   object        \n",
      " 3   CruiseControlSetSpeed      521822 non-null   float64       \n",
      " 4   DistanceLtd                530759 non-null   float64       \n",
      " 5   EngineCoolantTemperature   530889 non-null   float64       \n",
      " 6   EngineLoad                 530420 non-null   float64       \n",
      " 7   EngineOilPressure          531007 non-null   float64       \n",
      " 8   EngineOilTemperature       529369 non-null   float64       \n",
      " 9   EngineRpm                  531323 non-null   float64       \n",
      " 10  EngineTimeLtd              527046 non-null   float64       \n",
      " 11  FuelLevel                  455470 non-null   float64       \n",
      " 12  FuelLtd                    530353 non-null   float64       \n",
      " 13  FuelRate                   530150 non-null   float64       \n",
      " 14  FuelTemperature            271089 non-null   float64       \n",
      " 15  IgnStatus                  548600 non-null   object        \n",
      " 16  IntakeManifoldTemperature  530994 non-null   float64       \n",
      " 17  LampStatus                 1057048 non-null  int64         \n",
      " 18  ParkingBrake               353976 non-null   object        \n",
      " 19  Speed                      529277 non-null   float64       \n",
      " 20  SwitchedBatteryVoltage     106227 non-null   float64       \n",
      " 21  Throttle                   375438 non-null   object        \n",
      " 22  TurboBoostPressure         528805 non-null   float64       \n",
      " 23  RecordID                   1057048 non-null  int64         \n",
      " 24  ESS_Id                     1057048 non-null  int64         \n",
      " 25  EventTimeStamp             1057048 non-null  datetime64[ns]\n",
      " 26  eventDescription           1006151 non-null  object        \n",
      " 27  ecuSoftwareVersion         792712 non-null   object        \n",
      " 28  ecuSerialNumber            751115 non-null   object        \n",
      " 29  ecuSource                  1057048 non-null  int64         \n",
      " 30  spn                        1057048 non-null  object        \n",
      " 31  fmi                        1057048 non-null  int64         \n",
      " 32  active                     1057048 non-null  bool          \n",
      " 33  activeTransitionCount      1057048 non-null  int64         \n",
      " 34  EquipmentID                1057048 non-null  object        \n",
      " 35  Latitude                   1057048 non-null  float64       \n",
      " 36  Longitude                  1057048 non-null  float64       \n",
      " 37  LocationTimeStamp          1057048 non-null  datetime64[ns]\n",
      " 38  target_time_min            936 non-null      datetime64[ns]\n",
      " 39  target_time_max            936 non-null      datetime64[ns]\n",
      " 40  target                     1057048 non-null  bool          \n",
      "dtypes: bool(2), datetime64[ns](4), float64(20), int64(6), object(9)\n",
      "memory usage: 316.5+ MB\n"
     ]
    }
   ],
   "source": [
    "df.info()"
   ]
  },
  {
   "cell_type": "markdown",
   "id": "0c3514de-2831-4ca7-ae0d-6971d37e59a1",
   "metadata": {},
   "source": [
    "Scaling and encoding features for modeling"
   ]
  },
  {
   "cell_type": "code",
   "execution_count": 197,
   "id": "10d15d1d-9522-45f3-838f-f88330441358",
   "metadata": {},
   "outputs": [],
   "source": [
    "X = df.drop(['target', \n",
    "            'target_time_max', \n",
    "            'target_time_min', \n",
    "            'LocationTimeStamp',\n",
    "            'EventTimeStamp',\n",
    "            'eventDescription'], axis=1)\n",
    "\n",
    "y = df['target']"
   ]
  },
  {
   "cell_type": "code",
   "execution_count": 201,
   "id": "6fb5c493-0ebd-453d-abf3-5bdf024d5ffb",
   "metadata": {},
   "outputs": [],
   "source": [
    "X_train, X_test, y_train, y_test = train_test_split(X, y, test_size=0.3, random_state=27, stratify=y)"
   ]
  },
  {
   "cell_type": "code",
   "execution_count": 203,
   "id": "d2e4e733-d205-48f2-9f01-ae01f9ab5353",
   "metadata": {},
   "outputs": [
    {
     "name": "stderr",
     "output_type": "stream",
     "text": [
      "C:\\Users\\cavin\\AppData\\Roaming\\Python\\Python312\\site-packages\\faiss_imputer\\faiss_imputer.py:99: RuntimeWarning: Mean of empty slice\n",
      "  column_agg = np.nanmean(selected_values, axis=0)\n",
      "C:\\Users\\cavin\\AppData\\Roaming\\Python\\Python312\\site-packages\\faiss_imputer\\faiss_imputer.py:99: RuntimeWarning: Mean of empty slice\n",
      "  column_agg = np.nanmean(selected_values, axis=0)\n"
     ]
    }
   ],
   "source": [
    "ohe_features = ['spn', \n",
    "                'EquipmentID',\n",
    "                'ecuSoftwareVersion',\n",
    "                'ecuSerialNumber',\n",
    "                'Throttle',\n",
    "                'ParkingBrake',\n",
    "                'IgnStatus',\n",
    "                'CruiseControlActive']\n",
    "\n",
    "scale_features = [col for col in X_train.columns if col not in ohe_features]\n",
    "                \n",
    "numerical_pipeline = Pipeline([\n",
    "    ('scaler', StandardScaler()),\n",
    "    ('faiss_imputer', FaissImputer(n_neighbors=3, strategy = 'mean'))\n",
    "])\n",
    "categorical_pipeline = Pipeline([\n",
    "    ('ohe', OneHotEncoder(handle_unknown='ignore', sparse_output=False)),\n",
    "    ('faiss_imputer', FaissImputer(n_neighbors=3, strategy = 'mode')) \n",
    "    \n",
    "])\n",
    "\n",
    "preprocessor = ColumnTransformer(\n",
    "    transformers=[\n",
    "        ('num', numerical_pipeline, scale_features),\n",
    "        ('cat', categorical_pipeline, ohe_features)\n",
    "    ],\n",
    "    remainder='passthrough'\n",
    ")\n",
    "\n",
    "X_train_encoded = preprocessor.fit_transform(X_train)\n",
    "X_test_encoded = preprocessor.transform(X_test)"
   ]
  },
  {
   "cell_type": "code",
   "execution_count": 205,
   "id": "a988c81c-a973-494f-af7d-1df0bde48491",
   "metadata": {},
   "outputs": [],
   "source": [
    "model = RandomForestClassifier(n_estimators=100, random_state=27)\n",
    "model.fit(X_train_encoded, y_train)\n",
    "\n",
    "y_pred = model.predict(X_test_encoded)"
   ]
  },
  {
   "cell_type": "code",
   "execution_count": 207,
   "id": "01312fbb-9070-4524-a180-ad0cd9637bdc",
   "metadata": {},
   "outputs": [
    {
     "name": "stdout",
     "output_type": "stream",
     "text": [
      "              precision    recall  f1-score   support\n",
      "\n",
      "       False       0.97      1.00      0.99    308095\n",
      "        True       0.94      0.01      0.03      9020\n",
      "\n",
      "    accuracy                           0.97    317115\n",
      "   macro avg       0.96      0.51      0.51    317115\n",
      "weighted avg       0.97      0.97      0.96    317115\n",
      "\n"
     ]
    }
   ],
   "source": [
    "print(classification_report(y_test, y_pred, zero_division = 0))"
   ]
  },
  {
   "cell_type": "code",
   "execution_count": 259,
   "id": "975f83a1-bf9a-45f4-965c-c1b73adc9010",
   "metadata": {},
   "outputs": [
    {
     "name": "stdout",
     "output_type": "stream",
     "text": [
      "0       0.014209\n",
      "1       0.019416\n",
      "2       0.011422\n",
      "3       0.026563\n",
      "4       0.020489\n",
      "          ...   \n",
      "5372    0.001061\n",
      "5373    0.001024\n",
      "5374    0.001806\n",
      "5375    0.001289\n",
      "5376    0.000853\n",
      "Length: 5377, dtype: float64\n"
     ]
    }
   ],
   "source": [
    "feature_importances = pd.Series(model.feature_importances_, index=X_train.columns)\n",
    "feature_importances.sort_values(ascending=False)\n",
    "print(feature_importances)"
   ]
  }
 ],
 "metadata": {
  "kernelspec": {
   "display_name": "Python 3 (ipykernel)",
   "language": "python",
   "name": "python3"
  },
  "language_info": {
   "codemirror_mode": {
    "name": "ipython",
    "version": 3
   },
   "file_extension": ".py",
   "mimetype": "text/x-python",
   "name": "python",
   "nbconvert_exporter": "python",
   "pygments_lexer": "ipython3",
   "version": "3.12.4"
  }
 },
 "nbformat": 4,
 "nbformat_minor": 5
}
